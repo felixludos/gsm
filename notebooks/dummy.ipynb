{
 "cells": [
  {
   "cell_type": "code",
   "execution_count": 1,
   "id": "f9869779",
   "metadata": {},
   "outputs": [],
   "source": [
    "import sys, os, time, shutil, random, logging\n",
    "from pathlib import Path\n",
    "_cwd = os.getcwd()\n",
    "os.chdir(Path(_cwd)/'..')\n",
    "import omnibelt as belt\n",
    "from omnibelt import set_printer_setting, get_printer, unpack\n",
    "from gsm import setting\n",
    "setting.DEFAULT_SETTING['color'] = 'console'\n",
    "set_printer_setting(level='debug');"
   ]
  },
  {
   "cell_type": "code",
   "execution_count": 2,
   "id": "c16f7271",
   "metadata": {},
   "outputs": [],
   "source": [
    "# from gsm.elements.roles import Player\n",
    "import gsm\n",
    "from gsm.dummy import DummyGame"
   ]
  },
  {
   "cell_type": "code",
   "execution_count": 3,
   "id": "add5df1c",
   "metadata": {},
   "outputs": [],
   "source": [
    "random.seed(10)"
   ]
  },
  {
   "cell_type": "code",
   "execution_count": 4,
   "id": "e89891c2",
   "metadata": {},
   "outputs": [],
   "source": [
    "T = gsm.GameTable()"
   ]
  },
  {
   "cell_type": "code",
   "execution_count": 5,
   "id": "4a03d9bc",
   "metadata": {},
   "outputs": [
    {
     "data": {
      "text/plain": [
       "'0x18e97f7db80'"
      ]
     },
     "execution_count": 5,
     "metadata": {},
     "output_type": "execute_result"
    }
   ],
   "source": [
    "hex(id(T))"
   ]
  },
  {
   "cell_type": "code",
   "execution_count": 6,
   "id": "b5ee0571",
   "metadata": {},
   "outputs": [
    {
     "name": "stdout",
     "output_type": "stream",
     "text": [
      "['dummy']\n"
     ]
    }
   ],
   "source": [
    "print(T.get_available_games())\n",
    "T.set_game('dummy');"
   ]
  },
  {
   "cell_type": "code",
   "execution_count": 7,
   "id": "c06e5852",
   "metadata": {},
   "outputs": [],
   "source": [
    "T.add_player('p1');\n",
    "T.add_player('p2');"
   ]
  },
  {
   "cell_type": "code",
   "execution_count": 8,
   "id": "107535e4",
   "metadata": {},
   "outputs": [
    {
     "name": "stderr",
     "output_type": "stream",
     "text": [
      "INFO:GAME-LOG: Starting game: player \u001b[34mPLYR:p1\u001b[0m, obj \u001b[32mOBJECT9:18e97f72070\u001b[0m\n",
      "\n",
      "INFO:GAME-LOG: Active: \u001b[34mPLYR:p1\u001b[0m ,  \u001b[34mPLYR:p2\u001b[0m\n",
      "\n"
     ]
    }
   ],
   "source": [
    "T.start_game()"
   ]
  },
  {
   "cell_type": "code",
   "execution_count": 9,
   "id": "e5d1fa4a",
   "metadata": {},
   "outputs": [],
   "source": [
    "raw = T.get_status('p1')\n",
    "status = T.recover_message(raw)"
   ]
  },
  {
   "cell_type": "code",
   "execution_count": 10,
   "id": "15b0e761",
   "metadata": {},
   "outputs": [
    {
     "name": "stdout",
     "output_type": "stream",
     "text": [
      "group0: description 0 ... 1 2 3\n",
      "   0 : \u001b[34mPLYR:p1\u001b[0m - \u001b[32mOBJECT9:18e97f72070\u001b[0m\n",
      "   1 : \u001b[34mPLYR:p1\u001b[0m - \u001b[32mOBJECT2:18eb651a2e0\u001b[0m\n",
      "   2 : \u001b[34mPLYR:p2\u001b[0m - \u001b[32mOBJECT9:18e97f72070\u001b[0m\n",
      "   3 : \u001b[34mPLYR:p2\u001b[0m - \u001b[32mOBJECT2:18eb651a2e0\u001b[0m\n",
      "group1: description 1 ... 1 2 3\n",
      "   4 : 61\n",
      "   5 : 9\n",
      "   6 : 8\n"
     ]
    }
   ],
   "source": [
    "print(status.actions)"
   ]
  },
  {
   "cell_type": "code",
   "execution_count": 12,
   "id": "c54c4ec1",
   "metadata": {},
   "outputs": [
    {
     "name": "stderr",
     "output_type": "stream",
     "text": [
      "INFO:GAME-LOG: \u001b[34mPLYR:p1\u001b[0m played action \u001b[32mGAMEACTION:\u001b[34mPLYR:p1\u001b[0m - \u001b[32mOBJECT3:18eb651a430\u001b[0m\u001b[0m\n",
      "\n",
      "INFO:GAME-LOG: Active: \u001b[34mPLYR:p1\u001b[0m ,  \u001b[34mPLYR:p2\u001b[0m\n",
      "\n"
     ]
    }
   ],
   "source": [
    "raw2 = T.take_action('p1', 0)\n",
    "status2 = T.recover_message(raw2)"
   ]
  },
  {
   "cell_type": "code",
   "execution_count": 13,
   "id": "e2e58a73",
   "metadata": {},
   "outputs": [
    {
     "name": "stdout",
     "output_type": "stream",
     "text": [
      "group0: description 0 ... 1 2 3\n",
      "   0 : 229\n",
      "   1 : 81\n",
      "   2 : 62\n"
     ]
    }
   ],
   "source": [
    "print(status2.actions)"
   ]
  },
  {
   "cell_type": "code",
   "execution_count": 14,
   "id": "4404297c",
   "metadata": {},
   "outputs": [
    {
     "data": {
      "text/plain": [
       "7"
      ]
     },
     "execution_count": 14,
     "metadata": {},
     "output_type": "execute_result"
    }
   ],
   "source": [
    "status.actions.total_size()"
   ]
  },
  {
   "cell_type": "code",
   "execution_count": null,
   "id": "3bad662f",
   "metadata": {},
   "outputs": [],
   "source": []
  },
  {
   "cell_type": "code",
   "execution_count": null,
   "id": "e07b860a",
   "metadata": {},
   "outputs": [],
   "source": []
  },
  {
   "cell_type": "code",
   "execution_count": 12,
   "id": "720e0b96",
   "metadata": {},
   "outputs": [],
   "source": [
    "import ipywidgets as widgets\n",
    "from ipywidgets.widgets import *\n",
    "from IPython.display import display\n",
    "# w = widgets.IntSlider()\n",
    "# display(w)"
   ]
  },
  {
   "cell_type": "code",
   "execution_count": 13,
   "id": "6c1787aa",
   "metadata": {},
   "outputs": [
    {
     "data": {
      "application/vnd.jupyter.widget-view+json": {
       "model_id": "b4b005ec23404e1192fee15d1cfc66fc",
       "version_major": 2,
       "version_minor": 0
      },
      "text/plain": [
       "Text(value='Hello World', description='String:', placeholder='Type something')"
      ]
     },
     "metadata": {},
     "output_type": "display_data"
    }
   ],
   "source": [
    "text = widgets.Text(\n",
    "    value='Hello World',\n",
    "    placeholder='Type something',\n",
    "    description='String:',\n",
    "    disabled=False\n",
    ")\n",
    "text"
   ]
  },
  {
   "cell_type": "code",
   "execution_count": 14,
   "id": "8d4c1bae",
   "metadata": {},
   "outputs": [
    {
     "data": {
      "application/vnd.jupyter.widget-view+json": {
       "model_id": "9637153afd4b4744a759227f060091d7",
       "version_major": 2,
       "version_minor": 0
      },
      "text/plain": [
       "Button(description='Click me', icon='check', style=ButtonStyle(), tooltip='Click me')"
      ]
     },
     "metadata": {},
     "output_type": "display_data"
    }
   ],
   "source": [
    "button = widgets.Button(\n",
    "    description='Click me',\n",
    "    disabled=False,\n",
    "    button_style='', # 'success', 'info', 'warning', 'danger' or ''\n",
    "    tooltip='Click me',\n",
    "    icon='check' # (FontAwesome names without the `fa-` prefix)\n",
    ")\n",
    "button"
   ]
  },
  {
   "cell_type": "code",
   "execution_count": 15,
   "id": "43bbd968",
   "metadata": {},
   "outputs": [
    {
     "data": {
      "application/vnd.jupyter.widget-view+json": {
       "model_id": "2c53d9f8283545e0b9a3f568f0422524",
       "version_major": 2,
       "version_minor": 0
      },
      "text/plain": [
       "Box(children=(Label(value='0'), Label(value='1'), Label(value='2'), Label(value='3')))"
      ]
     },
     "metadata": {},
     "output_type": "display_data"
    }
   ],
   "source": [
    "items = [widgets.Label(str(i)) for i in range(4)]\n",
    "widgets.Box(items)"
   ]
  },
  {
   "cell_type": "code",
   "execution_count": 16,
   "id": "ff7033ac",
   "metadata": {},
   "outputs": [
    {
     "data": {
      "application/vnd.jupyter.widget-view+json": {
       "model_id": "44aef4f973b8451ba9903765c0026d24",
       "version_major": 2,
       "version_minor": 0
      },
      "text/plain": [
       "HBox(children=(Label(value='0'), Label(value='1'), Label(value='2'), Label(value='3')))"
      ]
     },
     "metadata": {},
     "output_type": "display_data"
    }
   ],
   "source": [
    "items = [widgets.Label(str(i)) for i in range(4)]\n",
    "widgets.HBox(items)"
   ]
  },
  {
   "cell_type": "code",
   "execution_count": 17,
   "id": "d2034276",
   "metadata": {},
   "outputs": [
    {
     "data": {
      "application/vnd.jupyter.widget-view+json": {
       "model_id": "618416b8d3b5432e9bcfd78296406352",
       "version_major": 2,
       "version_minor": 0
      },
      "text/plain": [
       "HBox(children=(VBox(children=(Label(value='0'), Label(value='1'))), VBox(children=(Label(value='2'), Label(val…"
      ]
     },
     "metadata": {},
     "output_type": "display_data"
    }
   ],
   "source": [
    "items = [widgets.Label(str(i)) for i in range(4)]\n",
    "left_box = widgets.VBox([items[0], items[1]])\n",
    "right_box = widgets.VBox([items[2], items[3]])\n",
    "widgets.HBox([left_box, right_box])"
   ]
  },
  {
   "cell_type": "code",
   "execution_count": 19,
   "id": "a8e99649",
   "metadata": {},
   "outputs": [
    {
     "data": {
      "application/vnd.jupyter.widget-view+json": {
       "model_id": "04ed93b1756248dcb1a34a3b29950b0a",
       "version_major": 2,
       "version_minor": 0
      },
      "text/plain": [
       "Tab(children=(Text(value='', description='P0'), Text(value='', description='P1'), Text(value='', description='…"
      ]
     },
     "metadata": {},
     "output_type": "display_data"
    }
   ],
   "source": [
    "tab_contents = ['P0', 'P1', 'P2', 'P3', 'P4']\n",
    "children = [widgets.Text(description=name) for name in tab_contents]\n",
    "tab = widgets.Tab()\n",
    "tab.children = children\n",
    "tab.titles = [str(i) for i in range(len(children))]\n",
    "tab"
   ]
  },
  {
   "cell_type": "code",
   "execution_count": 18,
   "id": "8f4be5ef",
   "metadata": {},
   "outputs": [],
   "source": [
    "widgets.HBox?"
   ]
  },
  {
   "cell_type": "code",
   "execution_count": 21,
   "id": "af219f94",
   "metadata": {},
   "outputs": [
    {
     "data": {
      "application/vnd.jupyter.widget-view+json": {
       "model_id": "d04397ac56b7427caf2a513a78994e37",
       "version_major": 2,
       "version_minor": 0
      },
      "text/plain": [
       "Textarea(value='Hello World', description='String:', placeholder='Type something')"
      ]
     },
     "metadata": {},
     "output_type": "display_data"
    }
   ],
   "source": [
    "widgets.Textarea(\n",
    "    value='Hello World',\n",
    "    placeholder='Type something',\n",
    "    description='String:',\n",
    "    disabled=False\n",
    ")"
   ]
  },
  {
   "cell_type": "code",
   "execution_count": null,
   "id": "9423285b",
   "metadata": {},
   "outputs": [],
   "source": [
    "widgets.Combobox(\n",
    "    # value='John',\n",
    "    placeholder='Choose Someone',\n",
    "    options=['Paul', 'John', 'George', 'Ringo'],\n",
    "    description='Combobox:',\n",
    "    ensure_option=True,\n",
    "    disabled=False\n",
    ")"
   ]
  },
  {
   "cell_type": "code",
   "execution_count": 31,
   "id": "80167a62",
   "metadata": {},
   "outputs": [
    {
     "data": {
      "application/vnd.jupyter.widget-view+json": {
       "model_id": "1e373b5b36894032a6e7d29e5bafb809",
       "version_major": 2,
       "version_minor": 0
      },
      "text/plain": [
       "HBox(children=(Label(value='0'), Label(value='1'), Label(value='2'), Label(value='3')))"
      ]
     },
     "metadata": {},
     "output_type": "display_data"
    }
   ],
   "source": [
    "items = [widgets.Label(str(i)) for i in range(4)]\n",
    "widgets.HBox(items)"
   ]
  },
  {
   "cell_type": "code",
   "execution_count": 33,
   "id": "993a03cb",
   "metadata": {},
   "outputs": [
    {
     "data": {
      "application/vnd.jupyter.widget-view+json": {
       "model_id": "643d42ee770d4c55b1f86439be5ab377",
       "version_major": 2,
       "version_minor": 0
      },
      "text/plain": [
       "Label(value='1')"
      ]
     },
     "metadata": {},
     "output_type": "display_data"
    }
   ],
   "source": [
    "items[1]"
   ]
  },
  {
   "cell_type": "code",
   "execution_count": null,
   "id": "1df2ff3f",
   "metadata": {},
   "outputs": [],
   "source": []
  },
  {
   "cell_type": "code",
   "execution_count": null,
   "id": "51dd46f7",
   "metadata": {},
   "outputs": [],
   "source": []
  },
  {
   "cell_type": "code",
   "execution_count": 26,
   "id": "7845d9e8",
   "metadata": {},
   "outputs": [
    {
     "data": {
      "application/vnd.jupyter.widget-view+json": {
       "model_id": "7cf69a0a1be64cfa97d44ba471a5f116",
       "version_major": 2,
       "version_minor": 0
      },
      "text/plain": [
       "Textarea(value='Hello World', disabled=True, placeholder='Type something')"
      ]
     },
     "metadata": {},
     "output_type": "display_data"
    }
   ],
   "source": [
    "txt = widgets.Textarea(\n",
    "    value='Hello World',\n",
    "    placeholder='Type something',\n",
    "    disabled=True\n",
    ")\n",
    "txt"
   ]
  },
  {
   "cell_type": "code",
   "execution_count": 28,
   "id": "7f64f9dd",
   "metadata": {},
   "outputs": [],
   "source": [
    "txt.value = 'test'"
   ]
  },
  {
   "cell_type": "code",
   "execution_count": 16,
   "id": "1ea34c27",
   "metadata": {},
   "outputs": [],
   "source": [
    "box = widgets.HBox([])\n"
   ]
  },
  {
   "cell_type": "code",
   "execution_count": 18,
   "id": "43ccc0f3",
   "metadata": {},
   "outputs": [
    {
     "data": {
      "text/plain": [
       "tuple"
      ]
     },
     "execution_count": 18,
     "metadata": {},
     "output_type": "execute_result"
    }
   ],
   "source": [
    "box.children"
   ]
  },
  {
   "cell_type": "code",
   "execution_count": null,
   "id": "960e5322",
   "metadata": {},
   "outputs": [],
   "source": []
  },
  {
   "cell_type": "code",
   "execution_count": 13,
   "id": "2d724c60",
   "metadata": {},
   "outputs": [],
   "source": [
    "class VizStatus:\n",
    "    def __init__(self, name):\n",
    "        self.name = name\n",
    "        layout = widgets.Layout(flex='0 1 auto', height='200px', min_height='80px', width='auto')\n",
    "        title = widgets.Label(value=f'Player: {name}')\n",
    "        self.log = widgets.Textarea(value='[log]', disabled=False, layout=layout)\n",
    "        self.actions = widgets.Textarea(value='[actions]', disabled=False, layout=layout)\n",
    "        self.pick = widgets.Text(value='', placeholder='index', disabled=False, layout=layout)\n",
    "        self.submit = widgets.Button(description='Submit', disabled=False,\n",
    "                                     button_style='', # 'success', 'info', 'warning', 'danger' or ''\n",
    "                                     tooltip='Leave textbox empty to submit a random action',\n",
    "#                                    icon='check' # (FontAwesome names without the `fa-` prefix)\n",
    "                                    )\n",
    "        \n",
    "        self.submission = widgets.HBox([self.pick, self.submit], layout=widgets.Layout(width='auto'),)\n",
    "        self.full = widgets.VBox([title, self.log, self.actions, self.submission])\n",
    "    \n",
    "        self.submit.on_click(self.submit_action)\n",
    "    \n",
    "        self.status = None\n",
    "    \n",
    "    \n",
    "    def _lines_to(self, box, text):\n",
    "        pass\n",
    "    \n",
    "    \n",
    "    def submit_action(self, b):\n",
    "        print(self.pick.value)\n",
    "        self.pick.value = ''\n",
    "    \n",
    "    def view(self):\n",
    "        return self.full\n",
    "    \n",
    "    def update(self, status):\n",
    "        self.status = status\n",
    "        self.log.value = str(self.status.log)\n",
    "        actions = getattr(self, 'actions', None)\n",
    "        if actions is None:\n",
    "            self.actions.value = 'Waiting for: {}'.format(repr(status.waiting_for))\n",
    "        else:\n",
    "            self.actions.value = str(status.actions)\n",
    "    "
   ]
  },
  {
   "cell_type": "code",
   "execution_count": 14,
   "id": "f58aaa8d",
   "metadata": {},
   "outputs": [
    {
     "data": {
      "application/vnd.jupyter.widget-view+json": {
       "model_id": "af5aed5e6aae4c908d49f744e8d98b0a",
       "version_major": 2,
       "version_minor": 0
      },
      "text/plain": [
       "VBox(children=(Label(value='Player: p1'), Textarea(value='[log]', layout=Layout(flex='0 1 auto', height='200px…"
      ]
     },
     "metadata": {},
     "output_type": "display_data"
    }
   ],
   "source": [
    "viz = VizStatus('p1')\n",
    "viz.view()"
   ]
  },
  {
   "cell_type": "code",
   "execution_count": 15,
   "id": "091e6593",
   "metadata": {},
   "outputs": [],
   "source": [
    "viz.update(status)"
   ]
  },
  {
   "cell_type": "code",
   "execution_count": null,
   "id": "fa15bf0a",
   "metadata": {},
   "outputs": [],
   "source": []
  },
  {
   "cell_type": "code",
   "execution_count": null,
   "id": "e9994a97",
   "metadata": {},
   "outputs": [],
   "source": []
  },
  {
   "cell_type": "code",
   "execution_count": null,
   "id": "79ee0606",
   "metadata": {},
   "outputs": [],
   "source": []
  },
  {
   "cell_type": "code",
   "execution_count": null,
   "id": "5db22694",
   "metadata": {},
   "outputs": [],
   "source": []
  },
  {
   "cell_type": "code",
   "execution_count": 101,
   "id": "bdac73bf",
   "metadata": {},
   "outputs": [
    {
     "data": {
      "application/vnd.jupyter.widget-view+json": {
       "model_id": "f2c4b3f747e344f7a683c93adbc7b9a6",
       "version_major": 2,
       "version_minor": 0
      },
      "text/plain": [
       "Label(value='test \\\\(\\\\color{green} {highlighted}\\\\)')"
      ]
     },
     "metadata": {},
     "output_type": "display_data"
    }
   ],
   "source": [
    "myLabel= widgets.Label(value = r'test \\(\\color{green} {highlighted}\\)')\n",
    "myLabel"
   ]
  },
  {
   "cell_type": "code",
   "execution_count": 103,
   "id": "71f92080",
   "metadata": {},
   "outputs": [
    {
     "data": {
      "text/plain": [
       "'\\\\(\\\\colorgreen {highlighted}\\\\)'"
      ]
     },
     "execution_count": 103,
     "metadata": {},
     "output_type": "execute_result"
    }
   ],
   "source": [
    "color = 'green'\n",
    "f'\\(\\color{color} {{' + 'highlighted' + '}\\)'"
   ]
  },
  {
   "cell_type": "code",
   "execution_count": null,
   "id": "b2fcc409",
   "metadata": {},
   "outputs": [],
   "source": []
  },
  {
   "cell_type": "code",
   "execution_count": null,
   "id": "cb9fa6da",
   "metadata": {},
   "outputs": [],
   "source": []
  },
  {
   "cell_type": "code",
   "execution_count": null,
   "id": "a44a4725",
   "metadata": {},
   "outputs": [],
   "source": []
  },
  {
   "cell_type": "code",
   "execution_count": 96,
   "id": "ea2cd8e3",
   "metadata": {},
   "outputs": [
    {
     "data": {
      "text/html": [
       "<style>.red_label { color:red }</style>"
      ],
      "text/plain": [
       "<IPython.core.display.HTML object>"
      ]
     },
     "metadata": {},
     "output_type": "display_data"
    },
    {
     "data": {
      "application/vnd.jupyter.widget-view+json": {
       "model_id": "925f4ad427274dde96d14f630f75d599",
       "version_major": 2,
       "version_minor": 0
      },
      "text/plain": [
       "Label(value='My Label', _dom_classes=('red_label',))"
      ]
     },
     "metadata": {},
     "output_type": "display_data"
    }
   ],
   "source": [
    "from ipywidgets import Label\n",
    "from IPython.display import display, HTML\n",
    "\n",
    "display(HTML(\"<style>.red_label { color:red }</style>\"))\n",
    "l = Label(value=\"My Label\")\n",
    "l.add_class(\"red_label\")\n",
    "display(l)"
   ]
  },
  {
   "cell_type": "code",
   "execution_count": null,
   "id": "0b1c1a3d",
   "metadata": {},
   "outputs": [],
   "source": []
  },
  {
   "cell_type": "code",
   "execution_count": null,
   "id": "c0978c53",
   "metadata": {},
   "outputs": [],
   "source": []
  },
  {
   "cell_type": "code",
   "execution_count": null,
   "id": "59c609d2",
   "metadata": {},
   "outputs": [],
   "source": []
  },
  {
   "cell_type": "code",
   "execution_count": null,
   "id": "0768b074",
   "metadata": {},
   "outputs": [],
   "source": []
  },
  {
   "cell_type": "code",
   "execution_count": null,
   "id": "79f7cf64",
   "metadata": {},
   "outputs": [],
   "source": []
  },
  {
   "cell_type": "code",
   "execution_count": 71,
   "id": "434215e4",
   "metadata": {},
   "outputs": [
    {
     "data": {
      "application/vnd.jupyter.widget-view+json": {
       "model_id": "a738245def3d450d89f675f1180d90d8",
       "version_major": 2,
       "version_minor": 0
      },
      "text/plain": [
       "HBox(children=(VBox(children=(Textarea(value='[log]', disabled=True, layout=Layout(flex='0 1 auto', height='20…"
      ]
     },
     "metadata": {},
     "output_type": "display_data"
    }
   ],
   "source": [
    "widgets.HBox([VizStatus().view(), VizStatus().view()])"
   ]
  },
  {
   "cell_type": "code",
   "execution_count": null,
   "id": "bbc9127a",
   "metadata": {},
   "outputs": [],
   "source": []
  },
  {
   "cell_type": "code",
   "execution_count": null,
   "id": "ab164035",
   "metadata": {},
   "outputs": [],
   "source": []
  },
  {
   "cell_type": "code",
   "execution_count": null,
   "id": "6a959879",
   "metadata": {},
   "outputs": [],
   "source": []
  },
  {
   "cell_type": "code",
   "execution_count": null,
   "id": "9c78f5fd",
   "metadata": {},
   "outputs": [],
   "source": []
  },
  {
   "cell_type": "code",
   "execution_count": 56,
   "id": "5b1cbb6d",
   "metadata": {},
   "outputs": [
    {
     "data": {
      "application/vnd.jupyter.widget-view+json": {
       "model_id": "d64dd00d1ab44fc48c240fd2ac4af5ea",
       "version_major": 2,
       "version_minor": 0
      },
      "text/plain": [
       "Button(description='(50% width, 80px height) button', layout=Layout(height='80px', width='50%'), style=ButtonS…"
      ]
     },
     "metadata": {},
     "output_type": "display_data"
    }
   ],
   "source": [
    "b = Button(description='(50% width, 80px height) button',\n",
    "           layout=Layout(width='50%', height='80px'))\n",
    "b"
   ]
  },
  {
   "cell_type": "code",
   "execution_count": null,
   "id": "2c55d856",
   "metadata": {},
   "outputs": [],
   "source": []
  },
  {
   "cell_type": "code",
   "execution_count": null,
   "id": "4dd083bd",
   "metadata": {},
   "outputs": [],
   "source": []
  },
  {
   "cell_type": "code",
   "execution_count": null,
   "id": "7bb8895b",
   "metadata": {},
   "outputs": [],
   "source": []
  },
  {
   "cell_type": "code",
   "execution_count": 7,
   "id": "88a9da53",
   "metadata": {},
   "outputs": [
    {
     "ename": "NameError",
     "evalue": "name 'status' is not defined",
     "output_type": "error",
     "traceback": [
      "\u001b[1;31m---------------------------------------------------------------------------\u001b[0m",
      "\u001b[1;31mNameError\u001b[0m                                 Traceback (most recent call last)",
      "\u001b[1;32m<ipython-input-7-8eaea22dc36d>\u001b[0m in \u001b[0;36m<module>\u001b[1;34m\u001b[0m\n\u001b[1;32m----> 1\u001b[1;33m \u001b[0mprint\u001b[0m\u001b[1;33m(\u001b[0m\u001b[0mstatus\u001b[0m\u001b[1;33m.\u001b[0m\u001b[0mlog\u001b[0m\u001b[1;33m)\u001b[0m\u001b[1;33m\u001b[0m\u001b[1;33m\u001b[0m\u001b[0m\n\u001b[0m",
      "\u001b[1;31mNameError\u001b[0m: name 'status' is not defined"
     ]
    }
   ],
   "source": [
    "print(status.log)"
   ]
  },
  {
   "cell_type": "code",
   "execution_count": 17,
   "id": "e4e60efc",
   "metadata": {},
   "outputs": [
    {
     "data": {
      "text/plain": [
       "0"
      ]
     },
     "execution_count": 17,
     "metadata": {},
     "output_type": "execute_result"
    }
   ],
   "source": [
    "len(status.log)"
   ]
  },
  {
   "cell_type": "code",
   "execution_count": 18,
   "id": "6cb8a230",
   "metadata": {},
   "outputs": [
    {
     "data": {
      "text/plain": [
       "{None: 2}"
      ]
     },
     "execution_count": 18,
     "metadata": {},
     "output_type": "execute_result"
    }
   ],
   "source": [
    "T._log.pointers"
   ]
  },
  {
   "cell_type": "code",
   "execution_count": 21,
   "id": "e6fe246c",
   "metadata": {},
   "outputs": [
    {
     "data": {
      "text/plain": [
       "('p1', gsm.elements.roles.Player, 1536305533440)"
      ]
     },
     "execution_count": 21,
     "metadata": {},
     "output_type": "execute_result"
    }
   ],
   "source": [
    "p = next(iter(T._players.values()))\n",
    "p, type(p), id(p)"
   ]
  },
  {
   "cell_type": "code",
   "execution_count": 20,
   "id": "64d463dc",
   "metadata": {},
   "outputs": [],
   "source": [
    "p.obj"
   ]
  },
  {
   "cell_type": "code",
   "execution_count": null,
   "id": "b8f08f87",
   "metadata": {},
   "outputs": [],
   "source": []
  },
  {
   "cell_type": "code",
   "execution_count": null,
   "id": "37f9204f",
   "metadata": {},
   "outputs": [],
   "source": []
  },
  {
   "cell_type": "code",
   "execution_count": null,
   "id": "a16026b4",
   "metadata": {},
   "outputs": [],
   "source": []
  },
  {
   "cell_type": "code",
   "execution_count": 10,
   "id": "b53c807a",
   "metadata": {},
   "outputs": [],
   "source": [
    "# status.waiting_for"
   ]
  },
  {
   "cell_type": "code",
   "execution_count": 11,
   "id": "23d1bcad",
   "metadata": {},
   "outputs": [
    {
     "name": "stdout",
     "output_type": "stream",
     "text": [
      "[[[['0x4dfce1e7']], [['0xa8e00fa6']]], [[['0x4ef640c9']], [['0x90882ccb']], [['0xcb0703e0']], [['0x56427768']], [['0x64707a48']]]]\n"
     ]
    }
   ],
   "source": [
    "print(status.actions)"
   ]
  },
  {
   "cell_type": "code",
   "execution_count": 10,
   "id": "ce6e6cf4",
   "metadata": {},
   "outputs": [],
   "source": [
    "from gsm import GameActionGroup"
   ]
  },
  {
   "cell_type": "code",
   "execution_count": 8,
   "id": "69d5606c",
   "metadata": {},
   "outputs": [],
   "source": [
    "from itertools import chain, product\n",
    "def _expand(code):\n",
    "    # if isinstance(code, (list, set)) and len(code) == 1:\n",
    "    # \treturn _expand(next(iter(code)))\n",
    "\n",
    "    # if isinstance(code, (ActionElement, *primitive)):\n",
    "    # \treturn [code]\n",
    "\n",
    "    # tuple case\n",
    "    if isinstance(code, tuple):\n",
    "        return list(product(*map(_expand, code)))\n",
    "    if isinstance(code, (list, set)):\n",
    "        return list(map(_expand, code))\n",
    "\n",
    "    # base case\n",
    "    return [code,]\n",
    "\n",
    "def _pre(bla):\n",
    "    if isinstance(bla, (list, set)):\n",
    "        return [_pre(b) for b in bla]\n",
    "    if not isinstance(bla, tuple):\n",
    "        bla = (bla,)\n",
    "    return bla\n",
    "        \n",
    "def _flatten(bla):\n",
    "    if isinstance(bla, list):\n",
    "        out = []\n",
    "        for b in bla:\n",
    "            if isinstance(b, list):\n",
    "                out.extend(_flatten(b))\n",
    "            else:\n",
    "                out.append(_flatten(b))\n",
    "        return out\n",
    "    output = []\n",
    "    for item in bla:\n",
    "        output.extend(item if isinstance(item, list) else [item])\n",
    "    return tuple(output)\n",
    "\n",
    "def _expand_actions(obj):\n",
    "    obj = _pre(obj)\n",
    "    code = _expand(obj)\n",
    "    return _flatten(code)\n",
    "    return list(map(_flatten, code))"
   ]
  },
  {
   "cell_type": "code",
   "execution_count": 10,
   "id": "571c2516",
   "metadata": {},
   "outputs": [
    {
     "data": {
      "text/plain": [
       "[[(1,)], [(2,)], [(3,)]]"
      ]
     },
     "execution_count": 10,
     "metadata": {},
     "output_type": "execute_result"
    }
   ],
   "source": [
    "A = ['abc', '123', ('xa', 'ba')]\n",
    "A = [1,2,3]\n",
    "# A = (['abc', '123'], ['xa', 'ba'])\n",
    "# A = [([1,2], [1], [3,'ab']), (['xx','yy'], [12, 13])]\n",
    "code = _expand(_pre(A))\n",
    "list(code)"
   ]
  },
  {
   "cell_type": "code",
   "execution_count": null,
   "id": "57b23d3e",
   "metadata": {},
   "outputs": [],
   "source": []
  },
  {
   "cell_type": "code",
   "execution_count": 11,
   "id": "07899d7d",
   "metadata": {},
   "outputs": [
    {
     "data": {
      "text/plain": [
       "[(1,), (2,), (3,)]"
      ]
     },
     "execution_count": 11,
     "metadata": {},
     "output_type": "execute_result"
    }
   ],
   "source": [
    "_expand_actions(A)"
   ]
  },
  {
   "cell_type": "code",
   "execution_count": null,
   "id": "e211e487",
   "metadata": {},
   "outputs": [],
   "source": []
  },
  {
   "cell_type": "code",
   "execution_count": null,
   "id": "5454ea9f",
   "metadata": {},
   "outputs": [],
   "source": []
  },
  {
   "cell_type": "code",
   "execution_count": null,
   "id": "120cf48b",
   "metadata": {},
   "outputs": [],
   "source": []
  },
  {
   "cell_type": "code",
   "execution_count": 9,
   "id": "61a68614",
   "metadata": {},
   "outputs": [
    {
     "data": {
      "text/plain": [
       "'p1'"
      ]
     },
     "execution_count": 9,
     "metadata": {},
     "output_type": "execute_result"
    }
   ],
   "source": [
    "str(T._game.players[0])"
   ]
  },
  {
   "cell_type": "code",
   "execution_count": 10,
   "id": "c7e4c4bc",
   "metadata": {},
   "outputs": [
    {
     "name": "stdout",
     "output_type": "stream",
     "text": [
      "[\"\\x1b[34m['Starting game: player ', <gsm.elements.containers.GamePlayer object at 0x000002609538B5E0>, ', obj ', <gsm.dummy.Object7 object at 0x000002609538B2E0>]\\x1b[0m\"]\n"
     ]
    },
    {
     "data": {
      "text/plain": [
       "\"\\x1b[34m['Starting game: player ', <gsm.elements.containers.GamePlayer object at 0x000002609538B5E0>, ', obj ', <gsm.dummy.Object7 object at 0x000002609538B2E0>]\\x1b[0m\\n\""
      ]
     },
     "execution_count": 10,
     "metadata": {},
     "output_type": "execute_result"
    }
   ],
   "source": [
    "str(T._log)"
   ]
  },
  {
   "cell_type": "code",
   "execution_count": null,
   "id": "d77bffb6",
   "metadata": {},
   "outputs": [],
   "source": []
  },
  {
   "cell_type": "code",
   "execution_count": null,
   "id": "d866f7c6",
   "metadata": {},
   "outputs": [],
   "source": []
  },
  {
   "cell_type": "code",
   "execution_count": null,
   "id": "58fb1343",
   "metadata": {},
   "outputs": [],
   "source": []
  },
  {
   "cell_type": "code",
   "execution_count": null,
   "id": "f5f9de2f",
   "metadata": {},
   "outputs": [],
   "source": []
  },
  {
   "cell_type": "code",
   "execution_count": null,
   "id": "424ee95c",
   "metadata": {},
   "outputs": [],
   "source": []
  },
  {
   "cell_type": "code",
   "execution_count": null,
   "id": "2a046792",
   "metadata": {},
   "outputs": [],
   "source": []
  }
 ],
 "metadata": {
  "kernelspec": {
   "display_name": "Python 3",
   "language": "python",
   "name": "python3"
  },
  "language_info": {
   "codemirror_mode": {
    "name": "ipython",
    "version": 3
   },
   "file_extension": ".py",
   "mimetype": "text/x-python",
   "name": "python",
   "nbconvert_exporter": "python",
   "pygments_lexer": "ipython3",
   "version": "3.8.8"
  }
 },
 "nbformat": 4,
 "nbformat_minor": 5
}
