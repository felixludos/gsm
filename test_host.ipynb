{
 "cells": [
  {
   "cell_type": "code",
   "execution_count": 1,
   "metadata": {},
   "outputs": [
    {
     "name": "stderr",
     "output_type": "stream",
     "text": [
      "/mnt/c/Users/anwan/Nextcloud/Khan/projects/gsm/git/gsm/io/registry.py:7: YAMLLoadWarning: calling yaml.load() without Loader=... is deprecated, as the default Loader is unsafe. Please read https://msg.pyyaml.org/load for full details.\n",
      "  info = yaml.load(open(path, 'r'))\n"
     ]
    }
   ],
   "source": [
    "import sys, os, time\n",
    "%load_ext autoreload\n",
    "%autoreload 2\n",
    "%matplotlib inline\n",
    "#%matplotlib tk\n",
    "import numpy as np\n",
    "import json\n",
    "import yaml\n",
    "import matplotlib.pyplot as plt\n",
    "from collections import namedtuple, OrderedDict\n",
    "import random\n",
    "from string import Formatter\n",
    "from itertools import chain, product\n",
    "# import gsm\n",
    "import gsm\n",
    "from gsm import tdict, tlist, tset, tstack, tdeque\n",
    "from gsm import GameObject, GameLogger\n",
    "from gsm.mixins import Named\n",
    "from gsm import Array\n",
    "from gsm import viz\n",
    "from examples.tictactoe import TicTacToe\n",
    "from gsm.common.world import grid\n",
    "np.set_printoptions(linewidth=120)"
   ]
  },
  {
   "cell_type": "code",
   "execution_count": 2,
   "metadata": {},
   "outputs": [],
   "source": [
    "addr = r'http://localhost:5000/'"
   ]
  },
  {
   "cell_type": "code",
   "execution_count": 3,
   "metadata": {},
   "outputs": [
    {
     "data": {
      "text/plain": [
       "['catan', 'ttt']"
      ]
     },
     "execution_count": 3,
     "metadata": {},
     "output_type": "execute_result"
    }
   ],
   "source": [
    "out = gsm.send_msg(addr, 'game/available')\n",
    "out"
   ]
  },
  {
   "cell_type": "code",
   "execution_count": 4,
   "metadata": {},
   "outputs": [
    {
     "data": {
      "text/plain": [
       "'Game set to: ttt'"
      ]
     },
     "execution_count": 4,
     "metadata": {},
     "output_type": "execute_result"
    }
   ],
   "source": [
    "out = gsm.send_msg(addr, 'game/select', 'ttt')\n",
    "out"
   ]
  },
  {
   "cell_type": "code",
   "execution_count": 5,
   "metadata": {},
   "outputs": [
    {
     "data": {
      "text/plain": [
       "{'name': 'TicTacToe',\n",
       " 'long_name': 'Tic-Tac-Toe',\n",
       " 'short_name': 'ttt',\n",
       " 'num_players': [2],\n",
       " 'player_names': ['Player1', 'Player2']}"
      ]
     },
     "execution_count": 5,
     "metadata": {},
     "output_type": "execute_result"
    }
   ],
   "source": [
    "out = gsm.send_msg(addr, 'game/info')\n",
    "out"
   ]
  },
  {
   "cell_type": "code",
   "execution_count": 6,
   "metadata": {},
   "outputs": [
    {
     "data": {
      "text/plain": [
       "['Player1', 'Player2']"
      ]
     },
     "execution_count": 6,
     "metadata": {},
     "output_type": "execute_result"
    }
   ],
   "source": [
    "out = gsm.send_msg(addr, 'game/players')\n",
    "out"
   ]
  },
  {
   "cell_type": "code",
   "execution_count": 7,
   "metadata": {},
   "outputs": [
    {
     "data": {
      "text/plain": [
       "'Using http://localhost:5001/ for: randy'"
      ]
     },
     "execution_count": 7,
     "metadata": {},
     "output_type": "execute_result"
    }
   ],
   "source": [
    "out = gsm.send_msg(addr, 'add/client', 'randy', data=r'http://localhost:5001/')#json.dumps({'address': }))\n",
    "out"
   ]
  },
  {
   "cell_type": "code",
   "execution_count": 8,
   "metadata": {},
   "outputs": [
    {
     "data": {
      "text/plain": [
       "{'randy': 2.0320866107940674}"
      ]
     },
     "execution_count": 8,
     "metadata": {},
     "output_type": "execute_result"
    }
   ],
   "source": [
    "out = gsm.send_msg(addr, 'ping/clients')\n",
    "out"
   ]
  },
  {
   "cell_type": "code",
   "execution_count": 9,
   "metadata": {},
   "outputs": [
    {
     "data": {
      "text/plain": [
       "'randy is now playing Player2'"
      ]
     },
     "execution_count": 9,
     "metadata": {},
     "output_type": "execute_result"
    }
   ],
   "source": [
    "out = gsm.send_msg(addr, 'add/player', 'randy', 'Player2')\n",
    "out"
   ]
  },
  {
   "cell_type": "code",
   "execution_count": 10,
   "metadata": {},
   "outputs": [
    {
     "data": {
      "text/plain": [
       "'me is now playing Player1'"
      ]
     },
     "execution_count": 10,
     "metadata": {},
     "output_type": "execute_result"
    }
   ],
   "source": [
    "out = gsm.send_msg(addr, 'add/player', 'me', 'Player1')\n",
    "out"
   ]
  },
  {
   "cell_type": "code",
   "execution_count": 11,
   "metadata": {},
   "outputs": [
    {
     "data": {
      "text/plain": [
       "'TicTacToe has started'"
      ]
     },
     "execution_count": 11,
     "metadata": {},
     "output_type": "execute_result"
    }
   ],
   "source": [
    "out = gsm.send_msg(addr, 'begin')\n",
    "out"
   ]
  },
  {
   "cell_type": "code",
   "execution_count": 12,
   "metadata": {
    "scrolled": true
   },
   "outputs": [
    {
     "data": {
      "text/plain": [
       "{'options': {'tic': {'actions': {'_set': [{'_tuple': [{'_set': [{'ID': '0',\n",
       "          'val': '(1,1)',\n",
       "          'type': 'obj'},\n",
       "         {'ID': '1', 'val': '(1,2)', 'type': 'obj'},\n",
       "         {'ID': '2', 'val': '(1,3)', 'type': 'obj'},\n",
       "         {'ID': '3', 'val': '(2,1)', 'type': 'obj'},\n",
       "         {'ID': '4', 'val': '(2,2)', 'type': 'obj'},\n",
       "         {'ID': '5', 'val': '(2,3)', 'type': 'obj'},\n",
       "         {'ID': '6', 'val': '(3,1)', 'type': 'obj'},\n",
       "         {'ID': '7', 'val': '(3,2)', 'type': 'obj'},\n",
       "         {'ID': '8', 'val': '(3,3)', 'type': 'obj'}]}]}]}}},\n",
       " 'status': {'line': ['Place a tick into one of free spots']},\n",
       " 'key': '0x67031ce6ddc8a5d',\n",
       " 'players': {'Player1': {'obj_type': 'GamePlayer',\n",
       "   'name': 'Player1',\n",
       "   'symbol': 'X'},\n",
       "  'Player2': {'symbol': 'O'}},\n",
       " 'table': {'0': {'row': 1,\n",
       "   'col': 1,\n",
       "   'neighbors': [None, {'_obj': '1'}, {'_obj': '3'}, None],\n",
       "   'obj_type': 'Tick',\n",
       "   'visible': {'_set': ['Player1', 'Player2']}},\n",
       "  '1': {'row': 1,\n",
       "   'col': 2,\n",
       "   'neighbors': [None, {'_obj': '2'}, {'_obj': '4'}, {'_obj': '0'}],\n",
       "   'obj_type': 'Tick',\n",
       "   'visible': {'_set': ['Player1', 'Player2']}},\n",
       "  '2': {'row': 1,\n",
       "   'col': 3,\n",
       "   'neighbors': [None, None, {'_obj': '5'}, {'_obj': '1'}],\n",
       "   'obj_type': 'Tick',\n",
       "   'visible': {'_set': ['Player1', 'Player2']}},\n",
       "  '3': {'row': 2,\n",
       "   'col': 1,\n",
       "   'neighbors': [{'_obj': '0'}, {'_obj': '4'}, {'_obj': '6'}, None],\n",
       "   'obj_type': 'Tick',\n",
       "   'visible': {'_set': ['Player1', 'Player2']}},\n",
       "  '4': {'row': 2,\n",
       "   'col': 2,\n",
       "   'neighbors': [{'_obj': '1'}, {'_obj': '5'}, {'_obj': '7'}, {'_obj': '3'}],\n",
       "   'obj_type': 'Tick',\n",
       "   'visible': {'_set': ['Player1', 'Player2']}},\n",
       "  '5': {'row': 2,\n",
       "   'col': 3,\n",
       "   'neighbors': [{'_obj': '2'}, None, {'_obj': '8'}, {'_obj': '4'}],\n",
       "   'obj_type': 'Tick',\n",
       "   'visible': {'_set': ['Player1', 'Player2']}},\n",
       "  '6': {'row': 3,\n",
       "   'col': 1,\n",
       "   'neighbors': [{'_obj': '3'}, {'_obj': '7'}, None, None],\n",
       "   'obj_type': 'Tick',\n",
       "   'visible': {'_set': ['Player1', 'Player2']}},\n",
       "  '7': {'row': 3,\n",
       "   'col': 2,\n",
       "   'neighbors': [{'_obj': '4'}, {'_obj': '8'}, None, {'_obj': '6'}],\n",
       "   'obj_type': 'Tick',\n",
       "   'visible': {'_set': ['Player1', 'Player2']}},\n",
       "  '8': {'row': 3,\n",
       "   'col': 3,\n",
       "   'neighbors': [{'_obj': '5'}, None, None, {'_obj': '7'}],\n",
       "   'obj_type': 'Tick',\n",
       "   'visible': {'_set': ['Player1', 'Player2']}},\n",
       "  '9': {'fields': {'_set': [{'_obj': '0'},\n",
       "     {'_obj': '1'},\n",
       "     {'_obj': '2'},\n",
       "     {'_obj': '3'},\n",
       "     {'_obj': '4'},\n",
       "     {'_obj': '5'},\n",
       "     {'_obj': '6'},\n",
       "     {'_obj': '7'},\n",
       "     {'_obj': '8'}]},\n",
       "   'rows': 3,\n",
       "   'cols': 3,\n",
       "   'obj_type': 'Board',\n",
       "   'visible': {'_set': ['Player1', 'Player2']},\n",
       "   'map': {'_ndarray': [[{'_obj': '0'}, {'_obj': '1'}, {'_obj': '2'}],\n",
       "     [{'_obj': '3'}, {'_obj': '4'}, {'_obj': '5'}],\n",
       "     [{'_obj': '6'}, {'_obj': '7'}, {'_obj': '8'}]],\n",
       "    '_dtype': 'object'}}},\n",
       " 'phase': 'tic',\n",
       " 'log': []}"
      ]
     },
     "execution_count": 12,
     "metadata": {},
     "output_type": "execute_result"
    }
   ],
   "source": [
    "msg = gsm.send_msg(addr, 'status', 'me')\n",
    "msg"
   ]
  },
  {
   "cell_type": "code",
   "execution_count": 13,
   "metadata": {},
   "outputs": [
    {
     "data": {
      "text/plain": [
       "'0x67031ce6ddc8a5d'"
      ]
     },
     "execution_count": 13,
     "metadata": {},
     "output_type": "execute_result"
    }
   ],
   "source": [
    "msg['key']"
   ]
  },
  {
   "cell_type": "code",
   "execution_count": 14,
   "metadata": {},
   "outputs": [
    {
     "data": {
      "text/plain": [
       "{'waiting_for': ['Player2'],\n",
       " 'players': {'Player1': {'obj_type': 'GamePlayer',\n",
       "   'name': 'Player1',\n",
       "   'symbol': 'X'},\n",
       "  'Player2': {'symbol': 'O'}},\n",
       " 'table': {'0': {'row': 1,\n",
       "   'col': 1,\n",
       "   'neighbors': [None, {'_obj': '1'}, {'_obj': '3'}, None],\n",
       "   'obj_type': 'Tick',\n",
       "   'visible': {'_set': ['Player1', 'Player2']}},\n",
       "  '1': {'row': 1,\n",
       "   'col': 2,\n",
       "   'neighbors': [None, {'_obj': '2'}, {'_obj': '4'}, {'_obj': '0'}],\n",
       "   'obj_type': 'Tick',\n",
       "   'visible': {'_set': ['Player1', 'Player2']},\n",
       "   'symbol': 'X',\n",
       "   'player': {'_player': 'Player1'}},\n",
       "  '2': {'row': 1,\n",
       "   'col': 3,\n",
       "   'neighbors': [None, None, {'_obj': '5'}, {'_obj': '1'}],\n",
       "   'obj_type': 'Tick',\n",
       "   'visible': {'_set': ['Player1', 'Player2']}},\n",
       "  '3': {'row': 2,\n",
       "   'col': 1,\n",
       "   'neighbors': [{'_obj': '0'}, {'_obj': '4'}, {'_obj': '6'}, None],\n",
       "   'obj_type': 'Tick',\n",
       "   'visible': {'_set': ['Player1', 'Player2']}},\n",
       "  '4': {'row': 2,\n",
       "   'col': 2,\n",
       "   'neighbors': [{'_obj': '1'}, {'_obj': '5'}, {'_obj': '7'}, {'_obj': '3'}],\n",
       "   'obj_type': 'Tick',\n",
       "   'visible': {'_set': ['Player1', 'Player2']}},\n",
       "  '5': {'row': 2,\n",
       "   'col': 3,\n",
       "   'neighbors': [{'_obj': '2'}, None, {'_obj': '8'}, {'_obj': '4'}],\n",
       "   'obj_type': 'Tick',\n",
       "   'visible': {'_set': ['Player1', 'Player2']}},\n",
       "  '6': {'row': 3,\n",
       "   'col': 1,\n",
       "   'neighbors': [{'_obj': '3'}, {'_obj': '7'}, None, None],\n",
       "   'obj_type': 'Tick',\n",
       "   'visible': {'_set': ['Player1', 'Player2']}},\n",
       "  '7': {'row': 3,\n",
       "   'col': 2,\n",
       "   'neighbors': [{'_obj': '4'}, {'_obj': '8'}, None, {'_obj': '6'}],\n",
       "   'obj_type': 'Tick',\n",
       "   'visible': {'_set': ['Player1', 'Player2']}},\n",
       "  '8': {'row': 3,\n",
       "   'col': 3,\n",
       "   'neighbors': [{'_obj': '5'}, None, None, {'_obj': '7'}],\n",
       "   'obj_type': 'Tick',\n",
       "   'visible': {'_set': ['Player1', 'Player2']}},\n",
       "  '9': {'fields': {'_set': [{'_obj': '0'},\n",
       "     {'_obj': '1'},\n",
       "     {'_obj': '2'},\n",
       "     {'_obj': '3'},\n",
       "     {'_obj': '4'},\n",
       "     {'_obj': '5'},\n",
       "     {'_obj': '6'},\n",
       "     {'_obj': '7'},\n",
       "     {'_obj': '8'}]},\n",
       "   'rows': 3,\n",
       "   'cols': 3,\n",
       "   'obj_type': 'Board',\n",
       "   'visible': {'_set': ['Player1', 'Player2']},\n",
       "   'map': {'_ndarray': [[{'_obj': '0'}, {'_obj': '1'}, {'_obj': '2'}],\n",
       "     [{'_obj': '3'}, {'_obj': '4'}, {'_obj': '5'}],\n",
       "     [{'_obj': '6'}, {'_obj': '7'}, {'_obj': '8'}]],\n",
       "    '_dtype': 'object'}}},\n",
       " 'phase': 'tic',\n",
       " 'log': [{'line': ['',\n",
       "    {'obj_type': 'GamePlayer', 'type': 'player', 'val': 'Player1'},\n",
       "    ' chooses ',\n",
       "    {'obj_type': 'Tick', 'ID': '1', 'type': 'obj', 'val': '(1,2)'},\n",
       "    '\\n']}]}"
      ]
     },
     "execution_count": 14,
     "metadata": {},
     "output_type": "execute_result"
    }
   ],
   "source": [
    "out = gsm.send_msg(addr, 'action', 'me', msg['key'], 'tic', '1')\n",
    "out"
   ]
  },
  {
   "cell_type": "code",
   "execution_count": 15,
   "metadata": {},
   "outputs": [
    {
     "name": "stdout",
     "output_type": "stream",
     "text": [
      "*** ERROR: AssertionError ***\n",
      "Traceback (most recent call last):\n",
      "  File \"C:/Users/anwan/Nextcloud/Khan/projects/gsm/git\\gsm\\core\\controller.py\", line 235, in _step\n",
      "    self.begin()\n",
      "  File \"C:/Users/anwan/Nextcloud/Khan/projects/gsm/git\\gsm\\core\\controller.py\", line 82, in begin\n",
      "    obj.begin()\n",
      "  File \"c:\\users\\anwan\\nextcloud\\khan\\projects\\humpack\\git\\humpack\\basic_containers.py\", line 70, in begin\n",
      "    child.begin()\n",
      "  File \"C:/Users/anwan/Nextcloud/Khan/projects/gsm/git\\gsm\\core\\actions.py\", line 99, in begin\n",
      "    assert name is not None, 'must specify a name'\n",
      "AssertionError: must specify a name\n",
      "\n",
      "****************************\n"
     ]
    }
   ],
   "source": [
    "if 'error' in out:\n",
    "    print('*** ERROR: {} ***'.format(out['error']['type']))\n",
    "    print(out['error']['msg'])\n",
    "    print('****************************')"
   ]
  },
  {
   "cell_type": "code",
   "execution_count": null,
   "metadata": {},
   "outputs": [],
   "source": []
  }
 ],
 "metadata": {
  "kernelspec": {
   "display_name": "Python 3",
   "language": "python",
   "name": "python3"
  },
  "language_info": {
   "codemirror_mode": {
    "name": "ipython",
    "version": 3
   },
   "file_extension": ".py",
   "mimetype": "text/x-python",
   "name": "python",
   "nbconvert_exporter": "python",
   "pygments_lexer": "ipython3",
   "version": "3.7.4"
  }
 },
 "nbformat": 4,
 "nbformat_minor": 2
}
