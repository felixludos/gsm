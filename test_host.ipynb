{
 "cells": [
  {
   "cell_type": "code",
   "execution_count": 1,
   "metadata": {},
   "outputs": [
    {
     "name": "stderr",
     "output_type": "stream",
     "text": [
      "WARNING:gsm.core.object: No obj_type provided for GameObjectGenerator\n",
      "WARNING:gsm.core.object: No obj_type provided for SafeGenerator\n",
      "WARNING:gsm.core.object: No obj_type provided for Grid\n",
      "WARNING:gsm.core.object: No obj_type provided for Field\n",
      "WARNING:gsm.core.object: No obj_type provided for Edge\n",
      "WARNING:gsm.core.object: No obj_type provided for Corner\n",
      "WARNING:gsm.io.registry: Registering the GamePhase setup for a game before registering the game catan\n",
      "WARNING:gsm.core.object: No obj_type provided for Card\n",
      "WARNING:gsm.core.object: No obj_type provided for Deck\n",
      "WARNING:gsm.core.player: No obj_type provided for CatanPlayer\n",
      "WARNING:gsm.io.registry: No name provided for player type: <class 'examples.catan.players.CatanPlayer'>\n",
      "INFO:gsm.core.controller: Config dir found for Catan at /mnt/c/Users/anwan/Nextcloud/Khan/projects/gsm/examples/catan/config\n",
      "/mnt/c/Users/anwan/Nextcloud/Khan/projects/gsm/gsm/io/registry.py:53: YAMLLoadWarning: calling yaml.load() without Loader=... is deprecated, as the default Loader is unsafe. Please read https://msg.pyyaml.org/load for full details.\n",
      "  info = yaml.load(open(info_path, 'r'))\n",
      "WARNING:gsm.io.registry: catan is already registered, updating info\n",
      "INFO:gsm.core.controller: Config dir found for TicTacToe at /mnt/c/Users/anwan/Nextcloud/Khan/projects/gsm/examples/tictactoe/config\n",
      "DEBUG:gsm.io.registry: Registering game: ttt\n",
      "WARNING:gsm.core.object: No obj_type provided for Board\n",
      "WARNING:gsm.core.object: No obj_type provided for Tick\n",
      "WARNING:gsm.core.player: No obj_type provided for TTT_Player\n",
      "WARNING:gsm.io.registry: No name provided for player type: <class 'examples.tictactoe.ttt.TTT_Player'>\n"
     ]
    }
   ],
   "source": [
    "import sys, os, time\n",
    "%load_ext autoreload\n",
    "%autoreload 2\n",
    "%matplotlib inline\n",
    "#%matplotlib tk\n",
    "import numpy as np\n",
    "import select\n",
    "import json\n",
    "import pickle\n",
    "import yaml\n",
    "import humpack as hp\n",
    "import matplotlib.pyplot as plt\n",
    "from collections import namedtuple, OrderedDict\n",
    "import multiprocessing as mp\n",
    "import random\n",
    "from string import Formatter\n",
    "from itertools import chain, product\n",
    "# import gsm\n",
    "import gsm\n",
    "from run_host import SAVE_PATH\n",
    "from gsm import tdict, tlist, tset, tstack, tdeque\n",
    "from gsm import GameObject, GameLogger\n",
    "from gsm.mixins import Named\n",
    "from gsm import Array\n",
    "from gsm import viz\n",
    "from examples.tictactoe import TicTacToe\n",
    "from gsm.common.world import grid\n",
    "np.set_printoptions(linewidth=120)"
   ]
  },
  {
   "cell_type": "code",
   "execution_count": 2,
   "metadata": {},
   "outputs": [],
   "source": [
    "seed = 0\n",
    "seed = None\n",
    "I = viz.Ipython_Runner(r'http://localhost:5000/', 'me', full_log=True, seed=seed)"
   ]
  },
  {
   "cell_type": "code",
   "execution_count": 3,
   "metadata": {},
   "outputs": [
    {
     "data": {
      "text/plain": [
       "'Host restarted (debug=True)'"
      ]
     },
     "execution_count": 3,
     "metadata": {},
     "output_type": "execute_result"
    }
   ],
   "source": [
    "I.restart(debug=True)"
   ]
  },
  {
   "cell_type": "code",
   "execution_count": 4,
   "metadata": {},
   "outputs": [
    {
     "data": {
      "text/plain": [
       "['catan', 'ttt']"
      ]
     },
     "execution_count": 4,
     "metadata": {},
     "output_type": "execute_result"
    }
   ],
   "source": [
    "I.available_games()"
   ]
  },
  {
   "cell_type": "code",
   "execution_count": 5,
   "metadata": {},
   "outputs": [
    {
     "data": {
      "text/plain": [
       "'Game set to: ttt'"
      ]
     },
     "execution_count": 5,
     "metadata": {},
     "output_type": "execute_result"
    }
   ],
   "source": [
    "I.select_game('ttt')"
   ]
  },
  {
   "cell_type": "code",
   "execution_count": 6,
   "metadata": {},
   "outputs": [
    {
     "data": {
      "text/plain": [
       "{'name': 'TicTacToe',\n",
       " 'long_name': 'Tic-Tac-Toe',\n",
       " 'short_name': 'ttt',\n",
       " 'num_players': [2],\n",
       " 'player_names': ['Player1', 'Player2'],\n",
       " 'player_info': [{'symbol': 'X'}, {'symbol': 'O'}],\n",
       " 'cls': examples.tictactoe.ttt.TicTacToe,\n",
       " 'start_phase': 'tic',\n",
       " 'phases': {'tic': {'cls': examples.tictactoe.ttt.TicPhase, 'start': True}},\n",
       " 'objects': {'Board': {'name': 'Board',\n",
       "   'open': None,\n",
       "   'req': None,\n",
       "   'cls': examples.tictactoe.ttt.Board},\n",
       "  'Tick': {'name': 'Tick',\n",
       "   'open': None,\n",
       "   'req': None,\n",
       "   'cls': examples.tictactoe.ttt.Tick}},\n",
       " 'player_types': {'TTT_Player': {'cls': examples.tictactoe.ttt.TTT_Player,\n",
       "   'name': 'TTT_Player',\n",
       "   'open': {'symbol'},\n",
       "   'default': False}}}"
      ]
     },
     "execution_count": 6,
     "metadata": {},
     "output_type": "execute_result"
    }
   ],
   "source": [
    "hp.unpack(I.game_info())"
   ]
  },
  {
   "cell_type": "code",
   "execution_count": 7,
   "metadata": {},
   "outputs": [
    {
     "data": {
      "text/plain": [
       "['Player1', 'Player2']"
      ]
     },
     "execution_count": 7,
     "metadata": {},
     "output_type": "execute_result"
    }
   ],
   "source": [
    "I.game_players()"
   ]
  },
  {
   "cell_type": "code",
   "execution_count": 8,
   "metadata": {},
   "outputs": [],
   "source": [
    "# I.add_client('randy', 'pal', interface='agent', agent_type='random', timeout=None, seed=I.seed)\n",
    "# I.add_client('me', interface='agent', agent_type='random', timeout=None, seed=None)"
   ]
  },
  {
   "cell_type": "code",
   "execution_count": 9,
   "metadata": {},
   "outputs": [
    {
     "data": {
      "text/plain": [
       "{}"
      ]
     },
     "execution_count": 9,
     "metadata": {},
     "output_type": "execute_result"
    }
   ],
   "source": [
    "I.ping()"
   ]
  },
  {
   "cell_type": "code",
   "execution_count": 10,
   "metadata": {},
   "outputs": [
    {
     "data": {
      "text/plain": [
       "'randy is now playing Player2'"
      ]
     },
     "execution_count": 10,
     "metadata": {},
     "output_type": "execute_result"
    }
   ],
   "source": [
    "I.add_player('me', 'Player1')\n",
    "I.add_player('randy', 'Player2')\n",
    "# I.add_advisor('pal', 'Player1')"
   ]
  },
  {
   "cell_type": "code",
   "execution_count": 11,
   "metadata": {},
   "outputs": [],
   "source": [
    "# I.add_player('randy', 'Player1')"
   ]
  },
  {
   "cell_type": "code",
   "execution_count": 12,
   "metadata": {},
   "outputs": [
    {
     "name": "stdout",
     "output_type": "stream",
     "text": [
      "*** ERROR: AttributeError ***\n",
      "Traceback (most recent call last):\n",
      "  File \"C:/Users/anwan/Nextcloud/Khan/projects/gsm/run_host.py\", line 37, in _ex_wrap\n",
      "    return cmd(*args, **kwargs)\n",
      "  File \"C:\\Users\\anwan\\Nextcloud\\Khan\\projects\\gsm\\gsm\\io\\host.py\", line 166, in begin_game\n",
      "    self.init_game(seed)\n",
      "  File \"C:\\Users\\anwan\\Nextcloud\\Khan\\projects\\gsm\\gsm\\io\\host.py\", line 161, in init_game\n",
      "    self.ctrl.reset(player, seed=seed)\n",
      "  File \"C:\\Users\\anwan\\Nextcloud\\Khan\\projects\\gsm\\gsm\\core\\controller.py\", line 485, in reset\n",
      "    return json.dumps(self._reset(player, seed))\n",
      "  File \"C:\\Users\\anwan\\Nextcloud\\Khan\\projects\\gsm\\gsm\\core\\controller.py\", line 253, in _reset\n",
      "    self._add_players(self.config, self.settings)\n",
      "  File \"C:\\Users\\anwan\\Nextcloud\\Khan\\projects\\gsm\\gsm\\core\\controller.py\", line 395, in _add_players\n",
      "    self.manager.create(name, **info)\n",
      "  File \"C:\\Users\\anwan\\Nextcloud\\Khan\\projects\\gsm\\gsm\\core\\player.py\", line 59, in create\n",
      "    player_type = self.default_player\n",
      "AttributeError: 'GameManager' object has no attribute 'default_player'\n",
      "\n",
      "****************************\n"
     ]
    },
    {
     "ename": "AssertionError",
     "evalue": "",
     "output_type": "error",
     "traceback": [
      "\u001b[0;31m---------------------------------------------------------------------------\u001b[0m",
      "\u001b[0;31mAssertionError\u001b[0m                            Traceback (most recent call last)",
      "\u001b[0;32m<ipython-input-12-29ea27c80c94>\u001b[0m in \u001b[0;36m<module>\u001b[0;34m\u001b[0m\n\u001b[0;32m----> 1\u001b[0;31m \u001b[0mI\u001b[0m\u001b[0;34m.\u001b[0m\u001b[0mbegin\u001b[0m\u001b[0;34m(\u001b[0m\u001b[0;34m)\u001b[0m\u001b[0;34m\u001b[0m\u001b[0;34m\u001b[0m\u001b[0m\n\u001b[0m",
      "\u001b[0;32m/mnt/c/Users/anwan/Nextcloud/Khan/projects/gsm/gsm/viz.py\u001b[0m in \u001b[0;36mbegin\u001b[0;34m(self, seed)\u001b[0m\n\u001b[1;32m    209\u001b[0m                         \u001b[0mseed\u001b[0m \u001b[0;34m=\u001b[0m \u001b[0mself\u001b[0m\u001b[0;34m.\u001b[0m\u001b[0mseed\u001b[0m\u001b[0;34m\u001b[0m\u001b[0;34m\u001b[0m\u001b[0m\n\u001b[1;32m    210\u001b[0m                 \u001b[0mself\u001b[0m\u001b[0;34m.\u001b[0m\u001b[0min_progress\u001b[0m \u001b[0;34m=\u001b[0m \u001b[0;32mTrue\u001b[0m\u001b[0;34m\u001b[0m\u001b[0;34m\u001b[0m\u001b[0m\n\u001b[0;32m--> 211\u001b[0;31m                 \u001b[0;32mreturn\u001b[0m \u001b[0mself\u001b[0m\u001b[0;34m.\u001b[0m\u001b[0m_execute\u001b[0m\u001b[0;34m(\u001b[0m\u001b[0;34m'begin'\u001b[0m\u001b[0;34m,\u001b[0m \u001b[0mseed\u001b[0m\u001b[0;34m)\u001b[0m\u001b[0;34m\u001b[0m\u001b[0;34m\u001b[0m\u001b[0m\n\u001b[0m\u001b[1;32m    212\u001b[0m \u001b[0;34m\u001b[0m\u001b[0m\n\u001b[1;32m    213\u001b[0m         \u001b[0;32mdef\u001b[0m \u001b[0mcheat\u001b[0m\u001b[0;34m(\u001b[0m\u001b[0mself\u001b[0m\u001b[0;34m,\u001b[0m \u001b[0mcode\u001b[0m\u001b[0;34m=\u001b[0m\u001b[0;32mNone\u001b[0m\u001b[0;34m)\u001b[0m\u001b[0;34m:\u001b[0m\u001b[0;34m\u001b[0m\u001b[0;34m\u001b[0m\u001b[0m\n",
      "\u001b[0;32m/mnt/c/Users/anwan/Nextcloud/Khan/projects/gsm/gsm/viz.py\u001b[0m in \u001b[0;36m_execute\u001b[0;34m(self, *args, **kwargs)\u001b[0m\n\u001b[1;32m    125\u001b[0m                         \u001b[0;32melse\u001b[0m\u001b[0;34m:\u001b[0m\u001b[0;34m\u001b[0m\u001b[0;34m\u001b[0m\u001b[0m\n\u001b[1;32m    126\u001b[0m                                 \u001b[0mprint\u001b[0m\u001b[0;34m(\u001b[0m\u001b[0mtype\u001b[0m\u001b[0;34m(\u001b[0m\u001b[0mmsg\u001b[0m\u001b[0;34m)\u001b[0m\u001b[0;34m,\u001b[0m \u001b[0mmsg\u001b[0m\u001b[0;34m)\u001b[0m\u001b[0;34m\u001b[0m\u001b[0;34m\u001b[0m\u001b[0m\n\u001b[0;32m--> 127\u001b[0;31m                         \u001b[0;32massert\u001b[0m \u001b[0;32mFalse\u001b[0m\u001b[0;34m\u001b[0m\u001b[0;34m\u001b[0m\u001b[0m\n\u001b[0m\u001b[1;32m    128\u001b[0m                 \u001b[0;32mreturn\u001b[0m \u001b[0mmsg\u001b[0m\u001b[0;34m\u001b[0m\u001b[0;34m\u001b[0m\u001b[0m\n\u001b[1;32m    129\u001b[0m \u001b[0;34m\u001b[0m\u001b[0m\n",
      "\u001b[0;31mAssertionError\u001b[0m: "
     ]
    }
   ],
   "source": [
    "I.begin()"
   ]
  },
  {
   "cell_type": "code",
   "execution_count": 13,
   "metadata": {},
   "outputs": [
    {
     "name": "stdout",
     "output_type": "stream",
     "text": [
      "*** ERROR: IndexError ***\n",
      "Traceback (most recent call last):\n",
      "  File \"C:/Users/anwan/Nextcloud/Khan/projects/gsm/run_host.py\", line 37, in _ex_wrap\n",
      "    return cmd(*args, **kwargs)\n",
      "  File \"C:\\Users\\anwan\\Nextcloud\\Khan\\projects\\gsm\\gsm\\io\\host.py\", line 330, in get_status\n",
      "    return self.ctrl.get_status(player)\n",
      "  File \"C:\\Users\\anwan\\Nextcloud\\Khan\\projects\\gsm\\gsm\\core\\controller.py\", line 489, in get_status\n",
      "    self._compose_msg(player)\n",
      "  File \"C:\\Users\\anwan\\Nextcloud\\Khan\\projects\\gsm\\gsm\\core\\controller.py\", line 438, in _compose_msg\n",
      "    msg['phase'] = self.stack.peek().get_name()\n",
      "  File \"C:\\Users\\anwan\\Nextcloud\\Khan\\projects\\gsm\\gsm\\core\\phase.py\", line 112, in peek\n",
      "    return self._stack.peek(n)\n",
      "  File \"C:\\Users\\anwan\\Nextcloud\\Khan\\projects\\humpack\\humpack\\basic_containers.py\", line 818, in peek\n",
      "    return self[n]\n",
      "  File \"C:\\Users\\anwan\\Nextcloud\\Khan\\projects\\humpack\\humpack\\basic_containers.py\", line 705, in __getitem__\n",
      "    return self._data[item]\n",
      "IndexError: deque index out of range\n",
      "\n",
      "****************************\n"
     ]
    },
    {
     "ename": "AssertionError",
     "evalue": "",
     "output_type": "error",
     "traceback": [
      "\u001b[0;31m---------------------------------------------------------------------------\u001b[0m",
      "\u001b[0;31mAssertionError\u001b[0m                            Traceback (most recent call last)",
      "\u001b[0;32m<ipython-input-13-f388b00d5f78>\u001b[0m in \u001b[0;36m<module>\u001b[0;34m\u001b[0m\n\u001b[0;32m----> 1\u001b[0;31m \u001b[0mmsg\u001b[0m \u001b[0;34m=\u001b[0m \u001b[0mI\u001b[0m\u001b[0;34m.\u001b[0m\u001b[0mstatus\u001b[0m\u001b[0;34m(\u001b[0m\u001b[0;34m)\u001b[0m\u001b[0;34m\u001b[0m\u001b[0;34m\u001b[0m\u001b[0m\n\u001b[0m\u001b[1;32m      2\u001b[0m \u001b[0mI\u001b[0m\u001b[0;34m.\u001b[0m\u001b[0mview\u001b[0m\u001b[0;34m(\u001b[0m\u001b[0;34m)\u001b[0m\u001b[0;34m\u001b[0m\u001b[0;34m\u001b[0m\u001b[0m\n",
      "\u001b[0;32m/mnt/c/Users/anwan/Nextcloud/Khan/projects/gsm/gsm/viz.py\u001b[0m in \u001b[0;36mstatus\u001b[0;34m(self, user)\u001b[0m\n\u001b[1;32m    219\u001b[0m                 \u001b[0;32mif\u001b[0m \u001b[0muser\u001b[0m \u001b[0;32mis\u001b[0m \u001b[0;32mNone\u001b[0m\u001b[0;34m:\u001b[0m\u001b[0;34m\u001b[0m\u001b[0;34m\u001b[0m\u001b[0m\n\u001b[1;32m    220\u001b[0m                         \u001b[0muser\u001b[0m \u001b[0;34m=\u001b[0m \u001b[0mself\u001b[0m\u001b[0;34m.\u001b[0m\u001b[0musers\u001b[0m\u001b[0;34m[\u001b[0m\u001b[0;36m0\u001b[0m\u001b[0;34m]\u001b[0m\u001b[0;34m\u001b[0m\u001b[0;34m\u001b[0m\u001b[0m\n\u001b[0;32m--> 221\u001b[0;31m                 \u001b[0mself\u001b[0m\u001b[0;34m.\u001b[0m\u001b[0mmsg\u001b[0m \u001b[0;34m=\u001b[0m \u001b[0munjsonify\u001b[0m\u001b[0;34m(\u001b[0m\u001b[0mself\u001b[0m\u001b[0;34m.\u001b[0m\u001b[0m_execute\u001b[0m\u001b[0;34m(\u001b[0m\u001b[0;34m'status'\u001b[0m\u001b[0;34m,\u001b[0m \u001b[0muser\u001b[0m\u001b[0;34m)\u001b[0m\u001b[0;34m)\u001b[0m\u001b[0;34m\u001b[0m\u001b[0;34m\u001b[0m\u001b[0m\n\u001b[0m\u001b[1;32m    222\u001b[0m                 \u001b[0mself\u001b[0m\u001b[0;34m.\u001b[0m\u001b[0mkey\u001b[0m \u001b[0;34m=\u001b[0m \u001b[0mself\u001b[0m\u001b[0;34m.\u001b[0m\u001b[0mmsg\u001b[0m\u001b[0;34m.\u001b[0m\u001b[0mkey\u001b[0m \u001b[0;32mif\u001b[0m \u001b[0;34m'key'\u001b[0m \u001b[0;32min\u001b[0m \u001b[0mself\u001b[0m\u001b[0;34m.\u001b[0m\u001b[0mmsg\u001b[0m \u001b[0;32melse\u001b[0m \u001b[0;32mNone\u001b[0m\u001b[0;34m\u001b[0m\u001b[0;34m\u001b[0m\u001b[0m\n\u001b[1;32m    223\u001b[0m \u001b[0;34m\u001b[0m\u001b[0m\n",
      "\u001b[0;32m/mnt/c/Users/anwan/Nextcloud/Khan/projects/gsm/gsm/viz.py\u001b[0m in \u001b[0;36m_execute\u001b[0;34m(self, *args, **kwargs)\u001b[0m\n\u001b[1;32m    125\u001b[0m                         \u001b[0;32melse\u001b[0m\u001b[0;34m:\u001b[0m\u001b[0;34m\u001b[0m\u001b[0;34m\u001b[0m\u001b[0m\n\u001b[1;32m    126\u001b[0m                                 \u001b[0mprint\u001b[0m\u001b[0;34m(\u001b[0m\u001b[0mtype\u001b[0m\u001b[0;34m(\u001b[0m\u001b[0mmsg\u001b[0m\u001b[0;34m)\u001b[0m\u001b[0;34m,\u001b[0m \u001b[0mmsg\u001b[0m\u001b[0;34m)\u001b[0m\u001b[0;34m\u001b[0m\u001b[0;34m\u001b[0m\u001b[0m\n\u001b[0;32m--> 127\u001b[0;31m                         \u001b[0;32massert\u001b[0m \u001b[0;32mFalse\u001b[0m\u001b[0;34m\u001b[0m\u001b[0;34m\u001b[0m\u001b[0m\n\u001b[0m\u001b[1;32m    128\u001b[0m                 \u001b[0;32mreturn\u001b[0m \u001b[0mmsg\u001b[0m\u001b[0;34m\u001b[0m\u001b[0;34m\u001b[0m\u001b[0m\n\u001b[1;32m    129\u001b[0m \u001b[0;34m\u001b[0m\u001b[0m\n",
      "\u001b[0;31mAssertionError\u001b[0m: "
     ]
    }
   ],
   "source": [
    "msg = I.status()\n",
    "I.view()"
   ]
  },
  {
   "cell_type": "code",
   "execution_count": 16,
   "metadata": {},
   "outputs": [
    {
     "name": "stdout",
     "output_type": "stream",
     "text": [
      "Received table: 10 entries\n",
      "-------------\n",
      "Log\n",
      "-------------\n",
      "PLYR:Player1 chooses OBJ[4]:(2,2)\n",
      "PLYR:Player2 chooses OBJ[5]:(2,3)\n",
      "PLYR:Player1 chooses OBJ[2]:(1,3)\n",
      "PLYR:Player2 chooses OBJ[3]:(2,1)\n",
      "PLYR:Player1 chooses OBJ[6]:(3,1)\n",
      "Game Over! PLYR:Player1 wins!\n",
      "\n",
      "--- Game Ended ---\n"
     ]
    }
   ],
   "source": [
    "I.step()\n",
    "I.status()\n",
    "I.view()"
   ]
  },
  {
   "cell_type": "code",
   "execution_count": null,
   "metadata": {},
   "outputs": [],
   "source": []
  },
  {
   "cell_type": "code",
   "execution_count": null,
   "metadata": {},
   "outputs": [],
   "source": []
  }
 ],
 "metadata": {
  "kernelspec": {
   "display_name": "Python 3",
   "language": "python",
   "name": "python3"
  },
  "language_info": {
   "codemirror_mode": {
    "name": "ipython",
    "version": 3
   },
   "file_extension": ".py",
   "mimetype": "text/x-python",
   "name": "python",
   "nbconvert_exporter": "python",
   "pygments_lexer": "ipython3",
   "version": "3.7.4"
  }
 },
 "nbformat": 4,
 "nbformat_minor": 2
}
