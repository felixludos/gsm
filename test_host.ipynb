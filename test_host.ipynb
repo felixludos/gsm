{
 "cells": [
  {
   "cell_type": "code",
   "execution_count": 1,
   "metadata": {},
   "outputs": [
    {
     "name": "stderr",
     "output_type": "stream",
     "text": [
      "/mnt/c/Users/anwan/Nextcloud/Khan/projects/gsm/git/gsm/io/registry.py:7: YAMLLoadWarning: calling yaml.load() without Loader=... is deprecated, as the default Loader is unsafe. Please read https://msg.pyyaml.org/load for full details.\n",
      "  info = yaml.load(open(path, 'r'))\n"
     ]
    }
   ],
   "source": [
    "import sys, os, time\n",
    "%load_ext autoreload\n",
    "%autoreload 2\n",
    "%matplotlib inline\n",
    "#%matplotlib tk\n",
    "import numpy as np\n",
    "import select\n",
    "import json\n",
    "import pickle\n",
    "import yaml\n",
    "import matplotlib.pyplot as plt\n",
    "from collections import namedtuple, OrderedDict\n",
    "import multiprocessing as mp\n",
    "import random\n",
    "from string import Formatter\n",
    "from itertools import chain, product\n",
    "# import gsm\n",
    "import gsm\n",
    "from run_host import SAVE_PATH\n",
    "from gsm import tdict, tlist, tset, tstack, tdeque\n",
    "from gsm import GameObject, GameLogger\n",
    "from gsm.mixins import Named\n",
    "from gsm import Array\n",
    "from gsm import viz\n",
    "from examples.tictactoe import TicTacToe\n",
    "from gsm.common.world import grid\n",
    "np.set_printoptions(linewidth=120)"
   ]
  },
  {
   "cell_type": "code",
   "execution_count": 2,
   "metadata": {},
   "outputs": [],
   "source": [
    "seed = 0\n",
    "seed = None\n",
    "I = viz.Ipython_Runner(r'http://localhost:5000/', 'me', full_log=True, seed=seed)"
   ]
  },
  {
   "cell_type": "code",
   "execution_count": 3,
   "metadata": {},
   "outputs": [
    {
     "data": {
      "text/plain": [
       "'Host restarted (debug=True)'"
      ]
     },
     "execution_count": 3,
     "metadata": {},
     "output_type": "execute_result"
    }
   ],
   "source": [
    "I.restart(debug=True)"
   ]
  },
  {
   "cell_type": "code",
   "execution_count": 4,
   "metadata": {},
   "outputs": [
    {
     "data": {
      "text/plain": [
       "['catan', 'ttt']"
      ]
     },
     "execution_count": 4,
     "metadata": {},
     "output_type": "execute_result"
    }
   ],
   "source": [
    "I.available_games()"
   ]
  },
  {
   "cell_type": "code",
   "execution_count": 5,
   "metadata": {},
   "outputs": [
    {
     "data": {
      "text/plain": [
       "'Game set to: ttt'"
      ]
     },
     "execution_count": 5,
     "metadata": {},
     "output_type": "execute_result"
    }
   ],
   "source": [
    "I.select_game('ttt')"
   ]
  },
  {
   "cell_type": "code",
   "execution_count": 6,
   "metadata": {},
   "outputs": [
    {
     "data": {
      "text/plain": [
       "{'name': 'TicTacToe',\n",
       " 'long_name': 'Tic-Tac-Toe',\n",
       " 'short_name': 'ttt',\n",
       " 'num_players': [2],\n",
       " 'player_names': ['Player1', 'Player2']}"
      ]
     },
     "execution_count": 6,
     "metadata": {},
     "output_type": "execute_result"
    }
   ],
   "source": [
    "I.game_info()"
   ]
  },
  {
   "cell_type": "code",
   "execution_count": 7,
   "metadata": {},
   "outputs": [
    {
     "data": {
      "text/plain": [
       "['Player1', 'Player2']"
      ]
     },
     "execution_count": 7,
     "metadata": {},
     "output_type": "execute_result"
    }
   ],
   "source": [
    "I.game_players()"
   ]
  },
  {
   "cell_type": "code",
   "execution_count": 8,
   "metadata": {},
   "outputs": [
    {
     "data": {
      "text/plain": [
       "'Created an interface (agent) for: randy, pal'"
      ]
     },
     "execution_count": 8,
     "metadata": {},
     "output_type": "execute_result"
    }
   ],
   "source": [
    "I.add_client('randy', 'pal', interface='agent', agent_type='random', timeout=None, seed=I.seed)\n",
    "# I.add_client('me', interface='agent', agent_type='random', timeout=None, seed=None)"
   ]
  },
  {
   "cell_type": "code",
   "execution_count": 9,
   "metadata": {},
   "outputs": [
    {
     "data": {
      "text/plain": [
       "{'randy': ['ping reply from random agent/s: randy, pal', 0.004973649978637695],\n",
       " 'pal': ['ping reply from random agent/s: randy, pal', 0.0010156631469726562]}"
      ]
     },
     "execution_count": 9,
     "metadata": {},
     "output_type": "execute_result"
    }
   ],
   "source": [
    "I.ping()"
   ]
  },
  {
   "cell_type": "code",
   "execution_count": 10,
   "metadata": {},
   "outputs": [
    {
     "name": "stdout",
     "output_type": "stream",
     "text": [
      "*** ERROR: KeyError ***\n",
      "Traceback (most recent call last):\n",
      "  File \"C:\\Users\\anwan\\Nextcloud\\Khan\\projects\\gsm\\git\\gsm\\io\\transmit.py\", line 79, in worker_fn\n",
      "    out = interface.__getattribute__(cmd)(*data)\n",
      "  File \"C:\\Users\\anwan\\Nextcloud\\Khan\\projects\\gsm\\git\\gsm\\ai\\framework.py\", line 21, in set_player\n",
      "    ai_cls = get_ai(self.agent_type, game=self.game)\n",
      "  File \"C:\\Users\\anwan\\Nextcloud\\Khan\\projects\\gsm\\git\\gsm\\io\\registry.py\", line 46, in get_ai\n",
      "    elif name in _game_ai_registry[game]:\n",
      "KeyError: 'ttt'\n",
      "\n",
      "****************************\n"
     ]
    },
    {
     "ename": "AssertionError",
     "evalue": "",
     "output_type": "error",
     "traceback": [
      "\u001b[0;31m---------------------------------------------------------------------------\u001b[0m",
      "\u001b[0;31mAssertionError\u001b[0m                            Traceback (most recent call last)",
      "\u001b[0;32m<ipython-input-10-bf46a7c54ac1>\u001b[0m in \u001b[0;36m<module>\u001b[0;34m\u001b[0m\n\u001b[1;32m      1\u001b[0m \u001b[0mI\u001b[0m\u001b[0;34m.\u001b[0m\u001b[0madd_player\u001b[0m\u001b[0;34m(\u001b[0m\u001b[0;34m'me'\u001b[0m\u001b[0;34m,\u001b[0m \u001b[0;34m'Player1'\u001b[0m\u001b[0;34m)\u001b[0m\u001b[0;34m\u001b[0m\u001b[0;34m\u001b[0m\u001b[0m\n\u001b[0;32m----> 2\u001b[0;31m \u001b[0mI\u001b[0m\u001b[0;34m.\u001b[0m\u001b[0madd_player\u001b[0m\u001b[0;34m(\u001b[0m\u001b[0;34m'randy'\u001b[0m\u001b[0;34m,\u001b[0m \u001b[0;34m'Player2'\u001b[0m\u001b[0;34m)\u001b[0m\u001b[0;34m\u001b[0m\u001b[0;34m\u001b[0m\u001b[0m\n\u001b[0m\u001b[1;32m      3\u001b[0m \u001b[0mI\u001b[0m\u001b[0;34m.\u001b[0m\u001b[0madd_advisor\u001b[0m\u001b[0;34m(\u001b[0m\u001b[0;34m'pal'\u001b[0m\u001b[0;34m,\u001b[0m \u001b[0;34m'Player1'\u001b[0m\u001b[0;34m)\u001b[0m\u001b[0;34m\u001b[0m\u001b[0;34m\u001b[0m\u001b[0m\n",
      "\u001b[0;32m/mnt/c/Users/anwan/Nextcloud/Khan/projects/gsm/git/gsm/viz.py\u001b[0m in \u001b[0;36madd_player\u001b[0;34m(self, user, player)\u001b[0m\n\u001b[1;32m    174\u001b[0m                         \u001b[0muser\u001b[0m \u001b[0;34m=\u001b[0m \u001b[0mself\u001b[0m\u001b[0;34m.\u001b[0m\u001b[0musers\u001b[0m\u001b[0;34m[\u001b[0m\u001b[0;36m0\u001b[0m\u001b[0;34m]\u001b[0m\u001b[0;34m\u001b[0m\u001b[0;34m\u001b[0m\u001b[0m\n\u001b[1;32m    175\u001b[0m                 \u001b[0;32massert\u001b[0m \u001b[0mplayer\u001b[0m \u001b[0;32mis\u001b[0m \u001b[0;32mnot\u001b[0m \u001b[0;32mNone\u001b[0m \u001b[0;31m# TODO maybe automatically load available players\u001b[0m\u001b[0;34m\u001b[0m\u001b[0;34m\u001b[0m\u001b[0m\n\u001b[0;32m--> 176\u001b[0;31m                 \u001b[0;32mreturn\u001b[0m \u001b[0mself\u001b[0m\u001b[0;34m.\u001b[0m\u001b[0m_execute\u001b[0m\u001b[0;34m(\u001b[0m\u001b[0;34m'add/player'\u001b[0m\u001b[0;34m,\u001b[0m \u001b[0muser\u001b[0m\u001b[0;34m,\u001b[0m \u001b[0mplayer\u001b[0m\u001b[0;34m)\u001b[0m\u001b[0;34m\u001b[0m\u001b[0;34m\u001b[0m\u001b[0m\n\u001b[0m\u001b[1;32m    177\u001b[0m \u001b[0;34m\u001b[0m\u001b[0m\n\u001b[1;32m    178\u001b[0m         \u001b[0;32mdef\u001b[0m \u001b[0madd_advisor\u001b[0m\u001b[0;34m(\u001b[0m\u001b[0mself\u001b[0m\u001b[0;34m,\u001b[0m \u001b[0muser\u001b[0m\u001b[0;34m=\u001b[0m\u001b[0;32mNone\u001b[0m\u001b[0;34m,\u001b[0m \u001b[0mplayer\u001b[0m\u001b[0;34m=\u001b[0m\u001b[0;32mNone\u001b[0m\u001b[0;34m)\u001b[0m\u001b[0;34m:\u001b[0m\u001b[0;34m\u001b[0m\u001b[0;34m\u001b[0m\u001b[0m\n",
      "\u001b[0;32m/mnt/c/Users/anwan/Nextcloud/Khan/projects/gsm/git/gsm/viz.py\u001b[0m in \u001b[0;36m_execute\u001b[0;34m(self, *args, **kwargs)\u001b[0m\n\u001b[1;32m    125\u001b[0m                         \u001b[0;32melse\u001b[0m\u001b[0;34m:\u001b[0m\u001b[0;34m\u001b[0m\u001b[0;34m\u001b[0m\u001b[0m\n\u001b[1;32m    126\u001b[0m                                 \u001b[0mprint\u001b[0m\u001b[0;34m(\u001b[0m\u001b[0mmsg\u001b[0m\u001b[0;34m)\u001b[0m\u001b[0;34m\u001b[0m\u001b[0;34m\u001b[0m\u001b[0m\n\u001b[0;32m--> 127\u001b[0;31m                         \u001b[0;32massert\u001b[0m \u001b[0;32mFalse\u001b[0m\u001b[0;34m\u001b[0m\u001b[0;34m\u001b[0m\u001b[0m\n\u001b[0m\u001b[1;32m    128\u001b[0m                 \u001b[0;32mreturn\u001b[0m \u001b[0mmsg\u001b[0m\u001b[0;34m\u001b[0m\u001b[0;34m\u001b[0m\u001b[0m\n\u001b[1;32m    129\u001b[0m \u001b[0;34m\u001b[0m\u001b[0m\n",
      "\u001b[0;31mAssertionError\u001b[0m: "
     ]
    }
   ],
   "source": [
    "I.add_player('me', 'Player1')\n",
    "I.add_player('randy', 'Player2')\n",
    "I.add_advisor('pal', 'Player1')"
   ]
  },
  {
   "cell_type": "code",
   "execution_count": 11,
   "metadata": {},
   "outputs": [],
   "source": [
    "# I.add_player('randy', 'Player1')"
   ]
  },
  {
   "cell_type": "code",
   "execution_count": 12,
   "metadata": {},
   "outputs": [
    {
     "data": {
      "text/plain": [
       "'TicTacToe has started'"
      ]
     },
     "execution_count": 12,
     "metadata": {},
     "output_type": "execute_result"
    }
   ],
   "source": [
    "I.begin()"
   ]
  },
  {
   "cell_type": "code",
   "execution_count": 13,
   "metadata": {},
   "outputs": [
    {
     "name": "stdout",
     "output_type": "stream",
     "text": [
      "Received key: 1ca7d27400c2f295\n",
      "Received table: 10 entries\n",
      "-------------\n",
      "Log\n",
      "-------------\n",
      "\n",
      "Phase: tic\n",
      "Advice:\n",
      "pal recommends: tic - OBJ[0]:(1,1)\n",
      "+-------------------------------------+\n",
      "| Place a tick into one of free spots |\n",
      "+-------------------------------------+\n",
      "   0 - OBJ[0]:(1,1)\n",
      "   1 - OBJ[1]:(1,2)\n",
      "   2 - OBJ[2]:(1,3)\n",
      "   3 - OBJ[3]:(2,1)\n",
      "   4 - OBJ[4]:(2,2)\n",
      "   5 - OBJ[5]:(2,3)\n",
      "   6 - OBJ[6]:(3,1)\n",
      "   7 - OBJ[7]:(3,2)\n",
      "   8 - OBJ[8]:(3,3)\n"
     ]
    }
   ],
   "source": [
    "msg = I.status()\n",
    "I.view()"
   ]
  },
  {
   "cell_type": "code",
   "execution_count": 15,
   "metadata": {},
   "outputs": [
    {
     "name": "stdout",
     "output_type": "stream",
     "text": [
      "Received key: 977289c0d838e941\n",
      "Received table: 10 entries\n",
      "-------------\n",
      "Log\n",
      "-------------\n",
      "PLYR:Player1 chooses OBJ[0]:(1,1)\n",
      "PLYR:Player2 chooses OBJ[1]:(1,2)\n",
      "PLYR:Player1 chooses OBJ[2]:(1,3)\n",
      "PLYR:Player2 chooses OBJ[3]:(2,1)\n",
      "\n",
      "Phase: tic\n",
      "Advice:\n",
      "pal recommends: tic - OBJ[6]:(3,1)\n",
      "+-------------------------------------+\n",
      "| Place a tick into one of free spots |\n",
      "+-------------------------------------+\n",
      "   0 - OBJ[4]:(2,2)\n",
      "   1 - OBJ[5]:(2,3)\n",
      "   2 - OBJ[6]:(3,1)\n",
      "   3 - OBJ[7]:(3,2)\n",
      "   4 - OBJ[8]:(3,3)\n"
     ]
    }
   ],
   "source": [
    "I.step(0)\n",
    "I.status()\n",
    "I.view()"
   ]
  },
  {
   "cell_type": "code",
   "execution_count": null,
   "metadata": {},
   "outputs": [],
   "source": []
  },
  {
   "cell_type": "code",
   "execution_count": null,
   "metadata": {},
   "outputs": [],
   "source": []
  }
 ],
 "metadata": {
  "kernelspec": {
   "display_name": "Python 3",
   "language": "python",
   "name": "python3"
  },
  "language_info": {
   "codemirror_mode": {
    "name": "ipython",
    "version": 3
   },
   "file_extension": ".py",
   "mimetype": "text/x-python",
   "name": "python",
   "nbconvert_exporter": "python",
   "pygments_lexer": "ipython3",
   "version": "3.7.4"
  }
 },
 "nbformat": 4,
 "nbformat_minor": 2
}
