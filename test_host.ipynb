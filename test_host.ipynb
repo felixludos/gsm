{
 "cells": [
  {
   "cell_type": "code",
   "execution_count": 1,
   "metadata": {},
   "outputs": [
    {
     "name": "stderr",
     "output_type": "stream",
     "text": [
      "/mnt/c/Users/anwan/Nextcloud/Khan/projects/gsm/git/gsm/io/registry.py:7: YAMLLoadWarning: calling yaml.load() without Loader=... is deprecated, as the default Loader is unsafe. Please read https://msg.pyyaml.org/load for full details.\n",
      "  info = yaml.load(open(path, 'r'))\n"
     ]
    }
   ],
   "source": [
    "import sys, os, time\n",
    "%load_ext autoreload\n",
    "%autoreload 2\n",
    "%matplotlib inline\n",
    "#%matplotlib tk\n",
    "import numpy as np\n",
    "import select\n",
    "import json\n",
    "import yaml\n",
    "import matplotlib.pyplot as plt\n",
    "from collections import namedtuple, OrderedDict\n",
    "import multiprocessing as mp\n",
    "import random\n",
    "from string import Formatter\n",
    "from itertools import chain, product\n",
    "# import gsm\n",
    "import gsm\n",
    "from gsm import tdict, tlist, tset, tstack, tdeque\n",
    "from gsm import GameObject, GameLogger\n",
    "from gsm.mixins import Named\n",
    "from gsm import Array\n",
    "from gsm import viz\n",
    "from examples.tictactoe import TicTacToe\n",
    "from gsm.common.world import grid\n",
    "np.set_printoptions(linewidth=120)"
   ]
  },
  {
   "cell_type": "code",
   "execution_count": 2,
   "metadata": {},
   "outputs": [],
   "source": [
    "I = viz.Ipython_Runner(r'http://localhost:5000/', 'me', 'other', full_log=True)"
   ]
  },
  {
   "cell_type": "code",
   "execution_count": 3,
   "metadata": {},
   "outputs": [
    {
     "data": {
      "text/plain": [
       "'Host restarted'"
      ]
     },
     "execution_count": 3,
     "metadata": {},
     "output_type": "execute_result"
    }
   ],
   "source": [
    "I.restart()"
   ]
  },
  {
   "cell_type": "code",
   "execution_count": 4,
   "metadata": {},
   "outputs": [
    {
     "data": {
      "text/plain": [
       "['catan', 'ttt']"
      ]
     },
     "execution_count": 4,
     "metadata": {},
     "output_type": "execute_result"
    }
   ],
   "source": [
    "I.available_games()"
   ]
  },
  {
   "cell_type": "code",
   "execution_count": 5,
   "metadata": {},
   "outputs": [
    {
     "data": {
      "text/plain": [
       "'Game set to: ttt'"
      ]
     },
     "execution_count": 5,
     "metadata": {},
     "output_type": "execute_result"
    }
   ],
   "source": [
    "I.select_game('ttt')"
   ]
  },
  {
   "cell_type": "code",
   "execution_count": 6,
   "metadata": {},
   "outputs": [
    {
     "data": {
      "text/plain": [
       "{'name': 'TicTacToe',\n",
       " 'long_name': 'Tic-Tac-Toe',\n",
       " 'short_name': 'ttt',\n",
       " 'num_players': [2],\n",
       " 'player_names': ['Player1', 'Player2']}"
      ]
     },
     "execution_count": 6,
     "metadata": {},
     "output_type": "execute_result"
    }
   ],
   "source": [
    "I.game_info()"
   ]
  },
  {
   "cell_type": "code",
   "execution_count": 7,
   "metadata": {},
   "outputs": [
    {
     "data": {
      "text/plain": [
       "['Player1', 'Player2']"
      ]
     },
     "execution_count": 7,
     "metadata": {},
     "output_type": "execute_result"
    }
   ],
   "source": [
    "I.game_players()"
   ]
  },
  {
   "cell_type": "code",
   "execution_count": 8,
   "metadata": {},
   "outputs": [
    {
     "name": "stdout",
     "output_type": "stream",
     "text": [
      "me is now playing Player1\n",
      "set user: other\n",
      "other is now playing Player2\n",
      "set user: me\n"
     ]
    }
   ],
   "source": [
    "print(I.add_player('Player1'))\n",
    "I.set_user()\n",
    "print(I.add_player('Player2'))\n",
    "I.set_user()"
   ]
  },
  {
   "cell_type": "code",
   "execution_count": 9,
   "metadata": {},
   "outputs": [
    {
     "data": {
      "text/plain": [
       "'TicTacToe has started'"
      ]
     },
     "execution_count": 9,
     "metadata": {},
     "output_type": "execute_result"
    }
   ],
   "source": [
    "I.begin()"
   ]
  },
  {
   "cell_type": "code",
   "execution_count": 12,
   "metadata": {},
   "outputs": [
    {
     "name": "stdout",
     "output_type": "stream",
     "text": [
      "Received table: 10 entries\n",
      "-------------\n",
      "Log\n",
      "-------------\n",
      "PLYR:Player1 chooses OBJ[1]:(1,2)\n",
      "\n",
      "Phase: tic\n",
      "Waiting for: Player2\n"
     ]
    }
   ],
   "source": [
    "msg = I.status()\n",
    "I.view()"
   ]
  },
  {
   "cell_type": "code",
   "execution_count": 20,
   "metadata": {},
   "outputs": [
    {
     "name": "stdout",
     "output_type": "stream",
     "text": [
      "set user: me\n",
      "Received table: 10 entries\n",
      "-------------\n",
      "Log\n",
      "-------------\n",
      "PLYR:Player1 chooses OBJ[1]:(1,2)\n",
      "PLYR:Player2 chooses OBJ[7]:(3,2)\n",
      "PLYR:Player1 chooses OBJ[8]:(3,3)\n",
      "PLYR:Player2 chooses OBJ[4]:(2,2)\n",
      "PLYR:Player1 chooses OBJ[0]:(1,1)\n",
      "PLYR:Player2 chooses OBJ[5]:(2,3)\n",
      "PLYR:Player1 chooses OBJ[6]:(3,1)\n",
      "PLYR:Player2 chooses OBJ[3]:(2,1)\n",
      "Game Over! Player1 wins!\n",
      "\n",
      "--- Game Ended ---\n"
     ]
    }
   ],
   "source": [
    "I.step()\n",
    "I.set_user()\n",
    "I.status()\n",
    "I.view()"
   ]
  },
  {
   "cell_type": "code",
   "execution_count": null,
   "metadata": {},
   "outputs": [],
   "source": []
  },
  {
   "cell_type": "code",
   "execution_count": null,
   "metadata": {},
   "outputs": [],
   "source": []
  },
  {
   "cell_type": "code",
   "execution_count": null,
   "metadata": {},
   "outputs": [],
   "source": []
  },
  {
   "cell_type": "code",
   "execution_count": null,
   "metadata": {},
   "outputs": [],
   "source": []
  }
 ],
 "metadata": {
  "kernelspec": {
   "display_name": "Python 3",
   "language": "python",
   "name": "python3"
  },
  "language_info": {
   "codemirror_mode": {
    "name": "ipython",
    "version": 3
   },
   "file_extension": ".py",
   "mimetype": "text/x-python",
   "name": "python",
   "nbconvert_exporter": "python",
   "pygments_lexer": "ipython3",
   "version": "3.7.4"
  }
 },
 "nbformat": 4,
 "nbformat_minor": 2
}
