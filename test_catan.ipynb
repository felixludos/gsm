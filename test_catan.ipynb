{
 "cells": [
  {
   "cell_type": "code",
   "execution_count": 1,
   "metadata": {},
   "outputs": [
    {
     "name": "stderr",
     "output_type": "stream",
     "text": [
      "/mnt/c/Users/anwan/Nextcloud/Khan/projects/gsm/git/gsm/io/registry.py:7: YAMLLoadWarning: calling yaml.load() without Loader=... is deprecated, as the default Loader is unsafe. Please read https://msg.pyyaml.org/load for full details.\n",
      "  info = yaml.load(open(path, 'r'))\n"
     ]
    }
   ],
   "source": [
    "import sys, os, time\n",
    "%load_ext autoreload\n",
    "%autoreload 2\n",
    "%matplotlib inline\n",
    "#%matplotlib tk\n",
    "import numpy as np\n",
    "import select\n",
    "import json\n",
    "import yaml\n",
    "import matplotlib.pyplot as plt\n",
    "from collections import namedtuple, OrderedDict\n",
    "import multiprocessing as mp\n",
    "import random\n",
    "from string import Formatter\n",
    "from itertools import chain, product\n",
    "# import gsm\n",
    "import gsm\n",
    "from gsm import tdict, tlist, tset, tstack, tdeque\n",
    "from gsm import GameObject, GameLogger\n",
    "from gsm.mixins import Named\n",
    "from gsm import Array\n",
    "from gsm import viz\n",
    "from examples.tictactoe import TicTacToe\n",
    "from gsm.common.world import grid\n",
    "np.set_printoptions(linewidth=120)"
   ]
  },
  {
   "cell_type": "code",
   "execution_count": 2,
   "metadata": {},
   "outputs": [],
   "source": [
    "seed = 0\n",
    "# seed = None\n",
    "I = viz.Ipython_Runner(r'http://localhost:5000/', 'me', full_log=True, seed=seed)"
   ]
  },
  {
   "cell_type": "code",
   "execution_count": 3,
   "metadata": {},
   "outputs": [
    {
     "data": {
      "text/plain": [
       "'Host restarted (debug=True)'"
      ]
     },
     "execution_count": 3,
     "metadata": {},
     "output_type": "execute_result"
    }
   ],
   "source": [
    "I.restart(debug=True)"
   ]
  },
  {
   "cell_type": "code",
   "execution_count": 4,
   "metadata": {},
   "outputs": [
    {
     "data": {
      "text/plain": [
       "['catan', 'ttt']"
      ]
     },
     "execution_count": 4,
     "metadata": {},
     "output_type": "execute_result"
    }
   ],
   "source": [
    "I.available_games()"
   ]
  },
  {
   "cell_type": "code",
   "execution_count": 5,
   "metadata": {},
   "outputs": [
    {
     "data": {
      "text/plain": [
       "'Game set to: catan'"
      ]
     },
     "execution_count": 5,
     "metadata": {},
     "output_type": "execute_result"
    }
   ],
   "source": [
    "I.select_game('catan')"
   ]
  },
  {
   "cell_type": "code",
   "execution_count": 6,
   "metadata": {},
   "outputs": [
    {
     "data": {
      "text/plain": [
       "{'name': 'Catan',\n",
       " 'long_name': 'The Settlers of Catan',\n",
       " 'short_name': 'catan',\n",
       " 'num_players': [3, 4],\n",
       " 'player_names': ['White', 'Red', 'Blue', 'Orange']}"
      ]
     },
     "execution_count": 6,
     "metadata": {},
     "output_type": "execute_result"
    }
   ],
   "source": [
    "I.game_info()"
   ]
  },
  {
   "cell_type": "code",
   "execution_count": 7,
   "metadata": {},
   "outputs": [
    {
     "data": {
      "text/plain": [
       "['White', 'Red', 'Blue', 'Orange']"
      ]
     },
     "execution_count": 7,
     "metadata": {},
     "output_type": "execute_result"
    }
   ],
   "source": [
    "I.game_players()"
   ]
  },
  {
   "cell_type": "code",
   "execution_count": 8,
   "metadata": {},
   "outputs": [
    {
     "data": {
      "text/plain": [
       "'Created an interface (agent) for: randy, pal, polly'"
      ]
     },
     "execution_count": 8,
     "metadata": {},
     "output_type": "execute_result"
    }
   ],
   "source": [
    "I.add_client('randy', 'pal', 'polly', interface='agent', agent_type='random', timeout=None, seed=I.seed)\n",
    "# I.add_client('me', interface='agent', agent_type='random', timeout=None, seed=None)"
   ]
  },
  {
   "cell_type": "code",
   "execution_count": 9,
   "metadata": {},
   "outputs": [
    {
     "data": {
      "text/plain": [
       "{'randy': ['ping reply from random agent/s: randy, pal, polly',\n",
       "  1.8987646102905273],\n",
       " 'pal': ['ping reply from random agent/s: randy, pal, polly', 0.0],\n",
       " 'polly': ['ping reply from random agent/s: randy, pal, polly',\n",
       "  0.0010025501251220703]}"
      ]
     },
     "execution_count": 9,
     "metadata": {},
     "output_type": "execute_result"
    }
   ],
   "source": [
    "I.ping()"
   ]
  },
  {
   "cell_type": "code",
   "execution_count": 10,
   "metadata": {},
   "outputs": [
    {
     "data": {
      "text/plain": [
       "'pal has joined as an advisor for White'"
      ]
     },
     "execution_count": 10,
     "metadata": {},
     "output_type": "execute_result"
    }
   ],
   "source": [
    "I.add_player('me', 'White')\n",
    "I.add_player('randy', 'Blue')\n",
    "I.add_player('polly', 'Red')\n",
    "I.add_advisor('pal', 'White')"
   ]
  },
  {
   "cell_type": "code",
   "execution_count": 11,
   "metadata": {},
   "outputs": [],
   "source": [
    "# I.add_player('randy', 'Player1')"
   ]
  },
  {
   "cell_type": "code",
   "execution_count": 12,
   "metadata": {},
   "outputs": [
    {
     "data": {
      "text/plain": [
       "'Catan has started'"
      ]
     },
     "execution_count": 12,
     "metadata": {},
     "output_type": "execute_result"
    }
   ],
   "source": [
    "I.begin()"
   ]
  },
  {
   "cell_type": "code",
   "execution_count": 13,
   "metadata": {},
   "outputs": [
    {
     "data": {
      "text/plain": [
       "'Cheat code: devcard'"
      ]
     },
     "execution_count": 13,
     "metadata": {},
     "output_type": "execute_result"
    }
   ],
   "source": [
    "I.cheat('devcard')"
   ]
  },
  {
   "cell_type": "code",
   "execution_count": 14,
   "metadata": {
    "scrolled": true
   },
   "outputs": [
    {
     "name": "stdout",
     "output_type": "stream",
     "text": [
      "Received key: 0x629f6fbed82c07cd\n",
      "Received table: 148 entries\n",
      "-------------\n",
      "Log\n",
      "-------------\n",
      "Cheat code activated: devcard\n",
      "-*- PLYR:White gains 1 wheat.\n",
      "-*- PLYR:White gains 1 ore.\n",
      "-*- PLYR:White gains 1 sheep.\n",
      "-*- PLYR:Red gains 1 wheat.\n",
      "-*- PLYR:Red gains 1 ore.\n",
      "-*- PLYR:Red gains 1 sheep.\n",
      "-*- PLYR:Blue gains 1 wheat.\n",
      "-*- PLYR:Blue gains 1 ore.\n",
      "-*- PLYR:Blue gains 1 sheep.\n",
      "\n",
      "Phase: setup\n",
      "Advice:\n",
      "pal recommends: loc - OBJ[115]:Corner[115]\n",
      "+-----------------------------------------+\n",
      "| Choose a location to place a settlement |\n",
      "+-----------------------------------------+\n",
      "   0 - OBJ[91]:Corner[91]\n",
      "   1 - OBJ[92]:Corner[92]\n",
      "   2 - OBJ[93]:Corner[93]\n",
      "   3 - OBJ[94]:Corner[94]\n",
      "   4 - OBJ[95]:Corner[95]\n",
      "   5 - OBJ[96]:Corner[96]\n",
      "   6 - OBJ[97]:Corner[97]\n",
      "   7 - OBJ[98]:Corner[98]\n",
      "   8 - OBJ[99]:Corner[99]\n",
      "   9 - OBJ[100]:Corner[100]\n",
      "  10 - OBJ[101]:Corner[101]\n",
      "  11 - OBJ[102]:Corner[102]\n",
      "  12 - OBJ[103]:Corner[103]\n",
      "  13 - OBJ[104]:Corner[104]\n",
      "  14 - OBJ[105]:Corner[105]\n",
      "  15 - OBJ[106]:Corner[106]\n",
      "  16 - OBJ[107]:Corner[107]\n",
      "  17 - OBJ[108]:Corner[108]\n",
      "  18 - OBJ[109]:Corner[109]\n",
      "  19 - OBJ[110]:Corner[110]\n",
      "  20 - OBJ[111]:Corner[111]\n",
      "  21 - OBJ[112]:Corner[112]\n",
      "  22 - OBJ[113]:Corner[113]\n",
      "  23 - OBJ[114]:Corner[114]\n",
      "  24 - OBJ[115]:Corner[115]\n",
      "  25 - OBJ[116]:Corner[116]\n",
      "  26 - OBJ[117]:Corner[117]\n",
      "  27 - OBJ[118]:Corner[118]\n",
      "  28 - OBJ[119]:Corner[119]\n",
      "  29 - OBJ[120]:Corner[120]\n",
      "  30 - OBJ[121]:Corner[121]\n",
      "  31 - OBJ[122]:Corner[122]\n",
      "  32 - OBJ[123]:Corner[123]\n",
      "  33 - OBJ[124]:Corner[124]\n",
      "  34 - OBJ[125]:Corner[125]\n",
      "  35 - OBJ[126]:Corner[126]\n",
      "  36 - OBJ[127]:Corner[127]\n",
      "  37 - OBJ[128]:Corner[128]\n",
      "  38 - OBJ[129]:Corner[129]\n",
      "  39 - OBJ[130]:Corner[130]\n",
      "  40 - OBJ[131]:Corner[131]\n",
      "  41 - OBJ[132]:Corner[132]\n",
      "  42 - OBJ[133]:Corner[133]\n",
      "  43 - OBJ[134]:Corner[134]\n",
      "  44 - OBJ[135]:Corner[135]\n",
      "  45 - OBJ[136]:Corner[136]\n",
      "  46 - OBJ[137]:Corner[137]\n",
      "  47 - OBJ[138]:Corner[138]\n",
      "  48 - OBJ[139]:Corner[139]\n",
      "  49 - OBJ[140]:Corner[140]\n",
      "  50 - OBJ[141]:Corner[141]\n",
      "  51 - OBJ[142]:Corner[142]\n",
      "  52 - OBJ[143]:Corner[143]\n",
      "  53 - OBJ[144]:Corner[144]\n"
     ]
    }
   ],
   "source": [
    "msg = I.status()\n",
    "I.view()"
   ]
  },
  {
   "cell_type": "code",
   "execution_count": 20,
   "metadata": {},
   "outputs": [
    {
     "name": "stdout",
     "output_type": "stream",
     "text": [
      "Received key: 0x1846d424c17c6279\n",
      "Received table: 161 entries\n",
      "-------------\n",
      "Log\n",
      "-------------\n",
      "Cheat code activated: devcard\n",
      "-*- PLYR:White gains 1 wheat.\n",
      "-*- PLYR:White gains 1 ore.\n",
      "-*- PLYR:White gains 1 sheep.\n",
      "-*- PLYR:Red gains 1 wheat.\n",
      "-*- PLYR:Red gains 1 ore.\n",
      "-*- PLYR:Red gains 1 sheep.\n",
      "-*- PLYR:Blue gains 1 wheat.\n",
      "-*- PLYR:Blue gains 1 ore.\n",
      "-*- PLYR:Blue gains 1 sheep.\n",
      "PLYR:White builds a OBJ[148]:settlement[148] (gaining 1 victory point)\n",
      "PLYR:White builds a OBJ[149]:road[149]\n",
      "PLYR:Red builds a OBJ[150]:settlement[150] (gaining 1 victory point)\n",
      "PLYR:Red builds a OBJ[151]:road[151]\n",
      "PLYR:Blue builds a OBJ[152]:settlement[152] (gaining 1 victory point)\n",
      "PLYR:Blue builds a OBJ[153]:road[153]\n",
      "PLYR:Blue builds a OBJ[154]:settlement[154] (gaining 1 victory point)\n",
      "PLYR:Blue gains: wood\n",
      "PLYR:Blue builds a OBJ[155]:road[155]\n",
      "PLYR:Red builds a OBJ[156]:settlement[156] (gaining 1 victory point)\n",
      "PLYR:Red gains: brick and wood\n",
      "PLYR:Red builds a OBJ[157]:road[157]\n",
      "PLYR:White builds a OBJ[158]:settlement[158] (gaining 1 victory point)\n",
      "PLYR:White gains: wood, wheat, and wood\n",
      "PLYR:White builds a OBJ[159]:road[159]\n",
      "PLYR:White rolled: 8.\n",
      "-*- PLYR:Red gains 1 wheat.\n",
      "-*- PLYR:White buys a development card\n",
      "-*- You got a OBJ[147-0x6c8796fd]:Monopoly\n",
      "\n",
      "Phase: main\n",
      "Advice:\n",
      "pal recommends: domestic-trade - demand sheep\n",
      "+--------------------------------+\n",
      "| You rolled: 8. Take your turn. |\n",
      "+--------------------------------+\n",
      "   0 - pass\n",
      "   1 - demand wood\n",
      "   2 - demand brick\n",
      "   3 - demand sheep\n",
      "   4 - demand ore\n",
      "   5 - demand wheat\n"
     ]
    }
   ],
   "source": [
    "I.step(1)\n",
    "I.status()\n",
    "I.view()"
   ]
  },
  {
   "cell_type": "code",
   "execution_count": 21,
   "metadata": {
    "scrolled": true
   },
   "outputs": [
    {
     "data": {
      "text/html": [
       "<div id=\"07a87155-132b-47b4-8e08-cd2519f0dbf9\" style=\"height: 600px; width:100%;\"></div>"
      ]
     },
     "metadata": {},
     "output_type": "display_data"
    },
    {
     "data": {
      "application/javascript": [
       "\n",
       "\t\trequire([\"https://rawgit.com/caldwell/renderjson/master/renderjson.js\"], function() {\n",
       "\t\t  renderjson.set_show_to_level(1)\n",
       "\t\t  document.getElementById('07a87155-132b-47b4-8e08-cd2519f0dbf9').appendChild(renderjson({'White': {'num_res': '0', 'color': 'White', 'obj_type': 'GamePlayer', 'name': 'White', 'reserve': {'road': '13', 'settlement': '3', 'city': '4'}, 'buildings': {'road': {'s0': {'_obj': '149'}, 's1': {'_obj': '159'}}, 'settlement': {'s0': {'_obj': '148'}, 's1': {'_obj': '158'}}, 'city': {}}, 'resources': {'wood': '2', 'brick': '0', 'sheep': '0', 'ore': '0', 'wheat': '1'}, 'devcards': {'s0': {'_obj': '147-0x6c8796fd'}}, 'past_devcards': {}, 'vps': '2', 'ports': {'s0': '3to1'}}, 'Red': {'num_res': '4', 'color': 'Red', 'reserve': {'road': '13', 'settlement': '3', 'city': '4'}, 'devcards': {}, 'past_devcards': {}, 'ports': {'s0': 'sheep'}}, 'Blue': {'num_res': '3', 'color': 'Blue', 'reserve': {'road': '13', 'settlement': '3', 'city': '4'}, 'devcards': {}, 'past_devcards': {}, 'ports': {}}}))\n",
       "\t\t});\n",
       "\t\t"
      ]
     },
     "metadata": {},
     "output_type": "display_data"
    }
   ],
   "source": [
    "viz.render_dict(I.msg.players)"
   ]
  },
  {
   "cell_type": "code",
   "execution_count": null,
   "metadata": {},
   "outputs": [],
   "source": []
  }
 ],
 "metadata": {
  "kernelspec": {
   "display_name": "Python 3",
   "language": "python",
   "name": "python3"
  },
  "language_info": {
   "codemirror_mode": {
    "name": "ipython",
    "version": 3
   },
   "file_extension": ".py",
   "mimetype": "text/x-python",
   "name": "python",
   "nbconvert_exporter": "python",
   "pygments_lexer": "ipython3",
   "version": "3.7.4"
  }
 },
 "nbformat": 4,
 "nbformat_minor": 2
}
