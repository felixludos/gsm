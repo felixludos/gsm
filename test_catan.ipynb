{
 "cells": [
  {
   "cell_type": "code",
   "execution_count": 25,
   "metadata": {},
   "outputs": [
    {
     "name": "stdout",
     "output_type": "stream",
     "text": [
      "The autoreload extension is already loaded. To reload it, use:\n",
      "  %reload_ext autoreload\n"
     ]
    }
   ],
   "source": [
    "import sys, os, time\n",
    "%load_ext autoreload\n",
    "%autoreload 2\n",
    "%matplotlib inline\n",
    "#%matplotlib tk\n",
    "import numpy as np\n",
    "import select\n",
    "import json\n",
    "import yaml\n",
    "import matplotlib.pyplot as plt\n",
    "from collections import namedtuple, OrderedDict\n",
    "import multiprocessing as mp\n",
    "import random\n",
    "from string import Formatter\n",
    "from scipy.special import softmax\n",
    "from itertools import chain, product\n",
    "# import gsm\n",
    "import gsm\n",
    "from gsm import tdict, tlist, tset, tstack, tdeque\n",
    "from gsm import GameObject, GameLogger\n",
    "from gsm.mixins import Named\n",
    "from gsm import Array\n",
    "from gsm import viz\n",
    "from gsm import util\n",
    "from examples.tictactoe import TicTacToe\n",
    "from gsm.common.world import grid\n",
    "np.set_printoptions(linewidth=120)"
   ]
  },
  {
   "cell_type": "code",
   "execution_count": 26,
   "metadata": {},
   "outputs": [],
   "source": [
    "seed = 0\n",
    "# seed = None\n",
    "play = False\n",
    "I = viz.Ipython_Runner(r'http://localhost:5000/', 'me', full_log=True, god_mode=True, seed=seed)"
   ]
  },
  {
   "cell_type": "code",
   "execution_count": 27,
   "metadata": {},
   "outputs": [
    {
     "data": {
      "text/plain": [
       "'Host restarted (debug=True)'"
      ]
     },
     "execution_count": 27,
     "metadata": {},
     "output_type": "execute_result"
    }
   ],
   "source": [
    "I.restart(debug=True)"
   ]
  },
  {
   "cell_type": "code",
   "execution_count": 28,
   "metadata": {},
   "outputs": [
    {
     "data": {
      "text/plain": [
       "['catan', 'ttt']"
      ]
     },
     "execution_count": 28,
     "metadata": {},
     "output_type": "execute_result"
    }
   ],
   "source": [
    "I.available_games()"
   ]
  },
  {
   "cell_type": "code",
   "execution_count": 29,
   "metadata": {},
   "outputs": [
    {
     "data": {
      "text/plain": [
       "'Game set to: catan'"
      ]
     },
     "execution_count": 29,
     "metadata": {},
     "output_type": "execute_result"
    }
   ],
   "source": [
    "I.select_game('catan')"
   ]
  },
  {
   "cell_type": "code",
   "execution_count": 30,
   "metadata": {},
   "outputs": [
    {
     "data": {
      "text/plain": [
       "{'name': 'Catan',\n",
       " 'long_name': 'The Settlers of Catan',\n",
       " 'short_name': 'catan',\n",
       " 'num_players': [3, 4],\n",
       " 'player_names': ['White', 'Red', 'Blue', 'Orange']}"
      ]
     },
     "execution_count": 30,
     "metadata": {},
     "output_type": "execute_result"
    }
   ],
   "source": [
    "I.game_info()"
   ]
  },
  {
   "cell_type": "code",
   "execution_count": 31,
   "metadata": {},
   "outputs": [
    {
     "data": {
      "text/plain": [
       "['White', 'Red', 'Blue', 'Orange']"
      ]
     },
     "execution_count": 31,
     "metadata": {},
     "output_type": "execute_result"
    }
   ],
   "source": [
    "I.game_players()"
   ]
  },
  {
   "cell_type": "code",
   "execution_count": 32,
   "metadata": {},
   "outputs": [
    {
     "data": {
      "text/plain": [
       "'Created an interface (agent) for: pal, randy, polly'"
      ]
     },
     "execution_count": 32,
     "metadata": {},
     "output_type": "execute_result"
    }
   ],
   "source": [
    "# I.add_client('randy', 'pal', 'polly', interface='agent', agent_type='random', timeout=None, seed=I.seed)\n",
    "# I.add_client('randy', 'polly', interface='agent', agent_type='pass', timeout=None, seed=I.seed, prob=.5)\n",
    "I.add_client('pal', 'randy', 'polly', interface='agent', agent_type='regular', timeout=None, seed=I.seed)"
   ]
  },
  {
   "cell_type": "code",
   "execution_count": 33,
   "metadata": {},
   "outputs": [
    {
     "data": {
      "text/plain": [
       "{'pal': ['ping reply from regular agent/s: pal, randy, polly',\n",
       "  2.2308895587921143],\n",
       " 'randy': ['ping reply from regular agent/s: pal, randy, polly', 0.0],\n",
       " 'polly': ['ping reply from regular agent/s: pal, randy, polly', 0.0]}"
      ]
     },
     "execution_count": 33,
     "metadata": {},
     "output_type": "execute_result"
    }
   ],
   "source": [
    "I.ping()"
   ]
  },
  {
   "cell_type": "code",
   "execution_count": 34,
   "metadata": {},
   "outputs": [
    {
     "name": "stdout",
     "output_type": "stream",
     "text": [
      "me is not playing\n"
     ]
    }
   ],
   "source": [
    "if play:\n",
    "    I.add_player('me', 'White')\n",
    "    print('me is playing White')\n",
    "else:\n",
    "    I.add_spectator('me')\n",
    "    I.add_player('pal', 'White')\n",
    "    print('me is not playing')\n",
    "I.add_player('randy', 'Blue')\n",
    "I.add_player('polly', 'Red')\n",
    "pass\n",
    "# I.add_advisor('pal', 'White')"
   ]
  },
  {
   "cell_type": "code",
   "execution_count": 35,
   "metadata": {},
   "outputs": [
    {
     "name": "stdout",
     "output_type": "stream",
     "text": [
      "auto pause is activated\n"
     ]
    },
    {
     "data": {
      "text/plain": [
       "{'pal': 'White', 'polly': 'Red', 'randy': 'Blue'}"
      ]
     },
     "execution_count": 35,
     "metadata": {},
     "output_type": "execute_result"
    }
   ],
   "source": [
    "roles = I.get_roles()\n",
    "if 'me' not in roles:\n",
    "    print(I.toggle_pause())\n",
    "else:\n",
    "    I.toggle_pause()\n",
    "    print(I.toggle_pause())\n",
    "roles"
   ]
  },
  {
   "cell_type": "code",
   "execution_count": 36,
   "metadata": {
    "scrolled": true
   },
   "outputs": [
    {
     "data": {
      "text/plain": [
       "'Catan has started'"
      ]
     },
     "execution_count": 36,
     "metadata": {},
     "output_type": "execute_result"
    }
   ],
   "source": [
    "I.begin()\n",
    "# I.load('catan_setup', load_interface=False)"
   ]
  },
  {
   "cell_type": "code",
   "execution_count": 13,
   "metadata": {},
   "outputs": [
    {
     "data": {
      "text/plain": [
       "'Cheat code: next7'"
      ]
     },
     "execution_count": 13,
     "metadata": {},
     "output_type": "execute_result"
    }
   ],
   "source": [
    "I.cheat('next7')"
   ]
  },
  {
   "cell_type": "code",
   "execution_count": 37,
   "metadata": {
    "scrolled": false
   },
   "outputs": [
    {
     "name": "stdout",
     "output_type": "stream",
     "text": [
      "Received table: 149 entries\n",
      "-------------\n",
      "Log\n",
      "-------------\n",
      "PLYR:White builds a OBJ[148]:settlement[148] (gaining 1 victory point)\n",
      "\n",
      "Phase: setup\n",
      "No status found\n",
      "Active: White\n"
     ]
    }
   ],
   "source": [
    "I.status()\n",
    "I.view()"
   ]
  },
  {
   "cell_type": "code",
   "execution_count": 61,
   "metadata": {
    "scrolled": true
   },
   "outputs": [
    {
     "name": "stdout",
     "output_type": "stream",
     "text": [
      "Received table: 160 entries\n",
      "-------------\n",
      "Log\n",
      "-------------\n",
      "PLYR:White builds a OBJ[148]:settlement[148] (gaining 1 victory point)\n",
      "PLYR:White builds a OBJ[149]:road[149]\n",
      "PLYR:Red builds a OBJ[150]:settlement[150] (gaining 1 victory point)\n",
      "PLYR:Red builds a OBJ[151]:road[151]\n",
      "PLYR:Blue builds a OBJ[152]:settlement[152] (gaining 1 victory point)\n",
      "PLYR:Blue builds a OBJ[153]:road[153]\n",
      "PLYR:Blue builds a OBJ[154]:settlement[154] (gaining 1 victory point)\n",
      "PLYR:Blue gains: brick and wheat\n",
      "PLYR:Blue builds a OBJ[155]:road[155]\n",
      "PLYR:Red builds a OBJ[156]:settlement[156] (gaining 1 victory point)\n",
      "PLYR:Red gains: sheep, wheat, and sheep\n",
      "PLYR:Red builds a OBJ[157]:road[157]\n",
      "PLYR:White builds a OBJ[158]:settlement[158] (gaining 1 victory point)\n",
      "PLYR:White gains: sheep, sheep, and wheat\n",
      "PLYR:White builds a OBJ[159]:road[159]\n",
      "PLYR:White rolled: 8.\n",
      "-*- PLYR:White  gains  1 brick.\n",
      "-*- PLYR:Blue  gains  1 brick.\n",
      "(White): -*- You start a trade\n",
      "(White): -*- -*- You offer a brick\n",
      "\n",
      "Phase: trade\n",
      "No status found\n",
      "Active: White\n"
     ]
    }
   ],
   "source": [
    "if I.actions is not None:\n",
    "    I.step()\n",
    "else:\n",
    "    I.go()\n",
    "I.status()\n",
    "I.view()"
   ]
  },
  {
   "cell_type": "code",
   "execution_count": 16,
   "metadata": {},
   "outputs": [],
   "source": [
    "# I.save('catan_setup')"
   ]
  },
  {
   "cell_type": "code",
   "execution_count": 55,
   "metadata": {
    "scrolled": true
   },
   "outputs": [
    {
     "data": {
      "text/html": [
       "<div id=\"c2bda7b1-4299-4b55-a987-c31273115416\" style=\"height: 600px; width:100%;\"></div>"
      ]
     },
     "metadata": {},
     "output_type": "display_data"
    },
    {
     "data": {
      "application/javascript": [
       "\n",
       "\t\trequire([\"https://rawgit.com/caldwell/renderjson/master/renderjson.js\"], function() {\n",
       "\t\t  renderjson.set_show_to_level(1)\n",
       "\t\t  document.getElementById('c2bda7b1-4299-4b55-a987-c31273115416').appendChild(renderjson({'players': {'White': {'num_res': '4', 'color': 'White', 'name': 'White', 'reserve': {'road': '13', 'settlement': '3', 'city': '4'}, 'devcards': {}, 'past_devcards': {}, 'ports': {}}, 'Red': {'num_res': '3', 'color': 'Red', 'name': 'Red', 'reserve': {'road': '13', 'settlement': '3', 'city': '4'}, 'devcards': {}, 'past_devcards': {}, 'ports': {}}, 'Blue': {'num_res': '3', 'color': 'Blue', 'name': 'Blue', 'reserve': {'road': '13', 'settlement': '3', 'city': '4'}, 'devcards': {}, 'past_devcards': {}, 'ports': {}}}, 'table': {'0': {'row': '0', 'col': '2', 'neighbors': {'l0': 'None', 'l1': {'_obj': '1'}, 'l2': {'_obj': '4'}, 'l3': {'_obj': '3'}, 'l4': 'None', 'l5': 'None'}, 'obj_type': 'hex', 'visible': {'s0': 'White', 's1': 'Red', 's2': 'Blue'}, 'edges': {'l0': {'_obj': '19'}, 'l1': {'_obj': '20'}, 'l2': {'_obj': '21'}, 'l3': {'_obj': '22'}, 'l4': {'_obj': '23'}, 'l5': {'_obj': '24'}}, 'corners': {'l0': {'_obj': '91'}, 'l1': {'_obj': '92'}, 'l2': {'_obj': '93'}, 'l3': {'_obj': '94'}, 'l4': {'_obj': '95'}, 'l5': {'_obj': '96'}}, 'res': 'wood', 'num': '3'}, '1': {'row': '0', 'col': '4', 'neighbors': {'l0': 'None', 'l1': {'_obj': '2'}, 'l2': {'_obj': '5'}, 'l3': {'_obj': '4'}, 'l4': {'_obj': '0'}, 'l5': 'None'}, 'obj_type': 'hex', 'visible': {'s0': 'White', 's1': 'Red', 's2': 'Blue'}, 'edges': {'l0': {'_obj': '25'}, 'l1': {'_obj': '26'}, 'l2': {'_obj': '27'}, 'l3': {'_obj': '28'}, 'l4': {'_obj': '20'}, 'l5': {'_obj': '29'}}, 'corners': {'l0': {'_obj': '97'}, 'l1': {'_obj': '98'}, 'l2': {'_obj': '99'}, 'l3': {'_obj': '100'}, 'l4': {'_obj': '93'}, 'l5': {'_obj': '92'}}, 'res': 'wood', 'num': '6'}, '2': {'row': '0', 'col': '6', 'neighbors': {'l0': 'None', 'l1': 'None', 'l2': {'_obj': '6'}, 'l3': {'_obj': '5'}, 'l4': {'_obj': '1'}, 'l5': 'None'}, 'obj_type': 'hex', 'visible': {'s0': 'White', 's1': 'Red', 's2': 'Blue'}, 'edges': {'l0': {'_obj': '30'}, 'l1': {'_obj': '31'}, 'l2': {'_obj': '32'}, 'l3': {'_obj': '33'}, 'l4': {'_obj': '26'}, 'l5': {'_obj': '34'}}, 'corners': {'l0': {'_obj': '101'}, 'l1': {'_obj': '102'}, 'l2': {'_obj': '103'}, 'l3': {'_obj': '104'}, 'l4': {'_obj': '99'}, 'l5': {'_obj': '98'}}, 'res': 'brick', 'num': '4'}, '3': {'row': '1', 'col': '1', 'neighbors': {'l0': {'_obj': '0'}, 'l1': {'_obj': '4'}, 'l2': {'_obj': '8'}, 'l3': {'_obj': '7'}, 'l4': 'None', 'l5': 'None'}, 'obj_type': 'hex', 'visible': {'s0': 'White', 's1': 'Red', 's2': 'Blue'}, 'edges': {'l0': {'_obj': '22'}, 'l1': {'_obj': '35'}, 'l2': {'_obj': '36'}, 'l3': {'_obj': '37'}, 'l4': {'_obj': '38'}, 'l5': {'_obj': '39'}}, 'corners': {'l0': {'_obj': '95'}, 'l1': {'_obj': '94'}, 'l2': {'_obj': '105'}, 'l3': {'_obj': '106'}, 'l4': {'_obj': '107'}, 'l5': {'_obj': '108'}}, 'res': 'desert', 'robber': {'_obj': '146'}}, '4': {'row': '1', 'col': '3', 'neighbors': {'l0': {'_obj': '1'}, 'l1': {'_obj': '5'}, 'l2': {'_obj': '9'}, 'l3': {'_obj': '8'}, 'l4': {'_obj': '3'}, 'l5': {'_obj': '0'}}, 'obj_type': 'hex', 'visible': {'s0': 'White', 's1': 'Red', 's2': 'Blue'}, 'edges': {'l0': {'_obj': '28'}, 'l1': {'_obj': '40'}, 'l2': {'_obj': '41'}, 'l3': {'_obj': '42'}, 'l4': {'_obj': '35'}, 'l5': {'_obj': '21'}}, 'corners': {'l0': {'_obj': '93'}, 'l1': {'_obj': '100'}, 'l2': {'_obj': '109'}, 'l3': {'_obj': '110'}, 'l4': {'_obj': '105'}, 'l5': {'_obj': '94'}}, 'res': 'wheat', 'num': '11'}, '5': {'row': '1', 'col': '5', 'neighbors': {'l0': {'_obj': '2'}, 'l1': {'_obj': '6'}, 'l2': {'_obj': '10'}, 'l3': {'_obj': '9'}, 'l4': {'_obj': '4'}, 'l5': {'_obj': '1'}}, 'obj_type': 'hex', 'visible': {'s0': 'White', 's1': 'Red', 's2': 'Blue'}, 'edges': {'l0': {'_obj': '33'}, 'l1': {'_obj': '43'}, 'l2': {'_obj': '44'}, 'l3': {'_obj': '45'}, 'l4': {'_obj': '40'}, 'l5': {'_obj': '27'}}, 'corners': {'l0': {'_obj': '99'}, 'l1': {'_obj': '104'}, 'l2': {'_obj': '111'}, 'l3': {'_obj': '112'}, 'l4': {'_obj': '109'}, 'l5': {'_obj': '100'}}, 'res': 'ore', 'num': '3'}, '6': {'row': '1', 'col': '7', 'neighbors': {'l0': 'None', 'l1': 'None', 'l2': {'_obj': '11'}, 'l3': {'_obj': '10'}, 'l4': {'_obj': '5'}, 'l5': {'_obj': '2'}}, 'obj_type': 'hex', 'visible': {'s0': 'White', 's1': 'Red', 's2': 'Blue'}, 'edges': {'l0': {'_obj': '46'}, 'l1': {'_obj': '47'}, 'l2': {'_obj': '48'}, 'l3': {'_obj': '49'}, 'l4': {'_obj': '43'}, 'l5': {'_obj': '32'}}, 'corners': {'l0': {'_obj': '103'}, 'l1': {'_obj': '113'}, 'l2': {'_obj': '114'}, 'l3': {'_obj': '115'}, 'l4': {'_obj': '111'}, 'l5': {'_obj': '104'}}, 'res': 'wood', 'num': '2'}, '7': {'row': '2', 'col': '0', 'neighbors': {'l0': {'_obj': '3'}, 'l1': {'_obj': '8'}, 'l2': {'_obj': '12'}, 'l3': 'None', 'l4': 'None', 'l5': 'None'}, 'obj_type': 'hex', 'visible': {'s0': 'White', 's1': 'Red', 's2': 'Blue'}, 'edges': {'l0': {'_obj': '37'}, 'l1': {'_obj': '50'}, 'l2': {'_obj': '51'}, 'l3': {'_obj': '52'}, 'l4': {'_obj': '53'}, 'l5': {'_obj': '54'}}, 'corners': {'l0': {'_obj': '107'}, 'l1': {'_obj': '106'}, 'l2': {'_obj': '116'}, 'l3': {'_obj': '117'}, 'l4': {'_obj': '118'}, 'l5': {'_obj': '119'}}, 'res': 'wheat', 'num': '8'}, '8': {'row': '2', 'col': '2', 'neighbors': {'l0': {'_obj': '4'}, 'l1': {'_obj': '9'}, 'l2': {'_obj': '13'}, 'l3': {'_obj': '12'}, 'l4': {'_obj': '7'}, 'l5': {'_obj': '3'}}, 'obj_type': 'hex', 'visible': {'s0': 'White', 's1': 'Red', 's2': 'Blue'}, 'edges': {'l0': {'_obj': '42'}, 'l1': {'_obj': '55'}, 'l2': {'_obj': '56'}, 'l3': {'_obj': '57'}, 'l4': {'_obj': '50'}, 'l5': {'_obj': '36'}}, 'corners': {'l0': {'_obj': '105'}, 'l1': {'_obj': '110'}, 'l2': {'_obj': '120'}, 'l3': {'_obj': '121'}, 'l4': {'_obj': '116'}, 'l5': {'_obj': '106'}}, 'res': 'wheat', 'num': '10'}, '9': {'row': '2', 'col': '4', 'neighbors': {'l0': {'_obj': '5'}, 'l1': {'_obj': '10'}, 'l2': {'_obj': '14'}, 'l3': {'_obj': '13'}, 'l4': {'_obj': '8'}, 'l5': {'_obj': '4'}}, 'obj_type': 'hex', 'visible': {'s0': 'White', 's1': 'Red', 's2': 'Blue'}, 'edges': {'l0': {'_obj': '45'}, 'l1': {'_obj': '58'}, 'l2': {'_obj': '59'}, 'l3': {'_obj': '60'}, 'l4': {'_obj': '55'}, 'l5': {'_obj': '41'}}, 'corners': {'l0': {'_obj': '109'}, 'l1': {'_obj': '112'}, 'l2': {'_obj': '122'}, 'l3': {'_obj': '123'}, 'l4': {'_obj': '120'}, 'l5': {'_obj': '110'}}, 'res': 'sheep', 'num': '4'}, '10': {'row': '2', 'col': '6', 'neighbors': {'l0': {'_obj': '6'}, 'l1': {'_obj': '11'}, 'l2': {'_obj': '15'}, 'l3': {'_obj': '14'}, 'l4': {'_obj': '9'}, 'l5': {'_obj': '5'}}, 'obj_type': 'hex', 'visible': {'s0': 'White', 's1': 'Red', 's2': 'Blue'}, 'edges': {'l0': {'_obj': '49'}, 'l1': {'_obj': '61'}, 'l2': {'_obj': '62'}, 'l3': {'_obj': '63'}, 'l4': {'_obj': '58'}, 'l5': {'_obj': '44'}}, 'corners': {'l0': {'_obj': '111'}, 'l1': {'_obj': '115'}, 'l2': {'_obj': '124'}, 'l3': {'_obj': '125'}, 'l4': {'_obj': '122'}, 'l5': {'_obj': '112'}}, 'res': 'ore', 'num': '6'}, '11': {'row': '2', 'col': '8', 'neighbors': {'l0': 'None', 'l1': 'None', 'l2': 'None', 'l3': {'_obj': '15'}, 'l4': {'_obj': '10'}, 'l5': {'_obj': '6'}}, 'obj_type': 'hex', 'visible': {'s0': 'White', 's1': 'Red', 's2': 'Blue'}, 'edges': {'l0': {'_obj': '64'}, 'l1': {'_obj': '65'}, 'l2': {'_obj': '66'}, 'l3': {'_obj': '67'}, 'l4': {'_obj': '61'}, 'l5': {'_obj': '48'}}, 'corners': {'l0': {'_obj': '114'}, 'l1': {'_obj': '126'}, 'l2': {'_obj': '127'}, 'l3': {'_obj': '128'}, 'l4': {'_obj': '124'}, 'l5': {'_obj': '115'}}, 'res': 'sheep', 'num': '5'}, '12': {'row': '3', 'col': '1', 'neighbors': {'l0': {'_obj': '8'}, 'l1': {'_obj': '13'}, 'l2': {'_obj': '16'}, 'l3': 'None', 'l4': 'None', 'l5': {'_obj': '7'}}, 'obj_type': 'hex', 'visible': {'s0': 'White', 's1': 'Red', 's2': 'Blue'}, 'edges': {'l0': {'_obj': '57'}, 'l1': {'_obj': '68'}, 'l2': {'_obj': '69'}, 'l3': {'_obj': '70'}, 'l4': {'_obj': '71'}, 'l5': {'_obj': '51'}}, 'corners': {'l0': {'_obj': '116'}, 'l1': {'_obj': '121'}, 'l2': {'_obj': '129'}, 'l3': {'_obj': '130'}, 'l4': {'_obj': '131'}, 'l5': {'_obj': '117'}}, 'res': 'sheep', 'num': '12'}, '13': {'row': '3', 'col': '3', 'neighbors': {'l0': {'_obj': '9'}, 'l1': {'_obj': '14'}, 'l2': {'_obj': '17'}, 'l3': {'_obj': '16'}, 'l4': {'_obj': '12'}, 'l5': {'_obj': '8'}}, 'obj_type': 'hex', 'visible': {'s0': 'White', 's1': 'Red', 's2': 'Blue'}, 'edges': {'l0': {'_obj': '60'}, 'l1': {'_obj': '72'}, 'l2': {'_obj': '73'}, 'l3': {'_obj': '74'}, 'l4': {'_obj': '68'}, 'l5': {'_obj': '56'}}, 'corners': {'l0': {'_obj': '120'}, 'l1': {'_obj': '123'}, 'l2': {'_obj': '132'}, 'l3': {'_obj': '133'}, 'l4': {'_obj': '129'}, 'l5': {'_obj': '121'}}, 'res': 'sheep', 'num': '5'}, '14': {'row': '3', 'col': '5', 'neighbors': {'l0': {'_obj': '10'}, 'l1': {'_obj': '15'}, 'l2': {'_obj': '18'}, 'l3': {'_obj': '17'}, 'l4': {'_obj': '13'}, 'l5': {'_obj': '9'}}, 'obj_type': 'hex', 'visible': {'s0': 'White', 's1': 'Red', 's2': 'Blue'}, 'edges': {'l0': {'_obj': '63'}, 'l1': {'_obj': '75'}, 'l2': {'_obj': '76'}, 'l3': {'_obj': '77'}, 'l4': {'_obj': '72'}, 'l5': {'_obj': '59'}}, 'corners': {'l0': {'_obj': '122'}, 'l1': {'_obj': '125'}, 'l2': {'_obj': '134'}, 'l3': {'_obj': '135'}, 'l4': {'_obj': '132'}, 'l5': {'_obj': '123'}}, 'res': 'ore', 'num': '10'}, '15': {'row': '3', 'col': '7', 'neighbors': {'l0': {'_obj': '11'}, 'l1': 'None', 'l2': 'None', 'l3': {'_obj': '18'}, 'l4': {'_obj': '14'}, 'l5': {'_obj': '10'}}, 'obj_type': 'hex', 'visible': {'s0': 'White', 's1': 'Red', 's2': 'Blue'}, 'edges': {'l0': {'_obj': '67'}, 'l1': {'_obj': '78'}, 'l2': {'_obj': '79'}, 'l3': {'_obj': '80'}, 'l4': {'_obj': '75'}, 'l5': {'_obj': '62'}}, 'corners': {'l0': {'_obj': '124'}, 'l1': {'_obj': '128'}, 'l2': {'_obj': '136'}, 'l3': {'_obj': '137'}, 'l4': {'_obj': '134'}, 'l5': {'_obj': '125'}}, 'res': 'wood', 'num': '11'}, '16': {'row': '4', 'col': '2', 'neighbors': {'l0': {'_obj': '13'}, 'l1': {'_obj': '17'}, 'l2': 'None', 'l3': 'None', 'l4': 'None', 'l5': {'_obj': '12'}}, 'obj_type': 'hex', 'visible': {'s0': 'White', 's1': 'Red', 's2': 'Blue'}, 'edges': {'l0': {'_obj': '74'}, 'l1': {'_obj': '81'}, 'l2': {'_obj': '82'}, 'l3': {'_obj': '83'}, 'l4': {'_obj': '84'}, 'l5': {'_obj': '69'}}, 'corners': {'l0': {'_obj': '129'}, 'l1': {'_obj': '133'}, 'l2': {'_obj': '138'}, 'l3': {'_obj': '139'}, 'l4': {'_obj': '140'}, 'l5': {'_obj': '130'}}, 'res': 'wheat', 'num': '9'}, '17': {'row': '4', 'col': '4', 'neighbors': {'l0': {'_obj': '14'}, 'l1': {'_obj': '18'}, 'l2': 'None', 'l3': 'None', 'l4': {'_obj': '16'}, 'l5': {'_obj': '13'}}, 'obj_type': 'hex', 'visible': {'s0': 'White', 's1': 'Red', 's2': 'Blue'}, 'edges': {'l0': {'_obj': '77'}, 'l1': {'_obj': '85'}, 'l2': {'_obj': '86'}, 'l3': {'_obj': '87'}, 'l4': {'_obj': '81'}, 'l5': {'_obj': '73'}}, 'corners': {'l0': {'_obj': '132'}, 'l1': {'_obj': '135'}, 'l2': {'_obj': '141'}, 'l3': {'_obj': '142'}, 'l4': {'_obj': '138'}, 'l5': {'_obj': '133'}}, 'res': 'brick', 'num': '8'}, '18': {'row': '4', 'col': '6', 'neighbors': {'l0': {'_obj': '15'}, 'l1': 'None', 'l2': 'None', 'l3': 'None', 'l4': {'_obj': '17'}, 'l5': {'_obj': '14'}}, 'obj_type': 'hex', 'visible': {'s0': 'White', 's1': 'Red', 's2': 'Blue'}, 'edges': {'l0': {'_obj': '80'}, 'l1': {'_obj': '88'}, 'l2': {'_obj': '89'}, 'l3': {'_obj': '90'}, 'l4': {'_obj': '85'}, 'l5': {'_obj': '76'}}, 'corners': {'l0': {'_obj': '134'}, 'l1': {'_obj': '137'}, 'l2': {'_obj': '143'}, 'l3': {'_obj': '144'}, 'l4': {'_obj': '141'}, 'l5': {'_obj': '135'}}, 'res': 'brick', 'num': '9'}, '19': {'fields': {'l0': 'None', 'l1': {'_obj': '0'}}, 'obj_type': 'Edge', 'visible': {'s0': 'White', 's1': 'Red', 's2': 'Blue'}, 'corners': {'l0': {'_obj': '92'}, 'l1': {'_obj': '91'}}}, '20': {'fields': {'l0': {'_obj': '1'}, 'l1': {'_obj': '0'}}, 'obj_type': 'Edge', 'visible': {'s0': 'White', 's1': 'Red', 's2': 'Blue'}, 'corners': {'l0': {'_obj': '92'}, 'l1': {'_obj': '93'}}}, '21': {'fields': {'l0': {'_obj': '4'}, 'l1': {'_obj': '0'}}, 'obj_type': 'Edge', 'visible': {'s0': 'White', 's1': 'Red', 's2': 'Blue'}, 'corners': {'l0': {'_obj': '93'}, 'l1': {'_obj': '94'}}}, '22': {'fields': {'l0': {'_obj': '0'}, 'l1': {'_obj': '3'}}, 'obj_type': 'Edge', 'visible': {'s0': 'White', 's1': 'Red', 's2': 'Blue'}, 'corners': {'l0': {'_obj': '94'}, 'l1': {'_obj': '95'}}}, '23': {'fields': {'l0': {'_obj': '0'}, 'l1': 'None'}, 'obj_type': 'Edge', 'visible': {'s0': 'White', 's1': 'Red', 's2': 'Blue'}, 'corners': {'l0': {'_obj': '96'}, 'l1': {'_obj': '95'}}}, '24': {'fields': {'l0': {'_obj': '0'}, 'l1': 'None'}, 'obj_type': 'Edge', 'visible': {'s0': 'White', 's1': 'Red', 's2': 'Blue'}, 'corners': {'l0': {'_obj': '91'}, 'l1': {'_obj': '96'}}}, '25': {'fields': {'l0': 'None', 'l1': {'_obj': '1'}}, 'obj_type': 'Edge', 'visible': {'s0': 'White', 's1': 'Red', 's2': 'Blue'}, 'corners': {'l0': {'_obj': '98'}, 'l1': {'_obj': '97'}}}, '26': {'fields': {'l0': {'_obj': '2'}, 'l1': {'_obj': '1'}}, 'obj_type': 'Edge', 'visible': {'s0': 'White', 's1': 'Red', 's2': 'Blue'}, 'corners': {'l0': {'_obj': '98'}, 'l1': {'_obj': '99'}}}, '27': {'fields': {'l0': {'_obj': '5'}, 'l1': {'_obj': '1'}}, 'obj_type': 'Edge', 'visible': {'s0': 'White', 's1': 'Red', 's2': 'Blue'}, 'corners': {'l0': {'_obj': '99'}, 'l1': {'_obj': '100'}}}, '28': {'fields': {'l0': {'_obj': '1'}, 'l1': {'_obj': '4'}}, 'obj_type': 'Edge', 'visible': {'s0': 'White', 's1': 'Red', 's2': 'Blue'}, 'corners': {'l0': {'_obj': '100'}, 'l1': {'_obj': '93'}}}, '29': {'fields': {'l0': {'_obj': '1'}, 'l1': 'None'}, 'obj_type': 'Edge', 'visible': {'s0': 'White', 's1': 'Red', 's2': 'Blue'}, 'corners': {'l0': {'_obj': '97'}, 'l1': {'_obj': '92'}}}, '30': {'fields': {'l0': 'None', 'l1': {'_obj': '2'}}, 'obj_type': 'Edge', 'visible': {'s0': 'White', 's1': 'Red', 's2': 'Blue'}, 'corners': {'l0': {'_obj': '102'}, 'l1': {'_obj': '101'}}}, '31': {'fields': {'l0': 'None', 'l1': {'_obj': '2'}}, 'obj_type': 'Edge', 'visible': {'s0': 'White', 's1': 'Red', 's2': 'Blue'}, 'corners': {'l0': {'_obj': '102'}, 'l1': {'_obj': '103'}}}, '32': {'fields': {'l0': {'_obj': '6'}, 'l1': {'_obj': '2'}}, 'obj_type': 'Edge', 'visible': {'s0': 'White', 's1': 'Red', 's2': 'Blue'}, 'corners': {'l0': {'_obj': '103'}, 'l1': {'_obj': '104'}}}, '33': {'fields': {'l0': {'_obj': '2'}, 'l1': {'_obj': '5'}}, 'obj_type': 'Edge', 'visible': {'s0': 'White', 's1': 'Red', 's2': 'Blue'}, 'corners': {'l0': {'_obj': '104'}, 'l1': {'_obj': '99'}}}, '34': {'fields': {'l0': {'_obj': '2'}, 'l1': 'None'}, 'obj_type': 'Edge', 'visible': {'s0': 'White', 's1': 'Red', 's2': 'Blue'}, 'corners': {'l0': {'_obj': '101'}, 'l1': {'_obj': '98'}}}, '35': {'fields': {'l0': {'_obj': '4'}, 'l1': {'_obj': '3'}}, 'obj_type': 'Edge', 'visible': {'s0': 'White', 's1': 'Red', 's2': 'Blue'}, 'corners': {'l0': {'_obj': '94'}, 'l1': {'_obj': '105'}}}, '36': {'fields': {'l0': {'_obj': '8'}, 'l1': {'_obj': '3'}}, 'obj_type': 'Edge', 'visible': {'s0': 'White', 's1': 'Red', 's2': 'Blue'}, 'corners': {'l0': {'_obj': '105'}, 'l1': {'_obj': '106'}}}, '37': {'fields': {'l0': {'_obj': '3'}, 'l1': {'_obj': '7'}}, 'obj_type': 'Edge', 'visible': {'s0': 'White', 's1': 'Red', 's2': 'Blue'}, 'corners': {'l0': {'_obj': '106'}, 'l1': {'_obj': '107'}}}, '38': {'fields': {'l0': {'_obj': '3'}, 'l1': 'None'}, 'obj_type': 'Edge', 'visible': {'s0': 'White', 's1': 'Red', 's2': 'Blue'}, 'corners': {'l0': {'_obj': '108'}, 'l1': {'_obj': '107'}}}, '39': {'fields': {'l0': {'_obj': '3'}, 'l1': 'None'}, 'obj_type': 'Edge', 'visible': {'s0': 'White', 's1': 'Red', 's2': 'Blue'}, 'corners': {'l0': {'_obj': '95'}, 'l1': {'_obj': '108'}}}, '40': {'fields': {'l0': {'_obj': '5'}, 'l1': {'_obj': '4'}}, 'obj_type': 'Edge', 'visible': {'s0': 'White', 's1': 'Red', 's2': 'Blue'}, 'corners': {'l0': {'_obj': '100'}, 'l1': {'_obj': '109'}}}, '41': {'fields': {'l0': {'_obj': '9'}, 'l1': {'_obj': '4'}}, 'obj_type': 'Edge', 'visible': {'s0': 'White', 's1': 'Red', 's2': 'Blue'}, 'corners': {'l0': {'_obj': '109'}, 'l1': {'_obj': '110'}}}, '42': {'fields': {'l0': {'_obj': '4'}, 'l1': {'_obj': '8'}}, 'obj_type': 'Edge', 'visible': {'s0': 'White', 's1': 'Red', 's2': 'Blue'}, 'corners': {'l0': {'_obj': '110'}, 'l1': {'_obj': '105'}}}, '43': {'fields': {'l0': {'_obj': '6'}, 'l1': {'_obj': '5'}}, 'obj_type': 'Edge', 'visible': {'s0': 'White', 's1': 'Red', 's2': 'Blue'}, 'corners': {'l0': {'_obj': '104'}, 'l1': {'_obj': '111'}}}, '44': {'fields': {'l0': {'_obj': '10'}, 'l1': {'_obj': '5'}}, 'obj_type': 'Edge', 'visible': {'s0': 'White', 's1': 'Red', 's2': 'Blue'}, 'corners': {'l0': {'_obj': '111'}, 'l1': {'_obj': '112'}}}, '45': {'fields': {'l0': {'_obj': '5'}, 'l1': {'_obj': '9'}}, 'obj_type': 'Edge', 'visible': {'s0': 'White', 's1': 'Red', 's2': 'Blue'}, 'corners': {'l0': {'_obj': '112'}, 'l1': {'_obj': '109'}}}, '46': {'fields': {'l0': 'None', 'l1': {'_obj': '6'}}, 'obj_type': 'Edge', 'visible': {'s0': 'White', 's1': 'Red', 's2': 'Blue'}, 'corners': {'l0': {'_obj': '113'}, 'l1': {'_obj': '103'}}}, '47': {'fields': {'l0': 'None', 'l1': {'_obj': '6'}}, 'obj_type': 'Edge', 'visible': {'s0': 'White', 's1': 'Red', 's2': 'Blue'}, 'corners': {'l0': {'_obj': '113'}, 'l1': {'_obj': '114'}}}, '48': {'fields': {'l0': {'_obj': '11'}, 'l1': {'_obj': '6'}}, 'obj_type': 'Edge', 'visible': {'s0': 'White', 's1': 'Red', 's2': 'Blue'}, 'corners': {'l0': {'_obj': '114'}, 'l1': {'_obj': '115'}}}, '49': {'fields': {'l0': {'_obj': '6'}, 'l1': {'_obj': '10'}}, 'obj_type': 'Edge', 'visible': {'s0': 'White', 's1': 'Red', 's2': 'Blue'}, 'corners': {'l0': {'_obj': '115'}, 'l1': {'_obj': '111'}}}, '50': {'fields': {'l0': {'_obj': '8'}, 'l1': {'_obj': '7'}}, 'obj_type': 'Edge', 'visible': {'s0': 'White', 's1': 'Red', 's2': 'Blue'}, 'corners': {'l0': {'_obj': '106'}, 'l1': {'_obj': '116'}}}, '51': {'fields': {'l0': {'_obj': '12'}, 'l1': {'_obj': '7'}}, 'obj_type': 'Edge', 'visible': {'s0': 'White', 's1': 'Red', 's2': 'Blue'}, 'corners': {'l0': {'_obj': '116'}, 'l1': {'_obj': '117'}}}, '52': {'fields': {'l0': {'_obj': '7'}, 'l1': 'None'}, 'obj_type': 'Edge', 'visible': {'s0': 'White', 's1': 'Red', 's2': 'Blue'}, 'corners': {'l0': {'_obj': '117'}, 'l1': {'_obj': '118'}}}, '53': {'fields': {'l0': {'_obj': '7'}, 'l1': 'None'}, 'obj_type': 'Edge', 'visible': {'s0': 'White', 's1': 'Red', 's2': 'Blue'}, 'corners': {'l0': {'_obj': '119'}, 'l1': {'_obj': '118'}}}, '54': {'fields': {'l0': {'_obj': '7'}, 'l1': 'None'}, 'obj_type': 'Edge', 'visible': {'s0': 'White', 's1': 'Red', 's2': 'Blue'}, 'corners': {'l0': {'_obj': '107'}, 'l1': {'_obj': '119'}}}, '55': {'fields': {'l0': {'_obj': '9'}, 'l1': {'_obj': '8'}}, 'obj_type': 'Edge', 'visible': {'s0': 'White', 's1': 'Red', 's2': 'Blue'}, 'corners': {'l0': {'_obj': '110'}, 'l1': {'_obj': '120'}}}, '56': {'fields': {'l0': {'_obj': '13'}, 'l1': {'_obj': '8'}}, 'obj_type': 'Edge', 'visible': {'s0': 'White', 's1': 'Red', 's2': 'Blue'}, 'corners': {'l0': {'_obj': '120'}, 'l1': {'_obj': '121'}}}, '57': {'fields': {'l0': {'_obj': '8'}, 'l1': {'_obj': '12'}}, 'obj_type': 'Edge', 'visible': {'s0': 'White', 's1': 'Red', 's2': 'Blue'}, 'corners': {'l0': {'_obj': '121'}, 'l1': {'_obj': '116'}}}, '58': {'fields': {'l0': {'_obj': '10'}, 'l1': {'_obj': '9'}}, 'obj_type': 'Edge', 'visible': {'s0': 'White', 's1': 'Red', 's2': 'Blue'}, 'corners': {'l0': {'_obj': '112'}, 'l1': {'_obj': '122'}}}, '59': {'fields': {'l0': {'_obj': '14'}, 'l1': {'_obj': '9'}}, 'obj_type': 'Edge', 'visible': {'s0': 'White', 's1': 'Red', 's2': 'Blue'}, 'corners': {'l0': {'_obj': '122'}, 'l1': {'_obj': '123'}}}, '60': {'fields': {'l0': {'_obj': '9'}, 'l1': {'_obj': '13'}}, 'obj_type': 'Edge', 'visible': {'s0': 'White', 's1': 'Red', 's2': 'Blue'}, 'corners': {'l0': {'_obj': '123'}, 'l1': {'_obj': '120'}}, 'building': {'_obj': '159'}}, '61': {'fields': {'l0': {'_obj': '11'}, 'l1': {'_obj': '10'}}, 'obj_type': 'Edge', 'visible': {'s0': 'White', 's1': 'Red', 's2': 'Blue'}, 'corners': {'l0': {'_obj': '115'}, 'l1': {'_obj': '124'}}}, '62': {'fields': {'l0': {'_obj': '15'}, 'l1': {'_obj': '10'}}, 'obj_type': 'Edge', 'visible': {'s0': 'White', 's1': 'Red', 's2': 'Blue'}, 'corners': {'l0': {'_obj': '124'}, 'l1': {'_obj': '125'}}}, '63': {'fields': {'l0': {'_obj': '10'}, 'l1': {'_obj': '14'}}, 'obj_type': 'Edge', 'visible': {'s0': 'White', 's1': 'Red', 's2': 'Blue'}, 'corners': {'l0': {'_obj': '125'}, 'l1': {'_obj': '122'}}, 'building': {'_obj': '151'}}, '64': {'fields': {'l0': 'None', 'l1': {'_obj': '11'}}, 'obj_type': 'Edge', 'visible': {'s0': 'White', 's1': 'Red', 's2': 'Blue'}, 'corners': {'l0': {'_obj': '126'}, 'l1': {'_obj': '114'}}}, '65': {'fields': {'l0': 'None', 'l1': {'_obj': '11'}}, 'obj_type': 'Edge', 'visible': {'s0': 'White', 's1': 'Red', 's2': 'Blue'}, 'corners': {'l0': {'_obj': '126'}, 'l1': {'_obj': '127'}}}, '66': {'fields': {'l0': 'None', 'l1': {'_obj': '11'}}, 'obj_type': 'Edge', 'visible': {'s0': 'White', 's1': 'Red', 's2': 'Blue'}, 'corners': {'l0': {'_obj': '127'}, 'l1': {'_obj': '128'}}}, '67': {'fields': {'l0': {'_obj': '11'}, 'l1': {'_obj': '15'}}, 'obj_type': 'Edge', 'visible': {'s0': 'White', 's1': 'Red', 's2': 'Blue'}, 'corners': {'l0': {'_obj': '128'}, 'l1': {'_obj': '124'}}, 'building': {'_obj': '153'}}, '68': {'fields': {'l0': {'_obj': '13'}, 'l1': {'_obj': '12'}}, 'obj_type': 'Edge', 'visible': {'s0': 'White', 's1': 'Red', 's2': 'Blue'}, 'corners': {'l0': {'_obj': '121'}, 'l1': {'_obj': '129'}}}, '69': {'fields': {'l0': {'_obj': '16'}, 'l1': {'_obj': '12'}}, 'obj_type': 'Edge', 'visible': {'s0': 'White', 's1': 'Red', 's2': 'Blue'}, 'corners': {'l0': {'_obj': '129'}, 'l1': {'_obj': '130'}}}, '70': {'fields': {'l0': {'_obj': '12'}, 'l1': 'None'}, 'obj_type': 'Edge', 'visible': {'s0': 'White', 's1': 'Red', 's2': 'Blue'}, 'corners': {'l0': {'_obj': '130'}, 'l1': {'_obj': '131'}}}, '71': {'fields': {'l0': {'_obj': '12'}, 'l1': 'None'}, 'obj_type': 'Edge', 'visible': {'s0': 'White', 's1': 'Red', 's2': 'Blue'}, 'corners': {'l0': {'_obj': '117'}, 'l1': {'_obj': '131'}}}, '72': {'fields': {'l0': {'_obj': '14'}, 'l1': {'_obj': '13'}}, 'obj_type': 'Edge', 'visible': {'s0': 'White', 's1': 'Red', 's2': 'Blue'}, 'corners': {'l0': {'_obj': '123'}, 'l1': {'_obj': '132'}}}, '73': {'fields': {'l0': {'_obj': '17'}, 'l1': {'_obj': '13'}}, 'obj_type': 'Edge', 'visible': {'s0': 'White', 's1': 'Red', 's2': 'Blue'}, 'corners': {'l0': {'_obj': '132'}, 'l1': {'_obj': '133'}}}, '74': {'fields': {'l0': {'_obj': '13'}, 'l1': {'_obj': '16'}}, 'obj_type': 'Edge', 'visible': {'s0': 'White', 's1': 'Red', 's2': 'Blue'}, 'corners': {'l0': {'_obj': '133'}, 'l1': {'_obj': '129'}}, 'building': {'_obj': '157'}}, '75': {'fields': {'l0': {'_obj': '15'}, 'l1': {'_obj': '14'}}, 'obj_type': 'Edge', 'visible': {'s0': 'White', 's1': 'Red', 's2': 'Blue'}, 'corners': {'l0': {'_obj': '125'}, 'l1': {'_obj': '134'}}}, '76': {'fields': {'l0': {'_obj': '18'}, 'l1': {'_obj': '14'}}, 'obj_type': 'Edge', 'visible': {'s0': 'White', 's1': 'Red', 's2': 'Blue'}, 'corners': {'l0': {'_obj': '134'}, 'l1': {'_obj': '135'}}}, '77': {'fields': {'l0': {'_obj': '14'}, 'l1': {'_obj': '17'}}, 'obj_type': 'Edge', 'visible': {'s0': 'White', 's1': 'Red', 's2': 'Blue'}, 'corners': {'l0': {'_obj': '135'}, 'l1': {'_obj': '132'}}}, '78': {'fields': {'l0': 'None', 'l1': {'_obj': '15'}}, 'obj_type': 'Edge', 'visible': {'s0': 'White', 's1': 'Red', 's2': 'Blue'}, 'corners': {'l0': {'_obj': '128'}, 'l1': {'_obj': '136'}}}, '79': {'fields': {'l0': 'None', 'l1': {'_obj': '15'}}, 'obj_type': 'Edge', 'visible': {'s0': 'White', 's1': 'Red', 's2': 'Blue'}, 'corners': {'l0': {'_obj': '136'}, 'l1': {'_obj': '137'}}}, '80': {'fields': {'l0': {'_obj': '15'}, 'l1': {'_obj': '18'}}, 'obj_type': 'Edge', 'visible': {'s0': 'White', 's1': 'Red', 's2': 'Blue'}, 'corners': {'l0': {'_obj': '137'}, 'l1': {'_obj': '134'}}}, '81': {'fields': {'l0': {'_obj': '17'}, 'l1': {'_obj': '16'}}, 'obj_type': 'Edge', 'visible': {'s0': 'White', 's1': 'Red', 's2': 'Blue'}, 'corners': {'l0': {'_obj': '133'}, 'l1': {'_obj': '138'}}}, '82': {'fields': {'l0': 'None', 'l1': {'_obj': '16'}}, 'obj_type': 'Edge', 'visible': {'s0': 'White', 's1': 'Red', 's2': 'Blue'}, 'corners': {'l0': {'_obj': '138'}, 'l1': {'_obj': '139'}}}, '83': {'fields': {'l0': {'_obj': '16'}, 'l1': 'None'}, 'obj_type': 'Edge', 'visible': {'s0': 'White', 's1': 'Red', 's2': 'Blue'}, 'corners': {'l0': {'_obj': '139'}, 'l1': {'_obj': '140'}}}, '84': {'fields': {'l0': {'_obj': '16'}, 'l1': 'None'}, 'obj_type': 'Edge', 'visible': {'s0': 'White', 's1': 'Red', 's2': 'Blue'}, 'corners': {'l0': {'_obj': '130'}, 'l1': {'_obj': '140'}}}, '85': {'fields': {'l0': {'_obj': '18'}, 'l1': {'_obj': '17'}}, 'obj_type': 'Edge', 'visible': {'s0': 'White', 's1': 'Red', 's2': 'Blue'}, 'corners': {'l0': {'_obj': '135'}, 'l1': {'_obj': '141'}}, 'building': {'_obj': '149'}}, '86': {'fields': {'l0': 'None', 'l1': {'_obj': '17'}}, 'obj_type': 'Edge', 'visible': {'s0': 'White', 's1': 'Red', 's2': 'Blue'}, 'corners': {'l0': {'_obj': '141'}, 'l1': {'_obj': '142'}}}, '87': {'fields': {'l0': {'_obj': '17'}, 'l1': 'None'}, 'obj_type': 'Edge', 'visible': {'s0': 'White', 's1': 'Red', 's2': 'Blue'}, 'corners': {'l0': {'_obj': '142'}, 'l1': {'_obj': '138'}}, 'building': {'_obj': '155'}}, '88': {'fields': {'l0': 'None', 'l1': {'_obj': '18'}}, 'obj_type': 'Edge', 'visible': {'s0': 'White', 's1': 'Red', 's2': 'Blue'}, 'corners': {'l0': {'_obj': '137'}, 'l1': {'_obj': '143'}}}, '89': {'fields': {'l0': 'None', 'l1': {'_obj': '18'}}, 'obj_type': 'Edge', 'visible': {'s0': 'White', 's1': 'Red', 's2': 'Blue'}, 'corners': {'l0': {'_obj': '143'}, 'l1': {'_obj': '144'}}}, '90': {'fields': {'l0': {'_obj': '18'}, 'l1': 'None'}, 'obj_type': 'Edge', 'visible': {'s0': 'White', 's1': 'Red', 's2': 'Blue'}, 'corners': {'l0': {'_obj': '144'}, 'l1': {'_obj': '141'}}}, '91': {'fields': {'l0': 'None', 'l1': {'_obj': '0'}, 'l2': 'None'}, 'obj_type': 'Corner', 'visible': {'s0': 'White', 's1': 'Red', 's2': 'Blue'}, 'edges': {'l0': 'None', 'l1': {'_obj': '19'}, 'l2': {'_obj': '24'}}, 'port': '3to1'}, '92': {'fields': {'l0': 'None', 'l1': {'_obj': '1'}, 'l2': {'_obj': '0'}}, 'obj_type': 'Corner', 'visible': {'s0': 'White', 's1': 'Red', 's2': 'Blue'}, 'edges': {'l0': {'_obj': '29'}, 'l1': {'_obj': '20'}, 'l2': {'_obj': '19'}}}, '93': {'fields': {'l0': {'_obj': '1'}, 'l1': {'_obj': '4'}, 'l2': {'_obj': '0'}}, 'obj_type': 'Corner', 'visible': {'s0': 'White', 's1': 'Red', 's2': 'Blue'}, 'edges': {'l0': {'_obj': '20'}, 'l1': {'_obj': '28'}, 'l2': {'_obj': '21'}}}, '94': {'fields': {'l0': {'_obj': '0'}, 'l1': {'_obj': '4'}, 'l2': {'_obj': '3'}}, 'obj_type': 'Corner', 'visible': {'s0': 'White', 's1': 'Red', 's2': 'Blue'}, 'edges': {'l0': {'_obj': '21'}, 'l1': {'_obj': '35'}, 'l2': {'_obj': '22'}}}, '95': {'fields': {'l0': {'_obj': '0'}, 'l1': {'_obj': '3'}, 'l2': 'None'}, 'obj_type': 'Corner', 'visible': {'s0': 'White', 's1': 'Red', 's2': 'Blue'}, 'edges': {'l0': {'_obj': '23'}, 'l1': {'_obj': '22'}, 'l2': {'_obj': '39'}}}, '96': {'fields': {'l0': 'None', 'l1': {'_obj': '0'}, 'l2': 'None'}, 'obj_type': 'Corner', 'visible': {'s0': 'White', 's1': 'Red', 's2': 'Blue'}, 'edges': {'l0': {'_obj': '24'}, 'l1': {'_obj': '23'}, 'l2': 'None'}, 'port': '3to1'}, '97': {'fields': {'l0': 'None', 'l1': {'_obj': '1'}, 'l2': 'None'}, 'obj_type': 'Corner', 'visible': {'s0': 'White', 's1': 'Red', 's2': 'Blue'}, 'edges': {'l0': 'None', 'l1': {'_obj': '25'}, 'l2': {'_obj': '29'}}, 'port': 'sheep'}, '98': {'fields': {'l0': 'None', 'l1': {'_obj': '2'}, 'l2': {'_obj': '1'}}, 'obj_type': 'Corner', 'visible': {'s0': 'White', 's1': 'Red', 's2': 'Blue'}, 'edges': {'l0': {'_obj': '34'}, 'l1': {'_obj': '26'}, 'l2': {'_obj': '25'}}, 'port': 'sheep'}, '99': {'fields': {'l0': {'_obj': '2'}, 'l1': {'_obj': '5'}, 'l2': {'_obj': '1'}}, 'obj_type': 'Corner', 'visible': {'s0': 'White', 's1': 'Red', 's2': 'Blue'}, 'edges': {'l0': {'_obj': '26'}, 'l1': {'_obj': '33'}, 'l2': {'_obj': '27'}}}, '100': {'fields': {'l0': {'_obj': '1'}, 'l1': {'_obj': '5'}, 'l2': {'_obj': '4'}}, 'obj_type': 'Corner', 'visible': {'s0': 'White', 's1': 'Red', 's2': 'Blue'}, 'edges': {'l0': {'_obj': '27'}, 'l1': {'_obj': '40'}, 'l2': {'_obj': '28'}}}, '101': {'fields': {'l0': 'None', 'l1': {'_obj': '2'}, 'l2': 'None'}, 'obj_type': 'Corner', 'visible': {'s0': 'White', 's1': 'Red', 's2': 'Blue'}, 'edges': {'l0': 'None', 'l1': {'_obj': '30'}, 'l2': {'_obj': '34'}}}, '102': {'fields': {'l0': 'None', 'l1': 'None', 'l2': {'_obj': '2'}}, 'obj_type': 'Corner', 'visible': {'s0': 'White', 's1': 'Red', 's2': 'Blue'}, 'edges': {'l0': 'None', 'l1': {'_obj': '31'}, 'l2': {'_obj': '30'}}}, '103': {'fields': {'l0': 'None', 'l1': {'_obj': '6'}, 'l2': {'_obj': '2'}}, 'obj_type': 'Corner', 'visible': {'s0': 'White', 's1': 'Red', 's2': 'Blue'}, 'edges': {'l0': {'_obj': '31'}, 'l1': {'_obj': '46'}, 'l2': {'_obj': '32'}}, 'port': '3to1'}, '104': {'fields': {'l0': {'_obj': '2'}, 'l1': {'_obj': '6'}, 'l2': {'_obj': '5'}}, 'obj_type': 'Corner', 'visible': {'s0': 'White', 's1': 'Red', 's2': 'Blue'}, 'edges': {'l0': {'_obj': '32'}, 'l1': {'_obj': '43'}, 'l2': {'_obj': '33'}}}, '105': {'fields': {'l0': {'_obj': '4'}, 'l1': {'_obj': '8'}, 'l2': {'_obj': '3'}}, 'obj_type': 'Corner', 'visible': {'s0': 'White', 's1': 'Red', 's2': 'Blue'}, 'edges': {'l0': {'_obj': '35'}, 'l1': {'_obj': '42'}, 'l2': {'_obj': '36'}}}, '106': {'fields': {'l0': {'_obj': '3'}, 'l1': {'_obj': '8'}, 'l2': {'_obj': '7'}}, 'obj_type': 'Corner', 'visible': {'s0': 'White', 's1': 'Red', 's2': 'Blue'}, 'edges': {'l0': {'_obj': '36'}, 'l1': {'_obj': '50'}, 'l2': {'_obj': '37'}}}, '107': {'fields': {'l0': {'_obj': '3'}, 'l1': {'_obj': '7'}, 'l2': 'None'}, 'obj_type': 'Corner', 'visible': {'s0': 'White', 's1': 'Red', 's2': 'Blue'}, 'edges': {'l0': {'_obj': '38'}, 'l1': {'_obj': '37'}, 'l2': {'_obj': '54'}}, 'port': 'ore'}, '108': {'fields': {'l0': 'None', 'l1': {'_obj': '3'}, 'l2': 'None'}, 'obj_type': 'Corner', 'visible': {'s0': 'White', 's1': 'Red', 's2': 'Blue'}, 'edges': {'l0': {'_obj': '39'}, 'l1': {'_obj': '38'}, 'l2': 'None'}, 'port': 'ore'}, '109': {'fields': {'l0': {'_obj': '5'}, 'l1': {'_obj': '9'}, 'l2': {'_obj': '4'}}, 'obj_type': 'Corner', 'visible': {'s0': 'White', 's1': 'Red', 's2': 'Blue'}, 'edges': {'l0': {'_obj': '40'}, 'l1': {'_obj': '45'}, 'l2': {'_obj': '41'}}}, '110': {'fields': {'l0': {'_obj': '4'}, 'l1': {'_obj': '9'}, 'l2': {'_obj': '8'}}, 'obj_type': 'Corner', 'visible': {'s0': 'White', 's1': 'Red', 's2': 'Blue'}, 'edges': {'l0': {'_obj': '41'}, 'l1': {'_obj': '55'}, 'l2': {'_obj': '42'}}}, '111': {'fields': {'l0': {'_obj': '6'}, 'l1': {'_obj': '10'}, 'l2': {'_obj': '5'}}, 'obj_type': 'Corner', 'visible': {'s0': 'White', 's1': 'Red', 's2': 'Blue'}, 'edges': {'l0': {'_obj': '43'}, 'l1': {'_obj': '49'}, 'l2': {'_obj': '44'}}}, '112': {'fields': {'l0': {'_obj': '5'}, 'l1': {'_obj': '10'}, 'l2': {'_obj': '9'}}, 'obj_type': 'Corner', 'visible': {'s0': 'White', 's1': 'Red', 's2': 'Blue'}, 'edges': {'l0': {'_obj': '44'}, 'l1': {'_obj': '58'}, 'l2': {'_obj': '45'}}}, '113': {'fields': {'l0': 'None', 'l1': 'None', 'l2': {'_obj': '6'}}, 'obj_type': 'Corner', 'visible': {'s0': 'White', 's1': 'Red', 's2': 'Blue'}, 'edges': {'l0': 'None', 'l1': {'_obj': '47'}, 'l2': {'_obj': '46'}}, 'port': '3to1'}, '114': {'fields': {'l0': 'None', 'l1': {'_obj': '11'}, 'l2': {'_obj': '6'}}, 'obj_type': 'Corner', 'visible': {'s0': 'White', 's1': 'Red', 's2': 'Blue'}, 'edges': {'l0': {'_obj': '47'}, 'l1': {'_obj': '64'}, 'l2': {'_obj': '48'}}}, '115': {'fields': {'l0': {'_obj': '6'}, 'l1': {'_obj': '11'}, 'l2': {'_obj': '10'}}, 'obj_type': 'Corner', 'visible': {'s0': 'White', 's1': 'Red', 's2': 'Blue'}, 'edges': {'l0': {'_obj': '48'}, 'l1': {'_obj': '61'}, 'l2': {'_obj': '49'}}}, '116': {'fields': {'l0': {'_obj': '8'}, 'l1': {'_obj': '12'}, 'l2': {'_obj': '7'}}, 'obj_type': 'Corner', 'visible': {'s0': 'White', 's1': 'Red', 's2': 'Blue'}, 'edges': {'l0': {'_obj': '50'}, 'l1': {'_obj': '57'}, 'l2': {'_obj': '51'}}}, '117': {'fields': {'l0': {'_obj': '7'}, 'l1': {'_obj': '12'}, 'l2': 'None'}, 'obj_type': 'Corner', 'visible': {'s0': 'White', 's1': 'Red', 's2': 'Blue'}, 'edges': {'l0': {'_obj': '51'}, 'l1': {'_obj': '71'}, 'l2': {'_obj': '52'}}, 'port': 'wheat'}, '118': {'fields': {'l0': {'_obj': '7'}, 'l1': 'None', 'l2': 'None'}, 'obj_type': 'Corner', 'visible': {'s0': 'White', 's1': 'Red', 's2': 'Blue'}, 'edges': {'l0': {'_obj': '53'}, 'l1': {'_obj': '52'}, 'l2': 'None'}}, '119': {'fields': {'l0': 'None', 'l1': {'_obj': '7'}, 'l2': 'None'}, 'obj_type': 'Corner', 'visible': {'s0': 'White', 's1': 'Red', 's2': 'Blue'}, 'edges': {'l0': {'_obj': '54'}, 'l1': {'_obj': '53'}, 'l2': 'None'}}, '120': {'fields': {'l0': {'_obj': '9'}, 'l1': {'_obj': '13'}, 'l2': {'_obj': '8'}}, 'obj_type': 'Corner', 'visible': {'s0': 'White', 's1': 'Red', 's2': 'Blue'}, 'edges': {'l0': {'_obj': '55'}, 'l1': {'_obj': '60'}, 'l2': {'_obj': '56'}}, 'building': {'_obj': '158'}}, '121': {'fields': {'l0': {'_obj': '8'}, 'l1': {'_obj': '13'}, 'l2': {'_obj': '12'}}, 'obj_type': 'Corner', 'visible': {'s0': 'White', 's1': 'Red', 's2': 'Blue'}, 'edges': {'l0': {'_obj': '56'}, 'l1': {'_obj': '68'}, 'l2': {'_obj': '57'}}}, '122': {'fields': {'l0': {'_obj': '10'}, 'l1': {'_obj': '14'}, 'l2': {'_obj': '9'}}, 'obj_type': 'Corner', 'visible': {'s0': 'White', 's1': 'Red', 's2': 'Blue'}, 'edges': {'l0': {'_obj': '58'}, 'l1': {'_obj': '63'}, 'l2': {'_obj': '59'}}, 'building': {'_obj': '150'}}, '123': {'fields': {'l0': {'_obj': '9'}, 'l1': {'_obj': '14'}, 'l2': {'_obj': '13'}}, 'obj_type': 'Corner', 'visible': {'s0': 'White', 's1': 'Red', 's2': 'Blue'}, 'edges': {'l0': {'_obj': '59'}, 'l1': {'_obj': '72'}, 'l2': {'_obj': '60'}}}, '124': {'fields': {'l0': {'_obj': '11'}, 'l1': {'_obj': '15'}, 'l2': {'_obj': '10'}}, 'obj_type': 'Corner', 'visible': {'s0': 'White', 's1': 'Red', 's2': 'Blue'}, 'edges': {'l0': {'_obj': '61'}, 'l1': {'_obj': '67'}, 'l2': {'_obj': '62'}}, 'building': {'_obj': '152'}}, '125': {'fields': {'l0': {'_obj': '10'}, 'l1': {'_obj': '15'}, 'l2': {'_obj': '14'}}, 'obj_type': 'Corner', 'visible': {'s0': 'White', 's1': 'Red', 's2': 'Blue'}, 'edges': {'l0': {'_obj': '62'}, 'l1': {'_obj': '75'}, 'l2': {'_obj': '63'}}}, '126': {'fields': {'l0': 'None', 'l1': 'None', 'l2': {'_obj': '11'}}, 'obj_type': 'Corner', 'visible': {'s0': 'White', 's1': 'Red', 's2': 'Blue'}, 'edges': {'l0': 'None', 'l1': {'_obj': '65'}, 'l2': {'_obj': '64'}}, 'port': '3to1'}, '127': {'fields': {'l0': 'None', 'l1': 'None', 'l2': {'_obj': '11'}}, 'obj_type': 'Corner', 'visible': {'s0': 'White', 's1': 'Red', 's2': 'Blue'}, 'edges': {'l0': {'_obj': '65'}, 'l1': 'None', 'l2': {'_obj': '66'}}, 'port': '3to1'}, '128': {'fields': {'l0': {'_obj': '11'}, 'l1': 'None', 'l2': {'_obj': '15'}}, 'obj_type': 'Corner', 'visible': {'s0': 'White', 's1': 'Red', 's2': 'Blue'}, 'edges': {'l0': {'_obj': '66'}, 'l1': {'_obj': '78'}, 'l2': {'_obj': '67'}}}, '129': {'fields': {'l0': {'_obj': '13'}, 'l1': {'_obj': '16'}, 'l2': {'_obj': '12'}}, 'obj_type': 'Corner', 'visible': {'s0': 'White', 's1': 'Red', 's2': 'Blue'}, 'edges': {'l0': {'_obj': '68'}, 'l1': {'_obj': '74'}, 'l2': {'_obj': '69'}}, 'building': {'_obj': '156'}}, '130': {'fields': {'l0': {'_obj': '12'}, 'l1': {'_obj': '16'}, 'l2': 'None'}, 'obj_type': 'Corner', 'visible': {'s0': 'White', 's1': 'Red', 's2': 'Blue'}, 'edges': {'l0': {'_obj': '69'}, 'l1': {'_obj': '84'}, 'l2': {'_obj': '70'}}}, '131': {'fields': {'l0': {'_obj': '12'}, 'l1': 'None', 'l2': 'None'}, 'obj_type': 'Corner', 'visible': {'s0': 'White', 's1': 'Red', 's2': 'Blue'}, 'edges': {'l0': {'_obj': '71'}, 'l1': {'_obj': '70'}, 'l2': 'None'}, 'port': 'wheat'}, '132': {'fields': {'l0': {'_obj': '14'}, 'l1': {'_obj': '17'}, 'l2': {'_obj': '13'}}, 'obj_type': 'Corner', 'visible': {'s0': 'White', 's1': 'Red', 's2': 'Blue'}, 'edges': {'l0': {'_obj': '72'}, 'l1': {'_obj': '77'}, 'l2': {'_obj': '73'}}}, '133': {'fields': {'l0': {'_obj': '13'}, 'l1': {'_obj': '17'}, 'l2': {'_obj': '16'}}, 'obj_type': 'Corner', 'visible': {'s0': 'White', 's1': 'Red', 's2': 'Blue'}, 'edges': {'l0': {'_obj': '73'}, 'l1': {'_obj': '81'}, 'l2': {'_obj': '74'}}}, '134': {'fields': {'l0': {'_obj': '15'}, 'l1': {'_obj': '18'}, 'l2': {'_obj': '14'}}, 'obj_type': 'Corner', 'visible': {'s0': 'White', 's1': 'Red', 's2': 'Blue'}, 'edges': {'l0': {'_obj': '75'}, 'l1': {'_obj': '80'}, 'l2': {'_obj': '76'}}}, '135': {'fields': {'l0': {'_obj': '14'}, 'l1': {'_obj': '18'}, 'l2': {'_obj': '17'}}, 'obj_type': 'Corner', 'visible': {'s0': 'White', 's1': 'Red', 's2': 'Blue'}, 'edges': {'l0': {'_obj': '76'}, 'l1': {'_obj': '85'}, 'l2': {'_obj': '77'}}, 'building': {'_obj': '148'}}, '136': {'fields': {'l0': 'None', 'l1': 'None', 'l2': {'_obj': '15'}}, 'obj_type': 'Corner', 'visible': {'s0': 'White', 's1': 'Red', 's2': 'Blue'}, 'edges': {'l0': {'_obj': '78'}, 'l1': 'None', 'l2': {'_obj': '79'}}, 'port': 'brick'}, '137': {'fields': {'l0': {'_obj': '15'}, 'l1': 'None', 'l2': {'_obj': '18'}}, 'obj_type': 'Corner', 'visible': {'s0': 'White', 's1': 'Red', 's2': 'Blue'}, 'edges': {'l0': {'_obj': '79'}, 'l1': {'_obj': '88'}, 'l2': {'_obj': '80'}}, 'port': 'brick'}, '138': {'fields': {'l0': {'_obj': '17'}, 'l1': 'None', 'l2': {'_obj': '16'}}, 'obj_type': 'Corner', 'visible': {'s0': 'White', 's1': 'Red', 's2': 'Blue'}, 'edges': {'l0': {'_obj': '81'}, 'l1': {'_obj': '87'}, 'l2': {'_obj': '82'}}, 'building': {'_obj': '154'}}, '139': {'fields': {'l0': {'_obj': '16'}, 'l1': 'None', 'l2': 'None'}, 'obj_type': 'Corner', 'visible': {'s0': 'White', 's1': 'Red', 's2': 'Blue'}, 'edges': {'l0': {'_obj': '82'}, 'l1': 'None', 'l2': {'_obj': '83'}}, 'port': '3to1'}, '140': {'fields': {'l0': {'_obj': '16'}, 'l1': 'None', 'l2': 'None'}, 'obj_type': 'Corner', 'visible': {'s0': 'White', 's1': 'Red', 's2': 'Blue'}, 'edges': {'l0': {'_obj': '84'}, 'l1': {'_obj': '83'}, 'l2': 'None'}, 'port': '3to1'}, '141': {'fields': {'l0': {'_obj': '18'}, 'l1': 'None', 'l2': {'_obj': '17'}}, 'obj_type': 'Corner', 'visible': {'s0': 'White', 's1': 'Red', 's2': 'Blue'}, 'edges': {'l0': {'_obj': '85'}, 'l1': {'_obj': '90'}, 'l2': {'_obj': '86'}}, 'port': 'wood'}, '142': {'fields': {'l0': {'_obj': '17'}, 'l1': 'None', 'l2': 'None'}, 'obj_type': 'Corner', 'visible': {'s0': 'White', 's1': 'Red', 's2': 'Blue'}, 'edges': {'l0': {'_obj': '86'}, 'l1': 'None', 'l2': {'_obj': '87'}}, 'port': 'wood'}, '143': {'fields': {'l0': 'None', 'l1': 'None', 'l2': {'_obj': '18'}}, 'obj_type': 'Corner', 'visible': {'s0': 'White', 's1': 'Red', 's2': 'Blue'}, 'edges': {'l0': {'_obj': '88'}, 'l1': 'None', 'l2': {'_obj': '89'}}}, '144': {'fields': {'l0': {'_obj': '18'}, 'l1': 'None', 'l2': 'None'}, 'obj_type': 'Corner', 'visible': {'s0': 'White', 's1': 'Red', 's2': 'Blue'}, 'edges': {'l0': {'_obj': '89'}, 'l1': 'None', 'l2': {'_obj': '90'}}}, '145': {'fields': {'s0': {'_obj': '0'}, 's1': {'_obj': '1'}, 's2': {'_obj': '2'}, 's3': {'_obj': '3'}, 's4': {'_obj': '4'}, 's5': {'_obj': '5'}, 's6': {'_obj': '6'}, 's7': {'_obj': '7'}, 's8': {'_obj': '8'}, 's9': {'_obj': '9'}, 's10': {'_obj': '10'}, 's11': {'_obj': '11'}, 's12': {'_obj': '12'}, 's13': {'_obj': '13'}, 's14': {'_obj': '14'}, 's15': {'_obj': '15'}, 's16': {'_obj': '16'}, 's17': {'_obj': '17'}, 's18': {'_obj': '18'}}, 'rows': '5', 'cols': '9', 'obj_type': 'board', 'visible': {'s0': 'White', 's1': 'Red', 's2': 'Blue'}, 'map': '[[tdict(_obj) None tdict(_obj) None tdict(_obj) None tdict(_obj) None None]\\n [None tdict(_obj) None tdict(_obj) None tdict(_obj) None tdict(_obj) tdict(_obj)]\\n [tdict(_obj) None tdict(_obj) None tdict(_obj) None tdict(_obj) None None]\\n [None tdict(_obj) None tdict(_obj) None tdict(_obj) None None None]\\n [None tdict(_obj) None tdict(_obj) None tdict(_obj) None None None]]', 'edges': {'s0': {'_obj': '19'}, 's1': {'_obj': '20'}, 's2': {'_obj': '21'}, 's3': {'_obj': '22'}, 's4': {'_obj': '23'}, 's5': {'_obj': '24'}, 's6': {'_obj': '25'}, 's7': {'_obj': '26'}, 's8': {'_obj': '27'}, 's9': {'_obj': '28'}, 's10': {'_obj': '29'}, 's11': {'_obj': '30'}, 's12': {'_obj': '31'}, 's13': {'_obj': '32'}, 's14': {'_obj': '33'}, 's15': {'_obj': '34'}, 's16': {'_obj': '35'}, 's17': {'_obj': '36'}, 's18': {'_obj': '37'}, 's19': {'_obj': '38'}, 's20': {'_obj': '39'}, 's21': {'_obj': '40'}, 's22': {'_obj': '41'}, 's23': {'_obj': '42'}, 's24': {'_obj': '43'}, 's25': {'_obj': '44'}, 's26': {'_obj': '45'}, 's27': {'_obj': '46'}, 's28': {'_obj': '47'}, 's29': {'_obj': '48'}, 's30': {'_obj': '49'}, 's31': {'_obj': '50'}, 's32': {'_obj': '51'}, 's33': {'_obj': '52'}, 's34': {'_obj': '53'}, 's35': {'_obj': '54'}, 's36': {'_obj': '55'}, 's37': {'_obj': '56'}, 's38': {'_obj': '57'}, 's39': {'_obj': '58'}, 's40': {'_obj': '59'}, 's41': {'_obj': '60'}, 's42': {'_obj': '61'}, 's43': {'_obj': '62'}, 's44': {'_obj': '63'}, 's45': {'_obj': '64'}, 's46': {'_obj': '65'}, 's47': {'_obj': '66'}, 's48': {'_obj': '67'}, 's49': {'_obj': '68'}, 's50': {'_obj': '69'}, 's51': {'_obj': '70'}, 's52': {'_obj': '71'}, 's53': {'_obj': '72'}, 's54': {'_obj': '73'}, 's55': {'_obj': '74'}, 's56': {'_obj': '75'}, 's57': {'_obj': '76'}, 's58': {'_obj': '77'}, 's59': {'_obj': '78'}, 's60': {'_obj': '79'}, 's61': {'_obj': '80'}, 's62': {'_obj': '81'}, 's63': {'_obj': '82'}, 's64': {'_obj': '83'}, 's65': {'_obj': '84'}, 's66': {'_obj': '85'}, 's67': {'_obj': '86'}, 's68': {'_obj': '87'}, 's69': {'_obj': '88'}, 's70': {'_obj': '89'}, 's71': {'_obj': '90'}}, 'corners': {'s0': {'_obj': '91'}, 's1': {'_obj': '92'}, 's2': {'_obj': '93'}, 's3': {'_obj': '94'}, 's4': {'_obj': '95'}, 's5': {'_obj': '96'}, 's6': {'_obj': '97'}, 's7': {'_obj': '98'}, 's8': {'_obj': '99'}, 's9': {'_obj': '100'}, 's10': {'_obj': '101'}, 's11': {'_obj': '102'}, 's12': {'_obj': '103'}, 's13': {'_obj': '104'}, 's14': {'_obj': '105'}, 's15': {'_obj': '106'}, 's16': {'_obj': '107'}, 's17': {'_obj': '108'}, 's18': {'_obj': '109'}, 's19': {'_obj': '110'}, 's20': {'_obj': '111'}, 's21': {'_obj': '112'}, 's22': {'_obj': '113'}, 's23': {'_obj': '114'}, 's24': {'_obj': '115'}, 's25': {'_obj': '116'}, 's26': {'_obj': '117'}, 's27': {'_obj': '118'}, 's28': {'_obj': '119'}, 's29': {'_obj': '120'}, 's30': {'_obj': '121'}, 's31': {'_obj': '122'}, 's32': {'_obj': '123'}, 's33': {'_obj': '124'}, 's34': {'_obj': '125'}, 's35': {'_obj': '126'}, 's36': {'_obj': '127'}, 's37': {'_obj': '128'}, 's38': {'_obj': '129'}, 's39': {'_obj': '130'}, 's40': {'_obj': '131'}, 's41': {'_obj': '132'}, 's42': {'_obj': '133'}, 's43': {'_obj': '134'}, 's44': {'_obj': '135'}, 's45': {'_obj': '136'}, 's46': {'_obj': '137'}, 's47': {'_obj': '138'}, 's48': {'_obj': '139'}, 's49': {'_obj': '140'}, 's50': {'_obj': '141'}, 's51': {'_obj': '142'}, 's52': {'_obj': '143'}, 's53': {'_obj': '144'}}}, '146': {'loc': {'_obj': '3'}, 'obj_type': 'robber', 'visible': {'s0': 'White', 's1': 'Red', 's2': 'Blue'}}, '147': {'obj_type': 'devdeck', 'visible': {'s0': 'White', 's1': 'Red', 's2': 'Blue'}}, '148': {'loc': {'_obj': '135'}, 'player': {'_player': 'White'}, 'obj_type': 'settlement', 'visible': {'s0': 'White', 's1': 'Red', 's2': 'Blue'}}, '149': {'loc': {'_obj': '85'}, 'player': {'_player': 'White'}, 'obj_type': 'road', 'visible': {'s0': 'White', 's1': 'Red', 's2': 'Blue'}}, '150': {'loc': {'_obj': '122'}, 'player': {'_player': 'Red'}, 'obj_type': 'settlement', 'visible': {'s0': 'White', 's1': 'Red', 's2': 'Blue'}}, '151': {'loc': {'_obj': '63'}, 'player': {'_player': 'Red'}, 'obj_type': 'road', 'visible': {'s0': 'White', 's1': 'Red', 's2': 'Blue'}}, '152': {'loc': {'_obj': '124'}, 'player': {'_player': 'Blue'}, 'obj_type': 'settlement', 'visible': {'s0': 'White', 's1': 'Red', 's2': 'Blue'}}, '153': {'loc': {'_obj': '67'}, 'player': {'_player': 'Blue'}, 'obj_type': 'road', 'visible': {'s0': 'White', 's1': 'Red', 's2': 'Blue'}}, '154': {'loc': {'_obj': '138'}, 'player': {'_player': 'Blue'}, 'obj_type': 'settlement', 'visible': {'s0': 'White', 's1': 'Red', 's2': 'Blue'}}, '155': {'loc': {'_obj': '87'}, 'player': {'_player': 'Blue'}, 'obj_type': 'road', 'visible': {'s0': 'White', 's1': 'Red', 's2': 'Blue'}}, '156': {'loc': {'_obj': '129'}, 'player': {'_player': 'Red'}, 'obj_type': 'settlement', 'visible': {'s0': 'White', 's1': 'Red', 's2': 'Blue'}}, '157': {'loc': {'_obj': '74'}, 'player': {'_player': 'Red'}, 'obj_type': 'road', 'visible': {'s0': 'White', 's1': 'Red', 's2': 'Blue'}}, '158': {'loc': {'_obj': '120'}, 'player': {'_player': 'White'}, 'obj_type': 'settlement', 'visible': {'s0': 'White', 's1': 'Red', 's2': 'Blue'}}, '159': {'loc': {'_obj': '60'}, 'player': {'_player': 'White'}, 'obj_type': 'road', 'visible': {'s0': 'White', 's1': 'Red', 's2': 'Blue'}}}, 'phase': 'main', 'log': {}}))\n",
       "\t\t});\n",
       "\t\t"
      ]
     },
     "metadata": {},
     "output_type": "display_data"
    }
   ],
   "source": [
    "viz.render_dict(I.msg)"
   ]
  },
  {
   "cell_type": "code",
   "execution_count": 56,
   "metadata": {},
   "outputs": [
    {
     "data": {
      "text/plain": [
       "odict_keys(['players', 'table', 'phase', 'log'])"
      ]
     },
     "execution_count": 56,
     "metadata": {},
     "output_type": "execute_result"
    }
   ],
   "source": [
    "msg = I.msg\n",
    "util.obj_cross_ref(msg, {'_obj':msg.table, '_player':msg.players})\n",
    "for ID, obj in msg.table.items():\n",
    "    obj._id = ID\n",
    "if 'options' in msg:\n",
    "    options = tdict()\n",
    "    for name, opts in msg.options.items():\n",
    "        options[name] = viz.decode_action_set(opts.actions)\n",
    "    msg.options = options\n",
    "msg.keys()"
   ]
  },
  {
   "cell_type": "code",
   "execution_count": 57,
   "metadata": {},
   "outputs": [
    {
     "data": {
      "text/plain": [
       "160"
      ]
     },
     "execution_count": 57,
     "metadata": {},
     "output_type": "execute_result"
    }
   ],
   "source": [
    "table = msg.table\n",
    "len(table)"
   ]
  },
  {
   "cell_type": "code",
   "execution_count": 58,
   "metadata": {},
   "outputs": [
    {
     "data": {
      "text/plain": [
       "odict_keys(['loc', 'player', 'obj_type', 'visible', '_id'])"
      ]
     },
     "execution_count": 58,
     "metadata": {},
     "output_type": "execute_result"
    }
   ],
   "source": [
    "table['148'].keys()"
   ]
  },
  {
   "cell_type": "code",
   "execution_count": 59,
   "metadata": {},
   "outputs": [],
   "source": [
    "IDs = ['148', '150', '152', '154', '156', '158']"
   ]
  },
  {
   "cell_type": "code",
   "execution_count": 60,
   "metadata": {},
   "outputs": [
    {
     "data": {
      "text/plain": [
       "[{'num': [10, 9, 8], 'res': ['ore', 'brick', 'brick']},\n",
       " {'num': [6, 10, 4], 'res': ['ore', 'ore', 'sheep']},\n",
       " {'num': [5, 11, 6], 'res': ['sheep', 'wood', 'ore']},\n",
       " {'num': [8, 9], 'res': ['brick', 'wheat']},\n",
       " {'num': [5, 9, 12], 'res': ['sheep', 'wheat', 'sheep']},\n",
       " {'num': [4, 5, 10], 'res': ['sheep', 'sheep', 'wheat']}]"
      ]
     },
     "execution_count": 60,
     "metadata": {},
     "output_type": "execute_result"
    }
   ],
   "source": [
    "sites = np.array([tdict() for i in IDs])\n",
    "for site, ID in zip(sites, IDs):\n",
    "    c = table[table[ID].loc._id]\n",
    "    site.num = tlist(n.num for n in c.fields if n is not None and 'num' in n)\n",
    "    site.res = tlist(n.res for n in c.fields if n is not None and 'res' in n)\n",
    "[dict(s) for s in sites]"
   ]
  },
  {
   "cell_type": "code",
   "execution_count": null,
   "metadata": {},
   "outputs": [],
   "source": []
  },
  {
   "cell_type": "code",
   "execution_count": null,
   "metadata": {},
   "outputs": [],
   "source": []
  },
  {
   "cell_type": "code",
   "execution_count": 17,
   "metadata": {},
   "outputs": [
    {
     "ename": "KeyError",
     "evalue": "'loc-settlement'",
     "output_type": "error",
     "traceback": [
      "\u001b[0;31m---------------------------------------------------------------------------\u001b[0m",
      "\u001b[0;31mKeyError\u001b[0m                                  Traceback (most recent call last)",
      "\u001b[0;32m<ipython-input-17-2ffb2bbe29db>\u001b[0m in \u001b[0;36m<module>\u001b[0;34m\u001b[0m\n\u001b[0;32m----> 1\u001b[0;31m \u001b[0mlen\u001b[0m\u001b[0;34m(\u001b[0m\u001b[0mmsg\u001b[0m\u001b[0;34m.\u001b[0m\u001b[0moptions\u001b[0m\u001b[0;34m[\u001b[0m\u001b[0;34m'loc-settlement'\u001b[0m\u001b[0;34m]\u001b[0m\u001b[0;34m)\u001b[0m\u001b[0;34m\u001b[0m\u001b[0;34m\u001b[0m\u001b[0m\n\u001b[0m",
      "\u001b[0;32m/mnt/c/Users/anwan/Nextcloud/Khan/projects/humpack/git/humpack/basic_containers.py\u001b[0m in \u001b[0;36m__getitem__\u001b[0;34m(self, item)\u001b[0m\n\u001b[1;32m    192\u001b[0m \u001b[0;34m\u001b[0m\u001b[0m\n\u001b[1;32m    193\u001b[0m         \u001b[0;32mdef\u001b[0m \u001b[0m__getitem__\u001b[0m\u001b[0;34m(\u001b[0m\u001b[0mself\u001b[0m\u001b[0;34m,\u001b[0m \u001b[0mitem\u001b[0m\u001b[0;34m)\u001b[0m\u001b[0;34m:\u001b[0m\u001b[0;34m\u001b[0m\u001b[0;34m\u001b[0m\u001b[0m\n\u001b[0;32m--> 194\u001b[0;31m                 \u001b[0;32mreturn\u001b[0m \u001b[0mself\u001b[0m\u001b[0;34m.\u001b[0m\u001b[0m_data\u001b[0m\u001b[0;34m[\u001b[0m\u001b[0mitem\u001b[0m\u001b[0;34m]\u001b[0m\u001b[0;34m\u001b[0m\u001b[0;34m\u001b[0m\u001b[0m\n\u001b[0m\u001b[1;32m    195\u001b[0m \u001b[0;34m\u001b[0m\u001b[0m\n\u001b[1;32m    196\u001b[0m \tdef __setitem__(self, key,\n",
      "\u001b[0;31mKeyError\u001b[0m: 'loc-settlement'"
     ]
    }
   ],
   "source": [
    "len(msg.options['loc-settlement'])"
   ]
  },
  {
   "cell_type": "code",
   "execution_count": 38,
   "metadata": {},
   "outputs": [
    {
     "data": {
      "text/plain": [
       "{(tdict(ID, val, type),), (tdict(ID, val, type),), (tdict(ID, val, type),), (tdict(ID, val, type),), (tdict(ID, val, type),), (tdict(ID, val, type),), (tdict(ID, val, type),), (tdict(ID, val, type),), (tdict(ID, val, type),), (tdict(ID, val, type),), (tdict(ID, val, type),), (tdict(ID, val, type),), (tdict(ID, val, type),), (tdict(ID, val, type),), (tdict(ID, val, type),), (tdict(ID, val, type),), (tdict(ID, val, type),), (tdict(ID, val, type),), (tdict(ID, val, type),), (tdict(ID, val, type),), (tdict(ID, val, type),), (tdict(ID, val, type),), (tdict(ID, val, type),), (tdict(ID, val, type),), (tdict(ID, val, type),), (tdict(ID, val, type),), (tdict(ID, val, type),), (tdict(ID, val, type),), (tdict(ID, val, type),), (tdict(ID, val, type),), (tdict(ID, val, type),), (tdict(ID, val, type),), (tdict(ID, val, type),), (tdict(ID, val, type),), (tdict(ID, val, type),), (tdict(ID, val, type),)}"
      ]
     },
     "execution_count": 38,
     "metadata": {},
     "output_type": "execute_result"
    }
   ],
   "source": [
    "msg.options['loc-settlement']"
   ]
  },
  {
   "cell_type": "code",
   "execution_count": 39,
   "metadata": {},
   "outputs": [
    {
     "data": {
      "text/plain": [
       "36"
      ]
     },
     "execution_count": 39,
     "metadata": {},
     "output_type": "execute_result"
    }
   ],
   "source": [
    "sites = np.array([tdict(ID=a[0].ID) for a in options['loc-settlement']])\n",
    "len(sites)"
   ]
  },
  {
   "cell_type": "code",
   "execution_count": 40,
   "metadata": {},
   "outputs": [],
   "source": [
    "for site in sites:\n",
    "    c = table[site['ID']]\n",
    "    site.nums = tlist(n.num for n in c.fields if n is not None and 'num' in n)\n",
    "    site.ress = tlist(n.res for n in c.fields if n is not None and 'res' in n)\n",
    "    site.val = sum(6 - abs(n-7) for n in site.nums)\n",
    "    if 'port' in c:\n",
    "        site.port = c.port"
   ]
  },
  {
   "cell_type": "code",
   "execution_count": 41,
   "metadata": {},
   "outputs": [
    {
     "data": {
      "text/plain": [
       "{'ID': '92', 'nums': [6, 3], 'ress': ['wood', 'wood'], 'val': 7}"
      ]
     },
     "execution_count": 41,
     "metadata": {},
     "output_type": "execute_result"
    }
   ],
   "source": [
    "dict(sites[1])"
   ]
  },
  {
   "cell_type": "code",
   "execution_count": 42,
   "metadata": {},
   "outputs": [
    {
     "name": "stdout",
     "output_type": "stream",
     "text": [
      "24 11\n",
      "[ 2  7  9  4  2  2  5  8 10  9  3  3  4  6  8  5  0  8 10  1  5 10  5  8 11 10 11  4  4  6  5  2  4  4  9  5]\n"
     ]
    }
   ],
   "source": [
    "vals = np.array([site.val for site in sites])\n",
    "print(vals.argmax(), vals.max())\n",
    "print(vals)"
   ]
  },
  {
   "cell_type": "code",
   "execution_count": 43,
   "metadata": {},
   "outputs": [
    {
     "data": {
      "text/plain": [
       "{'ID': '133',\n",
       " 'nums': [5, 8, 9],\n",
       " 'ress': ['sheep', 'brick', 'wheat'],\n",
       " 'val': 13}"
      ]
     },
     "execution_count": 43,
     "metadata": {},
     "output_type": "execute_result"
    }
   ],
   "source": [
    "# first = sites[vals.argmax()]\n",
    "dict(first)"
   ]
  },
  {
   "cell_type": "code",
   "execution_count": 48,
   "metadata": {},
   "outputs": [],
   "source": [
    "res_names = np.array(['wood', 'brick', 'sheep', 'ore', 'wheat'])"
   ]
  },
  {
   "cell_type": "code",
   "execution_count": 118,
   "metadata": {},
   "outputs": [],
   "source": [
    "residx = {r:i for i,r in enumerate(res_names)}"
   ]
  },
  {
   "cell_type": "code",
   "execution_count": 51,
   "metadata": {},
   "outputs": [],
   "source": [
    "double = res_names[counts==2]\n",
    "if len(double):\n",
    "    print(double)"
   ]
  },
  {
   "cell_type": "code",
   "execution_count": 126,
   "metadata": {},
   "outputs": [],
   "source": [
    "def get_nums(site):\n",
    "    nums = np.zeros(11, dtype=int)\n",
    "    for n in site.nums:\n",
    "        nums[n-2] += 1\n",
    "    return nums\n",
    "def get_res(ress, residx):\n",
    "    res = np.zeros(5)\n",
    "    for r in ress:\n",
    "        if r in residx:\n",
    "            res[residx[r]] += 1\n",
    "    return res"
   ]
  },
  {
   "cell_type": "code",
   "execution_count": 124,
   "metadata": {},
   "outputs": [
    {
     "data": {
      "text/plain": [
       "(array([0, 0, 0, 1, 0, 0, 1, 1, 0, 0, 0]), array([0., 1., 1., 0., 1.]))"
      ]
     },
     "execution_count": 124,
     "metadata": {},
     "output_type": "execute_result"
    }
   ],
   "source": [
    "nums = get_nums(first)\n",
    "rnum = get_res(first.ress, residx)\n",
    "nums, rnum"
   ]
  },
  {
   "cell_type": "code",
   "execution_count": 63,
   "metadata": {},
   "outputs": [
    {
     "data": {
      "text/plain": [
       "(36, 11)"
      ]
     },
     "execution_count": 63,
     "metadata": {},
     "output_type": "execute_result"
    }
   ],
   "source": [
    "all_nums = np.stack([get_nums(site) for site in sites])\n",
    "all_nums.shape"
   ]
  },
  {
   "cell_type": "code",
   "execution_count": 86,
   "metadata": {},
   "outputs": [],
   "source": [
    "priority = 6 - np.abs(np.arange(11) - 5)"
   ]
  },
  {
   "cell_type": "code",
   "execution_count": 103,
   "metadata": {},
   "outputs": [],
   "source": [
    "wts = priority/(nums/3+1)"
   ]
  },
  {
   "cell_type": "code",
   "execution_count": 135,
   "metadata": {},
   "outputs": [
    {
     "data": {
      "text/plain": [
       "array([1.   , 3.5  , 4.5  , 2.   , 1.   , 1.   , 2.5  , 4.   , 5.   , 4.5  , 1.5  , 1.5  , 2.   , 3.   , 3.375, 1.875,\n",
       "       0.   , 4.   , 5.   , 0.5  , 2.   , 4.5  , 1.875, 3.5  , 5.5  , 4.5  , 5.   , 1.5  , 1.5  , 2.5  , 2.   , 1.   ,\n",
       "       1.5  , 1.5  , 3.375, 1.875])"
      ]
     },
     "execution_count": 135,
     "metadata": {},
     "output_type": "execute_result"
    }
   ],
   "source": [
    "dnum = (all_nums * wts).sum(-1) / 2\n",
    "dnum"
   ]
  },
  {
   "cell_type": "code",
   "execution_count": 108,
   "metadata": {},
   "outputs": [],
   "source": [
    "top = (-dnum).argsort()[:5]"
   ]
  },
  {
   "cell_type": "code",
   "execution_count": 109,
   "metadata": {},
   "outputs": [
    {
     "data": {
      "text/plain": [
       "array([11., 10., 10., 10.,  9.])"
      ]
     },
     "execution_count": 109,
     "metadata": {},
     "output_type": "execute_result"
    }
   ],
   "source": [
    "dnum[top]"
   ]
  },
  {
   "cell_type": "code",
   "execution_count": 110,
   "metadata": {},
   "outputs": [
    {
     "data": {
      "text/plain": [
       "[{'ID': '122', 'nums': [6, 10, 4], 'ress': ['ore', 'ore', 'sheep'], 'val': 11},\n",
       " {'ID': '124',\n",
       "  'nums': [5, 11, 6],\n",
       "  'ress': ['sheep', 'wood', 'ore'],\n",
       "  'val': 11},\n",
       " {'ID': '112', 'nums': [3, 6, 4], 'ress': ['ore', 'ore', 'sheep'], 'val': 10},\n",
       " {'ID': '99', 'nums': [4, 3, 6], 'ress': ['brick', 'ore', 'wood'], 'val': 10},\n",
       " {'ID': '123',\n",
       "  'nums': [4, 10, 5],\n",
       "  'ress': ['sheep', 'ore', 'sheep'],\n",
       "  'val': 10}]"
      ]
     },
     "execution_count": 110,
     "metadata": {},
     "output_type": "execute_result"
    }
   ],
   "source": [
    "[dict(sites[i]) for i in top]"
   ]
  },
  {
   "cell_type": "code",
   "execution_count": 136,
   "metadata": {},
   "outputs": [
    {
     "data": {
      "text/plain": [
       "(36, 5)"
      ]
     },
     "execution_count": 136,
     "metadata": {},
     "output_type": "execute_result"
    }
   ],
   "source": [
    "allr = np.stack([get_res(site.ress, residx) for site in sites])\n",
    "allr.shape"
   ]
  },
  {
   "cell_type": "code",
   "execution_count": 137,
   "metadata": {},
   "outputs": [
    {
     "data": {
      "text/plain": [
       "array([4., 4., 4., 4., 4., 4., 4., 4., 5., 5., 3., 3., 4., 5., 3., 3., 3., 5., 4., 4., 4., 5., 3., 3., 4., 4., 5., 3.,\n",
       "       3., 4., 3., 4., 3., 3., 3., 3.])"
      ]
     },
     "execution_count": 137,
     "metadata": {},
     "output_type": "execute_result"
    }
   ],
   "source": [
    "rval = (rnum + allr).clip(0,1).sum(-1)\n",
    "rval"
   ]
  },
  {
   "cell_type": "code",
   "execution_count": 146,
   "metadata": {},
   "outputs": [
    {
     "data": {
      "text/plain": [
       "<BarContainer object of 36 artists>"
      ]
     },
     "execution_count": 146,
     "metadata": {},
     "output_type": "execute_result"
    },
    {
     "data": {
      "image/png": "[encoded data removed]",
      "text/plain": [
       "<Figure size 432x288 with 1 Axes>"
      ]
     },
     "metadata": {
      "needs_background": "light"
     },
     "output_type": "display_data"
    }
   ],
   "source": [
    "wts = softmax(dnum) * softmax(rval)\n",
    "wts = wts / wts.sum()\n",
    "plt.bar(np.arange(len(wts)),wts)"
   ]
  },
  {
   "cell_type": "code",
   "execution_count": 149,
   "metadata": {},
   "outputs": [
    {
     "data": {
      "text/plain": [
       "[{'ID': '124',\n",
       "  'nums': [5, 11, 6],\n",
       "  'ress': ['sheep', 'wood', 'ore'],\n",
       "  'val': 11},\n",
       " {'ID': '99', 'nums': [4, 3, 6], 'ress': ['brick', 'ore', 'wood'], 'val': 10},\n",
       " {'ID': '122', 'nums': [6, 10, 4], 'ress': ['ore', 'ore', 'sheep'], 'val': 11},\n",
       " {'ID': '115', 'nums': [2, 5, 6], 'ress': ['wood', 'sheep', 'ore'], 'val': 10},\n",
       " {'ID': '100', 'nums': [6, 3, 11], 'ress': ['wood', 'ore', 'wheat'], 'val': 9}]"
      ]
     },
     "execution_count": 149,
     "metadata": {},
     "output_type": "execute_result"
    }
   ],
   "source": [
    "list(map(dict, sites[(-wts).argsort()[:5]]))"
   ]
  },
  {
   "cell_type": "code",
   "execution_count": 150,
   "metadata": {},
   "outputs": [
    {
     "data": {
      "text/plain": [
       "{'ID': '133',\n",
       " 'nums': [5, 8, 9],\n",
       " 'ress': ['sheep', 'brick', 'wheat'],\n",
       " 'val': 13}"
      ]
     },
     "execution_count": 150,
     "metadata": {},
     "output_type": "execute_result"
    }
   ],
   "source": [
    "dict(first)"
   ]
  },
  {
   "cell_type": "code",
   "execution_count": 172,
   "metadata": {},
   "outputs": [
    {
     "data": {
      "text/plain": [
       "{'ID': '124', 'nums': [5, 11, 6], 'ress': ['sheep', 'wood', 'ore'], 'val': 11}"
      ]
     },
     "execution_count": 172,
     "metadata": {},
     "output_type": "execute_result"
    }
   ],
   "source": [
    "pick = I.rng.choices(sites, weights=wts)[0]\n",
    "dict(pick)"
   ]
  },
  {
   "cell_type": "code",
   "execution_count": 31,
   "metadata": {},
   "outputs": [
    {
     "data": {
      "text/plain": [
       "18"
      ]
     },
     "execution_count": 31,
     "metadata": {},
     "output_type": "execute_result"
    }
   ],
   "source": [
    "actions = viz.decode_action_set(I.msg.options.loc.actions)\n",
    "hexs = tlist(I.msg.table[a.ID] for a, in actions)\n",
    "len(hexs)"
   ]
  },
  {
   "cell_type": "code",
   "execution_count": 32,
   "metadata": {},
   "outputs": [
    {
     "data": {
      "text/plain": [
       "odict_keys(['row', 'col', 'neighbors', 'obj_type', 'visible', 'edges', 'corners', 'res', 'num', '_id'])"
      ]
     },
     "execution_count": 32,
     "metadata": {},
     "output_type": "execute_result"
    }
   ],
   "source": [
    "hexs[0].keys()"
   ]
  },
  {
   "cell_type": "code",
   "execution_count": 33,
   "metadata": {},
   "outputs": [
    {
     "data": {
      "text/plain": [
       "8"
      ]
     },
     "execution_count": 33,
     "metadata": {},
     "output_type": "execute_result"
    }
   ],
   "source": [
    "remaining = tlist()\n",
    "for h in hexs:\n",
    "    for c in h.corners:\n",
    "        if 'building' in c and c.building.player.name != 'White' and c.building.player.num_res > 0:\n",
    "            remaining.append(h)\n",
    "            break\n",
    "hexs = remaining\n",
    "len(hexs)"
   ]
  },
  {
   "cell_type": "code",
   "execution_count": 34,
   "metadata": {},
   "outputs": [],
   "source": [
    "hexs = tdict({h._id:h for h in hexs})\n",
    "options = tdict({k:tdict() for k in hexs})\n",
    "for ID, h in hexs.items():\n",
    "    options[ID].val = 5 - abs(h.num - 7)\n",
    "    pass"
   ]
  },
  {
   "cell_type": "code",
   "execution_count": 35,
   "metadata": {},
   "outputs": [
    {
     "data": {
      "text/plain": [
       "tdict('5':tdict('val':1), '8':tdict('val':2), '9':tdict('val':2), '10':tdict('val':4), '13':tdict('val':3), '14':tdict('val':2), '15':tdict('val':1), '18':tdict('val':3))"
      ]
     },
     "execution_count": 35,
     "metadata": {},
     "output_type": "execute_result"
    }
   ],
   "source": [
    "options"
   ]
  },
  {
   "cell_type": "code",
   "execution_count": 38,
   "metadata": {},
   "outputs": [
    {
     "data": {
      "text/plain": [
       "('ore', 6)"
      ]
     },
     "execution_count": 38,
     "metadata": {},
     "output_type": "execute_result"
    }
   ],
   "source": [
    "hexs['10'].res, hexs['10'].num"
   ]
  },
  {
   "cell_type": "code",
   "execution_count": 24,
   "metadata": {},
   "outputs": [
    {
     "data": {
      "text/plain": [
       "28"
      ]
     },
     "execution_count": 24,
     "metadata": {},
     "output_type": "execute_result"
    }
   ],
   "source": [
    "log = I.get_log()\n",
    "len(log)"
   ]
  },
  {
   "cell_type": "code",
   "execution_count": 21,
   "metadata": {},
   "outputs": [
    {
     "name": "stdout",
     "output_type": "stream",
     "text": [
      "[tdict(_player)]\n",
      "[tdict(_player)]\n",
      "[tdict(_player)]\n",
      "[tdict(_player)]\n"
     ]
    }
   ],
   "source": [
    "for line in log:\n",
    "    if 'targets' in line:\n",
    "        print(line['targets'])"
   ]
  },
  {
   "cell_type": "code",
   "execution_count": 29,
   "metadata": {},
   "outputs": [],
   "source": [
    "for h in hexs:\n",
    "    if 'buildings' in h:\n",
    "        print(h.corners)"
   ]
  },
  {
   "cell_type": "code",
   "execution_count": 31,
   "metadata": {},
   "outputs": [
    {
     "data": {
      "text/plain": [
       "[tdict('_obj':'91'), tdict('_obj':'92'), tdict('_obj':'93'), tdict('_obj':'94'), tdict('_obj':'95'), tdict('_obj':'96')]"
      ]
     },
     "execution_count": 31,
     "metadata": {},
     "output_type": "execute_result"
    }
   ],
   "source": [
    "hexs[0].corners"
   ]
  },
  {
   "cell_type": "code",
   "execution_count": 22,
   "metadata": {},
   "outputs": [
    {
     "data": {
      "text/plain": [
       "19"
      ]
     },
     "execution_count": 22,
     "metadata": {},
     "output_type": "execute_result"
    }
   ],
   "source": [
    "hexs = tlist()\n",
    "for ID, obj in I.msg.table.items():\n",
    "    if obj.obj_type == 'hex':\n",
    "        hexs.append(obj)\n",
    "len(hexs)"
   ]
  },
  {
   "cell_type": "code",
   "execution_count": null,
   "metadata": {},
   "outputs": [],
   "source": []
  }
 ],
 "metadata": {
  "kernelspec": {
   "display_name": "Python 3",
   "language": "python",
   "name": "python3"
  },
  "language_info": {
   "codemirror_mode": {
    "name": "ipython",
    "version": 3
   },
   "file_extension": ".py",
   "mimetype": "text/x-python",
   "name": "python",
   "nbconvert_exporter": "python",
   "pygments_lexer": "ipython3",
   "version": "3.7.4"
  }
 },
 "nbformat": 4,
 "nbformat_minor": 2
}
