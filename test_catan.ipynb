{
 "cells": [
  {
   "cell_type": "code",
   "execution_count": 1,
   "metadata": {},
   "outputs": [
    {
     "name": "stderr",
     "output_type": "stream",
     "text": [
      "/mnt/c/Users/anwan/Nextcloud/Khan/projects/gsm/git/gsm/io/registry.py:7: YAMLLoadWarning: calling yaml.load() without Loader=... is deprecated, as the default Loader is unsafe. Please read https://msg.pyyaml.org/load for full details.\n",
      "  info = yaml.load(open(path, 'r'))\n"
     ]
    }
   ],
   "source": [
    "import sys, os, time\n",
    "%load_ext autoreload\n",
    "%autoreload 2\n",
    "%matplotlib inline\n",
    "#%matplotlib tk\n",
    "import numpy as np\n",
    "import select\n",
    "import json\n",
    "import yaml\n",
    "import matplotlib.pyplot as plt\n",
    "from collections import namedtuple, OrderedDict\n",
    "import multiprocessing as mp\n",
    "import random\n",
    "from string import Formatter\n",
    "from itertools import chain, product\n",
    "# import gsm\n",
    "import gsm\n",
    "from gsm import tdict, tlist, tset, tstack, tdeque\n",
    "from gsm import GameObject, GameLogger\n",
    "from gsm.mixins import Named\n",
    "from gsm import Array\n",
    "from gsm import viz\n",
    "from examples.tictactoe import TicTacToe\n",
    "from gsm.common.world import grid\n",
    "np.set_printoptions(linewidth=120)"
   ]
  },
  {
   "cell_type": "code",
   "execution_count": 2,
   "metadata": {},
   "outputs": [],
   "source": [
    "seed = 0\n",
    "# seed = None\n",
    "I = viz.Ipython_Runner(r'http://localhost:5000/', 'me', full_log=True, god_mode=True, seed=seed)"
   ]
  },
  {
   "cell_type": "code",
   "execution_count": 3,
   "metadata": {},
   "outputs": [
    {
     "data": {
      "text/plain": [
       "'Host restarted (debug=True)'"
      ]
     },
     "execution_count": 3,
     "metadata": {},
     "output_type": "execute_result"
    }
   ],
   "source": [
    "I.restart(debug=True)"
   ]
  },
  {
   "cell_type": "code",
   "execution_count": 4,
   "metadata": {},
   "outputs": [
    {
     "data": {
      "text/plain": [
       "['catan', 'ttt']"
      ]
     },
     "execution_count": 4,
     "metadata": {},
     "output_type": "execute_result"
    }
   ],
   "source": [
    "I.available_games()"
   ]
  },
  {
   "cell_type": "code",
   "execution_count": 5,
   "metadata": {},
   "outputs": [
    {
     "data": {
      "text/plain": [
       "'Game set to: catan'"
      ]
     },
     "execution_count": 5,
     "metadata": {},
     "output_type": "execute_result"
    }
   ],
   "source": [
    "I.select_game('catan')"
   ]
  },
  {
   "cell_type": "code",
   "execution_count": 6,
   "metadata": {},
   "outputs": [
    {
     "data": {
      "text/plain": [
       "{'name': 'Catan',\n",
       " 'long_name': 'The Settlers of Catan',\n",
       " 'short_name': 'catan',\n",
       " 'num_players': [3, 4],\n",
       " 'player_names': ['White', 'Red', 'Blue', 'Orange']}"
      ]
     },
     "execution_count": 6,
     "metadata": {},
     "output_type": "execute_result"
    }
   ],
   "source": [
    "I.game_info()"
   ]
  },
  {
   "cell_type": "code",
   "execution_count": 7,
   "metadata": {},
   "outputs": [
    {
     "data": {
      "text/plain": [
       "['White', 'Red', 'Blue', 'Orange']"
      ]
     },
     "execution_count": 7,
     "metadata": {},
     "output_type": "execute_result"
    }
   ],
   "source": [
    "I.game_players()"
   ]
  },
  {
   "cell_type": "code",
   "execution_count": 8,
   "metadata": {},
   "outputs": [
    {
     "data": {
      "text/plain": [
       "'Created an interface (agent) for: randy, pal, polly'"
      ]
     },
     "execution_count": 8,
     "metadata": {},
     "output_type": "execute_result"
    }
   ],
   "source": [
    "# I.add_client('randy', 'pal', 'polly', interface='agent', agent_type='random', timeout=None, seed=I.seed)\n",
    "I.add_client('randy', 'pal', 'polly', interface='agent', agent_type='pass', timeout=None, seed=I.seed, prob=.5)\n",
    "# I.add_client('me', interface='agent', agent_type='random', timeout=None, seed=None)"
   ]
  },
  {
   "cell_type": "code",
   "execution_count": 9,
   "metadata": {},
   "outputs": [
    {
     "data": {
      "text/plain": [
       "{'randy': ['ping reply from pass agent/s: randy, pal, polly',\n",
       "  2.8894777297973633],\n",
       " 'pal': ['ping reply from pass agent/s: randy, pal, polly', 0.0],\n",
       " 'polly': ['ping reply from pass agent/s: randy, pal, polly', 0.0]}"
      ]
     },
     "execution_count": 9,
     "metadata": {},
     "output_type": "execute_result"
    }
   ],
   "source": [
    "I.ping()"
   ]
  },
  {
   "cell_type": "code",
   "execution_count": 10,
   "metadata": {},
   "outputs": [
    {
     "data": {
      "text/plain": [
       "'polly is now playing Red'"
      ]
     },
     "execution_count": 10,
     "metadata": {},
     "output_type": "execute_result"
    }
   ],
   "source": [
    "I.add_player('me', 'White')\n",
    "# I.add_spectator('me')\n",
    "# I.add_player('pal', 'White')\n",
    "I.add_player('randy', 'Blue')\n",
    "I.add_player('polly', 'Red')\n",
    "# I.add_advisor('pal', 'White')"
   ]
  },
  {
   "cell_type": "code",
   "execution_count": 12,
   "metadata": {},
   "outputs": [
    {
     "data": {
      "text/plain": [
       "'auto pause is deactivated'"
      ]
     },
     "execution_count": 12,
     "metadata": {},
     "output_type": "execute_result"
    }
   ],
   "source": [
    "I.toggle_pause()"
   ]
  },
  {
   "cell_type": "code",
   "execution_count": 16,
   "metadata": {},
   "outputs": [
    {
     "data": {
      "text/plain": [
       "{'me': 'White', 'pal': 'White', 'polly': 'Red', 'randy': 'Blue'}"
      ]
     },
     "execution_count": 16,
     "metadata": {},
     "output_type": "execute_result"
    }
   ],
   "source": [
    "I.get_roles()"
   ]
  },
  {
   "cell_type": "code",
   "execution_count": 15,
   "metadata": {
    "scrolled": true
   },
   "outputs": [
    {
     "data": {
      "text/plain": [
       "'Game catan_setup.gsm loaded.'"
      ]
     },
     "execution_count": 15,
     "metadata": {},
     "output_type": "execute_result"
    }
   ],
   "source": [
    "# I.begin()\n",
    "I.load('catan_setup', load_interface=False)"
   ]
  },
  {
   "cell_type": "code",
   "execution_count": 12,
   "metadata": {},
   "outputs": [
    {
     "data": {
      "text/plain": [
       "'Cheat code: next7'"
      ]
     },
     "execution_count": 12,
     "metadata": {},
     "output_type": "execute_result"
    }
   ],
   "source": [
    "I.cheat('next7')"
   ]
  },
  {
   "cell_type": "code",
   "execution_count": 13,
   "metadata": {},
   "outputs": [
    {
     "name": "stdout",
     "output_type": "stream",
     "text": [
      "Received key: 23a7711a81332876\n",
      "Received table: 159 entries\n",
      "-------------\n",
      "Log\n",
      "-------------\n",
      "PLYR:White builds a OBJ[148]:settlement[148] (gaining 1 victory point)\n",
      "PLYR:White builds a OBJ[149]:road[149]\n",
      "PLYR:Red builds a OBJ[150]:settlement[150] (gaining 1 victory point)\n",
      "PLYR:Red builds a OBJ[151]:road[151]\n",
      "PLYR:Blue builds a OBJ[152]:settlement[152] (gaining 1 victory point)\n",
      "PLYR:Blue builds a OBJ[153]:road[153]\n",
      "PLYR:Blue builds a OBJ[154]:settlement[154] (gaining 1 victory point)\n",
      "PLYR:Blue gains: sheep, ore, and sheep\n",
      "PLYR:Blue builds a OBJ[155]:road[155]\n",
      "PLYR:Red builds a OBJ[156]:settlement[156] (gaining 1 victory point)\n",
      "PLYR:Red gains: sheep\n",
      "PLYR:Red builds a OBJ[157]:road[157]\n",
      "PLYR:White builds a OBJ[158]:settlement[158] (gaining 1 victory point)\n",
      "PLYR:White gains: sheep, wheat, and sheep\n",
      "Cheat code activated: next7\n",
      "-*- The next roll will be a 7\n",
      "\n",
      "Phase: setup\n",
      "+-----------------------------------+\n",
      "| Choose a location to place a road |\n",
      "+-----------------------------------+\n",
      "   0 - OBJ[68]:Edge[68]\n",
      "   1 - OBJ[74]:Edge[74]\n",
      "   2 - OBJ[69]:Edge[69]\n"
     ]
    }
   ],
   "source": [
    "I.status()\n",
    "I.view()"
   ]
  },
  {
   "cell_type": "code",
   "execution_count": 14,
   "metadata": {
    "scrolled": false
   },
   "outputs": [
    {
     "name": "stdout",
     "output_type": "stream",
     "text": [
      "Received key: a92d652b6c8796fd\n",
      "Received table: 160 entries\n",
      "-------------\n",
      "Log\n",
      "-------------\n",
      "PLYR:White builds a OBJ[148]:settlement[148] (gaining 1 victory point)\n",
      "PLYR:White builds a OBJ[149]:road[149]\n",
      "PLYR:Red builds a OBJ[150]:settlement[150] (gaining 1 victory point)\n",
      "PLYR:Red builds a OBJ[151]:road[151]\n",
      "PLYR:Blue builds a OBJ[152]:settlement[152] (gaining 1 victory point)\n",
      "PLYR:Blue builds a OBJ[153]:road[153]\n",
      "PLYR:Blue builds a OBJ[154]:settlement[154] (gaining 1 victory point)\n",
      "PLYR:Blue gains: sheep, ore, and sheep\n",
      "PLYR:Blue builds a OBJ[155]:road[155]\n",
      "PLYR:Red builds a OBJ[156]:settlement[156] (gaining 1 victory point)\n",
      "PLYR:Red gains: sheep\n",
      "PLYR:Red builds a OBJ[157]:road[157]\n",
      "PLYR:White builds a OBJ[158]:settlement[158] (gaining 1 victory point)\n",
      "PLYR:White gains: sheep, wheat, and sheep\n",
      "Cheat code activated: next7\n",
      "-*- The next roll will be a 7\n",
      "PLYR:White builds a OBJ[159]:road[159]\n",
      "PLYR:White rolled: 7.\n",
      "\n",
      "Phase: main\n",
      "+----------------------------------+\n",
      "| Choose where to move the robber. |\n",
      "+----------------------------------+\n",
      "   0 - OBJ[0]:hex[0]\n",
      "   1 - OBJ[1]:hex[1]\n",
      "   2 - OBJ[2]:hex[2]\n",
      "   3 - OBJ[4]:hex[4]\n",
      "   4 - OBJ[5]:hex[5]\n",
      "   5 - OBJ[6]:hex[6]\n",
      "   6 - OBJ[7]:hex[7]\n",
      "   7 - OBJ[8]:hex[8]\n",
      "   8 - OBJ[9]:hex[9]\n",
      "   9 - OBJ[10]:hex[10]\n",
      "  10 - OBJ[11]:hex[11]\n",
      "  11 - OBJ[12]:hex[12]\n",
      "  12 - OBJ[13]:hex[13]\n",
      "  13 - OBJ[14]:hex[14]\n",
      "  14 - OBJ[15]:hex[15]\n",
      "  15 - OBJ[16]:hex[16]\n",
      "  16 - OBJ[17]:hex[17]\n",
      "  17 - OBJ[18]:hex[18]\n"
     ]
    }
   ],
   "source": [
    "I.go()\n",
    "I.status()\n",
    "I.view()"
   ]
  },
  {
   "cell_type": "code",
   "execution_count": 16,
   "metadata": {
    "scrolled": true
   },
   "outputs": [
    {
     "name": "stdout",
     "output_type": "stream",
     "text": [
      "Received key: 37ebdcd9e87a1613\n",
      "Received table: 158 entries\n",
      "-------------\n",
      "Log\n",
      "-------------\n",
      "PLYR:White builds a OBJ[148]:settlement[148] (gaining 1 victory point)\n",
      "PLYR:White builds a OBJ[149]:road[149]\n",
      "PLYR:Red builds a OBJ[150]:settlement[150] (gaining 1 victory point)\n",
      "PLYR:Red builds a OBJ[151]:road[151]\n",
      "PLYR:Blue builds a OBJ[152]:settlement[152] (gaining 1 victory point)\n",
      "PLYR:Blue builds a OBJ[153]:road[153]\n",
      "PLYR:Blue builds a OBJ[154]:settlement[154] (gaining 1 victory point)\n",
      "PLYR:Blue gains: ore, ore, and sheep\n",
      "PLYR:Blue builds a OBJ[155]:road[155]\n",
      "PLYR:Red builds a OBJ[156]:settlement[156] (gaining 1 victory point)\n",
      "PLYR:Red gains: wood, brick, and ore\n",
      "PLYR:Red builds a OBJ[157]:road[157]\n",
      "\n",
      "Phase: setup\n",
      "+-----------------------------------------+\n",
      "| Choose a location to place a settlement |\n",
      "+-----------------------------------------+\n",
      "   0 - OBJ[91]:Corner[91]\n",
      "   1 - OBJ[92]:Corner[92]\n",
      "   2 - OBJ[93]:Corner[93]\n",
      "   3 - OBJ[94]:Corner[94]\n",
      "   4 - OBJ[95]:Corner[95]\n",
      "   5 - OBJ[96]:Corner[96]\n",
      "   6 - OBJ[97]:Corner[97]\n",
      "   7 - OBJ[98]:Corner[98]\n",
      "   8 - OBJ[99]:Corner[99]\n",
      "   9 - OBJ[100]:Corner[100]\n",
      "  10 - OBJ[101]:Corner[101]\n",
      "  11 - OBJ[102]:Corner[102]\n",
      "  12 - OBJ[103]:Corner[103]\n",
      "  13 - OBJ[104]:Corner[104]\n",
      "  14 - OBJ[105]:Corner[105]\n",
      "  15 - OBJ[106]:Corner[106]\n",
      "  16 - OBJ[107]:Corner[107]\n",
      "  17 - OBJ[108]:Corner[108]\n",
      "  18 - OBJ[113]:Corner[113]\n",
      "  19 - OBJ[116]:Corner[116]\n",
      "  20 - OBJ[117]:Corner[117]\n",
      "  21 - OBJ[118]:Corner[118]\n",
      "  22 - OBJ[119]:Corner[119]\n",
      "  23 - OBJ[126]:Corner[126]\n",
      "  24 - OBJ[127]:Corner[127]\n",
      "  25 - OBJ[128]:Corner[128]\n",
      "  26 - OBJ[129]:Corner[129]\n",
      "  27 - OBJ[130]:Corner[130]\n",
      "  28 - OBJ[131]:Corner[131]\n",
      "  29 - OBJ[132]:Corner[132]\n",
      "  30 - OBJ[133]:Corner[133]\n",
      "  31 - OBJ[136]:Corner[136]\n",
      "  32 - OBJ[138]:Corner[138]\n",
      "  33 - OBJ[139]:Corner[139]\n",
      "  34 - OBJ[140]:Corner[140]\n",
      "  35 - OBJ[141]:Corner[141]\n",
      "  36 - OBJ[142]:Corner[142]\n"
     ]
    }
   ],
   "source": [
    "I.step()\n",
    "I.status()\n",
    "I.view()"
   ]
  },
  {
   "cell_type": "code",
   "execution_count": null,
   "metadata": {},
   "outputs": [],
   "source": []
  },
  {
   "cell_type": "code",
   "execution_count": 38,
   "metadata": {},
   "outputs": [
    {
     "data": {
      "text/plain": [
       "'game catan_setup.gsm saved'"
      ]
     },
     "execution_count": 38,
     "metadata": {},
     "output_type": "execute_result"
    }
   ],
   "source": [
    "I.save('catan_setup')"
   ]
  },
  {
   "cell_type": "code",
   "execution_count": 21,
   "metadata": {
    "scrolled": true
   },
   "outputs": [
    {
     "data": {
      "text/html": [
       "<div id=\"07a87155-132b-47b4-8e08-cd2519f0dbf9\" style=\"height: 600px; width:100%;\"></div>"
      ]
     },
     "metadata": {},
     "output_type": "display_data"
    },
    {
     "data": {
      "application/javascript": [
       "\n",
       "\t\trequire([\"https://rawgit.com/caldwell/renderjson/master/renderjson.js\"], function() {\n",
       "\t\t  renderjson.set_show_to_level(1)\n",
       "\t\t  document.getElementById('07a87155-132b-47b4-8e08-cd2519f0dbf9').appendChild(renderjson({'White': {'num_res': '0', 'color': 'White', 'obj_type': 'GamePlayer', 'name': 'White', 'reserve': {'road': '13', 'settlement': '3', 'city': '4'}, 'buildings': {'road': {'s0': {'_obj': '149'}, 's1': {'_obj': '159'}}, 'settlement': {'s0': {'_obj': '148'}, 's1': {'_obj': '158'}}, 'city': {}}, 'resources': {'wood': '2', 'brick': '0', 'sheep': '0', 'ore': '0', 'wheat': '1'}, 'devcards': {'s0': {'_obj': '147-0x6c8796fd'}}, 'past_devcards': {}, 'vps': '2', 'ports': {'s0': '3to1'}}, 'Red': {'num_res': '4', 'color': 'Red', 'reserve': {'road': '13', 'settlement': '3', 'city': '4'}, 'devcards': {}, 'past_devcards': {}, 'ports': {'s0': 'sheep'}}, 'Blue': {'num_res': '3', 'color': 'Blue', 'reserve': {'road': '13', 'settlement': '3', 'city': '4'}, 'devcards': {}, 'past_devcards': {}, 'ports': {}}}))\n",
       "\t\t});\n",
       "\t\t"
      ]
     },
     "metadata": {},
     "output_type": "display_data"
    }
   ],
   "source": [
    "viz.render_dict(I.msg.players)"
   ]
  },
  {
   "cell_type": "code",
   "execution_count": null,
   "metadata": {},
   "outputs": [],
   "source": []
  }
 ],
 "metadata": {
  "kernelspec": {
   "display_name": "Python 3",
   "language": "python",
   "name": "python3"
  },
  "language_info": {
   "codemirror_mode": {
    "name": "ipython",
    "version": 3
   },
   "file_extension": ".py",
   "mimetype": "text/x-python",
   "name": "python",
   "nbconvert_exporter": "python",
   "pygments_lexer": "ipython3",
   "version": "3.7.4"
  }
 },
 "nbformat": 4,
 "nbformat_minor": 2
}
