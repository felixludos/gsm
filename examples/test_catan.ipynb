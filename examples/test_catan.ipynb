{
 "cells": [
  {
   "cell_type": "code",
   "execution_count": 1,
   "metadata": {},
   "outputs": [
    {
     "name": "stderr",
     "output_type": "stream",
     "text": [
      "WARNING:gsm.core.object: No obj_type provided for GameObjectGenerator\n",
      "WARNING:gsm.core.object: No obj_type provided for SafeGenerator\n",
      "WARNING:gsm.core.object: No obj_type provided for Grid\n",
      "WARNING:gsm.core.object: No obj_type provided for Field\n",
      "WARNING:gsm.core.object: No obj_type provided for Edge\n",
      "WARNING:gsm.core.object: No obj_type provided for Corner\n",
      "WARNING:gsm.io.registry: Registering the GamePhase setup for a game before registering the game catan\n",
      "WARNING:gsm.core.object: No obj_type provided for Card\n",
      "WARNING:gsm.core.object: No obj_type provided for Deck\n",
      "WARNING:gsm.core.player: No obj_type provided for CatanPlayer\n",
      "WARNING:gsm.io.registry: No name provided for player type: <class 'examples.catan.players.CatanPlayer'>\n",
      "INFO:gsm.core.controller: Config dir found for Catan at /mnt/c/Users/anwan/Nextcloud/Khan/projects/gsm/examples/catan/config\n",
      "/mnt/c/Users/anwan/Nextcloud/Khan/projects/gsm/gsm/io/registry.py:54: YAMLLoadWarning: calling yaml.load() without Loader=... is deprecated, as the default Loader is unsafe. Please read https://msg.pyyaml.org/load for full details.\n",
      "  info = yaml.load(open(info_path, 'r'))\n",
      "WARNING:gsm.io.registry: catan is already registered, updating info\n",
      "INFO:gsm.core.controller: Config dir found for TicTacToe at /mnt/c/Users/anwan/Nextcloud/Khan/projects/gsm/examples/tictactoe/config\n",
      "DEBUG:gsm.io.registry: Registering game: ttt\n",
      "WARNING:gsm.core.object: No obj_type provided for Board\n",
      "WARNING:gsm.core.object: No obj_type provided for Tick\n",
      "WARNING:gsm.core.player: No obj_type provided for TTT_Player\n",
      "WARNING:gsm.io.registry: No name provided for player type: <class 'examples.tictactoe.ttt.TTT_Player'>\n"
     ]
    }
   ],
   "source": [
    "import sys, os, time\n",
    "%load_ext autoreload\n",
    "%autoreload 2\n",
    "%matplotlib inline\n",
    "#%matplotlib tk\n",
    "import numpy as np\n",
    "import select\n",
    "import json\n",
    "import yaml\n",
    "import matplotlib.pyplot as plt\n",
    "from collections import namedtuple, OrderedDict\n",
    "import multiprocessing as mp\n",
    "import random\n",
    "from string import Formatter\n",
    "from scipy.special import softmax\n",
    "from itertools import chain, product\n",
    "# import gsm\n",
    "import gsm\n",
    "from gsm import tdict, tlist, tset, tstack, tdeque\n",
    "from gsm import GameObject, GameLogger\n",
    "from gsm.mixins import Named\n",
    "from gsm import Array\n",
    "from gsm import viz\n",
    "from gsm import util\n",
    "from examples.tictactoe import TicTacToe\n",
    "from gsm.common.world import grid\n",
    "np.set_printoptions(linewidth=120)"
   ]
  },
  {
   "cell_type": "code",
   "execution_count": 2,
   "metadata": {},
   "outputs": [],
   "source": [
    "seed = 2\n",
    "# seed = None\n",
    "play = True\n",
    "I = viz.Ipython_Runner(r'http://localhost:5000/', 'me', full_log=False, god_mode=True, seed=seed)"
   ]
  },
  {
   "cell_type": "code",
   "execution_count": 3,
   "metadata": {},
   "outputs": [
    {
     "data": {
      "text/plain": [
       "'Host restarted (debug=True)'"
      ]
     },
     "execution_count": 3,
     "metadata": {},
     "output_type": "execute_result"
    }
   ],
   "source": [
    "I.restart(debug=True)"
   ]
  },
  {
   "cell_type": "code",
   "execution_count": 4,
   "metadata": {},
   "outputs": [
    {
     "data": {
      "text/plain": [
       "['catan', 'ttt']"
      ]
     },
     "execution_count": 4,
     "metadata": {},
     "output_type": "execute_result"
    }
   ],
   "source": [
    "I.available_games()"
   ]
  },
  {
   "cell_type": "code",
   "execution_count": 5,
   "metadata": {},
   "outputs": [
    {
     "data": {
      "text/plain": [
       "'Game set to: catan'"
      ]
     },
     "execution_count": 5,
     "metadata": {},
     "output_type": "execute_result"
    }
   ],
   "source": [
    "I.select_game('catan')"
   ]
  },
  {
   "cell_type": "code",
   "execution_count": 6,
   "metadata": {},
   "outputs": [
    {
     "data": {
      "text/plain": [
       "['White', 'Red', 'Blue', 'Orange']"
      ]
     },
     "execution_count": 6,
     "metadata": {},
     "output_type": "execute_result"
    }
   ],
   "source": [
    "I.game_players()"
   ]
  },
  {
   "cell_type": "code",
   "execution_count": 7,
   "metadata": {},
   "outputs": [
    {
     "data": {
      "text/plain": [
       "'Created an interface (agent) for: randy, pal, polly, robby'"
      ]
     },
     "execution_count": 7,
     "metadata": {},
     "output_type": "execute_result"
    }
   ],
   "source": [
    "I.add_client('randy', 'pal', 'polly', 'robby', interface='agent', agent_type='pass', timeout=None, seed=I.seed, prob=.5)\n",
    "# if play:\n",
    "#     print(I.add_client('randy', 'polly', 'robby', interface='agent', agent_type='regular', timeout=None, seed=I.seed))\n",
    "# else:\n",
    "#     print(I.add_client('pal', 'randy', 'polly', 'robby', interface='agent', agent_type='regular', timeout=None, seed=I.seed))"
   ]
  },
  {
   "cell_type": "code",
   "execution_count": 8,
   "metadata": {},
   "outputs": [
    {
     "data": {
      "text/plain": [
       "{'randy': ['ping reply from pass agent/s: randy, pal, polly, robby',\n",
       "  1.190032958984375],\n",
       " 'pal': ['ping reply from pass agent/s: randy, pal, polly, robby', 0.0],\n",
       " 'polly': ['ping reply from pass agent/s: randy, pal, polly, robby', 0.0],\n",
       " 'robby': ['ping reply from pass agent/s: randy, pal, polly, robby', 0.0]}"
      ]
     },
     "execution_count": 8,
     "metadata": {},
     "output_type": "execute_result"
    }
   ],
   "source": [
    "I.ping()"
   ]
  },
  {
   "cell_type": "code",
   "execution_count": 9,
   "metadata": {},
   "outputs": [
    {
     "name": "stdout",
     "output_type": "stream",
     "text": [
      "me is playing White\n"
     ]
    }
   ],
   "source": [
    "if play:\n",
    "    I.add_player('me', 'White')\n",
    "    print('me is playing White')\n",
    "else:\n",
    "    I.add_spectator('me')\n",
    "    I.add_player('pal', 'White')\n",
    "    print('me is not playing')\n",
    "I.add_player('randy', 'Blue')\n",
    "I.add_player('polly', 'Red')\n",
    "I.add_player('robby', 'Orange')\n",
    "pass\n",
    "# I.add_advisor('pal', 'White')"
   ]
  },
  {
   "cell_type": "code",
   "execution_count": 10,
   "metadata": {},
   "outputs": [
    {
     "name": "stdout",
     "output_type": "stream",
     "text": [
      "auto pause is deactivated\n"
     ]
    },
    {
     "data": {
      "text/plain": [
       "{'me': 'White', 'polly': 'Red', 'randy': 'Blue', 'robby': 'Orange'}"
      ]
     },
     "execution_count": 10,
     "metadata": {},
     "output_type": "execute_result"
    }
   ],
   "source": [
    "roles = I.get_roles()\n",
    "if 'me' not in roles:\n",
    "    print(I.toggle_pause())\n",
    "else:\n",
    "    I.toggle_pause()\n",
    "    print(I.toggle_pause())\n",
    "roles"
   ]
  },
  {
   "cell_type": "code",
   "execution_count": 11,
   "metadata": {
    "scrolled": true
   },
   "outputs": [
    {
     "data": {
      "text/plain": [
       "'Catan has started'"
      ]
     },
     "execution_count": 11,
     "metadata": {},
     "output_type": "execute_result"
    }
   ],
   "source": [
    "I.begin()\n",
    "# I.load('catan_setup', load_interface=False)"
   ]
  },
  {
   "cell_type": "code",
   "execution_count": null,
   "metadata": {},
   "outputs": [],
   "source": []
  },
  {
   "cell_type": "code",
   "execution_count": 12,
   "metadata": {},
   "outputs": [],
   "source": [
    "# I.cheat('next7')\n",
    "# I.cheat('next7')\n",
    "# I.cheat('gain8')\n",
    "# I.cheat('devcard')"
   ]
  },
  {
   "cell_type": "code",
   "execution_count": 13,
   "metadata": {
    "scrolled": true
   },
   "outputs": [
    {
     "name": "stdout",
     "output_type": "stream",
     "text": [
      "Received key: dcf4bb99f4bea973\n",
      "Received table: 148 entries\n",
      "-------------\n",
      "Log\n",
      "-------------\n",
      "\n",
      "Phase: setup\n",
      "+-----------------------------------------+\n",
      "| Choose a location to place a settlement |\n",
      "+-----------------------------------------+\n",
      "-- loc-settlement : Available Locations --\n",
      "   0 - OBJ[91]:Corner[91]\n",
      "   1 - OBJ[92]:Corner[92]\n",
      "   2 - OBJ[93]:Corner[93]\n",
      "   3 - OBJ[94]:Corner[94]\n",
      "   4 - OBJ[95]:Corner[95]\n",
      "   5 - OBJ[96]:Corner[96]\n",
      "   6 - OBJ[97]:Corner[97]\n",
      "   7 - OBJ[98]:Corner[98]\n",
      "   8 - OBJ[99]:Corner[99]\n",
      "   9 - OBJ[100]:Corner[100]\n",
      "  10 - OBJ[101]:Corner[101]\n",
      "  11 - OBJ[102]:Corner[102]\n",
      "  12 - OBJ[103]:Corner[103]\n",
      "  13 - OBJ[104]:Corner[104]\n",
      "  14 - OBJ[105]:Corner[105]\n",
      "  15 - OBJ[106]:Corner[106]\n",
      "  16 - OBJ[107]:Corner[107]\n",
      "  17 - OBJ[108]:Corner[108]\n",
      "  18 - OBJ[109]:Corner[109]\n",
      "  19 - OBJ[110]:Corner[110]\n",
      "  20 - OBJ[111]:Corner[111]\n",
      "  21 - OBJ[112]:Corner[112]\n",
      "  22 - OBJ[113]:Corner[113]\n",
      "  23 - OBJ[114]:Corner[114]\n",
      "  24 - OBJ[115]:Corner[115]\n",
      "  25 - OBJ[116]:Corner[116]\n",
      "  26 - OBJ[117]:Corner[117]\n",
      "  27 - OBJ[118]:Corner[118]\n",
      "  28 - OBJ[119]:Corner[119]\n",
      "  29 - OBJ[120]:Corner[120]\n",
      "  30 - OBJ[121]:Corner[121]\n",
      "  31 - OBJ[122]:Corner[122]\n",
      "  32 - OBJ[123]:Corner[123]\n",
      "  33 - OBJ[124]:Corner[124]\n",
      "  34 - OBJ[125]:Corner[125]\n",
      "  35 - OBJ[126]:Corner[126]\n",
      "  36 - OBJ[127]:Corner[127]\n",
      "  37 - OBJ[128]:Corner[128]\n",
      "  38 - OBJ[129]:Corner[129]\n",
      "  39 - OBJ[130]:Corner[130]\n",
      "  40 - OBJ[131]:Corner[131]\n",
      "  41 - OBJ[132]:Corner[132]\n",
      "  42 - OBJ[133]:Corner[133]\n",
      "  43 - OBJ[134]:Corner[134]\n",
      "  44 - OBJ[135]:Corner[135]\n",
      "  45 - OBJ[136]:Corner[136]\n",
      "  46 - OBJ[137]:Corner[137]\n",
      "  47 - OBJ[138]:Corner[138]\n",
      "  48 - OBJ[139]:Corner[139]\n",
      "  49 - OBJ[140]:Corner[140]\n",
      "  50 - OBJ[141]:Corner[141]\n",
      "  51 - OBJ[142]:Corner[142]\n",
      "  52 - OBJ[143]:Corner[143]\n",
      "  53 - OBJ[144]:Corner[144]\n"
     ]
    }
   ],
   "source": [
    "I.status()\n",
    "I.view()"
   ]
  },
  {
   "cell_type": "code",
   "execution_count": 17,
   "metadata": {
    "scrolled": true
   },
   "outputs": [
    {
     "name": "stdout",
     "output_type": "stream",
     "text": [
      "*** ERROR: KeyError ***\n",
      "Traceback (most recent call last):\n",
      "  File \"C:\\Users\\anwan\\Nextcloud\\Khan\\projects\\gsm\\gsm\\core\\controller.py\", line 310, in _step\n",
      "    phase.execute(data, player=player, action=action)\n",
      "  File \"C:\\Users\\anwan\\Nextcloud\\Khan\\projects\\gsm\\gsm\\common\\stages.py\", line 96, in execute\n",
      "    stage(self, C, player=player, action=action, **stage_info)\n",
      "  File \"C:\\Users\\anwan\\Nextcloud\\Khan\\projects\\gsm\\examples\\catan\\phases\\main.py\", line 59, in roll\n",
      "    hexes = C.state.numbers[self.roll]\n",
      "  File \"C:\\Users\\anwan\\Nextcloud\\Khan\\projects\\humpack\\humpack\\basic_containers.py\", line 191, in __getitem__\n",
      "    return self._data[item]\n",
      "KeyError: <bound method MainPhase.roll of t{'stack':False, 'current_stage':'roll', 'decision_info':None, 'player':t{'color':'White', 'name':'White', 'reserve':t{'road':14, 'settlement':3, 'city':4}, 'buildings':t{'road':t{GameObject(ID=149)}, 'settlement':t{GameObject(ID=148), GameObject(ID=162)}, 'city':t{}}, 'resources':t{'wood':0, 'brick':0, 'sheep':2, 'ore':0, 'wheat':0}, 'num_res':2, 'devcards':t{}, 'past_devcards':t{}, 'vps':2, 'ports':t{'3to1'}}, 'roll':5, 'devcard':None, 'card_info':None, 'bought_devcards':t{}, 'pre_check':'done'}>\n",
      "\n",
      "****************************\n"
     ]
    },
    {
     "ename": "AssertionError",
     "evalue": "",
     "output_type": "error",
     "traceback": [
      "\u001b[0;31m---------------------------------------------------------------------------\u001b[0m",
      "\u001b[0;31mAssertionError\u001b[0m                            Traceback (most recent call last)",
      "\u001b[0;32m<ipython-input-17-b738cf4fd2b3>\u001b[0m in \u001b[0;36m<module>\u001b[0;34m\u001b[0m\n\u001b[1;32m      1\u001b[0m \u001b[0;32mif\u001b[0m \u001b[0mI\u001b[0m\u001b[0;34m.\u001b[0m\u001b[0mactions\u001b[0m \u001b[0;32mis\u001b[0m \u001b[0;32mnot\u001b[0m \u001b[0;32mNone\u001b[0m\u001b[0;34m:\u001b[0m\u001b[0;34m\u001b[0m\u001b[0;34m\u001b[0m\u001b[0m\n\u001b[0;32m----> 2\u001b[0;31m     \u001b[0mI\u001b[0m\u001b[0;34m.\u001b[0m\u001b[0mstep\u001b[0m\u001b[0;34m(\u001b[0m\u001b[0;36m0\u001b[0m\u001b[0;34m)\u001b[0m\u001b[0;34m\u001b[0m\u001b[0;34m\u001b[0m\u001b[0m\n\u001b[0m\u001b[1;32m      3\u001b[0m \u001b[0;32melse\u001b[0m\u001b[0;34m:\u001b[0m\u001b[0;34m\u001b[0m\u001b[0;34m\u001b[0m\u001b[0m\n\u001b[1;32m      4\u001b[0m     \u001b[0mI\u001b[0m\u001b[0;34m.\u001b[0m\u001b[0mgo\u001b[0m\u001b[0;34m(\u001b[0m\u001b[0;34m)\u001b[0m\u001b[0;34m\u001b[0m\u001b[0;34m\u001b[0m\u001b[0m\n\u001b[1;32m      5\u001b[0m \u001b[0mI\u001b[0m\u001b[0;34m.\u001b[0m\u001b[0mstatus\u001b[0m\u001b[0;34m(\u001b[0m\u001b[0;34m)\u001b[0m\u001b[0;34m\u001b[0m\u001b[0;34m\u001b[0m\u001b[0m\n",
      "\u001b[0;32m/mnt/c/Users/anwan/Nextcloud/Khan/projects/gsm/gsm/viz.py\u001b[0m in \u001b[0;36mstep\u001b[0;34m(self, idx, user)\u001b[0m\n\u001b[1;32m    239\u001b[0m                 \u001b[0;32massert\u001b[0m \u001b[0mself\u001b[0m\u001b[0;34m.\u001b[0m\u001b[0mkey\u001b[0m \u001b[0;32mis\u001b[0m \u001b[0;32mnot\u001b[0m \u001b[0;32mNone\u001b[0m\u001b[0;34m\u001b[0m\u001b[0;34m\u001b[0m\u001b[0m\n\u001b[1;32m    240\u001b[0m \u001b[0;34m\u001b[0m\u001b[0m\n\u001b[0;32m--> 241\u001b[0;31m                 \u001b[0mself\u001b[0m\u001b[0;34m.\u001b[0m\u001b[0mmsg\u001b[0m \u001b[0;34m=\u001b[0m \u001b[0munjsonify\u001b[0m\u001b[0;34m(\u001b[0m\u001b[0mself\u001b[0m\u001b[0;34m.\u001b[0m\u001b[0m_execute\u001b[0m\u001b[0;34m(\u001b[0m\u001b[0;34m'action'\u001b[0m\u001b[0;34m,\u001b[0m \u001b[0muser\u001b[0m\u001b[0;34m,\u001b[0m \u001b[0mself\u001b[0m\u001b[0;34m.\u001b[0m\u001b[0mkey\u001b[0m\u001b[0;34m,\u001b[0m \u001b[0mgroup\u001b[0m\u001b[0;34m,\u001b[0m \u001b[0maction\u001b[0m\u001b[0;34m)\u001b[0m\u001b[0;34m)\u001b[0m\u001b[0;34m\u001b[0m\u001b[0;34m\u001b[0m\u001b[0m\n\u001b[0m\u001b[1;32m    242\u001b[0m \u001b[0;34m\u001b[0m\u001b[0m\n\u001b[1;32m    243\u001b[0m                 \u001b[0;32mif\u001b[0m \u001b[0misinstance\u001b[0m\u001b[0;34m(\u001b[0m\u001b[0mself\u001b[0m\u001b[0;34m.\u001b[0m\u001b[0mmsg\u001b[0m\u001b[0;34m,\u001b[0m \u001b[0mstr\u001b[0m\u001b[0;34m)\u001b[0m\u001b[0;34m:\u001b[0m\u001b[0;34m\u001b[0m\u001b[0;34m\u001b[0m\u001b[0m\n",
      "\u001b[0;32m/mnt/c/Users/anwan/Nextcloud/Khan/projects/gsm/gsm/viz.py\u001b[0m in \u001b[0;36m_execute\u001b[0;34m(self, *args, **kwargs)\u001b[0m\n\u001b[1;32m    125\u001b[0m                         \u001b[0;32melse\u001b[0m\u001b[0;34m:\u001b[0m\u001b[0;34m\u001b[0m\u001b[0;34m\u001b[0m\u001b[0m\n\u001b[1;32m    126\u001b[0m                                 \u001b[0mprint\u001b[0m\u001b[0;34m(\u001b[0m\u001b[0mtype\u001b[0m\u001b[0;34m(\u001b[0m\u001b[0mmsg\u001b[0m\u001b[0;34m)\u001b[0m\u001b[0;34m,\u001b[0m \u001b[0mmsg\u001b[0m\u001b[0;34m)\u001b[0m\u001b[0;34m\u001b[0m\u001b[0;34m\u001b[0m\u001b[0m\n\u001b[0;32m--> 127\u001b[0;31m                         \u001b[0;32massert\u001b[0m \u001b[0;32mFalse\u001b[0m\u001b[0;34m\u001b[0m\u001b[0;34m\u001b[0m\u001b[0m\n\u001b[0m\u001b[1;32m    128\u001b[0m                 \u001b[0;32mreturn\u001b[0m \u001b[0mmsg\u001b[0m\u001b[0;34m\u001b[0m\u001b[0;34m\u001b[0m\u001b[0m\n\u001b[1;32m    129\u001b[0m \u001b[0;34m\u001b[0m\u001b[0m\n",
      "\u001b[0;31mAssertionError\u001b[0m: "
     ]
    }
   ],
   "source": [
    "if I.actions is not None:\n",
    "    I.step(0)\n",
    "else:\n",
    "    I.go()\n",
    "I.status()\n",
    "I.view()"
   ]
  },
  {
   "cell_type": "code",
   "execution_count": 29,
   "metadata": {},
   "outputs": [],
   "source": [
    "# I.save('catan_setup')"
   ]
  },
  {
   "cell_type": "code",
   "execution_count": 30,
   "metadata": {
    "scrolled": true
   },
   "outputs": [
    {
     "data": {
      "text/html": [
       "<div id=\"52d6305c-9445-4e21-8d74-29764f9af347\" style=\"height: 600px; width:100%;\"></div>"
      ]
     },
     "metadata": {},
     "output_type": "display_data"
    },
    {
     "data": {
      "application/javascript": [
       "\n",
       "\t\trequire([\"https://rawgit.com/caldwell/renderjson/master/renderjson.js\"], function() {\n",
       "\t\t  renderjson.set_show_to_level(1)\n",
       "\t\t  document.getElementById('52d6305c-9445-4e21-8d74-29764f9af347').appendChild(renderjson({'options': {'loc-road': {'actions': {'s0': {'t0': {'s0': {'ID': '19', 'val': 'Edge[19]', 'type': 'obj'}, 's1': {'ID': '24', 'val': 'Edge[24]', 'type': 'obj'}}}}, 'desc': {'line': {'l0': 'Available Locations'}}}}, 'status': {'line': {'l0': 'Choose a location to place a road'}}, 'key': 'd95bafc8f2a4d27b', 'players': {'White': {'color': 'White', 'name': 'White', 'reserve': {'road': '15', 'settlement': '4', 'city': '4'}, 'buildings': {'road': {}, 'settlement': {'s0': {'_obj': '148'}}, 'city': {}}, 'resources': {'wood': '0', 'brick': '0', 'sheep': '0', 'ore': '0', 'wheat': '0'}, 'devcards': {}, 'past_devcards': {}, 'vps': '1', 'ports': {'s0': '3to1'}}, 'Blue': {'color': 'Red', 'name': 'Blue', 'reserve': {'road': '15', 'settlement': '5', 'city': '4'}, 'buildings': {'road': {}, 'settlement': {}, 'city': {}}, 'devcards': {}, 'past_devcards': {}, 'ports': {}}, 'Red': {'color': 'Blue', 'name': 'Red', 'reserve': {'road': '15', 'settlement': '5', 'city': '4'}, 'buildings': {'road': {}, 'settlement': {}, 'city': {}}, 'devcards': {}, 'past_devcards': {}, 'ports': {}}, 'Orange': {'color': 'Orange', 'name': 'Orange', 'reserve': {'road': '15', 'settlement': '5', 'city': '4'}, 'buildings': {'road': {}, 'settlement': {}, 'city': {}}, 'devcards': {}, 'past_devcards': {}, 'ports': {}}}, 'table': {'0': {'row': '0', 'col': '2', 'neighbors': {'l0': 'None', 'l1': {'_obj': '1'}, 'l2': {'_obj': '4'}, 'l3': {'_obj': '3'}, 'l4': 'None', 'l5': 'None'}, 'visible': {'s0': {'_player': 'White'}, 's1': {'_player': 'Blue'}, 's2': {'_player': 'Red'}, 's3': {'_player': 'Orange'}}, 'obj_type': 'Field', 'edges': {'l0': {'_obj': '19'}, 'l1': {'_obj': '20'}, 'l2': {'_obj': '21'}, 'l3': {'_obj': '22'}, 'l4': {'_obj': '23'}, 'l5': {'_obj': '24'}}, 'corners': {'l0': {'_obj': '91'}, 'l1': {'_obj': '92'}, 'l2': {'_obj': '93'}, 'l3': {'_obj': '94'}, 'l4': {'_obj': '95'}, 'l5': {'_obj': '96'}}, 'res': 'sheep', 'num': '2'}, '1': {'row': '0', 'col': '4', 'neighbors': {'l0': 'None', 'l1': {'_obj': '2'}, 'l2': {'_obj': '5'}, 'l3': {'_obj': '4'}, 'l4': {'_obj': '0'}, 'l5': 'None'}, 'visible': {'s0': {'_player': 'White'}, 's1': {'_player': 'Blue'}, 's2': {'_player': 'Red'}, 's3': {'_player': 'Orange'}}, 'obj_type': 'Field', 'edges': {'l0': {'_obj': '25'}, 'l1': {'_obj': '26'}, 'l2': {'_obj': '27'}, 'l3': {'_obj': '28'}, 'l4': {'_obj': '20'}, 'l5': {'_obj': '29'}}, 'corners': {'l0': {'_obj': '97'}, 'l1': {'_obj': '98'}, 'l2': {'_obj': '99'}, 'l3': {'_obj': '100'}, 'l4': {'_obj': '93'}, 'l5': {'_obj': '92'}}, 'res': 'sheep', 'num': '4'}, '2': {'row': '0', 'col': '6', 'neighbors': {'l0': 'None', 'l1': 'None', 'l2': {'_obj': '6'}, 'l3': {'_obj': '5'}, 'l4': {'_obj': '1'}, 'l5': 'None'}, 'visible': {'s0': {'_player': 'White'}, 's1': {'_player': 'Blue'}, 's2': {'_player': 'Red'}, 's3': {'_player': 'Orange'}}, 'obj_type': 'Field', 'edges': {'l0': {'_obj': '30'}, 'l1': {'_obj': '31'}, 'l2': {'_obj': '32'}, 'l3': {'_obj': '33'}, 'l4': {'_obj': '26'}, 'l5': {'_obj': '34'}}, 'corners': {'l0': {'_obj': '101'}, 'l1': {'_obj': '102'}, 'l2': {'_obj': '103'}, 'l3': {'_obj': '104'}, 'l4': {'_obj': '99'}, 'l5': {'_obj': '98'}}, 'res': 'brick', 'num': '5'}, '3': {'row': '1', 'col': '1', 'neighbors': {'l0': {'_obj': '0'}, 'l1': {'_obj': '4'}, 'l2': {'_obj': '8'}, 'l3': {'_obj': '7'}, 'l4': 'None', 'l5': 'None'}, 'visible': {'s0': {'_player': 'White'}, 's1': {'_player': 'Blue'}, 's2': {'_player': 'Red'}, 's3': {'_player': 'Orange'}}, 'obj_type': 'Field', 'edges': {'l0': {'_obj': '22'}, 'l1': {'_obj': '35'}, 'l2': {'_obj': '36'}, 'l3': {'_obj': '37'}, 'l4': {'_obj': '38'}, 'l5': {'_obj': '39'}}, 'corners': {'l0': {'_obj': '95'}, 'l1': {'_obj': '94'}, 'l2': {'_obj': '105'}, 'l3': {'_obj': '106'}, 'l4': {'_obj': '107'}, 'l5': {'_obj': '108'}}, 'res': 'wood', 'num': '11'}, '4': {'row': '1', 'col': '3', 'neighbors': {'l0': {'_obj': '1'}, 'l1': {'_obj': '5'}, 'l2': {'_obj': '9'}, 'l3': {'_obj': '8'}, 'l4': {'_obj': '3'}, 'l5': {'_obj': '0'}}, 'visible': {'s0': {'_player': 'White'}, 's1': {'_player': 'Blue'}, 's2': {'_player': 'Red'}, 's3': {'_player': 'Orange'}}, 'obj_type': 'Field', 'edges': {'l0': {'_obj': '28'}, 'l1': {'_obj': '40'}, 'l2': {'_obj': '41'}, 'l3': {'_obj': '42'}, 'l4': {'_obj': '35'}, 'l5': {'_obj': '21'}}, 'corners': {'l0': {'_obj': '93'}, 'l1': {'_obj': '100'}, 'l2': {'_obj': '109'}, 'l3': {'_obj': '110'}, 'l4': {'_obj': '105'}, 'l5': {'_obj': '94'}}, 'res': 'desert', 'robber': {'_obj': '146'}}, '5': {'row': '1', 'col': '5', 'neighbors': {'l0': {'_obj': '2'}, 'l1': {'_obj': '6'}, 'l2': {'_obj': '10'}, 'l3': {'_obj': '9'}, 'l4': {'_obj': '4'}, 'l5': {'_obj': '1'}}, 'visible': {'s0': {'_player': 'White'}, 's1': {'_player': 'Blue'}, 's2': {'_player': 'Red'}, 's3': {'_player': 'Orange'}}, 'obj_type': 'Field', 'edges': {'l0': {'_obj': '33'}, 'l1': {'_obj': '43'}, 'l2': {'_obj': '44'}, 'l3': {'_obj': '45'}, 'l4': {'_obj': '40'}, 'l5': {'_obj': '27'}}, 'corners': {'l0': {'_obj': '99'}, 'l1': {'_obj': '104'}, 'l2': {'_obj': '111'}, 'l3': {'_obj': '112'}, 'l4': {'_obj': '109'}, 'l5': {'_obj': '100'}}, 'res': 'sheep', 'num': '4'}, '6': {'row': '1', 'col': '7', 'neighbors': {'l0': 'None', 'l1': 'None', 'l2': {'_obj': '11'}, 'l3': {'_obj': '10'}, 'l4': {'_obj': '5'}, 'l5': {'_obj': '2'}}, 'visible': {'s0': {'_player': 'White'}, 's1': {'_player': 'Blue'}, 's2': {'_player': 'Red'}, 's3': {'_player': 'Orange'}}, 'obj_type': 'Field', 'edges': {'l0': {'_obj': '46'}, 'l1': {'_obj': '47'}, 'l2': {'_obj': '48'}, 'l3': {'_obj': '49'}, 'l4': {'_obj': '43'}, 'l5': {'_obj': '32'}}, 'corners': {'l0': {'_obj': '103'}, 'l1': {'_obj': '113'}, 'l2': {'_obj': '114'}, 'l3': {'_obj': '115'}, 'l4': {'_obj': '111'}, 'l5': {'_obj': '104'}}, 'res': 'wood', 'num': '6'}, '7': {'row': '2', 'col': '0', 'neighbors': {'l0': {'_obj': '3'}, 'l1': {'_obj': '8'}, 'l2': {'_obj': '12'}, 'l3': 'None', 'l4': 'None', 'l5': 'None'}, 'visible': {'s0': {'_player': 'White'}, 's1': {'_player': 'Blue'}, 's2': {'_player': 'Red'}, 's3': {'_player': 'Orange'}}, 'obj_type': 'Field', 'edges': {'l0': {'_obj': '37'}, 'l1': {'_obj': '50'}, 'l2': {'_obj': '51'}, 'l3': {'_obj': '52'}, 'l4': {'_obj': '53'}, 'l5': {'_obj': '54'}}, 'corners': {'l0': {'_obj': '107'}, 'l1': {'_obj': '106'}, 'l2': {'_obj': '116'}, 'l3': {'_obj': '117'}, 'l4': {'_obj': '118'}, 'l5': {'_obj': '119'}}, 'res': 'wheat', 'num': '5'}, '8': {'row': '2', 'col': '2', 'neighbors': {'l0': {'_obj': '4'}, 'l1': {'_obj': '9'}, 'l2': {'_obj': '13'}, 'l3': {'_obj': '12'}, 'l4': {'_obj': '7'}, 'l5': {'_obj': '3'}}, 'visible': {'s0': {'_player': 'White'}, 's1': {'_player': 'Blue'}, 's2': {'_player': 'Red'}, 's3': {'_player': 'Orange'}}, 'obj_type': 'Field', 'edges': {'l0': {'_obj': '42'}, 'l1': {'_obj': '55'}, 'l2': {'_obj': '56'}, 'l3': {'_obj': '57'}, 'l4': {'_obj': '50'}, 'l5': {'_obj': '36'}}, 'corners': {'l0': {'_obj': '105'}, 'l1': {'_obj': '110'}, 'l2': {'_obj': '120'}, 'l3': {'_obj': '121'}, 'l4': {'_obj': '116'}, 'l5': {'_obj': '106'}}, 'res': 'wheat', 'num': '8'}, '9': {'row': '2', 'col': '4', 'neighbors': {'l0': {'_obj': '5'}, 'l1': {'_obj': '10'}, 'l2': {'_obj': '14'}, 'l3': {'_obj': '13'}, 'l4': {'_obj': '8'}, 'l5': {'_obj': '4'}}, 'visible': {'s0': {'_player': 'White'}, 's1': {'_player': 'Blue'}, 's2': {'_player': 'Red'}, 's3': {'_player': 'Orange'}}, 'obj_type': 'Field', 'edges': {'l0': {'_obj': '45'}, 'l1': {'_obj': '58'}, 'l2': {'_obj': '59'}, 'l3': {'_obj': '60'}, 'l4': {'_obj': '55'}, 'l5': {'_obj': '41'}}, 'corners': {'l0': {'_obj': '109'}, 'l1': {'_obj': '112'}, 'l2': {'_obj': '122'}, 'l3': {'_obj': '123'}, 'l4': {'_obj': '120'}, 'l5': {'_obj': '110'}}, 'res': 'brick', 'num': '10'}, '10': {'row': '2', 'col': '6', 'neighbors': {'l0': {'_obj': '6'}, 'l1': {'_obj': '11'}, 'l2': {'_obj': '15'}, 'l3': {'_obj': '14'}, 'l4': {'_obj': '9'}, 'l5': {'_obj': '5'}}, 'visible': {'s0': {'_player': 'White'}, 's1': {'_player': 'Blue'}, 's2': {'_player': 'Red'}, 's3': {'_player': 'Orange'}}, 'obj_type': 'Field', 'edges': {'l0': {'_obj': '49'}, 'l1': {'_obj': '61'}, 'l2': {'_obj': '62'}, 'l3': {'_obj': '63'}, 'l4': {'_obj': '58'}, 'l5': {'_obj': '44'}}, 'corners': {'l0': {'_obj': '111'}, 'l1': {'_obj': '115'}, 'l2': {'_obj': '124'}, 'l3': {'_obj': '125'}, 'l4': {'_obj': '122'}, 'l5': {'_obj': '112'}}, 'res': 'sheep', 'num': '12'}, '11': {'row': '2', 'col': '8', 'neighbors': {'l0': 'None', 'l1': 'None', 'l2': 'None', 'l3': {'_obj': '15'}, 'l4': {'_obj': '10'}, 'l5': {'_obj': '6'}}, 'visible': {'s0': {'_player': 'White'}, 's1': {'_player': 'Blue'}, 's2': {'_player': 'Red'}, 's3': {'_player': 'Orange'}}, 'obj_type': 'Field', 'edges': {'l0': {'_obj': '64'}, 'l1': {'_obj': '65'}, 'l2': {'_obj': '66'}, 'l3': {'_obj': '67'}, 'l4': {'_obj': '61'}, 'l5': {'_obj': '48'}}, 'corners': {'l0': {'_obj': '114'}, 'l1': {'_obj': '126'}, 'l2': {'_obj': '127'}, 'l3': {'_obj': '128'}, 'l4': {'_obj': '124'}, 'l5': {'_obj': '115'}}, 'res': 'wood', 'num': '3'}, '12': {'row': '3', 'col': '1', 'neighbors': {'l0': {'_obj': '8'}, 'l1': {'_obj': '13'}, 'l2': {'_obj': '16'}, 'l3': 'None', 'l4': 'None', 'l5': {'_obj': '7'}}, 'visible': {'s0': {'_player': 'White'}, 's1': {'_player': 'Blue'}, 's2': {'_player': 'Red'}, 's3': {'_player': 'Orange'}}, 'obj_type': 'Field', 'edges': {'l0': {'_obj': '57'}, 'l1': {'_obj': '68'}, 'l2': {'_obj': '69'}, 'l3': {'_obj': '70'}, 'l4': {'_obj': '71'}, 'l5': {'_obj': '51'}}, 'corners': {'l0': {'_obj': '116'}, 'l1': {'_obj': '121'}, 'l2': {'_obj': '129'}, 'l3': {'_obj': '130'}, 'l4': {'_obj': '131'}, 'l5': {'_obj': '117'}}, 'res': 'ore', 'num': '9'}, '13': {'row': '3', 'col': '3', 'neighbors': {'l0': {'_obj': '9'}, 'l1': {'_obj': '14'}, 'l2': {'_obj': '17'}, 'l3': {'_obj': '16'}, 'l4': {'_obj': '12'}, 'l5': {'_obj': '8'}}, 'visible': {'s0': {'_player': 'White'}, 's1': {'_player': 'Blue'}, 's2': {'_player': 'Red'}, 's3': {'_player': 'Orange'}}, 'obj_type': 'Field', 'edges': {'l0': {'_obj': '60'}, 'l1': {'_obj': '72'}, 'l2': {'_obj': '73'}, 'l3': {'_obj': '74'}, 'l4': {'_obj': '68'}, 'l5': {'_obj': '56'}}, 'corners': {'l0': {'_obj': '120'}, 'l1': {'_obj': '123'}, 'l2': {'_obj': '132'}, 'l3': {'_obj': '133'}, 'l4': {'_obj': '129'}, 'l5': {'_obj': '121'}}, 'res': 'ore', 'num': '9'}, '14': {'row': '3', 'col': '5', 'neighbors': {'l0': {'_obj': '10'}, 'l1': {'_obj': '15'}, 'l2': {'_obj': '18'}, 'l3': {'_obj': '17'}, 'l4': {'_obj': '13'}, 'l5': {'_obj': '9'}}, 'visible': {'s0': {'_player': 'White'}, 's1': {'_player': 'Blue'}, 's2': {'_player': 'Red'}, 's3': {'_player': 'Orange'}}, 'obj_type': 'Field', 'edges': {'l0': {'_obj': '63'}, 'l1': {'_obj': '75'}, 'l2': {'_obj': '76'}, 'l3': {'_obj': '77'}, 'l4': {'_obj': '72'}, 'l5': {'_obj': '59'}}, 'corners': {'l0': {'_obj': '122'}, 'l1': {'_obj': '125'}, 'l2': {'_obj': '134'}, 'l3': {'_obj': '135'}, 'l4': {'_obj': '132'}, 'l5': {'_obj': '123'}}, 'res': 'brick', 'num': '10'}, '15': {'row': '3', 'col': '7', 'neighbors': {'l0': {'_obj': '11'}, 'l1': 'None', 'l2': 'None', 'l3': {'_obj': '18'}, 'l4': {'_obj': '14'}, 'l5': {'_obj': '10'}}, 'visible': {'s0': {'_player': 'White'}, 's1': {'_player': 'Blue'}, 's2': {'_player': 'Red'}, 's3': {'_player': 'Orange'}}, 'obj_type': 'Field', 'edges': {'l0': {'_obj': '67'}, 'l1': {'_obj': '78'}, 'l2': {'_obj': '79'}, 'l3': {'_obj': '80'}, 'l4': {'_obj': '75'}, 'l5': {'_obj': '62'}}, 'corners': {'l0': {'_obj': '124'}, 'l1': {'_obj': '128'}, 'l2': {'_obj': '136'}, 'l3': {'_obj': '137'}, 'l4': {'_obj': '134'}, 'l5': {'_obj': '125'}}, 'res': 'wood', 'num': '8'}, '16': {'row': '4', 'col': '2', 'neighbors': {'l0': {'_obj': '13'}, 'l1': {'_obj': '17'}, 'l2': 'None', 'l3': 'None', 'l4': 'None', 'l5': {'_obj': '12'}}, 'visible': {'s0': {'_player': 'White'}, 's1': {'_player': 'Blue'}, 's2': {'_player': 'Red'}, 's3': {'_player': 'Orange'}}, 'obj_type': 'Field', 'edges': {'l0': {'_obj': '74'}, 'l1': {'_obj': '81'}, 'l2': {'_obj': '82'}, 'l3': {'_obj': '83'}, 'l4': {'_obj': '84'}, 'l5': {'_obj': '69'}}, 'corners': {'l0': {'_obj': '129'}, 'l1': {'_obj': '133'}, 'l2': {'_obj': '138'}, 'l3': {'_obj': '139'}, 'l4': {'_obj': '140'}, 'l5': {'_obj': '130'}}, 'res': 'ore', 'num': '11'}, '17': {'row': '4', 'col': '4', 'neighbors': {'l0': {'_obj': '14'}, 'l1': {'_obj': '18'}, 'l2': 'None', 'l3': 'None', 'l4': {'_obj': '16'}, 'l5': {'_obj': '13'}}, 'visible': {'s0': {'_player': 'White'}, 's1': {'_player': 'Blue'}, 's2': {'_player': 'Red'}, 's3': {'_player': 'Orange'}}, 'obj_type': 'Field', 'edges': {'l0': {'_obj': '77'}, 'l1': {'_obj': '85'}, 'l2': {'_obj': '86'}, 'l3': {'_obj': '87'}, 'l4': {'_obj': '81'}, 'l5': {'_obj': '73'}}, 'corners': {'l0': {'_obj': '132'}, 'l1': {'_obj': '135'}, 'l2': {'_obj': '141'}, 'l3': {'_obj': '142'}, 'l4': {'_obj': '138'}, 'l5': {'_obj': '133'}}, 'res': 'wheat', 'num': '6'}, '18': {'row': '4', 'col': '6', 'neighbors': {'l0': {'_obj': '15'}, 'l1': 'None', 'l2': 'None', 'l3': 'None', 'l4': {'_obj': '17'}, 'l5': {'_obj': '14'}}, 'visible': {'s0': {'_player': 'White'}, 's1': {'_player': 'Blue'}, 's2': {'_player': 'Red'}, 's3': {'_player': 'Orange'}}, 'obj_type': 'Field', 'edges': {'l0': {'_obj': '80'}, 'l1': {'_obj': '88'}, 'l2': {'_obj': '89'}, 'l3': {'_obj': '90'}, 'l4': {'_obj': '85'}, 'l5': {'_obj': '76'}}, 'corners': {'l0': {'_obj': '134'}, 'l1': {'_obj': '137'}, 'l2': {'_obj': '143'}, 'l3': {'_obj': '144'}, 'l4': {'_obj': '141'}, 'l5': {'_obj': '135'}}, 'res': 'wheat', 'num': '3'}, '19': {'fields': {'l0': 'None', 'l1': {'_obj': '0'}}, 'visible': {'s0': {'_player': 'White'}, 's1': {'_player': 'Blue'}, 's2': {'_player': 'Red'}, 's3': {'_player': 'Orange'}}, 'obj_type': 'Edge', 'corners': {'l0': {'_obj': '92'}, 'l1': {'_obj': '91'}}}, '20': {'fields': {'l0': {'_obj': '1'}, 'l1': {'_obj': '0'}}, 'visible': {'s0': {'_player': 'White'}, 's1': {'_player': 'Blue'}, 's2': {'_player': 'Red'}, 's3': {'_player': 'Orange'}}, 'obj_type': 'Edge', 'corners': {'l0': {'_obj': '92'}, 'l1': {'_obj': '93'}}}, '21': {'fields': {'l0': {'_obj': '4'}, 'l1': {'_obj': '0'}}, 'visible': {'s0': {'_player': 'White'}, 's1': {'_player': 'Blue'}, 's2': {'_player': 'Red'}, 's3': {'_player': 'Orange'}}, 'obj_type': 'Edge', 'corners': {'l0': {'_obj': '93'}, 'l1': {'_obj': '94'}}}, '22': {'fields': {'l0': {'_obj': '0'}, 'l1': {'_obj': '3'}}, 'visible': {'s0': {'_player': 'White'}, 's1': {'_player': 'Blue'}, 's2': {'_player': 'Red'}, 's3': {'_player': 'Orange'}}, 'obj_type': 'Edge', 'corners': {'l0': {'_obj': '94'}, 'l1': {'_obj': '95'}}}, '23': {'fields': {'l0': {'_obj': '0'}, 'l1': 'None'}, 'visible': {'s0': {'_player': 'White'}, 's1': {'_player': 'Blue'}, 's2': {'_player': 'Red'}, 's3': {'_player': 'Orange'}}, 'obj_type': 'Edge', 'corners': {'l0': {'_obj': '96'}, 'l1': {'_obj': '95'}}}, '24': {'fields': {'l0': {'_obj': '0'}, 'l1': 'None'}, 'visible': {'s0': {'_player': 'White'}, 's1': {'_player': 'Blue'}, 's2': {'_player': 'Red'}, 's3': {'_player': 'Orange'}}, 'obj_type': 'Edge', 'corners': {'l0': {'_obj': '91'}, 'l1': {'_obj': '96'}}}, '25': {'fields': {'l0': 'None', 'l1': {'_obj': '1'}}, 'visible': {'s0': {'_player': 'White'}, 's1': {'_player': 'Blue'}, 's2': {'_player': 'Red'}, 's3': {'_player': 'Orange'}}, 'obj_type': 'Edge', 'corners': {'l0': {'_obj': '98'}, 'l1': {'_obj': '97'}}}, '26': {'fields': {'l0': {'_obj': '2'}, 'l1': {'_obj': '1'}}, 'visible': {'s0': {'_player': 'White'}, 's1': {'_player': 'Blue'}, 's2': {'_player': 'Red'}, 's3': {'_player': 'Orange'}}, 'obj_type': 'Edge', 'corners': {'l0': {'_obj': '98'}, 'l1': {'_obj': '99'}}}, '27': {'fields': {'l0': {'_obj': '5'}, 'l1': {'_obj': '1'}}, 'visible': {'s0': {'_player': 'White'}, 's1': {'_player': 'Blue'}, 's2': {'_player': 'Red'}, 's3': {'_player': 'Orange'}}, 'obj_type': 'Edge', 'corners': {'l0': {'_obj': '99'}, 'l1': {'_obj': '100'}}}, '28': {'fields': {'l0': {'_obj': '1'}, 'l1': {'_obj': '4'}}, 'visible': {'s0': {'_player': 'White'}, 's1': {'_player': 'Blue'}, 's2': {'_player': 'Red'}, 's3': {'_player': 'Orange'}}, 'obj_type': 'Edge', 'corners': {'l0': {'_obj': '100'}, 'l1': {'_obj': '93'}}}, '29': {'fields': {'l0': {'_obj': '1'}, 'l1': 'None'}, 'visible': {'s0': {'_player': 'White'}, 's1': {'_player': 'Blue'}, 's2': {'_player': 'Red'}, 's3': {'_player': 'Orange'}}, 'obj_type': 'Edge', 'corners': {'l0': {'_obj': '97'}, 'l1': {'_obj': '92'}}}, '30': {'fields': {'l0': 'None', 'l1': {'_obj': '2'}}, 'visible': {'s0': {'_player': 'White'}, 's1': {'_player': 'Blue'}, 's2': {'_player': 'Red'}, 's3': {'_player': 'Orange'}}, 'obj_type': 'Edge', 'corners': {'l0': {'_obj': '102'}, 'l1': {'_obj': '101'}}}, '31': {'fields': {'l0': 'None', 'l1': {'_obj': '2'}}, 'visible': {'s0': {'_player': 'White'}, 's1': {'_player': 'Blue'}, 's2': {'_player': 'Red'}, 's3': {'_player': 'Orange'}}, 'obj_type': 'Edge', 'corners': {'l0': {'_obj': '102'}, 'l1': {'_obj': '103'}}}, '32': {'fields': {'l0': {'_obj': '6'}, 'l1': {'_obj': '2'}}, 'visible': {'s0': {'_player': 'White'}, 's1': {'_player': 'Blue'}, 's2': {'_player': 'Red'}, 's3': {'_player': 'Orange'}}, 'obj_type': 'Edge', 'corners': {'l0': {'_obj': '103'}, 'l1': {'_obj': '104'}}}, '33': {'fields': {'l0': {'_obj': '2'}, 'l1': {'_obj': '5'}}, 'visible': {'s0': {'_player': 'White'}, 's1': {'_player': 'Blue'}, 's2': {'_player': 'Red'}, 's3': {'_player': 'Orange'}}, 'obj_type': 'Edge', 'corners': {'l0': {'_obj': '104'}, 'l1': {'_obj': '99'}}}, '34': {'fields': {'l0': {'_obj': '2'}, 'l1': 'None'}, 'visible': {'s0': {'_player': 'White'}, 's1': {'_player': 'Blue'}, 's2': {'_player': 'Red'}, 's3': {'_player': 'Orange'}}, 'obj_type': 'Edge', 'corners': {'l0': {'_obj': '101'}, 'l1': {'_obj': '98'}}}, '35': {'fields': {'l0': {'_obj': '4'}, 'l1': {'_obj': '3'}}, 'visible': {'s0': {'_player': 'White'}, 's1': {'_player': 'Blue'}, 's2': {'_player': 'Red'}, 's3': {'_player': 'Orange'}}, 'obj_type': 'Edge', 'corners': {'l0': {'_obj': '94'}, 'l1': {'_obj': '105'}}}, '36': {'fields': {'l0': {'_obj': '8'}, 'l1': {'_obj': '3'}}, 'visible': {'s0': {'_player': 'White'}, 's1': {'_player': 'Blue'}, 's2': {'_player': 'Red'}, 's3': {'_player': 'Orange'}}, 'obj_type': 'Edge', 'corners': {'l0': {'_obj': '105'}, 'l1': {'_obj': '106'}}}, '37': {'fields': {'l0': {'_obj': '3'}, 'l1': {'_obj': '7'}}, 'visible': {'s0': {'_player': 'White'}, 's1': {'_player': 'Blue'}, 's2': {'_player': 'Red'}, 's3': {'_player': 'Orange'}}, 'obj_type': 'Edge', 'corners': {'l0': {'_obj': '106'}, 'l1': {'_obj': '107'}}}, '38': {'fields': {'l0': {'_obj': '3'}, 'l1': 'None'}, 'visible': {'s0': {'_player': 'White'}, 's1': {'_player': 'Blue'}, 's2': {'_player': 'Red'}, 's3': {'_player': 'Orange'}}, 'obj_type': 'Edge', 'corners': {'l0': {'_obj': '108'}, 'l1': {'_obj': '107'}}}, '39': {'fields': {'l0': {'_obj': '3'}, 'l1': 'None'}, 'visible': {'s0': {'_player': 'White'}, 's1': {'_player': 'Blue'}, 's2': {'_player': 'Red'}, 's3': {'_player': 'Orange'}}, 'obj_type': 'Edge', 'corners': {'l0': {'_obj': '95'}, 'l1': {'_obj': '108'}}}, '40': {'fields': {'l0': {'_obj': '5'}, 'l1': {'_obj': '4'}}, 'visible': {'s0': {'_player': 'White'}, 's1': {'_player': 'Blue'}, 's2': {'_player': 'Red'}, 's3': {'_player': 'Orange'}}, 'obj_type': 'Edge', 'corners': {'l0': {'_obj': '100'}, 'l1': {'_obj': '109'}}}, '41': {'fields': {'l0': {'_obj': '9'}, 'l1': {'_obj': '4'}}, 'visible': {'s0': {'_player': 'White'}, 's1': {'_player': 'Blue'}, 's2': {'_player': 'Red'}, 's3': {'_player': 'Orange'}}, 'obj_type': 'Edge', 'corners': {'l0': {'_obj': '109'}, 'l1': {'_obj': '110'}}}, '42': {'fields': {'l0': {'_obj': '4'}, 'l1': {'_obj': '8'}}, 'visible': {'s0': {'_player': 'White'}, 's1': {'_player': 'Blue'}, 's2': {'_player': 'Red'}, 's3': {'_player': 'Orange'}}, 'obj_type': 'Edge', 'corners': {'l0': {'_obj': '110'}, 'l1': {'_obj': '105'}}}, '43': {'fields': {'l0': {'_obj': '6'}, 'l1': {'_obj': '5'}}, 'visible': {'s0': {'_player': 'White'}, 's1': {'_player': 'Blue'}, 's2': {'_player': 'Red'}, 's3': {'_player': 'Orange'}}, 'obj_type': 'Edge', 'corners': {'l0': {'_obj': '104'}, 'l1': {'_obj': '111'}}}, '44': {'fields': {'l0': {'_obj': '10'}, 'l1': {'_obj': '5'}}, 'visible': {'s0': {'_player': 'White'}, 's1': {'_player': 'Blue'}, 's2': {'_player': 'Red'}, 's3': {'_player': 'Orange'}}, 'obj_type': 'Edge', 'corners': {'l0': {'_obj': '111'}, 'l1': {'_obj': '112'}}}, '45': {'fields': {'l0': {'_obj': '5'}, 'l1': {'_obj': '9'}}, 'visible': {'s0': {'_player': 'White'}, 's1': {'_player': 'Blue'}, 's2': {'_player': 'Red'}, 's3': {'_player': 'Orange'}}, 'obj_type': 'Edge', 'corners': {'l0': {'_obj': '112'}, 'l1': {'_obj': '109'}}}, '46': {'fields': {'l0': 'None', 'l1': {'_obj': '6'}}, 'visible': {'s0': {'_player': 'White'}, 's1': {'_player': 'Blue'}, 's2': {'_player': 'Red'}, 's3': {'_player': 'Orange'}}, 'obj_type': 'Edge', 'corners': {'l0': {'_obj': '113'}, 'l1': {'_obj': '103'}}}, '47': {'fields': {'l0': 'None', 'l1': {'_obj': '6'}}, 'visible': {'s0': {'_player': 'White'}, 's1': {'_player': 'Blue'}, 's2': {'_player': 'Red'}, 's3': {'_player': 'Orange'}}, 'obj_type': 'Edge', 'corners': {'l0': {'_obj': '113'}, 'l1': {'_obj': '114'}}}, '48': {'fields': {'l0': {'_obj': '11'}, 'l1': {'_obj': '6'}}, 'visible': {'s0': {'_player': 'White'}, 's1': {'_player': 'Blue'}, 's2': {'_player': 'Red'}, 's3': {'_player': 'Orange'}}, 'obj_type': 'Edge', 'corners': {'l0': {'_obj': '114'}, 'l1': {'_obj': '115'}}}, '49': {'fields': {'l0': {'_obj': '6'}, 'l1': {'_obj': '10'}}, 'visible': {'s0': {'_player': 'White'}, 's1': {'_player': 'Blue'}, 's2': {'_player': 'Red'}, 's3': {'_player': 'Orange'}}, 'obj_type': 'Edge', 'corners': {'l0': {'_obj': '115'}, 'l1': {'_obj': '111'}}}, '50': {'fields': {'l0': {'_obj': '8'}, 'l1': {'_obj': '7'}}, 'visible': {'s0': {'_player': 'White'}, 's1': {'_player': 'Blue'}, 's2': {'_player': 'Red'}, 's3': {'_player': 'Orange'}}, 'obj_type': 'Edge', 'corners': {'l0': {'_obj': '106'}, 'l1': {'_obj': '116'}}}, '51': {'fields': {'l0': {'_obj': '12'}, 'l1': {'_obj': '7'}}, 'visible': {'s0': {'_player': 'White'}, 's1': {'_player': 'Blue'}, 's2': {'_player': 'Red'}, 's3': {'_player': 'Orange'}}, 'obj_type': 'Edge', 'corners': {'l0': {'_obj': '116'}, 'l1': {'_obj': '117'}}}, '52': {'fields': {'l0': {'_obj': '7'}, 'l1': 'None'}, 'visible': {'s0': {'_player': 'White'}, 's1': {'_player': 'Blue'}, 's2': {'_player': 'Red'}, 's3': {'_player': 'Orange'}}, 'obj_type': 'Edge', 'corners': {'l0': {'_obj': '117'}, 'l1': {'_obj': '118'}}}, '53': {'fields': {'l0': {'_obj': '7'}, 'l1': 'None'}, 'visible': {'s0': {'_player': 'White'}, 's1': {'_player': 'Blue'}, 's2': {'_player': 'Red'}, 's3': {'_player': 'Orange'}}, 'obj_type': 'Edge', 'corners': {'l0': {'_obj': '119'}, 'l1': {'_obj': '118'}}}, '54': {'fields': {'l0': {'_obj': '7'}, 'l1': 'None'}, 'visible': {'s0': {'_player': 'White'}, 's1': {'_player': 'Blue'}, 's2': {'_player': 'Red'}, 's3': {'_player': 'Orange'}}, 'obj_type': 'Edge', 'corners': {'l0': {'_obj': '107'}, 'l1': {'_obj': '119'}}}, '55': {'fields': {'l0': {'_obj': '9'}, 'l1': {'_obj': '8'}}, 'visible': {'s0': {'_player': 'White'}, 's1': {'_player': 'Blue'}, 's2': {'_player': 'Red'}, 's3': {'_player': 'Orange'}}, 'obj_type': 'Edge', 'corners': {'l0': {'_obj': '110'}, 'l1': {'_obj': '120'}}}, '56': {'fields': {'l0': {'_obj': '13'}, 'l1': {'_obj': '8'}}, 'visible': {'s0': {'_player': 'White'}, 's1': {'_player': 'Blue'}, 's2': {'_player': 'Red'}, 's3': {'_player': 'Orange'}}, 'obj_type': 'Edge', 'corners': {'l0': {'_obj': '120'}, 'l1': {'_obj': '121'}}}, '57': {'fields': {'l0': {'_obj': '8'}, 'l1': {'_obj': '12'}}, 'visible': {'s0': {'_player': 'White'}, 's1': {'_player': 'Blue'}, 's2': {'_player': 'Red'}, 's3': {'_player': 'Orange'}}, 'obj_type': 'Edge', 'corners': {'l0': {'_obj': '121'}, 'l1': {'_obj': '116'}}}, '58': {'fields': {'l0': {'_obj': '10'}, 'l1': {'_obj': '9'}}, 'visible': {'s0': {'_player': 'White'}, 's1': {'_player': 'Blue'}, 's2': {'_player': 'Red'}, 's3': {'_player': 'Orange'}}, 'obj_type': 'Edge', 'corners': {'l0': {'_obj': '112'}, 'l1': {'_obj': '122'}}}, '59': {'fields': {'l0': {'_obj': '14'}, 'l1': {'_obj': '9'}}, 'visible': {'s0': {'_player': 'White'}, 's1': {'_player': 'Blue'}, 's2': {'_player': 'Red'}, 's3': {'_player': 'Orange'}}, 'obj_type': 'Edge', 'corners': {'l0': {'_obj': '122'}, 'l1': {'_obj': '123'}}}, '60': {'fields': {'l0': {'_obj': '9'}, 'l1': {'_obj': '13'}}, 'visible': {'s0': {'_player': 'White'}, 's1': {'_player': 'Blue'}, 's2': {'_player': 'Red'}, 's3': {'_player': 'Orange'}}, 'obj_type': 'Edge', 'corners': {'l0': {'_obj': '123'}, 'l1': {'_obj': '120'}}}, '61': {'fields': {'l0': {'_obj': '11'}, 'l1': {'_obj': '10'}}, 'visible': {'s0': {'_player': 'White'}, 's1': {'_player': 'Blue'}, 's2': {'_player': 'Red'}, 's3': {'_player': 'Orange'}}, 'obj_type': 'Edge', 'corners': {'l0': {'_obj': '115'}, 'l1': {'_obj': '124'}}}, '62': {'fields': {'l0': {'_obj': '15'}, 'l1': {'_obj': '10'}}, 'visible': {'s0': {'_player': 'White'}, 's1': {'_player': 'Blue'}, 's2': {'_player': 'Red'}, 's3': {'_player': 'Orange'}}, 'obj_type': 'Edge', 'corners': {'l0': {'_obj': '124'}, 'l1': {'_obj': '125'}}}, '63': {'fields': {'l0': {'_obj': '10'}, 'l1': {'_obj': '14'}}, 'visible': {'s0': {'_player': 'White'}, 's1': {'_player': 'Blue'}, 's2': {'_player': 'Red'}, 's3': {'_player': 'Orange'}}, 'obj_type': 'Edge', 'corners': {'l0': {'_obj': '125'}, 'l1': {'_obj': '122'}}}, '64': {'fields': {'l0': 'None', 'l1': {'_obj': '11'}}, 'visible': {'s0': {'_player': 'White'}, 's1': {'_player': 'Blue'}, 's2': {'_player': 'Red'}, 's3': {'_player': 'Orange'}}, 'obj_type': 'Edge', 'corners': {'l0': {'_obj': '126'}, 'l1': {'_obj': '114'}}}, '65': {'fields': {'l0': 'None', 'l1': {'_obj': '11'}}, 'visible': {'s0': {'_player': 'White'}, 's1': {'_player': 'Blue'}, 's2': {'_player': 'Red'}, 's3': {'_player': 'Orange'}}, 'obj_type': 'Edge', 'corners': {'l0': {'_obj': '126'}, 'l1': {'_obj': '127'}}}, '66': {'fields': {'l0': 'None', 'l1': {'_obj': '11'}}, 'visible': {'s0': {'_player': 'White'}, 's1': {'_player': 'Blue'}, 's2': {'_player': 'Red'}, 's3': {'_player': 'Orange'}}, 'obj_type': 'Edge', 'corners': {'l0': {'_obj': '127'}, 'l1': {'_obj': '128'}}}, '67': {'fields': {'l0': {'_obj': '11'}, 'l1': {'_obj': '15'}}, 'visible': {'s0': {'_player': 'White'}, 's1': {'_player': 'Blue'}, 's2': {'_player': 'Red'}, 's3': {'_player': 'Orange'}}, 'obj_type': 'Edge', 'corners': {'l0': {'_obj': '128'}, 'l1': {'_obj': '124'}}}, '68': {'fields': {'l0': {'_obj': '13'}, 'l1': {'_obj': '12'}}, 'visible': {'s0': {'_player': 'White'}, 's1': {'_player': 'Blue'}, 's2': {'_player': 'Red'}, 's3': {'_player': 'Orange'}}, 'obj_type': 'Edge', 'corners': {'l0': {'_obj': '121'}, 'l1': {'_obj': '129'}}}, '69': {'fields': {'l0': {'_obj': '16'}, 'l1': {'_obj': '12'}}, 'visible': {'s0': {'_player': 'White'}, 's1': {'_player': 'Blue'}, 's2': {'_player': 'Red'}, 's3': {'_player': 'Orange'}}, 'obj_type': 'Edge', 'corners': {'l0': {'_obj': '129'}, 'l1': {'_obj': '130'}}}, '70': {'fields': {'l0': {'_obj': '12'}, 'l1': 'None'}, 'visible': {'s0': {'_player': 'White'}, 's1': {'_player': 'Blue'}, 's2': {'_player': 'Red'}, 's3': {'_player': 'Orange'}}, 'obj_type': 'Edge', 'corners': {'l0': {'_obj': '130'}, 'l1': {'_obj': '131'}}}, '71': {'fields': {'l0': {'_obj': '12'}, 'l1': 'None'}, 'visible': {'s0': {'_player': 'White'}, 's1': {'_player': 'Blue'}, 's2': {'_player': 'Red'}, 's3': {'_player': 'Orange'}}, 'obj_type': 'Edge', 'corners': {'l0': {'_obj': '117'}, 'l1': {'_obj': '131'}}}, '72': {'fields': {'l0': {'_obj': '14'}, 'l1': {'_obj': '13'}}, 'visible': {'s0': {'_player': 'White'}, 's1': {'_player': 'Blue'}, 's2': {'_player': 'Red'}, 's3': {'_player': 'Orange'}}, 'obj_type': 'Edge', 'corners': {'l0': {'_obj': '123'}, 'l1': {'_obj': '132'}}}, '73': {'fields': {'l0': {'_obj': '17'}, 'l1': {'_obj': '13'}}, 'visible': {'s0': {'_player': 'White'}, 's1': {'_player': 'Blue'}, 's2': {'_player': 'Red'}, 's3': {'_player': 'Orange'}}, 'obj_type': 'Edge', 'corners': {'l0': {'_obj': '132'}, 'l1': {'_obj': '133'}}}, '74': {'fields': {'l0': {'_obj': '13'}, 'l1': {'_obj': '16'}}, 'visible': {'s0': {'_player': 'White'}, 's1': {'_player': 'Blue'}, 's2': {'_player': 'Red'}, 's3': {'_player': 'Orange'}}, 'obj_type': 'Edge', 'corners': {'l0': {'_obj': '133'}, 'l1': {'_obj': '129'}}}, '75': {'fields': {'l0': {'_obj': '15'}, 'l1': {'_obj': '14'}}, 'visible': {'s0': {'_player': 'White'}, 's1': {'_player': 'Blue'}, 's2': {'_player': 'Red'}, 's3': {'_player': 'Orange'}}, 'obj_type': 'Edge', 'corners': {'l0': {'_obj': '125'}, 'l1': {'_obj': '134'}}}, '76': {'fields': {'l0': {'_obj': '18'}, 'l1': {'_obj': '14'}}, 'visible': {'s0': {'_player': 'White'}, 's1': {'_player': 'Blue'}, 's2': {'_player': 'Red'}, 's3': {'_player': 'Orange'}}, 'obj_type': 'Edge', 'corners': {'l0': {'_obj': '134'}, 'l1': {'_obj': '135'}}}, '77': {'fields': {'l0': {'_obj': '14'}, 'l1': {'_obj': '17'}}, 'visible': {'s0': {'_player': 'White'}, 's1': {'_player': 'Blue'}, 's2': {'_player': 'Red'}, 's3': {'_player': 'Orange'}}, 'obj_type': 'Edge', 'corners': {'l0': {'_obj': '135'}, 'l1': {'_obj': '132'}}}, '78': {'fields': {'l0': 'None', 'l1': {'_obj': '15'}}, 'visible': {'s0': {'_player': 'White'}, 's1': {'_player': 'Blue'}, 's2': {'_player': 'Red'}, 's3': {'_player': 'Orange'}}, 'obj_type': 'Edge', 'corners': {'l0': {'_obj': '128'}, 'l1': {'_obj': '136'}}}, '79': {'fields': {'l0': 'None', 'l1': {'_obj': '15'}}, 'visible': {'s0': {'_player': 'White'}, 's1': {'_player': 'Blue'}, 's2': {'_player': 'Red'}, 's3': {'_player': 'Orange'}}, 'obj_type': 'Edge', 'corners': {'l0': {'_obj': '136'}, 'l1': {'_obj': '137'}}}, '80': {'fields': {'l0': {'_obj': '15'}, 'l1': {'_obj': '18'}}, 'visible': {'s0': {'_player': 'White'}, 's1': {'_player': 'Blue'}, 's2': {'_player': 'Red'}, 's3': {'_player': 'Orange'}}, 'obj_type': 'Edge', 'corners': {'l0': {'_obj': '137'}, 'l1': {'_obj': '134'}}}, '81': {'fields': {'l0': {'_obj': '17'}, 'l1': {'_obj': '16'}}, 'visible': {'s0': {'_player': 'White'}, 's1': {'_player': 'Blue'}, 's2': {'_player': 'Red'}, 's3': {'_player': 'Orange'}}, 'obj_type': 'Edge', 'corners': {'l0': {'_obj': '133'}, 'l1': {'_obj': '138'}}}, '82': {'fields': {'l0': 'None', 'l1': {'_obj': '16'}}, 'visible': {'s0': {'_player': 'White'}, 's1': {'_player': 'Blue'}, 's2': {'_player': 'Red'}, 's3': {'_player': 'Orange'}}, 'obj_type': 'Edge', 'corners': {'l0': {'_obj': '138'}, 'l1': {'_obj': '139'}}}, '83': {'fields': {'l0': {'_obj': '16'}, 'l1': 'None'}, 'visible': {'s0': {'_player': 'White'}, 's1': {'_player': 'Blue'}, 's2': {'_player': 'Red'}, 's3': {'_player': 'Orange'}}, 'obj_type': 'Edge', 'corners': {'l0': {'_obj': '139'}, 'l1': {'_obj': '140'}}}, '84': {'fields': {'l0': {'_obj': '16'}, 'l1': 'None'}, 'visible': {'s0': {'_player': 'White'}, 's1': {'_player': 'Blue'}, 's2': {'_player': 'Red'}, 's3': {'_player': 'Orange'}}, 'obj_type': 'Edge', 'corners': {'l0': {'_obj': '130'}, 'l1': {'_obj': '140'}}}, '85': {'fields': {'l0': {'_obj': '18'}, 'l1': {'_obj': '17'}}, 'visible': {'s0': {'_player': 'White'}, 's1': {'_player': 'Blue'}, 's2': {'_player': 'Red'}, 's3': {'_player': 'Orange'}}, 'obj_type': 'Edge', 'corners': {'l0': {'_obj': '135'}, 'l1': {'_obj': '141'}}}, '86': {'fields': {'l0': 'None', 'l1': {'_obj': '17'}}, 'visible': {'s0': {'_player': 'White'}, 's1': {'_player': 'Blue'}, 's2': {'_player': 'Red'}, 's3': {'_player': 'Orange'}}, 'obj_type': 'Edge', 'corners': {'l0': {'_obj': '141'}, 'l1': {'_obj': '142'}}}, '87': {'fields': {'l0': {'_obj': '17'}, 'l1': 'None'}, 'visible': {'s0': {'_player': 'White'}, 's1': {'_player': 'Blue'}, 's2': {'_player': 'Red'}, 's3': {'_player': 'Orange'}}, 'obj_type': 'Edge', 'corners': {'l0': {'_obj': '142'}, 'l1': {'_obj': '138'}}}, '88': {'fields': {'l0': 'None', 'l1': {'_obj': '18'}}, 'visible': {'s0': {'_player': 'White'}, 's1': {'_player': 'Blue'}, 's2': {'_player': 'Red'}, 's3': {'_player': 'Orange'}}, 'obj_type': 'Edge', 'corners': {'l0': {'_obj': '137'}, 'l1': {'_obj': '143'}}}, '89': {'fields': {'l0': 'None', 'l1': {'_obj': '18'}}, 'visible': {'s0': {'_player': 'White'}, 's1': {'_player': 'Blue'}, 's2': {'_player': 'Red'}, 's3': {'_player': 'Orange'}}, 'obj_type': 'Edge', 'corners': {'l0': {'_obj': '143'}, 'l1': {'_obj': '144'}}}, '90': {'fields': {'l0': {'_obj': '18'}, 'l1': 'None'}, 'visible': {'s0': {'_player': 'White'}, 's1': {'_player': 'Blue'}, 's2': {'_player': 'Red'}, 's3': {'_player': 'Orange'}}, 'obj_type': 'Edge', 'corners': {'l0': {'_obj': '144'}, 'l1': {'_obj': '141'}}}, '91': {'fields': {'l0': 'None', 'l1': {'_obj': '0'}, 'l2': 'None'}, 'visible': {'s0': {'_player': 'White'}, 's1': {'_player': 'Blue'}, 's2': {'_player': 'Red'}, 's3': {'_player': 'Orange'}}, 'obj_type': 'Corner', 'edges': {'l0': 'None', 'l1': {'_obj': '19'}, 'l2': {'_obj': '24'}}, 'port': '3to1', 'building': {'_obj': '148'}}, '92': {'fields': {'l0': 'None', 'l1': {'_obj': '1'}, 'l2': {'_obj': '0'}}, 'visible': {'s0': {'_player': 'White'}, 's1': {'_player': 'Blue'}, 's2': {'_player': 'Red'}, 's3': {'_player': 'Orange'}}, 'obj_type': 'Corner', 'edges': {'l0': {'_obj': '29'}, 'l1': {'_obj': '20'}, 'l2': {'_obj': '19'}}}, '93': {'fields': {'l0': {'_obj': '1'}, 'l1': {'_obj': '4'}, 'l2': {'_obj': '0'}}, 'visible': {'s0': {'_player': 'White'}, 's1': {'_player': 'Blue'}, 's2': {'_player': 'Red'}, 's3': {'_player': 'Orange'}}, 'obj_type': 'Corner', 'edges': {'l0': {'_obj': '20'}, 'l1': {'_obj': '28'}, 'l2': {'_obj': '21'}}}, '94': {'fields': {'l0': {'_obj': '0'}, 'l1': {'_obj': '4'}, 'l2': {'_obj': '3'}}, 'visible': {'s0': {'_player': 'White'}, 's1': {'_player': 'Blue'}, 's2': {'_player': 'Red'}, 's3': {'_player': 'Orange'}}, 'obj_type': 'Corner', 'edges': {'l0': {'_obj': '21'}, 'l1': {'_obj': '35'}, 'l2': {'_obj': '22'}}}, '95': {'fields': {'l0': {'_obj': '0'}, 'l1': {'_obj': '3'}, 'l2': 'None'}, 'visible': {'s0': {'_player': 'White'}, 's1': {'_player': 'Blue'}, 's2': {'_player': 'Red'}, 's3': {'_player': 'Orange'}}, 'obj_type': 'Corner', 'edges': {'l0': {'_obj': '23'}, 'l1': {'_obj': '22'}, 'l2': {'_obj': '39'}}}, '96': {'fields': {'l0': 'None', 'l1': {'_obj': '0'}, 'l2': 'None'}, 'visible': {'s0': {'_player': 'White'}, 's1': {'_player': 'Blue'}, 's2': {'_player': 'Red'}, 's3': {'_player': 'Orange'}}, 'obj_type': 'Corner', 'edges': {'l0': {'_obj': '24'}, 'l1': {'_obj': '23'}, 'l2': 'None'}, 'port': '3to1'}, '97': {'fields': {'l0': 'None', 'l1': {'_obj': '1'}, 'l2': 'None'}, 'visible': {'s0': {'_player': 'White'}, 's1': {'_player': 'Blue'}, 's2': {'_player': 'Red'}, 's3': {'_player': 'Orange'}}, 'obj_type': 'Corner', 'edges': {'l0': 'None', 'l1': {'_obj': '25'}, 'l2': {'_obj': '29'}}, 'port': 'sheep'}, '98': {'fields': {'l0': 'None', 'l1': {'_obj': '2'}, 'l2': {'_obj': '1'}}, 'visible': {'s0': {'_player': 'White'}, 's1': {'_player': 'Blue'}, 's2': {'_player': 'Red'}, 's3': {'_player': 'Orange'}}, 'obj_type': 'Corner', 'edges': {'l0': {'_obj': '34'}, 'l1': {'_obj': '26'}, 'l2': {'_obj': '25'}}, 'port': 'sheep'}, '99': {'fields': {'l0': {'_obj': '2'}, 'l1': {'_obj': '5'}, 'l2': {'_obj': '1'}}, 'visible': {'s0': {'_player': 'White'}, 's1': {'_player': 'Blue'}, 's2': {'_player': 'Red'}, 's3': {'_player': 'Orange'}}, 'obj_type': 'Corner', 'edges': {'l0': {'_obj': '26'}, 'l1': {'_obj': '33'}, 'l2': {'_obj': '27'}}}, '100': {'fields': {'l0': {'_obj': '1'}, 'l1': {'_obj': '5'}, 'l2': {'_obj': '4'}}, 'visible': {'s0': {'_player': 'White'}, 's1': {'_player': 'Blue'}, 's2': {'_player': 'Red'}, 's3': {'_player': 'Orange'}}, 'obj_type': 'Corner', 'edges': {'l0': {'_obj': '27'}, 'l1': {'_obj': '40'}, 'l2': {'_obj': '28'}}}, '101': {'fields': {'l0': 'None', 'l1': {'_obj': '2'}, 'l2': 'None'}, 'visible': {'s0': {'_player': 'White'}, 's1': {'_player': 'Blue'}, 's2': {'_player': 'Red'}, 's3': {'_player': 'Orange'}}, 'obj_type': 'Corner', 'edges': {'l0': 'None', 'l1': {'_obj': '30'}, 'l2': {'_obj': '34'}}}, '102': {'fields': {'l0': 'None', 'l1': 'None', 'l2': {'_obj': '2'}}, 'visible': {'s0': {'_player': 'White'}, 's1': {'_player': 'Blue'}, 's2': {'_player': 'Red'}, 's3': {'_player': 'Orange'}}, 'obj_type': 'Corner', 'edges': {'l0': 'None', 'l1': {'_obj': '31'}, 'l2': {'_obj': '30'}}}, '103': {'fields': {'l0': 'None', 'l1': {'_obj': '6'}, 'l2': {'_obj': '2'}}, 'visible': {'s0': {'_player': 'White'}, 's1': {'_player': 'Blue'}, 's2': {'_player': 'Red'}, 's3': {'_player': 'Orange'}}, 'obj_type': 'Corner', 'edges': {'l0': {'_obj': '31'}, 'l1': {'_obj': '46'}, 'l2': {'_obj': '32'}}, 'port': '3to1'}, '104': {'fields': {'l0': {'_obj': '2'}, 'l1': {'_obj': '6'}, 'l2': {'_obj': '5'}}, 'visible': {'s0': {'_player': 'White'}, 's1': {'_player': 'Blue'}, 's2': {'_player': 'Red'}, 's3': {'_player': 'Orange'}}, 'obj_type': 'Corner', 'edges': {'l0': {'_obj': '32'}, 'l1': {'_obj': '43'}, 'l2': {'_obj': '33'}}}, '105': {'fields': {'l0': {'_obj': '4'}, 'l1': {'_obj': '8'}, 'l2': {'_obj': '3'}}, 'visible': {'s0': {'_player': 'White'}, 's1': {'_player': 'Blue'}, 's2': {'_player': 'Red'}, 's3': {'_player': 'Orange'}}, 'obj_type': 'Corner', 'edges': {'l0': {'_obj': '35'}, 'l1': {'_obj': '42'}, 'l2': {'_obj': '36'}}}, '106': {'fields': {'l0': {'_obj': '3'}, 'l1': {'_obj': '8'}, 'l2': {'_obj': '7'}}, 'visible': {'s0': {'_player': 'White'}, 's1': {'_player': 'Blue'}, 's2': {'_player': 'Red'}, 's3': {'_player': 'Orange'}}, 'obj_type': 'Corner', 'edges': {'l0': {'_obj': '36'}, 'l1': {'_obj': '50'}, 'l2': {'_obj': '37'}}}, '107': {'fields': {'l0': {'_obj': '3'}, 'l1': {'_obj': '7'}, 'l2': 'None'}, 'visible': {'s0': {'_player': 'White'}, 's1': {'_player': 'Blue'}, 's2': {'_player': 'Red'}, 's3': {'_player': 'Orange'}}, 'obj_type': 'Corner', 'edges': {'l0': {'_obj': '38'}, 'l1': {'_obj': '37'}, 'l2': {'_obj': '54'}}, 'port': 'ore'}, '108': {'fields': {'l0': 'None', 'l1': {'_obj': '3'}, 'l2': 'None'}, 'visible': {'s0': {'_player': 'White'}, 's1': {'_player': 'Blue'}, 's2': {'_player': 'Red'}, 's3': {'_player': 'Orange'}}, 'obj_type': 'Corner', 'edges': {'l0': {'_obj': '39'}, 'l1': {'_obj': '38'}, 'l2': 'None'}, 'port': 'ore'}, '109': {'fields': {'l0': {'_obj': '5'}, 'l1': {'_obj': '9'}, 'l2': {'_obj': '4'}}, 'visible': {'s0': {'_player': 'White'}, 's1': {'_player': 'Blue'}, 's2': {'_player': 'Red'}, 's3': {'_player': 'Orange'}}, 'obj_type': 'Corner', 'edges': {'l0': {'_obj': '40'}, 'l1': {'_obj': '45'}, 'l2': {'_obj': '41'}}}, '110': {'fields': {'l0': {'_obj': '4'}, 'l1': {'_obj': '9'}, 'l2': {'_obj': '8'}}, 'visible': {'s0': {'_player': 'White'}, 's1': {'_player': 'Blue'}, 's2': {'_player': 'Red'}, 's3': {'_player': 'Orange'}}, 'obj_type': 'Corner', 'edges': {'l0': {'_obj': '41'}, 'l1': {'_obj': '55'}, 'l2': {'_obj': '42'}}}, '111': {'fields': {'l0': {'_obj': '6'}, 'l1': {'_obj': '10'}, 'l2': {'_obj': '5'}}, 'visible': {'s0': {'_player': 'White'}, 's1': {'_player': 'Blue'}, 's2': {'_player': 'Red'}, 's3': {'_player': 'Orange'}}, 'obj_type': 'Corner', 'edges': {'l0': {'_obj': '43'}, 'l1': {'_obj': '49'}, 'l2': {'_obj': '44'}}}, '112': {'fields': {'l0': {'_obj': '5'}, 'l1': {'_obj': '10'}, 'l2': {'_obj': '9'}}, 'visible': {'s0': {'_player': 'White'}, 's1': {'_player': 'Blue'}, 's2': {'_player': 'Red'}, 's3': {'_player': 'Orange'}}, 'obj_type': 'Corner', 'edges': {'l0': {'_obj': '44'}, 'l1': {'_obj': '58'}, 'l2': {'_obj': '45'}}}, '113': {'fields': {'l0': 'None', 'l1': 'None', 'l2': {'_obj': '6'}}, 'visible': {'s0': {'_player': 'White'}, 's1': {'_player': 'Blue'}, 's2': {'_player': 'Red'}, 's3': {'_player': 'Orange'}}, 'obj_type': 'Corner', 'edges': {'l0': 'None', 'l1': {'_obj': '47'}, 'l2': {'_obj': '46'}}, 'port': '3to1'}, '114': {'fields': {'l0': 'None', 'l1': {'_obj': '11'}, 'l2': {'_obj': '6'}}, 'visible': {'s0': {'_player': 'White'}, 's1': {'_player': 'Blue'}, 's2': {'_player': 'Red'}, 's3': {'_player': 'Orange'}}, 'obj_type': 'Corner', 'edges': {'l0': {'_obj': '47'}, 'l1': {'_obj': '64'}, 'l2': {'_obj': '48'}}}, '115': {'fields': {'l0': {'_obj': '6'}, 'l1': {'_obj': '11'}, 'l2': {'_obj': '10'}}, 'visible': {'s0': {'_player': 'White'}, 's1': {'_player': 'Blue'}, 's2': {'_player': 'Red'}, 's3': {'_player': 'Orange'}}, 'obj_type': 'Corner', 'edges': {'l0': {'_obj': '48'}, 'l1': {'_obj': '61'}, 'l2': {'_obj': '49'}}}, '116': {'fields': {'l0': {'_obj': '8'}, 'l1': {'_obj': '12'}, 'l2': {'_obj': '7'}}, 'visible': {'s0': {'_player': 'White'}, 's1': {'_player': 'Blue'}, 's2': {'_player': 'Red'}, 's3': {'_player': 'Orange'}}, 'obj_type': 'Corner', 'edges': {'l0': {'_obj': '50'}, 'l1': {'_obj': '57'}, 'l2': {'_obj': '51'}}}, '117': {'fields': {'l0': {'_obj': '7'}, 'l1': {'_obj': '12'}, 'l2': 'None'}, 'visible': {'s0': {'_player': 'White'}, 's1': {'_player': 'Blue'}, 's2': {'_player': 'Red'}, 's3': {'_player': 'Orange'}}, 'obj_type': 'Corner', 'edges': {'l0': {'_obj': '51'}, 'l1': {'_obj': '71'}, 'l2': {'_obj': '52'}}, 'port': 'wheat'}, '118': {'fields': {'l0': {'_obj': '7'}, 'l1': 'None', 'l2': 'None'}, 'visible': {'s0': {'_player': 'White'}, 's1': {'_player': 'Blue'}, 's2': {'_player': 'Red'}, 's3': {'_player': 'Orange'}}, 'obj_type': 'Corner', 'edges': {'l0': {'_obj': '53'}, 'l1': {'_obj': '52'}, 'l2': 'None'}}, '119': {'fields': {'l0': 'None', 'l1': {'_obj': '7'}, 'l2': 'None'}, 'visible': {'s0': {'_player': 'White'}, 's1': {'_player': 'Blue'}, 's2': {'_player': 'Red'}, 's3': {'_player': 'Orange'}}, 'obj_type': 'Corner', 'edges': {'l0': {'_obj': '54'}, 'l1': {'_obj': '53'}, 'l2': 'None'}}, '120': {'fields': {'l0': {'_obj': '9'}, 'l1': {'_obj': '13'}, 'l2': {'_obj': '8'}}, 'visible': {'s0': {'_player': 'White'}, 's1': {'_player': 'Blue'}, 's2': {'_player': 'Red'}, 's3': {'_player': 'Orange'}}, 'obj_type': 'Corner', 'edges': {'l0': {'_obj': '55'}, 'l1': {'_obj': '60'}, 'l2': {'_obj': '56'}}}, '121': {'fields': {'l0': {'_obj': '8'}, 'l1': {'_obj': '13'}, 'l2': {'_obj': '12'}}, 'visible': {'s0': {'_player': 'White'}, 's1': {'_player': 'Blue'}, 's2': {'_player': 'Red'}, 's3': {'_player': 'Orange'}}, 'obj_type': 'Corner', 'edges': {'l0': {'_obj': '56'}, 'l1': {'_obj': '68'}, 'l2': {'_obj': '57'}}}, '122': {'fields': {'l0': {'_obj': '10'}, 'l1': {'_obj': '14'}, 'l2': {'_obj': '9'}}, 'visible': {'s0': {'_player': 'White'}, 's1': {'_player': 'Blue'}, 's2': {'_player': 'Red'}, 's3': {'_player': 'Orange'}}, 'obj_type': 'Corner', 'edges': {'l0': {'_obj': '58'}, 'l1': {'_obj': '63'}, 'l2': {'_obj': '59'}}}, '123': {'fields': {'l0': {'_obj': '9'}, 'l1': {'_obj': '14'}, 'l2': {'_obj': '13'}}, 'visible': {'s0': {'_player': 'White'}, 's1': {'_player': 'Blue'}, 's2': {'_player': 'Red'}, 's3': {'_player': 'Orange'}}, 'obj_type': 'Corner', 'edges': {'l0': {'_obj': '59'}, 'l1': {'_obj': '72'}, 'l2': {'_obj': '60'}}}, '124': {'fields': {'l0': {'_obj': '11'}, 'l1': {'_obj': '15'}, 'l2': {'_obj': '10'}}, 'visible': {'s0': {'_player': 'White'}, 's1': {'_player': 'Blue'}, 's2': {'_player': 'Red'}, 's3': {'_player': 'Orange'}}, 'obj_type': 'Corner', 'edges': {'l0': {'_obj': '61'}, 'l1': {'_obj': '67'}, 'l2': {'_obj': '62'}}}, '125': {'fields': {'l0': {'_obj': '10'}, 'l1': {'_obj': '15'}, 'l2': {'_obj': '14'}}, 'visible': {'s0': {'_player': 'White'}, 's1': {'_player': 'Blue'}, 's2': {'_player': 'Red'}, 's3': {'_player': 'Orange'}}, 'obj_type': 'Corner', 'edges': {'l0': {'_obj': '62'}, 'l1': {'_obj': '75'}, 'l2': {'_obj': '63'}}}, '126': {'fields': {'l0': 'None', 'l1': 'None', 'l2': {'_obj': '11'}}, 'visible': {'s0': {'_player': 'White'}, 's1': {'_player': 'Blue'}, 's2': {'_player': 'Red'}, 's3': {'_player': 'Orange'}}, 'obj_type': 'Corner', 'edges': {'l0': 'None', 'l1': {'_obj': '65'}, 'l2': {'_obj': '64'}}, 'port': '3to1'}, '127': {'fields': {'l0': 'None', 'l1': 'None', 'l2': {'_obj': '11'}}, 'visible': {'s0': {'_player': 'White'}, 's1': {'_player': 'Blue'}, 's2': {'_player': 'Red'}, 's3': {'_player': 'Orange'}}, 'obj_type': 'Corner', 'edges': {'l0': {'_obj': '65'}, 'l1': 'None', 'l2': {'_obj': '66'}}, 'port': '3to1'}, '128': {'fields': {'l0': {'_obj': '11'}, 'l1': 'None', 'l2': {'_obj': '15'}}, 'visible': {'s0': {'_player': 'White'}, 's1': {'_player': 'Blue'}, 's2': {'_player': 'Red'}, 's3': {'_player': 'Orange'}}, 'obj_type': 'Corner', 'edges': {'l0': {'_obj': '66'}, 'l1': {'_obj': '78'}, 'l2': {'_obj': '67'}}}, '129': {'fields': {'l0': {'_obj': '13'}, 'l1': {'_obj': '16'}, 'l2': {'_obj': '12'}}, 'visible': {'s0': {'_player': 'White'}, 's1': {'_player': 'Blue'}, 's2': {'_player': 'Red'}, 's3': {'_player': 'Orange'}}, 'obj_type': 'Corner', 'edges': {'l0': {'_obj': '68'}, 'l1': {'_obj': '74'}, 'l2': {'_obj': '69'}}}, '130': {'fields': {'l0': {'_obj': '12'}, 'l1': {'_obj': '16'}, 'l2': 'None'}, 'visible': {'s0': {'_player': 'White'}, 's1': {'_player': 'Blue'}, 's2': {'_player': 'Red'}, 's3': {'_player': 'Orange'}}, 'obj_type': 'Corner', 'edges': {'l0': {'_obj': '69'}, 'l1': {'_obj': '84'}, 'l2': {'_obj': '70'}}}, '131': {'fields': {'l0': {'_obj': '12'}, 'l1': 'None', 'l2': 'None'}, 'visible': {'s0': {'_player': 'White'}, 's1': {'_player': 'Blue'}, 's2': {'_player': 'Red'}, 's3': {'_player': 'Orange'}}, 'obj_type': 'Corner', 'edges': {'l0': {'_obj': '71'}, 'l1': {'_obj': '70'}, 'l2': 'None'}, 'port': 'wheat'}, '132': {'fields': {'l0': {'_obj': '14'}, 'l1': {'_obj': '17'}, 'l2': {'_obj': '13'}}, 'visible': {'s0': {'_player': 'White'}, 's1': {'_player': 'Blue'}, 's2': {'_player': 'Red'}, 's3': {'_player': 'Orange'}}, 'obj_type': 'Corner', 'edges': {'l0': {'_obj': '72'}, 'l1': {'_obj': '77'}, 'l2': {'_obj': '73'}}}, '133': {'fields': {'l0': {'_obj': '13'}, 'l1': {'_obj': '17'}, 'l2': {'_obj': '16'}}, 'visible': {'s0': {'_player': 'White'}, 's1': {'_player': 'Blue'}, 's2': {'_player': 'Red'}, 's3': {'_player': 'Orange'}}, 'obj_type': 'Corner', 'edges': {'l0': {'_obj': '73'}, 'l1': {'_obj': '81'}, 'l2': {'_obj': '74'}}}, '134': {'fields': {'l0': {'_obj': '15'}, 'l1': {'_obj': '18'}, 'l2': {'_obj': '14'}}, 'visible': {'s0': {'_player': 'White'}, 's1': {'_player': 'Blue'}, 's2': {'_player': 'Red'}, 's3': {'_player': 'Orange'}}, 'obj_type': 'Corner', 'edges': {'l0': {'_obj': '75'}, 'l1': {'_obj': '80'}, 'l2': {'_obj': '76'}}}, '135': {'fields': {'l0': {'_obj': '14'}, 'l1': {'_obj': '18'}, 'l2': {'_obj': '17'}}, 'visible': {'s0': {'_player': 'White'}, 's1': {'_player': 'Blue'}, 's2': {'_player': 'Red'}, 's3': {'_player': 'Orange'}}, 'obj_type': 'Corner', 'edges': {'l0': {'_obj': '76'}, 'l1': {'_obj': '85'}, 'l2': {'_obj': '77'}}}, '136': {'fields': {'l0': 'None', 'l1': 'None', 'l2': {'_obj': '15'}}, 'visible': {'s0': {'_player': 'White'}, 's1': {'_player': 'Blue'}, 's2': {'_player': 'Red'}, 's3': {'_player': 'Orange'}}, 'obj_type': 'Corner', 'edges': {'l0': {'_obj': '78'}, 'l1': 'None', 'l2': {'_obj': '79'}}, 'port': 'brick'}, '137': {'fields': {'l0': {'_obj': '15'}, 'l1': 'None', 'l2': {'_obj': '18'}}, 'visible': {'s0': {'_player': 'White'}, 's1': {'_player': 'Blue'}, 's2': {'_player': 'Red'}, 's3': {'_player': 'Orange'}}, 'obj_type': 'Corner', 'edges': {'l0': {'_obj': '79'}, 'l1': {'_obj': '88'}, 'l2': {'_obj': '80'}}, 'port': 'brick'}, '138': {'fields': {'l0': {'_obj': '17'}, 'l1': 'None', 'l2': {'_obj': '16'}}, 'visible': {'s0': {'_player': 'White'}, 's1': {'_player': 'Blue'}, 's2': {'_player': 'Red'}, 's3': {'_player': 'Orange'}}, 'obj_type': 'Corner', 'edges': {'l0': {'_obj': '81'}, 'l1': {'_obj': '87'}, 'l2': {'_obj': '82'}}}, '139': {'fields': {'l0': {'_obj': '16'}, 'l1': 'None', 'l2': 'None'}, 'visible': {'s0': {'_player': 'White'}, 's1': {'_player': 'Blue'}, 's2': {'_player': 'Red'}, 's3': {'_player': 'Orange'}}, 'obj_type': 'Corner', 'edges': {'l0': {'_obj': '82'}, 'l1': 'None', 'l2': {'_obj': '83'}}, 'port': '3to1'}, '140': {'fields': {'l0': {'_obj': '16'}, 'l1': 'None', 'l2': 'None'}, 'visible': {'s0': {'_player': 'White'}, 's1': {'_player': 'Blue'}, 's2': {'_player': 'Red'}, 's3': {'_player': 'Orange'}}, 'obj_type': 'Corner', 'edges': {'l0': {'_obj': '84'}, 'l1': {'_obj': '83'}, 'l2': 'None'}, 'port': '3to1'}, '141': {'fields': {'l0': {'_obj': '18'}, 'l1': 'None', 'l2': {'_obj': '17'}}, 'visible': {'s0': {'_player': 'White'}, 's1': {'_player': 'Blue'}, 's2': {'_player': 'Red'}, 's3': {'_player': 'Orange'}}, 'obj_type': 'Corner', 'edges': {'l0': {'_obj': '85'}, 'l1': {'_obj': '90'}, 'l2': {'_obj': '86'}}, 'port': 'wood'}, '142': {'fields': {'l0': {'_obj': '17'}, 'l1': 'None', 'l2': 'None'}, 'visible': {'s0': {'_player': 'White'}, 's1': {'_player': 'Blue'}, 's2': {'_player': 'Red'}, 's3': {'_player': 'Orange'}}, 'obj_type': 'Corner', 'edges': {'l0': {'_obj': '86'}, 'l1': 'None', 'l2': {'_obj': '87'}}, 'port': 'wood'}, '143': {'fields': {'l0': 'None', 'l1': 'None', 'l2': {'_obj': '18'}}, 'visible': {'s0': {'_player': 'White'}, 's1': {'_player': 'Blue'}, 's2': {'_player': 'Red'}, 's3': {'_player': 'Orange'}}, 'obj_type': 'Corner', 'edges': {'l0': {'_obj': '88'}, 'l1': 'None', 'l2': {'_obj': '89'}}}, '144': {'fields': {'l0': {'_obj': '18'}, 'l1': 'None', 'l2': 'None'}, 'visible': {'s0': {'_player': 'White'}, 's1': {'_player': 'Blue'}, 's2': {'_player': 'Red'}, 's3': {'_player': 'Orange'}}, 'obj_type': 'Corner', 'edges': {'l0': {'_obj': '89'}, 'l1': 'None', 'l2': {'_obj': '90'}}}, '145': {'fields': {'s0': {'_obj': '0'}, 's1': {'_obj': '1'}, 's2': {'_obj': '2'}, 's3': {'_obj': '3'}, 's4': {'_obj': '4'}, 's5': {'_obj': '5'}, 's6': {'_obj': '6'}, 's7': {'_obj': '7'}, 's8': {'_obj': '8'}, 's9': {'_obj': '9'}, 's10': {'_obj': '10'}, 's11': {'_obj': '11'}, 's12': {'_obj': '12'}, 's13': {'_obj': '13'}, 's14': {'_obj': '14'}, 's15': {'_obj': '15'}, 's16': {'_obj': '16'}, 's17': {'_obj': '17'}, 's18': {'_obj': '18'}}, 'rows': '5', 'cols': '9', 'visible': {'s0': {'_player': 'White'}, 's1': {'_player': 'Blue'}, 's2': {'_player': 'Red'}, 's3': {'_player': 'Orange'}}, 'obj_type': 'Grid', 'map': \"[[t{'_obj':'3'} None t{'_obj':'4'} None t{'_obj':'5'} None t{'_obj':'6'} None None]\\n [None t{'_obj':'8'} None t{'_obj':'9'} None t{'_obj':'10'} None t{'_obj':'11'} t{'_obj':'7'}]\\n [t{'_obj':'12'} None t{'_obj':'13'} None t{'_obj':'14'} None t{'_obj':'15'} None None]\\n [None t{'_obj':'16'} None t{'_obj':'17'} None t{'_obj':'18'} None None None]\\n [None t{'_obj':'0'} None t{'_obj':'1'} None t{'_obj':'2'} None None None]]\", 'edges': {'s0': {'_obj': '19'}, 's1': {'_obj': '20'}, 's2': {'_obj': '21'}, 's3': {'_obj': '22'}, 's4': {'_obj': '23'}, 's5': {'_obj': '24'}, 's6': {'_obj': '25'}, 's7': {'_obj': '26'}, 's8': {'_obj': '27'}, 's9': {'_obj': '28'}, 's10': {'_obj': '29'}, 's11': {'_obj': '30'}, 's12': {'_obj': '31'}, 's13': {'_obj': '32'}, 's14': {'_obj': '33'}, 's15': {'_obj': '34'}, 's16': {'_obj': '35'}, 's17': {'_obj': '36'}, 's18': {'_obj': '37'}, 's19': {'_obj': '38'}, 's20': {'_obj': '39'}, 's21': {'_obj': '40'}, 's22': {'_obj': '41'}, 's23': {'_obj': '42'}, 's24': {'_obj': '43'}, 's25': {'_obj': '44'}, 's26': {'_obj': '45'}, 's27': {'_obj': '46'}, 's28': {'_obj': '47'}, 's29': {'_obj': '48'}, 's30': {'_obj': '49'}, 's31': {'_obj': '50'}, 's32': {'_obj': '51'}, 's33': {'_obj': '52'}, 's34': {'_obj': '53'}, 's35': {'_obj': '54'}, 's36': {'_obj': '55'}, 's37': {'_obj': '56'}, 's38': {'_obj': '57'}, 's39': {'_obj': '58'}, 's40': {'_obj': '59'}, 's41': {'_obj': '60'}, 's42': {'_obj': '61'}, 's43': {'_obj': '62'}, 's44': {'_obj': '63'}, 's45': {'_obj': '64'}, 's46': {'_obj': '65'}, 's47': {'_obj': '66'}, 's48': {'_obj': '67'}, 's49': {'_obj': '68'}, 's50': {'_obj': '69'}, 's51': {'_obj': '70'}, 's52': {'_obj': '71'}, 's53': {'_obj': '72'}, 's54': {'_obj': '73'}, 's55': {'_obj': '74'}, 's56': {'_obj': '75'}, 's57': {'_obj': '76'}, 's58': {'_obj': '77'}, 's59': {'_obj': '78'}, 's60': {'_obj': '79'}, 's61': {'_obj': '80'}, 's62': {'_obj': '81'}, 's63': {'_obj': '82'}, 's64': {'_obj': '83'}, 's65': {'_obj': '84'}, 's66': {'_obj': '85'}, 's67': {'_obj': '86'}, 's68': {'_obj': '87'}, 's69': {'_obj': '88'}, 's70': {'_obj': '89'}, 's71': {'_obj': '90'}}, 'corners': {'s0': {'_obj': '91'}, 's1': {'_obj': '92'}, 's2': {'_obj': '93'}, 's3': {'_obj': '94'}, 's4': {'_obj': '95'}, 's5': {'_obj': '96'}, 's6': {'_obj': '97'}, 's7': {'_obj': '98'}, 's8': {'_obj': '99'}, 's9': {'_obj': '100'}, 's10': {'_obj': '101'}, 's11': {'_obj': '102'}, 's12': {'_obj': '103'}, 's13': {'_obj': '104'}, 's14': {'_obj': '105'}, 's15': {'_obj': '106'}, 's16': {'_obj': '107'}, 's17': {'_obj': '108'}, 's18': {'_obj': '109'}, 's19': {'_obj': '110'}, 's20': {'_obj': '111'}, 's21': {'_obj': '112'}, 's22': {'_obj': '113'}, 's23': {'_obj': '114'}, 's24': {'_obj': '115'}, 's25': {'_obj': '116'}, 's26': {'_obj': '117'}, 's27': {'_obj': '118'}, 's28': {'_obj': '119'}, 's29': {'_obj': '120'}, 's30': {'_obj': '121'}, 's31': {'_obj': '122'}, 's32': {'_obj': '123'}, 's33': {'_obj': '124'}, 's34': {'_obj': '125'}, 's35': {'_obj': '126'}, 's36': {'_obj': '127'}, 's37': {'_obj': '128'}, 's38': {'_obj': '129'}, 's39': {'_obj': '130'}, 's40': {'_obj': '131'}, 's41': {'_obj': '132'}, 's42': {'_obj': '133'}, 's43': {'_obj': '134'}, 's44': {'_obj': '135'}, 's45': {'_obj': '136'}, 's46': {'_obj': '137'}, 's47': {'_obj': '138'}, 's48': {'_obj': '139'}, 's49': {'_obj': '140'}, 's50': {'_obj': '141'}, 's51': {'_obj': '142'}, 's52': {'_obj': '143'}, 's53': {'_obj': '144'}}}, '146': {'loc': {'_obj': '4'}, 'visible': {'s0': {'_player': 'White'}, 's1': {'_player': 'Blue'}, 's2': {'_player': 'Red'}, 's3': {'_player': 'Orange'}}, 'obj_type': 'robber'}, '147': {'visible': {'s0': {'_player': 'White'}, 's1': {'_player': 'Blue'}, 's2': {'_player': 'Red'}, 's3': {'_player': 'Orange'}}, 'obj_type': 'Deck'}, '148': {'loc': {'_obj': '91'}, 'player': {'_player': 'White'}, 'visible': {'s0': {'_player': 'White'}, 's1': {'_player': 'Blue'}, 's2': {'_player': 'Red'}, 's3': {'_player': 'Orange'}}, 'obj_type': 'settlement'}}, 'phase': 'setup', 'log': {'l0': {'line': {'l0': '', 'l1': {'obj_type': 'CatanPlayer', 'type': 'player', 'val': 'White'}, 'l2': ' builds a ', 'l3': {'obj_type': 'GameObject', 'ID': '148', 'type': 'obj', 'val': 'GameObject[148]'}, 'l4': '', 'l5': ' (gaining 1 victory point)', 'l6': '\\n'}}}}))\n",
       "\t\t});\n",
       "\t\t"
      ]
     },
     "metadata": {},
     "output_type": "display_data"
    }
   ],
   "source": [
    "viz.render_dict(I.msg)"
   ]
  },
  {
   "cell_type": "code",
   "execution_count": 17,
   "metadata": {},
   "outputs": [
    {
     "data": {
      "text/plain": [
       "odict_keys(['options', 'status', 'info', 'key', 'players', 'table', 'phase', 'log'])"
      ]
     },
     "execution_count": 17,
     "metadata": {},
     "output_type": "execute_result"
    }
   ],
   "source": [
    "msg = I.msg\n",
    "util.obj_cross_ref(msg, {'_obj':msg.table, '_player':msg.players})\n",
    "for ID, obj in msg.table.items():\n",
    "    obj._id = ID\n",
    "if 'options' in msg:\n",
    "    options = tdict()\n",
    "    for name, opts in msg.options.items():\n",
    "        options[name] = viz.decode_action_set(opts.actions)\n",
    "    msg.options = options\n",
    "msg.keys()"
   ]
  },
  {
   "cell_type": "code",
   "execution_count": 18,
   "metadata": {},
   "outputs": [
    {
     "data": {
      "text/plain": [
       "160"
      ]
     },
     "execution_count": 18,
     "metadata": {},
     "output_type": "execute_result"
    }
   ],
   "source": [
    "table = msg.table\n",
    "len(table)"
   ]
  },
  {
   "cell_type": "code",
   "execution_count": 19,
   "metadata": {},
   "outputs": [
    {
     "ename": "KeyError",
     "evalue": "'loc'",
     "output_type": "error",
     "traceback": [
      "\u001b[0;31m---------------------------------------------------------------------------\u001b[0m",
      "\u001b[0;31mKeyError\u001b[0m                                  Traceback (most recent call last)",
      "\u001b[0;32m<ipython-input-19-9bf88d9c7fe6>\u001b[0m in \u001b[0;36m<module>\u001b[0;34m\u001b[0m\n\u001b[1;32m      1\u001b[0m \u001b[0;31m# choose what hex to move the robber to\u001b[0m\u001b[0;34m\u001b[0m\u001b[0;34m\u001b[0m\u001b[0;34m\u001b[0m\u001b[0m\n\u001b[0;32m----> 2\u001b[0;31m \u001b[0;32mfor\u001b[0m \u001b[0ma\u001b[0m \u001b[0;32min\u001b[0m \u001b[0mmsg\u001b[0m\u001b[0;34m.\u001b[0m\u001b[0moptions\u001b[0m\u001b[0;34m[\u001b[0m\u001b[0;34m'loc'\u001b[0m\u001b[0;34m]\u001b[0m\u001b[0;34m:\u001b[0m\u001b[0;34m\u001b[0m\u001b[0;34m\u001b[0m\u001b[0m\n\u001b[0m\u001b[1;32m      3\u001b[0m     \u001b[0mf\u001b[0m \u001b[0;34m=\u001b[0m \u001b[0mtable\u001b[0m\u001b[0;34m[\u001b[0m\u001b[0ma\u001b[0m\u001b[0;34m[\u001b[0m\u001b[0;36m0\u001b[0m\u001b[0;34m]\u001b[0m\u001b[0;34m[\u001b[0m\u001b[0;34m'ID'\u001b[0m\u001b[0;34m]\u001b[0m\u001b[0;34m]\u001b[0m\u001b[0;34m\u001b[0m\u001b[0;34m\u001b[0m\u001b[0m\n\u001b[1;32m      4\u001b[0m     \u001b[0;32mfor\u001b[0m \u001b[0mc\u001b[0m \u001b[0;32min\u001b[0m \u001b[0mf\u001b[0m\u001b[0;34m.\u001b[0m\u001b[0mcorners\u001b[0m\u001b[0;34m:\u001b[0m\u001b[0;34m\u001b[0m\u001b[0;34m\u001b[0m\u001b[0m\n\u001b[1;32m      5\u001b[0m         \u001b[0;32mif\u001b[0m \u001b[0;34m'building'\u001b[0m \u001b[0;32min\u001b[0m \u001b[0mc\u001b[0m\u001b[0;34m:\u001b[0m\u001b[0;34m\u001b[0m\u001b[0;34m\u001b[0m\u001b[0m\n",
      "\u001b[0;32m/mnt/c/Users/anwan/Nextcloud/Khan/projects/humpack/git/humpack/basic_containers.py\u001b[0m in \u001b[0;36m__getitem__\u001b[0;34m(self, item)\u001b[0m\n\u001b[1;32m    192\u001b[0m \u001b[0;34m\u001b[0m\u001b[0m\n\u001b[1;32m    193\u001b[0m         \u001b[0;32mdef\u001b[0m \u001b[0m__getitem__\u001b[0m\u001b[0;34m(\u001b[0m\u001b[0mself\u001b[0m\u001b[0;34m,\u001b[0m \u001b[0mitem\u001b[0m\u001b[0;34m)\u001b[0m\u001b[0;34m:\u001b[0m\u001b[0;34m\u001b[0m\u001b[0;34m\u001b[0m\u001b[0m\n\u001b[0;32m--> 194\u001b[0;31m                 \u001b[0;32mreturn\u001b[0m \u001b[0mself\u001b[0m\u001b[0;34m.\u001b[0m\u001b[0m_data\u001b[0m\u001b[0;34m[\u001b[0m\u001b[0mitem\u001b[0m\u001b[0;34m]\u001b[0m\u001b[0;34m\u001b[0m\u001b[0;34m\u001b[0m\u001b[0m\n\u001b[0m\u001b[1;32m    195\u001b[0m \u001b[0;34m\u001b[0m\u001b[0m\n\u001b[1;32m    196\u001b[0m \tdef __setitem__(self, key,\n",
      "\u001b[0;31mKeyError\u001b[0m: 'loc'"
     ]
    }
   ],
   "source": [
    "# choose what hex to move the robber to\n",
    "for a in (msg.options['loc'] if 'loc' in msg.options else :\n",
    "    f = table[a[0]['ID']]\n",
    "    for c in f.corners:\n",
    "        if 'building' in c:\n",
    "            print(a[0]['ID'], c.building.player.name)"
   ]
  },
  {
   "cell_type": "code",
   "execution_count": 58,
   "metadata": {},
   "outputs": [
    {
     "data": {
      "text/plain": [
       "odict_keys(['loc', 'player', 'obj_type', 'visible', '_id'])"
      ]
     },
     "execution_count": 58,
     "metadata": {},
     "output_type": "execute_result"
    }
   ],
   "source": [
    "table['148'].keys()"
   ]
  },
  {
   "cell_type": "code",
   "execution_count": 32,
   "metadata": {},
   "outputs": [],
   "source": [
    "IDs = ['148', '150', '152', '154', '156', '158', '160', '162']"
   ]
  },
  {
   "cell_type": "code",
   "execution_count": 33,
   "metadata": {},
   "outputs": [
    {
     "data": {
      "text/plain": [
       "[{'num': [6, 4, 9], 'res': ['wheat', 'sheep', 'wood']},\n",
       " {'num': [10, 8, 5], 'res': ['brick', 'wood', 'brick']},\n",
       " {'num': [4, 6, 5], 'res': ['brick', 'wheat', 'wood']},\n",
       " {'num': [11, 5, 6], 'res': ['ore', 'wood', 'wheat']},\n",
       " {'num': [12, 9, 8], 'res': ['sheep', 'wood', 'wood']},\n",
       " {'num': [10, 5, 3], 'res': ['ore', 'brick', 'wheat']},\n",
       " {'num': [4, 10, 10], 'res': ['sheep', 'brick', 'ore']},\n",
       " {'num': [11, 6, 12], 'res': ['ore', 'wheat', 'sheep']}]"
      ]
     },
     "execution_count": 33,
     "metadata": {},
     "output_type": "execute_result"
    }
   ],
   "source": [
    "sites = np.array([tdict() for i in IDs])\n",
    "for site, ID in zip(sites, IDs):\n",
    "    c = table[table[ID].loc._id]\n",
    "    site.num = tlist(n.num for n in c.fields if n is not None and 'num' in n)\n",
    "    site.res = tlist(n.res for n in c.fields if n is not None and 'res' in n)\n",
    "[dict(s) for s in sites]"
   ]
  },
  {
   "cell_type": "code",
   "execution_count": null,
   "metadata": {},
   "outputs": [],
   "source": []
  },
  {
   "cell_type": "code",
   "execution_count": null,
   "metadata": {},
   "outputs": [],
   "source": []
  },
  {
   "cell_type": "code",
   "execution_count": 17,
   "metadata": {},
   "outputs": [
    {
     "ename": "KeyError",
     "evalue": "'loc-settlement'",
     "output_type": "error",
     "traceback": [
      "\u001b[0;31m---------------------------------------------------------------------------\u001b[0m",
      "\u001b[0;31mKeyError\u001b[0m                                  Traceback (most recent call last)",
      "\u001b[0;32m<ipython-input-17-2ffb2bbe29db>\u001b[0m in \u001b[0;36m<module>\u001b[0;34m\u001b[0m\n\u001b[0;32m----> 1\u001b[0;31m \u001b[0mlen\u001b[0m\u001b[0;34m(\u001b[0m\u001b[0mmsg\u001b[0m\u001b[0;34m.\u001b[0m\u001b[0moptions\u001b[0m\u001b[0;34m[\u001b[0m\u001b[0;34m'loc-settlement'\u001b[0m\u001b[0;34m]\u001b[0m\u001b[0;34m)\u001b[0m\u001b[0;34m\u001b[0m\u001b[0;34m\u001b[0m\u001b[0m\n\u001b[0m",
      "\u001b[0;32m/mnt/c/Users/anwan/Nextcloud/Khan/projects/humpack/git/humpack/basic_containers.py\u001b[0m in \u001b[0;36m__getitem__\u001b[0;34m(self, item)\u001b[0m\n\u001b[1;32m    192\u001b[0m \u001b[0;34m\u001b[0m\u001b[0m\n\u001b[1;32m    193\u001b[0m         \u001b[0;32mdef\u001b[0m \u001b[0m__getitem__\u001b[0m\u001b[0;34m(\u001b[0m\u001b[0mself\u001b[0m\u001b[0;34m,\u001b[0m \u001b[0mitem\u001b[0m\u001b[0;34m)\u001b[0m\u001b[0;34m:\u001b[0m\u001b[0;34m\u001b[0m\u001b[0;34m\u001b[0m\u001b[0m\n\u001b[0;32m--> 194\u001b[0;31m                 \u001b[0;32mreturn\u001b[0m \u001b[0mself\u001b[0m\u001b[0;34m.\u001b[0m\u001b[0m_data\u001b[0m\u001b[0;34m[\u001b[0m\u001b[0mitem\u001b[0m\u001b[0;34m]\u001b[0m\u001b[0;34m\u001b[0m\u001b[0;34m\u001b[0m\u001b[0m\n\u001b[0m\u001b[1;32m    195\u001b[0m \u001b[0;34m\u001b[0m\u001b[0m\n\u001b[1;32m    196\u001b[0m \tdef __setitem__(self, key,\n",
      "\u001b[0;31mKeyError\u001b[0m: 'loc-settlement'"
     ]
    }
   ],
   "source": [
    "len(msg.options['loc-settlement'])"
   ]
  },
  {
   "cell_type": "code",
   "execution_count": 38,
   "metadata": {},
   "outputs": [
    {
     "data": {
      "text/plain": [
       "{(tdict(ID, val, type),), (tdict(ID, val, type),), (tdict(ID, val, type),), (tdict(ID, val, type),), (tdict(ID, val, type),), (tdict(ID, val, type),), (tdict(ID, val, type),), (tdict(ID, val, type),), (tdict(ID, val, type),), (tdict(ID, val, type),), (tdict(ID, val, type),), (tdict(ID, val, type),), (tdict(ID, val, type),), (tdict(ID, val, type),), (tdict(ID, val, type),), (tdict(ID, val, type),), (tdict(ID, val, type),), (tdict(ID, val, type),), (tdict(ID, val, type),), (tdict(ID, val, type),), (tdict(ID, val, type),), (tdict(ID, val, type),), (tdict(ID, val, type),), (tdict(ID, val, type),), (tdict(ID, val, type),), (tdict(ID, val, type),), (tdict(ID, val, type),), (tdict(ID, val, type),), (tdict(ID, val, type),), (tdict(ID, val, type),), (tdict(ID, val, type),), (tdict(ID, val, type),), (tdict(ID, val, type),), (tdict(ID, val, type),), (tdict(ID, val, type),), (tdict(ID, val, type),)}"
      ]
     },
     "execution_count": 38,
     "metadata": {},
     "output_type": "execute_result"
    }
   ],
   "source": [
    "msg.options['loc-settlement']"
   ]
  },
  {
   "cell_type": "code",
   "execution_count": 39,
   "metadata": {},
   "outputs": [
    {
     "data": {
      "text/plain": [
       "36"
      ]
     },
     "execution_count": 39,
     "metadata": {},
     "output_type": "execute_result"
    }
   ],
   "source": [
    "sites = np.array([tdict(ID=a[0].ID) for a in options['loc-settlement']])\n",
    "len(sites)"
   ]
  },
  {
   "cell_type": "code",
   "execution_count": 40,
   "metadata": {},
   "outputs": [],
   "source": [
    "for site in sites:\n",
    "    c = table[site['ID']]\n",
    "    site.nums = tlist(n.num for n in c.fields if n is not None and 'num' in n)\n",
    "    site.ress = tlist(n.res for n in c.fields if n is not None and 'res' in n)\n",
    "    site.val = sum(6 - abs(n-7) for n in site.nums)\n",
    "    if 'port' in c:\n",
    "        site.port = c.port"
   ]
  },
  {
   "cell_type": "code",
   "execution_count": 41,
   "metadata": {},
   "outputs": [
    {
     "data": {
      "text/plain": [
       "{'ID': '92', 'nums': [6, 3], 'ress': ['wood', 'wood'], 'val': 7}"
      ]
     },
     "execution_count": 41,
     "metadata": {},
     "output_type": "execute_result"
    }
   ],
   "source": [
    "dict(sites[1])"
   ]
  },
  {
   "cell_type": "code",
   "execution_count": 42,
   "metadata": {},
   "outputs": [
    {
     "name": "stdout",
     "output_type": "stream",
     "text": [
      "24 11\n",
      "[ 2  7  9  4  2  2  5  8 10  9  3  3  4  6  8  5  0  8 10  1  5 10  5  8 11 10 11  4  4  6  5  2  4  4  9  5]\n"
     ]
    }
   ],
   "source": [
    "vals = np.array([site.val for site in sites])\n",
    "print(vals.argmax(), vals.max())\n",
    "print(vals)"
   ]
  },
  {
   "cell_type": "code",
   "execution_count": 43,
   "metadata": {},
   "outputs": [
    {
     "data": {
      "text/plain": [
       "{'ID': '133',\n",
       " 'nums': [5, 8, 9],\n",
       " 'ress': ['sheep', 'brick', 'wheat'],\n",
       " 'val': 13}"
      ]
     },
     "execution_count": 43,
     "metadata": {},
     "output_type": "execute_result"
    }
   ],
   "source": [
    "# first = sites[vals.argmax()]\n",
    "dict(first)"
   ]
  },
  {
   "cell_type": "code",
   "execution_count": 48,
   "metadata": {},
   "outputs": [],
   "source": [
    "res_names = np.array(['wood', 'brick', 'sheep', 'ore', 'wheat'])"
   ]
  },
  {
   "cell_type": "code",
   "execution_count": 118,
   "metadata": {},
   "outputs": [],
   "source": [
    "residx = {r:i for i,r in enumerate(res_names)}"
   ]
  },
  {
   "cell_type": "code",
   "execution_count": 51,
   "metadata": {},
   "outputs": [],
   "source": [
    "double = res_names[counts==2]\n",
    "if len(double):\n",
    "    print(double)"
   ]
  },
  {
   "cell_type": "code",
   "execution_count": 126,
   "metadata": {},
   "outputs": [],
   "source": [
    "def get_nums(site):\n",
    "    nums = np.zeros(11, dtype=int)\n",
    "    for n in site.nums:\n",
    "        nums[n-2] += 1\n",
    "    return nums\n",
    "def get_res(ress, residx):\n",
    "    res = np.zeros(5)\n",
    "    for r in ress:\n",
    "        if r in residx:\n",
    "            res[residx[r]] += 1\n",
    "    return res"
   ]
  },
  {
   "cell_type": "code",
   "execution_count": 124,
   "metadata": {},
   "outputs": [
    {
     "data": {
      "text/plain": [
       "(array([0, 0, 0, 1, 0, 0, 1, 1, 0, 0, 0]), array([0., 1., 1., 0., 1.]))"
      ]
     },
     "execution_count": 124,
     "metadata": {},
     "output_type": "execute_result"
    }
   ],
   "source": [
    "nums = get_nums(first)\n",
    "rnum = get_res(first.ress, residx)\n",
    "nums, rnum"
   ]
  },
  {
   "cell_type": "code",
   "execution_count": 63,
   "metadata": {},
   "outputs": [
    {
     "data": {
      "text/plain": [
       "(36, 11)"
      ]
     },
     "execution_count": 63,
     "metadata": {},
     "output_type": "execute_result"
    }
   ],
   "source": [
    "all_nums = np.stack([get_nums(site) for site in sites])\n",
    "all_nums.shape"
   ]
  },
  {
   "cell_type": "code",
   "execution_count": 86,
   "metadata": {},
   "outputs": [],
   "source": [
    "priority = 6 - np.abs(np.arange(11) - 5)"
   ]
  },
  {
   "cell_type": "code",
   "execution_count": 103,
   "metadata": {},
   "outputs": [],
   "source": [
    "wts = priority/(nums/3+1)"
   ]
  },
  {
   "cell_type": "code",
   "execution_count": 135,
   "metadata": {},
   "outputs": [
    {
     "data": {
      "text/plain": [
       "array([1.   , 3.5  , 4.5  , 2.   , 1.   , 1.   , 2.5  , 4.   , 5.   , 4.5  , 1.5  , 1.5  , 2.   , 3.   , 3.375, 1.875,\n",
       "       0.   , 4.   , 5.   , 0.5  , 2.   , 4.5  , 1.875, 3.5  , 5.5  , 4.5  , 5.   , 1.5  , 1.5  , 2.5  , 2.   , 1.   ,\n",
       "       1.5  , 1.5  , 3.375, 1.875])"
      ]
     },
     "execution_count": 135,
     "metadata": {},
     "output_type": "execute_result"
    }
   ],
   "source": [
    "dnum = (all_nums * wts).sum(-1) / 2\n",
    "dnum"
   ]
  },
  {
   "cell_type": "code",
   "execution_count": 108,
   "metadata": {},
   "outputs": [],
   "source": [
    "top = (-dnum).argsort()[:5]"
   ]
  },
  {
   "cell_type": "code",
   "execution_count": 109,
   "metadata": {},
   "outputs": [
    {
     "data": {
      "text/plain": [
       "array([11., 10., 10., 10.,  9.])"
      ]
     },
     "execution_count": 109,
     "metadata": {},
     "output_type": "execute_result"
    }
   ],
   "source": [
    "dnum[top]"
   ]
  },
  {
   "cell_type": "code",
   "execution_count": 110,
   "metadata": {},
   "outputs": [
    {
     "data": {
      "text/plain": [
       "[{'ID': '122', 'nums': [6, 10, 4], 'ress': ['ore', 'ore', 'sheep'], 'val': 11},\n",
       " {'ID': '124',\n",
       "  'nums': [5, 11, 6],\n",
       "  'ress': ['sheep', 'wood', 'ore'],\n",
       "  'val': 11},\n",
       " {'ID': '112', 'nums': [3, 6, 4], 'ress': ['ore', 'ore', 'sheep'], 'val': 10},\n",
       " {'ID': '99', 'nums': [4, 3, 6], 'ress': ['brick', 'ore', 'wood'], 'val': 10},\n",
       " {'ID': '123',\n",
       "  'nums': [4, 10, 5],\n",
       "  'ress': ['sheep', 'ore', 'sheep'],\n",
       "  'val': 10}]"
      ]
     },
     "execution_count": 110,
     "metadata": {},
     "output_type": "execute_result"
    }
   ],
   "source": [
    "[dict(sites[i]) for i in top]"
   ]
  },
  {
   "cell_type": "code",
   "execution_count": 136,
   "metadata": {},
   "outputs": [
    {
     "data": {
      "text/plain": [
       "(36, 5)"
      ]
     },
     "execution_count": 136,
     "metadata": {},
     "output_type": "execute_result"
    }
   ],
   "source": [
    "allr = np.stack([get_res(site.ress, residx) for site in sites])\n",
    "allr.shape"
   ]
  },
  {
   "cell_type": "code",
   "execution_count": 137,
   "metadata": {},
   "outputs": [
    {
     "data": {
      "text/plain": [
       "array([4., 4., 4., 4., 4., 4., 4., 4., 5., 5., 3., 3., 4., 5., 3., 3., 3., 5., 4., 4., 4., 5., 3., 3., 4., 4., 5., 3.,\n",
       "       3., 4., 3., 4., 3., 3., 3., 3.])"
      ]
     },
     "execution_count": 137,
     "metadata": {},
     "output_type": "execute_result"
    }
   ],
   "source": [
    "rval = (rnum + allr).clip(0,1).sum(-1)\n",
    "rval"
   ]
  },
  {
   "cell_type": "code",
   "execution_count": 146,
   "metadata": {},
   "outputs": [
    {
     "data": {
      "text/plain": [
       "<BarContainer object of 36 artists>"
      ]
     },
     "execution_count": 146,
     "metadata": {},
     "output_type": "execute_result"
    },
    {
     "data": {
      "image/png": "[encoded data removed]",
      "text/plain": [
       "<Figure size 432x288 with 1 Axes>"
      ]
     },
     "metadata": {
      "needs_background": "light"
     },
     "output_type": "display_data"
    }
   ],
   "source": [
    "wts = softmax(dnum) * softmax(rval)\n",
    "wts = wts / wts.sum()\n",
    "plt.bar(np.arange(len(wts)),wts)"
   ]
  },
  {
   "cell_type": "code",
   "execution_count": 149,
   "metadata": {},
   "outputs": [
    {
     "data": {
      "text/plain": [
       "[{'ID': '124',\n",
       "  'nums': [5, 11, 6],\n",
       "  'ress': ['sheep', 'wood', 'ore'],\n",
       "  'val': 11},\n",
       " {'ID': '99', 'nums': [4, 3, 6], 'ress': ['brick', 'ore', 'wood'], 'val': 10},\n",
       " {'ID': '122', 'nums': [6, 10, 4], 'ress': ['ore', 'ore', 'sheep'], 'val': 11},\n",
       " {'ID': '115', 'nums': [2, 5, 6], 'ress': ['wood', 'sheep', 'ore'], 'val': 10},\n",
       " {'ID': '100', 'nums': [6, 3, 11], 'ress': ['wood', 'ore', 'wheat'], 'val': 9}]"
      ]
     },
     "execution_count": 149,
     "metadata": {},
     "output_type": "execute_result"
    }
   ],
   "source": [
    "list(map(dict, sites[(-wts).argsort()[:5]]))"
   ]
  },
  {
   "cell_type": "code",
   "execution_count": 150,
   "metadata": {},
   "outputs": [
    {
     "data": {
      "text/plain": [
       "{'ID': '133',\n",
       " 'nums': [5, 8, 9],\n",
       " 'ress': ['sheep', 'brick', 'wheat'],\n",
       " 'val': 13}"
      ]
     },
     "execution_count": 150,
     "metadata": {},
     "output_type": "execute_result"
    }
   ],
   "source": [
    "dict(first)"
   ]
  },
  {
   "cell_type": "code",
   "execution_count": 172,
   "metadata": {},
   "outputs": [
    {
     "data": {
      "text/plain": [
       "{'ID': '124', 'nums': [5, 11, 6], 'ress': ['sheep', 'wood', 'ore'], 'val': 11}"
      ]
     },
     "execution_count": 172,
     "metadata": {},
     "output_type": "execute_result"
    }
   ],
   "source": [
    "pick = I.rng.choices(sites, weights=wts)[0]\n",
    "dict(pick)"
   ]
  },
  {
   "cell_type": "code",
   "execution_count": 31,
   "metadata": {},
   "outputs": [
    {
     "data": {
      "text/plain": [
       "18"
      ]
     },
     "execution_count": 31,
     "metadata": {},
     "output_type": "execute_result"
    }
   ],
   "source": [
    "actions = viz.decode_action_set(I.msg.options.loc.actions)\n",
    "hexs = tlist(I.msg.table[a.ID] for a, in actions)\n",
    "len(hexs)"
   ]
  },
  {
   "cell_type": "code",
   "execution_count": 32,
   "metadata": {},
   "outputs": [
    {
     "data": {
      "text/plain": [
       "odict_keys(['row', 'col', 'neighbors', 'obj_type', 'visible', 'edges', 'corners', 'res', 'num', '_id'])"
      ]
     },
     "execution_count": 32,
     "metadata": {},
     "output_type": "execute_result"
    }
   ],
   "source": [
    "hexs[0].keys()"
   ]
  },
  {
   "cell_type": "code",
   "execution_count": 33,
   "metadata": {},
   "outputs": [
    {
     "data": {
      "text/plain": [
       "8"
      ]
     },
     "execution_count": 33,
     "metadata": {},
     "output_type": "execute_result"
    }
   ],
   "source": [
    "remaining = tlist()\n",
    "for h in hexs:\n",
    "    for c in h.corners:\n",
    "        if 'building' in c and c.building.player.name != 'White' and c.building.player.num_res > 0:\n",
    "            remaining.append(h)\n",
    "            break\n",
    "hexs = remaining\n",
    "len(hexs)"
   ]
  },
  {
   "cell_type": "code",
   "execution_count": 34,
   "metadata": {},
   "outputs": [],
   "source": [
    "hexs = tdict({h._id:h for h in hexs})\n",
    "options = tdict({k:tdict() for k in hexs})\n",
    "for ID, h in hexs.items():\n",
    "    options[ID].val = 5 - abs(h.num - 7)\n",
    "    pass"
   ]
  },
  {
   "cell_type": "code",
   "execution_count": 35,
   "metadata": {},
   "outputs": [
    {
     "data": {
      "text/plain": [
       "tdict('5':tdict('val':1), '8':tdict('val':2), '9':tdict('val':2), '10':tdict('val':4), '13':tdict('val':3), '14':tdict('val':2), '15':tdict('val':1), '18':tdict('val':3))"
      ]
     },
     "execution_count": 35,
     "metadata": {},
     "output_type": "execute_result"
    }
   ],
   "source": [
    "options"
   ]
  },
  {
   "cell_type": "code",
   "execution_count": 38,
   "metadata": {},
   "outputs": [
    {
     "data": {
      "text/plain": [
       "('ore', 6)"
      ]
     },
     "execution_count": 38,
     "metadata": {},
     "output_type": "execute_result"
    }
   ],
   "source": [
    "hexs['10'].res, hexs['10'].num"
   ]
  },
  {
   "cell_type": "code",
   "execution_count": 24,
   "metadata": {},
   "outputs": [
    {
     "data": {
      "text/plain": [
       "28"
      ]
     },
     "execution_count": 24,
     "metadata": {},
     "output_type": "execute_result"
    }
   ],
   "source": [
    "log = I.get_log()\n",
    "len(log)"
   ]
  },
  {
   "cell_type": "code",
   "execution_count": 21,
   "metadata": {},
   "outputs": [
    {
     "name": "stdout",
     "output_type": "stream",
     "text": [
      "[tdict(_player)]\n",
      "[tdict(_player)]\n",
      "[tdict(_player)]\n",
      "[tdict(_player)]\n"
     ]
    }
   ],
   "source": [
    "for line in log:\n",
    "    if 'targets' in line:\n",
    "        print(line['targets'])"
   ]
  },
  {
   "cell_type": "code",
   "execution_count": 29,
   "metadata": {},
   "outputs": [],
   "source": [
    "for h in hexs:\n",
    "    if 'buildings' in h:\n",
    "        print(h.corners)"
   ]
  },
  {
   "cell_type": "code",
   "execution_count": 31,
   "metadata": {},
   "outputs": [
    {
     "data": {
      "text/plain": [
       "[tdict('_obj':'91'), tdict('_obj':'92'), tdict('_obj':'93'), tdict('_obj':'94'), tdict('_obj':'95'), tdict('_obj':'96')]"
      ]
     },
     "execution_count": 31,
     "metadata": {},
     "output_type": "execute_result"
    }
   ],
   "source": [
    "hexs[0].corners"
   ]
  },
  {
   "cell_type": "code",
   "execution_count": 22,
   "metadata": {},
   "outputs": [
    {
     "data": {
      "text/plain": [
       "19"
      ]
     },
     "execution_count": 22,
     "metadata": {},
     "output_type": "execute_result"
    }
   ],
   "source": [
    "hexs = tlist()\n",
    "for ID, obj in I.msg.table.items():\n",
    "    if obj.obj_type == 'hex':\n",
    "        hexs.append(obj)\n",
    "len(hexs)"
   ]
  },
  {
   "cell_type": "code",
   "execution_count": null,
   "metadata": {},
   "outputs": [],
   "source": []
  }
 ],
 "metadata": {
  "kernelspec": {
   "display_name": "Python 3",
   "language": "python",
   "name": "python3"
  },
  "language_info": {
   "codemirror_mode": {
    "name": "ipython",
    "version": 3
   },
   "file_extension": ".py",
   "mimetype": "text/x-python",
   "name": "python",
   "nbconvert_exporter": "python",
   "pygments_lexer": "ipython3",
   "version": "3.7.4"
  }
 },
 "nbformat": 4,
 "nbformat_minor": 2
}
