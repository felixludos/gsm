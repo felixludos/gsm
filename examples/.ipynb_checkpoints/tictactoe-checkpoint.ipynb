{
 "cells": [
  {
   "cell_type": "code",
   "execution_count": 1,
   "metadata": {},
   "outputs": [],
   "source": [
    "import sys, os, time\n",
    "%load_ext autoreload\n",
    "%autoreload 2\n",
    "%matplotlib inline\n",
    "#%matplotlib tk\n",
    "import numpy as np\n",
    "import matplotlib.pyplot as plt\n",
    "from collections import namedtuple, OrderedDict\n",
    "import random\n",
    "from string import Formatter\n",
    "from itertools import chain, product\n",
    "import gsm\n",
    "from gsm import tdict, tlist, tset\n",
    "from gsm import util"
   ]
  },
  {
   "cell_type": "code",
   "execution_count": 2,
   "metadata": {},
   "outputs": [],
   "source": [
    "from tictactoe.main import TicTacToe"
   ]
  },
  {
   "cell_type": "code",
   "execution_count": 3,
   "metadata": {
    "collapsed": true
   },
   "outputs": [],
   "source": [
    "def render(x):\n",
    "    return util.render_dict(util.jsonify(x))"
   ]
  },
  {
   "cell_type": "code",
   "execution_count": 3,
   "metadata": {
    "scrolled": true
   },
   "outputs": [
    {
     "ename": "TypeError",
     "evalue": "register_obj_type() got an unexpected keyword argument 'required'",
     "output_type": "error",
     "traceback": [
      "\u001b[0;31m---------------------------------------------------------------------------\u001b[0m",
      "\u001b[0;31mTypeError\u001b[0m                                 Traceback (most recent call last)",
      "\u001b[0;32m<ipython-input-3-ca9ba3198100>\u001b[0m in \u001b[0;36m<module>\u001b[0;34m()\u001b[0m\n\u001b[0;32m----> 1\u001b[0;31m \u001b[0mC\u001b[0m \u001b[0;34m=\u001b[0m \u001b[0mTicTacToe\u001b[0m\u001b[0;34m(\u001b[0m\u001b[0;34m)\u001b[0m\u001b[0;34m\u001b[0m\u001b[0;34m\u001b[0m\u001b[0m\n\u001b[0m\u001b[1;32m      2\u001b[0m \u001b[0mrender\u001b[0m\u001b[0;34m(\u001b[0m\u001b[0mC\u001b[0m\u001b[0;34m)\u001b[0m\u001b[0;34m\u001b[0m\u001b[0;34m\u001b[0m\u001b[0m\n",
      "\u001b[0;32m/mnt/c/Users/anwan/OneDrive - UW/Khan/Other/gsm/git/examples/tictactoe/main.py\u001b[0m in \u001b[0;36m__init__\u001b[0;34m(self, debug)\u001b[0m\n\u001b[1;32m     30\u001b[0m \t\t                       open={'row', 'col', # all properties are always visible to all players -> full information game\n\u001b[1;32m     31\u001b[0m \t\t                                'symbol', 'player'}\n\u001b[0;32m---> 32\u001b[0;31m \t\t                       )\n\u001b[0m\u001b[1;32m     33\u001b[0m \u001b[0;34m\u001b[0m\u001b[0m\n\u001b[1;32m     34\u001b[0m                 \u001b[0;31m# register possible phases\u001b[0m\u001b[0;34m\u001b[0m\u001b[0;34m\u001b[0m\u001b[0;34m\u001b[0m\u001b[0m\n",
      "\u001b[0;31mTypeError\u001b[0m: register_obj_type() got an unexpected keyword argument 'required'"
     ]
    }
   ],
   "source": [
    "C = TicTacToe()\n",
    "render(C)"
   ]
  },
  {
   "cell_type": "code",
   "execution_count": 5,
   "metadata": {
    "collapsed": true
   },
   "outputs": [],
   "source": [
    "#list(C.__class__._subclasses.keys())"
   ]
  },
  {
   "cell_type": "code",
   "execution_count": 6,
   "metadata": {},
   "outputs": [
    {
     "data": {
      "text/plain": [
       "['Player1', 'Player2']"
      ]
     },
     "execution_count": 6,
     "metadata": {},
     "output_type": "execute_result"
    }
   ],
   "source": [
    "players = C.get_players()\n",
    "players"
   ]
  },
  {
   "cell_type": "code",
   "execution_count": 9,
   "metadata": {
    "collapsed": true,
    "scrolled": true
   },
   "outputs": [],
   "source": [
    "out = C._reset(players[0])\n",
    "if 'error' in out:\n",
    "    print(out['error']['type'])\n",
    "    print(''.join(out['error']['msg']))"
   ]
  },
  {
   "cell_type": "code",
   "execution_count": 10,
   "metadata": {},
   "outputs": [
    {
     "data": {
      "text/plain": [
       "{'_data': {'phases': ['turn'],\n",
       "  'state': {'_order': ['state',\n",
       "    'log',\n",
       "    'table',\n",
       "    'active_players',\n",
       "    'phase_stack',\n",
       "    'players',\n",
       "    'in_progress',\n",
       "    'config_files',\n",
       "    'DEBUG',\n",
       "    'seed',\n",
       "    'end_info'],\n",
       "   '_pairs': {'DEBUG': False,\n",
       "    'active_players': {'_data': {'_order': ['Player1'],\n",
       "      '_pairs': {'Player1': {'_data': {'_order': ['options', 'status', 'info'],\n",
       "         '_pairs': {'info': {'_data': {'_order': [], '_pairs': {}},\n",
       "           '_type': 'tdict'},\n",
       "          'options': {'_data': [{'_data': {'_order': ['actions'],\n",
       "              '_pairs': {'actions': {'_data': [{'_entries': [{'_data': {'_order': ['obj_type',\n",
       "                      'val'],\n",
       "                     '_pairs': {'obj_type': 'int', 'val': 0}},\n",
       "                    '_type': 'FixedAction'},\n",
       "                   {'_data': {'_order': ['obj_type', 'val'],\n",
       "                     '_pairs': {'obj_type': 'int', 'val': 0}},\n",
       "                    '_type': 'FixedAction'}],\n",
       "                  '_type': 'tuple'},\n",
       "                 {'_entries': [{'_data': {'_order': ['obj_type', 'val'],\n",
       "                     '_pairs': {'obj_type': 'int', 'val': 0}},\n",
       "                    '_type': 'FixedAction'},\n",
       "                   {'_data': {'_order': ['obj_type', 'val'],\n",
       "                     '_pairs': {'obj_type': 'int', 'val': 1}},\n",
       "                    '_type': 'FixedAction'}],\n",
       "                  '_type': 'tuple'},\n",
       "                 {'_entries': [{'_data': {'_order': ['obj_type', 'val'],\n",
       "                     '_pairs': {'obj_type': 'int', 'val': 0}},\n",
       "                    '_type': 'FixedAction'},\n",
       "                   {'_data': {'_order': ['obj_type', 'val'],\n",
       "                     '_pairs': {'obj_type': 'int', 'val': 2}},\n",
       "                    '_type': 'FixedAction'}],\n",
       "                  '_type': 'tuple'},\n",
       "                 {'_entries': [{'_data': {'_order': ['obj_type', 'val'],\n",
       "                     '_pairs': {'obj_type': 'int', 'val': 1}},\n",
       "                    '_type': 'FixedAction'},\n",
       "                   {'_data': {'_order': ['obj_type', 'val'],\n",
       "                     '_pairs': {'obj_type': 'int', 'val': 0}},\n",
       "                    '_type': 'FixedAction'}],\n",
       "                  '_type': 'tuple'},\n",
       "                 {'_entries': [{'_data': {'_order': ['obj_type', 'val'],\n",
       "                     '_pairs': {'obj_type': 'int', 'val': 1}},\n",
       "                    '_type': 'FixedAction'},\n",
       "                   {'_data': {'_order': ['obj_type', 'val'],\n",
       "                     '_pairs': {'obj_type': 'int', 'val': 1}},\n",
       "                    '_type': 'FixedAction'}],\n",
       "                  '_type': 'tuple'},\n",
       "                 {'_entries': [{'_data': {'_order': ['obj_type', 'val'],\n",
       "                     '_pairs': {'obj_type': 'int', 'val': 1}},\n",
       "                    '_type': 'FixedAction'},\n",
       "                   {'_data': {'_order': ['obj_type', 'val'],\n",
       "                     '_pairs': {'obj_type': 'int', 'val': 2}},\n",
       "                    '_type': 'FixedAction'}],\n",
       "                  '_type': 'tuple'},\n",
       "                 {'_entries': [{'_data': {'_order': ['obj_type', 'val'],\n",
       "                     '_pairs': {'obj_type': 'int', 'val': 2}},\n",
       "                    '_type': 'FixedAction'},\n",
       "                   {'_data': {'_order': ['obj_type', 'val'],\n",
       "                     '_pairs': {'obj_type': 'int', 'val': 0}},\n",
       "                    '_type': 'FixedAction'}],\n",
       "                  '_type': 'tuple'},\n",
       "                 {'_entries': [{'_data': {'_order': ['obj_type', 'val'],\n",
       "                     '_pairs': {'obj_type': 'int', 'val': 2}},\n",
       "                    '_type': 'FixedAction'},\n",
       "                   {'_data': {'_order': ['obj_type', 'val'],\n",
       "                     '_pairs': {'obj_type': 'int', 'val': 1}},\n",
       "                    '_type': 'FixedAction'}],\n",
       "                  '_type': 'tuple'},\n",
       "                 {'_entries': [{'_data': {'_order': ['obj_type', 'val'],\n",
       "                     '_pairs': {'obj_type': 'int', 'val': 2}},\n",
       "                    '_type': 'FixedAction'},\n",
       "                   {'_data': {'_order': ['obj_type', 'val'],\n",
       "                     '_pairs': {'obj_type': 'int', 'val': 2}},\n",
       "                    '_type': 'FixedAction'}],\n",
       "                  '_type': 'tuple'}],\n",
       "                '_type': 'tset'}}},\n",
       "             '_type': 'tdict'}],\n",
       "           '_type': 'tlist'},\n",
       "          'status': 'Place a tick into one of these coords (row, col)'}},\n",
       "        '_type': 'GameActions'}}},\n",
       "     '_type': 'tdict'},\n",
       "    'config_files': {'_data': {'_order': ['basic'],\n",
       "      '_pairs': {'basic': 'config/basics.yaml'}},\n",
       "     '_type': 'tdict'},\n",
       "    'end_info': None,\n",
       "    'in_progress': True,\n",
       "    'log': {'_data': {'_order': ['logs',\n",
       "       'recent',\n",
       "       'collectors',\n",
       "       'debug',\n",
       "       'level'],\n",
       "      '_pairs': {'collectors': None,\n",
       "       'debug': False,\n",
       "       'level': 0,\n",
       "       'logs': {'_data': {'_order': ['Player1', 'Player2'],\n",
       "         '_pairs': {'Player1': {'_data': [], '_type': 'tlist'},\n",
       "          'Player2': {'_data': [], '_type': 'tlist'}}},\n",
       "        '_type': 'tdict'},\n",
       "       'recent': {'_data': {'_order': ['Player1', 'Player2'],\n",
       "         '_pairs': {'Player1': {'_data': [], '_type': 'tlist'},\n",
       "          'Player2': {'_data': [], '_type': 'tlist'}}},\n",
       "        '_type': 'tdict'}}},\n",
       "     '_type': 'GameLogger'},\n",
       "    'phase_stack': {'_data': [{'_data': {'_order': ['name'],\n",
       "        '_pairs': {'name': 'TurnPhase'}},\n",
       "       '_type': 'TurnPhase'}],\n",
       "     '_type': 'tlist'},\n",
       "    'players': {'_data': [{'_data': {'_order': ['val',\n",
       "         'obj_type',\n",
       "         'name',\n",
       "         'symbol'],\n",
       "        '_pairs': {'name': 'Player1',\n",
       "         'obj_type': 'Player',\n",
       "         'symbol': 'X',\n",
       "         'val': 1}},\n",
       "       '_type': 'Player'},\n",
       "      {'_data': {'_order': ['val', 'obj_type', 'name', 'symbol'],\n",
       "        '_pairs': {'name': 'Player2',\n",
       "         'obj_type': 'Player',\n",
       "         'symbol': 'O',\n",
       "         'val': -1}},\n",
       "       '_type': 'Player'}],\n",
       "     '_type': 'tlist'},\n",
       "    'seed': 13758478836430331178,\n",
       "    'state': {'_data': {'_order': ['map', 'turn_counter'],\n",
       "      '_pairs': {'map': {'_data': [[0, 0, 0], [0, 0, 0], [0, 0, 0]],\n",
       "        '_dtype': dtype('int64'),\n",
       "        '_type': 'numpy.ndarray'},\n",
       "       'turn_counter': 0}},\n",
       "     '_type': 'tdict'},\n",
       "    'table': {'_data': {'ID_counter': 0,\n",
       "      'obj_types': ['tick'],\n",
       "      'players': ['Player1', 'Player2'],\n",
       "      'table': {}},\n",
       "     '_type': 'GameTable'}}}},\n",
       " '_type': 'TicTacToe'}"
      ]
     },
     "execution_count": 10,
     "metadata": {},
     "output_type": "execute_result"
    }
   ],
   "source": [
    "state = pack_savable(C)\n",
    "state"
   ]
  },
  {
   "cell_type": "code",
   "execution_count": 12,
   "metadata": {
    "collapsed": true,
    "scrolled": true
   },
   "outputs": [],
   "source": [
    "N = TicTacToe()"
   ]
  },
  {
   "cell_type": "code",
   "execution_count": 13,
   "metadata": {
    "scrolled": true
   },
   "outputs": [
    {
     "ename": "MissingTypeError",
     "evalue": "Before loading GameTable you must register: tick",
     "output_type": "error",
     "traceback": [
      "\u001b[0;31m---------------------------------------------------------------------------\u001b[0m",
      "\u001b[0;31mMissingTypeError\u001b[0m                          Traceback (most recent call last)",
      "\u001b[0;32m<ipython-input-13-ef569025f495>\u001b[0m in \u001b[0;36m<module>\u001b[0;34m()\u001b[0m\n\u001b[0;32m----> 1\u001b[0;31m \u001b[0mN\u001b[0m\u001b[0;34m.\u001b[0m\u001b[0m__setstate__\u001b[0m\u001b[0;34m(\u001b[0m\u001b[0mC\u001b[0m\u001b[0;34m.\u001b[0m\u001b[0m__getstate__\u001b[0m\u001b[0;34m(\u001b[0m\u001b[0;34m)\u001b[0m\u001b[0;34m)\u001b[0m\u001b[0;34m\u001b[0m\u001b[0m\n\u001b[0m",
      "\u001b[0;32m/mnt/c/Users/anwan/OneDrive - UW Office 365/Khan/Other/gsm/git/gsm/core/controller.py\u001b[0m in \u001b[0;36m__setstate__\u001b[0;34m(self, state)\u001b[0m\n\u001b[1;32m    260\u001b[0m                                 \u001b[0;32mraise\u001b[0m \u001b[0mMissingType\u001b[0m\u001b[0;34m(\u001b[0m\u001b[0mself\u001b[0m\u001b[0;34m,\u001b[0m \u001b[0mname\u001b[0m\u001b[0;34m)\u001b[0m\u001b[0;34m\u001b[0m\u001b[0m\n\u001b[1;32m    261\u001b[0m \u001b[0;34m\u001b[0m\u001b[0m\n\u001b[0;32m--> 262\u001b[0;31m                 \u001b[0msuper\u001b[0m\u001b[0;34m(\u001b[0m\u001b[0;34m)\u001b[0m\u001b[0;34m.\u001b[0m\u001b[0m__setstate__\u001b[0m\u001b[0;34m(\u001b[0m\u001b[0mstate\u001b[0m\u001b[0;34m[\u001b[0m\u001b[0;34m'state'\u001b[0m\u001b[0;34m]\u001b[0m\u001b[0;34m)\u001b[0m\u001b[0;34m\u001b[0m\u001b[0m\n\u001b[0m\u001b[1;32m    263\u001b[0m \u001b[0;34m\u001b[0m\u001b[0m\n\u001b[1;32m    264\u001b[0m \u001b[0;34m\u001b[0m\u001b[0m\n",
      "\u001b[0;32m/mnt/c/Users/anwan/OneDrive - UW Office 365/Khan/Other/gsm/git/gsm/containers.py\u001b[0m in \u001b[0;36m__setstate__\u001b[0;34m(self, state)\u001b[0m\n\u001b[1;32m    179\u001b[0m                 \u001b[0mself\u001b[0m\u001b[0;34m.\u001b[0m\u001b[0m_data\u001b[0m\u001b[0;34m.\u001b[0m\u001b[0mclear\u001b[0m\u001b[0;34m(\u001b[0m\u001b[0;34m)\u001b[0m\u001b[0;34m\u001b[0m\u001b[0m\n\u001b[1;32m    180\u001b[0m                 \u001b[0;32mfor\u001b[0m \u001b[0mkey\u001b[0m \u001b[0;32min\u001b[0m \u001b[0mstate\u001b[0m\u001b[0;34m[\u001b[0m\u001b[0;34m'_order'\u001b[0m\u001b[0;34m]\u001b[0m\u001b[0;34m:\u001b[0m\u001b[0;34m\u001b[0m\u001b[0m\n\u001b[0;32m--> 181\u001b[0;31m                         \u001b[0mself\u001b[0m\u001b[0;34m.\u001b[0m\u001b[0m_data\u001b[0m\u001b[0;34m[\u001b[0m\u001b[0mkey\u001b[0m\u001b[0;34m]\u001b[0m \u001b[0;34m=\u001b[0m \u001b[0munpack_savable\u001b[0m\u001b[0;34m(\u001b[0m\u001b[0mstate\u001b[0m\u001b[0;34m[\u001b[0m\u001b[0;34m'_pairs'\u001b[0m\u001b[0;34m]\u001b[0m\u001b[0;34m[\u001b[0m\u001b[0mkey\u001b[0m\u001b[0;34m]\u001b[0m\u001b[0;34m)\u001b[0m\u001b[0;34m\u001b[0m\u001b[0m\n\u001b[0m\u001b[1;32m    182\u001b[0m \u001b[0;34m\u001b[0m\u001b[0m\n\u001b[1;32m    183\u001b[0m         \u001b[0;32mdef\u001b[0m \u001b[0mget\u001b[0m\u001b[0;34m(\u001b[0m\u001b[0mself\u001b[0m\u001b[0;34m,\u001b[0m \u001b[0mk\u001b[0m\u001b[0;34m)\u001b[0m\u001b[0;34m:\u001b[0m\u001b[0;34m\u001b[0m\u001b[0m\n",
      "\u001b[0;32m/mnt/c/Users/anwan/OneDrive - UW Office 365/Khan/Other/gsm/git/gsm/containers.py\u001b[0m in \u001b[0;36munpack_savable\u001b[0;34m(data, init_fn)\u001b[0m\n\u001b[1;32m     68\u001b[0m                         \u001b[0;32mraise\u001b[0m \u001b[0mLoadInitFailureError\u001b[0m\u001b[0;34m(\u001b[0m\u001b[0mdata\u001b[0m\u001b[0;34m[\u001b[0m\u001b[0;34m'_type'\u001b[0m\u001b[0;34m]\u001b[0m\u001b[0;34m)\u001b[0m\u001b[0;34m\u001b[0m\u001b[0m\n\u001b[1;32m     69\u001b[0m \u001b[0;34m\u001b[0m\u001b[0m\n\u001b[0;32m---> 70\u001b[0;31m                 \u001b[0mobj\u001b[0m\u001b[0;34m.\u001b[0m\u001b[0m__setstate__\u001b[0m\u001b[0;34m(\u001b[0m\u001b[0mdata\u001b[0m\u001b[0;34m[\u001b[0m\u001b[0;34m'_data'\u001b[0m\u001b[0;34m]\u001b[0m\u001b[0;34m)\u001b[0m\u001b[0;34m\u001b[0m\u001b[0m\n\u001b[0m\u001b[1;32m     71\u001b[0m                 \u001b[0;32mreturn\u001b[0m \u001b[0mobj\u001b[0m\u001b[0;34m\u001b[0m\u001b[0m\n\u001b[1;32m     72\u001b[0m \u001b[0;34m\u001b[0m\u001b[0m\n",
      "\u001b[0;32m/mnt/c/Users/anwan/OneDrive - UW Office 365/Khan/Other/gsm/git/gsm/core/table.py\u001b[0m in \u001b[0;36m__setstate__\u001b[0;34m(self, state)\u001b[0m\n\u001b[1;32m    141\u001b[0m                 \u001b[0;32mfor\u001b[0m \u001b[0mobj_type\u001b[0m \u001b[0;32min\u001b[0m \u001b[0mstate\u001b[0m\u001b[0;34m[\u001b[0m\u001b[0;34m'obj_types'\u001b[0m\u001b[0;34m]\u001b[0m\u001b[0;34m:\u001b[0m\u001b[0;34m\u001b[0m\u001b[0m\n\u001b[1;32m    142\u001b[0m                         \u001b[0;32mif\u001b[0m \u001b[0mobj_type\u001b[0m \u001b[0;32mnot\u001b[0m \u001b[0;32min\u001b[0m \u001b[0mself\u001b[0m\u001b[0;34m.\u001b[0m\u001b[0mobj_types\u001b[0m\u001b[0;34m:\u001b[0m\u001b[0;34m\u001b[0m\u001b[0m\n\u001b[0;32m--> 143\u001b[0;31m                                 \u001b[0;32mraise\u001b[0m \u001b[0mMissingTypeError\u001b[0m\u001b[0;34m(\u001b[0m\u001b[0mself\u001b[0m\u001b[0;34m,\u001b[0m \u001b[0mobj_type\u001b[0m\u001b[0;34m)\u001b[0m\u001b[0;34m\u001b[0m\u001b[0m\n\u001b[0m\u001b[1;32m    144\u001b[0m \u001b[0;34m\u001b[0m\u001b[0m\n\u001b[1;32m    145\u001b[0m                 \u001b[0mself\u001b[0m\u001b[0;34m.\u001b[0m\u001b[0mreset\u001b[0m\u001b[0;34m(\u001b[0m\u001b[0mstate\u001b[0m\u001b[0;34m[\u001b[0m\u001b[0;34m'players'\u001b[0m\u001b[0;34m]\u001b[0m\u001b[0;34m)\u001b[0m\u001b[0;34m\u001b[0m\u001b[0m\n",
      "\u001b[0;31mMissingTypeError\u001b[0m: Before loading GameTable you must register: tick"
     ]
    }
   ],
   "source": [
    "N.__setstate__(C.__getstate__())"
   ]
  },
  {
   "cell_type": "code",
   "execution_count": null,
   "metadata": {
    "collapsed": true
   },
   "outputs": [],
   "source": []
  }
 ],
 "metadata": {
  "kernelspec": {
   "display_name": "Python 3",
   "language": "python",
   "name": "python3"
  }
 },
 "nbformat": 4,
 "nbformat_minor": 2
}
