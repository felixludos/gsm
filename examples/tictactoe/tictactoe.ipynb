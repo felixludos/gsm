{
 "cells": [
  {
   "cell_type": "code",
   "execution_count": 1,
   "metadata": {},
   "outputs": [],
   "source": [
    "import sys, os, time\n",
    "%load_ext autoreload\n",
    "%autoreload 2\n",
    "%matplotlib inline\n",
    "#%matplotlib tk\n",
    "import numpy as np\n",
    "import matplotlib.pyplot as plt\n",
    "from collections import namedtuple, OrderedDict\n",
    "import random\n",
    "from string import Formatter\n",
    "from itertools import chain, product\n",
    "import gsm\n",
    "from gsm import tdict, tlist, tset\n",
    "from gsm.containers import Container\n",
    "from gsm import Named, GameObject, GameLogger\n",
    "from gsm.structures.transactions import TransactionableObject\n",
    "from gsm import util"
   ]
  },
  {
   "cell_type": "code",
   "execution_count": 2,
   "metadata": {
    "collapsed": true
   },
   "outputs": [],
   "source": [
    "from main import TicTacToe"
   ]
  },
  {
   "cell_type": "code",
   "execution_count": 3,
   "metadata": {
    "collapsed": true
   },
   "outputs": [],
   "source": [
    "def render(x):\n",
    "    return util.render_dict(util.jsonify(x))"
   ]
  },
  {
   "cell_type": "code",
   "execution_count": 4,
   "metadata": {
    "scrolled": true
   },
   "outputs": [
    {
     "data": {
      "text/html": [
       "<div id=\"36d87684-1607-453a-b021-f7edaeb9d721\" style=\"height: 600px; width:100%;\"></div>"
      ]
     },
     "metadata": {},
     "output_type": "display_data"
    },
    {
     "data": {
      "application/javascript": [
       "\n",
       "\t\trequire([\"https://rawgit.com/caldwell/renderjson/master/renderjson.js\"], function() {\n",
       "\t\t  renderjson.set_show_to_level(1)\n",
       "\t\t  document.getElementById('36d87684-1607-453a-b021-f7edaeb9d721').appendChild(renderjson({'state': 'None', 'log': 'None', 'table': '<gsm.core.table.GameTable object at 0x7fe2ece4dc18>', 'active_players': 'None', 'phase_stack': 'None', 'players': {'l0': {'val': '1', 'obj_type': 'Player', 'name': 'Player1'}, 'l1': {'val': '-1', 'obj_type': 'Player', 'name': 'Player2'}}, 'in_progress': 'False', 'config_files': {'basic': 'config/basics.yaml'}, 'DEBUG': 'False'}))\n",
       "\t\t});\n",
       "\t\t"
      ]
     },
     "metadata": {},
     "output_type": "display_data"
    }
   ],
   "source": [
    "C = TicTacToe()\n",
    "render(C)"
   ]
  },
  {
   "cell_type": "code",
   "execution_count": 5,
   "metadata": {},
   "outputs": [
    {
     "data": {
      "text/plain": [
       "['Player1', 'Player2']"
      ]
     },
     "execution_count": 5,
     "metadata": {},
     "output_type": "execute_result"
    }
   ],
   "source": [
    "players = C.get_players()\n",
    "players"
   ]
  },
  {
   "cell_type": "code",
   "execution_count": 9,
   "metadata": {},
   "outputs": [
    {
     "data": {
      "text/plain": [
       "{'phases': ['turn'],\n",
       " 'state': {'_data': {'DEBUG': False,\n",
       "   'active_players': {'_data': {'Player1': <gsm.core.actions.GameActions at 0x7fe2f3e9c208>},\n",
       "    '_order': ['Player1'],\n",
       "    '_type': 'tdict'},\n",
       "   'config_files': {'_data': {'basic': 'config/basics.yaml'},\n",
       "    '_order': ['basic'],\n",
       "    '_type': 'tdict'},\n",
       "   'end_info': None,\n",
       "   'in_progress': True,\n",
       "   'log': {'logs': {'Player1': [], 'Player2': []},\n",
       "    'updates': {'Player1': [], 'Player2': []}},\n",
       "   'phase_stack': {'_data': [{'_data': {'name': 'TurnPhase'},\n",
       "      '_order': ['name'],\n",
       "      '_type': 'TurnPhase'}],\n",
       "    '_type': 'tlist'},\n",
       "   'players': {'_data': [{'_data': {'name': 'Player1',\n",
       "       'obj_type': 'Player',\n",
       "       'symbol': 'X',\n",
       "       'val': 1},\n",
       "      '_order': ['val', 'obj_type', 'name', 'symbol'],\n",
       "      '_type': 'Player'},\n",
       "     {'_data': {'name': 'Player2',\n",
       "       'obj_type': 'Player',\n",
       "       'symbol': 'O',\n",
       "       'val': -1},\n",
       "      '_order': ['val', 'obj_type', 'name', 'symbol'],\n",
       "      '_type': 'Player'}],\n",
       "    '_type': 'tlist'},\n",
       "   'seed': 1562750433570770924,\n",
       "   'state': {'_data': {'map': array([[0, 0, 0],\n",
       "            [0, 0, 0],\n",
       "            [0, 0, 0]]), 'turn_counter': 0},\n",
       "    '_order': ['map', 'turn_counter'],\n",
       "    '_type': 'tdict'},\n",
       "   'table': {'ID_counter': 0, 'obj_types': ['tick'], 'table': {}}},\n",
       "  '_order': ['state',\n",
       "   'log',\n",
       "   'table',\n",
       "   'active_players',\n",
       "   'phase_stack',\n",
       "   'players',\n",
       "   'in_progress',\n",
       "   'config_files',\n",
       "   'DEBUG',\n",
       "   'seed',\n",
       "   'end_info'],\n",
       "  '_type': 'TicTacToe'}}"
      ]
     },
     "execution_count": 9,
     "metadata": {},
     "output_type": "execute_result"
    }
   ],
   "source": [
    "C.__getstate__()"
   ]
  },
  {
   "cell_type": "code",
   "execution_count": 7,
   "metadata": {},
   "outputs": [
    {
     "data": {
      "text/plain": [
       "{'phases': ['turn'],\n",
       " 'state': {'_data': {'DEBUG': False,\n",
       "   'active_players': None,\n",
       "   'config_files': {'_data': {'basic': 'config/basics.yaml'},\n",
       "    '_order': ['basic'],\n",
       "    '_type': 'tdict'},\n",
       "   'in_progress': False,\n",
       "   'log': None,\n",
       "   'phase_stack': None,\n",
       "   'players': {'_data': [{'_data': {'name': 'Player1',\n",
       "       'obj_type': 'Player',\n",
       "       'val': 1},\n",
       "      '_order': ['val', 'obj_type', 'name'],\n",
       "      '_type': 'Player'},\n",
       "     {'_data': {'name': 'Player2', 'obj_type': 'Player', 'val': -1},\n",
       "      '_order': ['val', 'obj_type', 'name'],\n",
       "      '_type': 'Player'}],\n",
       "    '_type': 'tlist'},\n",
       "   'state': None,\n",
       "   'table': <gsm.core.table.GameTable at 0x7fe2ece4dc18>},\n",
       "  '_order': ['state',\n",
       "   'log',\n",
       "   'table',\n",
       "   'active_players',\n",
       "   'phase_stack',\n",
       "   'players',\n",
       "   'in_progress',\n",
       "   'config_files',\n",
       "   'DEBUG'],\n",
       "  '_type': 'TicTacToe'}}"
      ]
     },
     "execution_count": 7,
     "metadata": {},
     "output_type": "execute_result"
    }
   ],
   "source": [
    "util.jsonify(C.__getstate__())"
   ]
  },
  {
   "cell_type": "code",
   "execution_count": 8,
   "metadata": {
    "scrolled": true
   },
   "outputs": [],
   "source": [
    "out = C._reset(players[0])\n",
    "if 'error' in out:\n",
    "    print(out['error']['type'])\n",
    "    print(''.join(out['error']['msg']))"
   ]
  },
  {
   "cell_type": "code",
   "execution_count": 25,
   "metadata": {
    "scrolled": true
   },
   "outputs": [
    {
     "data": {
      "text/html": [
       "<div id=\"d35fb088-092e-41f2-b7b0-c54db7e19313\" style=\"height: 600px; width:100%;\"></div>"
      ]
     },
     "metadata": {},
     "output_type": "display_data"
    },
    {
     "data": {
      "application/javascript": [
       "\n",
       "\t\trequire([\"https://rawgit.com/caldwell/renderjson/master/renderjson.js\"], function() {\n",
       "\t\t  renderjson.set_show_to_level(1)\n",
       "\t\t  document.getElementById('d35fb088-092e-41f2-b7b0-c54db7e19313').appendChild(renderjson({'options': {'l0': {'actions': {'_set': {'l0': {'_tuple': {'l0': {'val': '0', 'type': 'int'}, 'l1': {'val': '0', 'type': 'int'}}}, 'l1': {'_tuple': {'l0': {'val': '0', 'type': 'int'}, 'l1': {'val': '1', 'type': 'int'}}}, 'l2': {'_tuple': {'l0': {'val': '0', 'type': 'int'}, 'l1': {'val': '2', 'type': 'int'}}}, 'l3': {'_tuple': {'l0': {'val': '1', 'type': 'int'}, 'l1': {'val': '0', 'type': 'int'}}}, 'l4': {'_tuple': {'l0': {'val': '1', 'type': 'int'}, 'l1': {'val': '1', 'type': 'int'}}}, 'l5': {'_tuple': {'l0': {'val': '1', 'type': 'int'}, 'l1': {'val': '2', 'type': 'int'}}}, 'l6': {'_tuple': {'l0': {'val': '2', 'type': 'int'}, 'l1': {'val': '0', 'type': 'int'}}}, 'l7': {'_tuple': {'l0': {'val': '2', 'type': 'int'}, 'l1': {'val': '1', 'type': 'int'}}}, 'l8': {'_tuple': {'l0': {'val': '2', 'type': 'int'}, 'l1': {'val': '2', 'type': 'int'}}}}}}}, 'status': 'Place a tick into one of these coords (row, col)', 'info': {}, 'table': {}}))\n",
       "\t\t});\n",
       "\t\t"
      ]
     },
     "metadata": {},
     "output_type": "display_data"
    }
   ],
   "source": [
    "render(out)"
   ]
  },
  {
   "cell_type": "code",
   "execution_count": null,
   "metadata": {
    "collapsed": true
   },
   "outputs": [],
   "source": []
  }
 ],
 "metadata": {
  "kernelspec": {
   "display_name": "Python 3",
   "language": "python",
   "name": "python3"
  },
  "language_info": {
   "codemirror_mode": {
    "name": "ipython",
    "version": 3
   },
   "file_extension": ".py",
   "mimetype": "text/x-python",
   "name": "python",
   "nbconvert_exporter": "python",
   "pygments_lexer": "ipython3",
   "version": "3.6.4"
  }
 },
 "nbformat": 4,
 "nbformat_minor": 2
}
