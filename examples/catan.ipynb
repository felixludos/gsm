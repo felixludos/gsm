{
 "cells": [
  {
   "cell_type": "code",
   "execution_count": null,
   "metadata": {},
   "outputs": [],
   "source": [
    "1+1"
   ]
  },
  {
   "cell_type": "code",
   "execution_count": 1,
   "metadata": {},
   "outputs": [],
   "source": [
    "import sys, os, time\n",
    "%load_ext autoreload\n",
    "%autoreload 2\n",
    "%matplotlib inline\n",
    "#%matplotlib tk\n",
    "import numpy as np\n",
    "import matplotlib.pyplot as plt\n",
    "from collections import namedtuple, OrderedDict\n",
    "import random\n",
    "from string import Formatter\n",
    "from itertools import chain, product\n",
    "import json\n",
    "import gsm\n",
    "from gsm import tdict, tlist, tset\n",
    "from gsm import Savable\n",
    "from gsm import util\n",
    "from gsm import viz\n",
    "from gsm.viz import Ipython_Interface as Interface\n",
    "from catan.main import Catan"
   ]
  },
  {
   "cell_type": "code",
   "execution_count": 2,
   "metadata": {},
   "outputs": [
    {
     "name": "stdout",
     "output_type": "stream",
     "text": [
      "Player set to White\n"
     ]
    }
   ],
   "source": [
    "seed = 1\n",
    "I = Interface(Catan(), seed=seed, full_log=True)\n",
    "I.set_player('White')\n",
    "# I.get_players()"
   ]
  },
  {
   "cell_type": "code",
   "execution_count": 3,
   "metadata": {},
   "outputs": [
    {
     "name": "stdout",
     "output_type": "stream",
     "text": [
      "Received table: 148 entries\n",
      "Waiting for: Blue\n"
     ]
    }
   ],
   "source": [
    "I.reset(seed=seed)\n",
    "I.view()"
   ]
  },
  {
   "cell_type": "code",
   "execution_count": 4,
   "metadata": {},
   "outputs": [
    {
     "name": "stdout",
     "output_type": "stream",
     "text": [
      "Player set to Blue\n",
      "Received key: 0x91b7584a2265b1f5\n",
      "Received table: 148 entries\n",
      "+-----------------------------------------+\n",
      "| Choose a location to place a Settlement |\n",
      "+-----------------------------------------+\n",
      "-- Available Locations --\n",
      "   0 - ('OBJ[91]:Corner(ID=91)',)\n",
      "   1 - ('OBJ[92]:Corner(ID=92)',)\n",
      "   2 - ('OBJ[93]:Corner(ID=93)',)\n",
      "   3 - ('OBJ[94]:Corner(ID=94)',)\n",
      "   4 - ('OBJ[95]:Corner(ID=95)',)\n",
      "   5 - ('OBJ[96]:Corner(ID=96)',)\n",
      "   6 - ('OBJ[97]:Corner(ID=97)',)\n",
      "   7 - ('OBJ[98]:Corner(ID=98)',)\n",
      "   8 - ('OBJ[99]:Corner(ID=99)',)\n",
      "   9 - ('OBJ[100]:Corner(ID=100)',)\n",
      "  10 - ('OBJ[101]:Corner(ID=101)',)\n",
      "  11 - ('OBJ[102]:Corner(ID=102)',)\n",
      "  12 - ('OBJ[103]:Corner(ID=103)',)\n",
      "  13 - ('OBJ[104]:Corner(ID=104)',)\n",
      "  14 - ('OBJ[105]:Corner(ID=105)',)\n",
      "  15 - ('OBJ[106]:Corner(ID=106)',)\n",
      "  16 - ('OBJ[107]:Corner(ID=107)',)\n",
      "  17 - ('OBJ[108]:Corner(ID=108)',)\n",
      "  18 - ('OBJ[109]:Corner(ID=109)',)\n",
      "  19 - ('OBJ[110]:Corner(ID=110)',)\n",
      "  20 - ('OBJ[111]:Corner(ID=111)',)\n",
      "  21 - ('OBJ[112]:Corner(ID=112)',)\n",
      "  22 - ('OBJ[113]:Corner(ID=113)',)\n",
      "  23 - ('OBJ[114]:Corner(ID=114)',)\n",
      "  24 - ('OBJ[115]:Corner(ID=115)',)\n",
      "  25 - ('OBJ[116]:Corner(ID=116)',)\n",
      "  26 - ('OBJ[117]:Corner(ID=117)',)\n",
      "  27 - ('OBJ[118]:Corner(ID=118)',)\n",
      "  28 - ('OBJ[119]:Corner(ID=119)',)\n",
      "  29 - ('OBJ[120]:Corner(ID=120)',)\n",
      "  30 - ('OBJ[121]:Corner(ID=121)',)\n",
      "  31 - ('OBJ[122]:Corner(ID=122)',)\n",
      "  32 - ('OBJ[123]:Corner(ID=123)',)\n",
      "  33 - ('OBJ[124]:Corner(ID=124)',)\n",
      "  34 - ('OBJ[125]:Corner(ID=125)',)\n",
      "  35 - ('OBJ[126]:Corner(ID=126)',)\n",
      "  36 - ('OBJ[127]:Corner(ID=127)',)\n",
      "  37 - ('OBJ[128]:Corner(ID=128)',)\n",
      "  38 - ('OBJ[129]:Corner(ID=129)',)\n",
      "  39 - ('OBJ[130]:Corner(ID=130)',)\n",
      "  40 - ('OBJ[131]:Corner(ID=131)',)\n",
      "  41 - ('OBJ[132]:Corner(ID=132)',)\n",
      "  42 - ('OBJ[133]:Corner(ID=133)',)\n",
      "  43 - ('OBJ[134]:Corner(ID=134)',)\n",
      "  44 - ('OBJ[135]:Corner(ID=135)',)\n",
      "  45 - ('OBJ[136]:Corner(ID=136)',)\n",
      "  46 - ('OBJ[137]:Corner(ID=137)',)\n",
      "  47 - ('OBJ[138]:Corner(ID=138)',)\n",
      "  48 - ('OBJ[139]:Corner(ID=139)',)\n",
      "  49 - ('OBJ[140]:Corner(ID=140)',)\n",
      "  50 - ('OBJ[141]:Corner(ID=141)',)\n",
      "  51 - ('OBJ[142]:Corner(ID=142)',)\n",
      "  52 - ('OBJ[143]:Corner(ID=143)',)\n",
      "  53 - ('OBJ[144]:Corner(ID=144)',)\n"
     ]
    }
   ],
   "source": [
    "I.set_player()\n",
    "I.get_status()\n",
    "I.view()"
   ]
  },
  {
   "cell_type": "code",
   "execution_count": null,
   "metadata": {},
   "outputs": [],
   "source": []
  }
 ],
 "metadata": {
  "kernelspec": {
   "display_name": "Python 3",
   "language": "python",
   "name": "python3"
  },
  "language_info": {
   "codemirror_mode": {
    "name": "ipython",
    "version": 3
   },
   "file_extension": ".py",
   "mimetype": "text/x-python",
   "name": "python",
   "nbconvert_exporter": "python",
   "pygments_lexer": "ipython3",
   "version": "3.7.2"
  }
 },
 "nbformat": 4,
 "nbformat_minor": 2
}
