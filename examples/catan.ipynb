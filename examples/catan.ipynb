{
 "cells": [
  {
   "cell_type": "code",
   "execution_count": 1,
   "metadata": {},
   "outputs": [],
   "source": [
    "import sys, os, time\n",
    "%load_ext autoreload\n",
    "%autoreload 2\n",
    "%matplotlib inline\n",
    "#%matplotlib tk\n",
    "import numpy as np\n",
    "import matplotlib.pyplot as plt\n",
    "from collections import namedtuple, OrderedDict\n",
    "import random\n",
    "from string import Formatter\n",
    "from itertools import chain, product\n",
    "import json\n",
    "import gsm\n",
    "from gsm import tdict, tlist, tset\n",
    "from gsm import Savable\n",
    "from gsm import util\n",
    "from gsm import viz\n",
    "from gsm.viz import Ipython_Interface as Interface\n",
    "from catan.main import Catan"
   ]
  },
  {
   "cell_type": "code",
   "execution_count": 2,
   "metadata": {},
   "outputs": [
    {
     "name": "stdout",
     "output_type": "stream",
     "text": [
      "Player set to White\n"
     ]
    }
   ],
   "source": [
    "seed = 1\n",
    "I = Interface(Catan(), seed=seed, full_log=True)\n",
    "I.set_player('White')\n",
    "# I.get_players()"
   ]
  },
  {
   "cell_type": "code",
   "execution_count": 3,
   "metadata": {
    "scrolled": true
   },
   "outputs": [],
   "source": [
    "I.load('saves/catan_setup.pkl')\n",
    "# I.reset(seed=seed)\n",
    "# I.view()"
   ]
  },
  {
   "cell_type": "code",
   "execution_count": 4,
   "metadata": {
    "scrolled": true
   },
   "outputs": [
    {
     "name": "stdout",
     "output_type": "stream",
     "text": [
      "Player set to White\n",
      "Received key: 0x9b810e766ec9d286\n",
      "Received table: 159 entries\n",
      "-------------\n",
      "Log\n",
      "-------------\n",
      "PLYR:White builds a OBJ[148]:settlement[148] (gaining 1 victory point)\n",
      "PLYR:White builds a OBJ[149]:road[149]\n",
      "PLYR:Red builds a OBJ[150]:settlement[150] (gaining 1 victory point)\n",
      "PLYR:Red builds a OBJ[151]:road[151]\n",
      "PLYR:Blue builds a OBJ[152]:settlement[152] (gaining 1 victory point)\n",
      "PLYR:Blue builds a OBJ[153]:road[153]\n",
      "PLYR:Blue builds a OBJ[154]:settlement[154] (gaining 1 victory point)\n",
      "PLYR:Blue gains: brick, wood, and brick\n",
      "PLYR:Blue builds a OBJ[155]:road[155]\n",
      "PLYR:Red builds a OBJ[156]:settlement[156] (gaining 1 victory point)\n",
      "PLYR:Red gains: brick\n",
      "PLYR:Red builds a OBJ[157]:road[157]\n",
      "PLYR:White builds a OBJ[158]:settlement[158] (gaining 1 victory point)\n",
      "PLYR:White gains: no resources\n",
      "\n",
      "+-----------------------------------+\n",
      "| Choose a location to place a road |\n",
      "+-----------------------------------+\n",
      "-- Available Locations --\n",
      "   0 - OBJ[39]:Edge[39]\n",
      "   1 - OBJ[38]:Edge[38]\n"
     ]
    }
   ],
   "source": [
    "I.set_player()\n",
    "I.get_status()\n",
    "I.view()"
   ]
  },
  {
   "cell_type": "code",
   "execution_count": 7,
   "metadata": {
    "scrolled": true
   },
   "outputs": [
    {
     "name": "stdout",
     "output_type": "stream",
     "text": [
      "Selected action 0: OBJ[39]:Edge[39]\n",
      "*** ERROR: NameError ***\n",
      "Traceback (most recent call last):\n",
      "  File \"/mnt/c/Users/anwan/OneDrive - UW Office 365/Khan/Other/gsm/git/gsm/core/controller.py\", line 224, in _step\n",
      "    phase.execute(self, player=self.players[player], action=action)\n",
      "  File \"/mnt/c/Users/anwan/OneDrive - UW Office 365/Khan/Other/gsm/git/examples/catan/phases/main.py\", line 49, in execute\n",
      "    update_stats(player)\n",
      "NameError: name 'update_stats' is not defined\n",
      "\n",
      "****************************\n",
      "Player set to White\n",
      "Received key: 0x9b810e766ec9d286\n",
      "Received table: 159 entries\n",
      "-------------\n",
      "Log\n",
      "-------------\n",
      "PLYR:White builds a OBJ[148]:settlement[148] (gaining 1 victory point)\n",
      "PLYR:White builds a OBJ[149]:road[149]\n",
      "PLYR:Red builds a OBJ[150]:settlement[150] (gaining 1 victory point)\n",
      "PLYR:Red builds a OBJ[151]:road[151]\n",
      "PLYR:Blue builds a OBJ[152]:settlement[152] (gaining 1 victory point)\n",
      "PLYR:Blue builds a OBJ[153]:road[153]\n",
      "PLYR:Blue builds a OBJ[154]:settlement[154] (gaining 1 victory point)\n",
      "PLYR:Blue gains: brick, wood, and brick\n",
      "PLYR:Blue builds a OBJ[155]:road[155]\n",
      "PLYR:Red builds a OBJ[156]:settlement[156] (gaining 1 victory point)\n",
      "PLYR:Red gains: brick\n",
      "PLYR:Red builds a OBJ[157]:road[157]\n",
      "PLYR:White builds a OBJ[158]:settlement[158] (gaining 1 victory point)\n",
      "PLYR:White gains: no resources\n",
      "\n",
      "+-----------------------------------+\n",
      "| Choose a location to place a road |\n",
      "+-----------------------------------+\n",
      "-- Available Locations --\n",
      "   0 - OBJ[39]:Edge[39]\n",
      "   1 - OBJ[38]:Edge[38]\n"
     ]
    }
   ],
   "source": [
    "I.select_action(0)\n",
    "I.step()\n",
    "I.set_player()\n",
    "I.get_status()\n",
    "I.view()                                            "
   ]
  },
  {
   "cell_type": "code",
   "execution_count": 6,
   "metadata": {
    "collapsed": true
   },
   "outputs": [],
   "source": [
    "I.ctrl.log.indent_level"
   ]
  },
  {
   "cell_type": "code",
   "execution_count": null,
   "metadata": {
    "collapsed": true
   },
   "outputs": [],
   "source": []
  },
  {
   "cell_type": "code",
   "execution_count": 9,
   "metadata": {
    "scrolled": true
   },
   "outputs": [
    {
     "data": {
      "text/html": [
       "<div id=\"f65803c8-6815-41f8-a472-d73d8fc33401\" style=\"height: 600px; width:100%;\"></div>"
      ]
     },
     "metadata": {},
     "output_type": "display_data"
    },
    {
     "data": {
      "application/javascript": [
       "\n",
       "\t\trequire([\"https://rawgit.com/caldwell/renderjson/master/renderjson.js\"], function() {\n",
       "\t\t  renderjson.set_show_to_level(1)\n",
       "\t\t  document.getElementById('f65803c8-6815-41f8-a472-d73d8fc33401').appendChild(renderjson({'White': {'num_res': '0', 'num_dev': '0', 'color': 'White', 'reserve': {'road': '13', 'settlement': '3', 'city': '4'}, 'ports': {'s0': 'ore'}}, 'Red': {'num_res': '3', 'num_dev': '0', 'color': 'Red', 'reserve': {'road': '13', 'settlement': '3', 'city': '4'}, 'ports': {'s0': 'wheat'}}, 'Blue': {'num_res': '4', 'num_dev': '0', 'color': 'Blue', 'obj_type': 'GamePlayer', 'name': 'Blue', 'reserve': {'road': '13', 'settlement': '3', 'city': '4'}, 'buildings': {'road': {'s0': {'_obj': '153'}, 's1': {'_obj': '155'}}, 'settlement': {'s0': {'_obj': '152'}, 's1': {'_obj': '154'}}, 'city': {}}, 'resources': {'wood': '2', 'brick': '2', 'sheep': '0', 'ore': '0', 'wheat': '0'}, 'devcards': {}, 'ports': {}}}))\n",
       "\t\t});\n",
       "\t\t"
      ]
     },
     "metadata": {},
     "output_type": "display_data"
    }
   ],
   "source": [
    "viz.render_dict(I.players)"
   ]
  },
  {
   "cell_type": "code",
   "execution_count": 6,
   "metadata": {},
   "outputs": [
    {
     "data": {
      "text/plain": [
       "odict_keys(['options', 'status', 'key', 'players', 'table', 'log'])"
      ]
     },
     "execution_count": 6,
     "metadata": {},
     "output_type": "execute_result"
    }
   ],
   "source": [
    "I.msg.keys()"
   ]
  },
  {
   "cell_type": "code",
   "execution_count": 19,
   "metadata": {
    "collapsed": true
   },
   "outputs": [],
   "source": [
    "# I.save('saves/catan_setup.pkl')"
   ]
  },
  {
   "cell_type": "code",
   "execution_count": 10,
   "metadata": {
    "collapsed": true
   },
   "outputs": [],
   "source": [
    "settlements = tset()\n",
    "for val in I.table.values():\n",
    "    if val.obj_type == 'settlement':\n",
    "        settlements.add(val)"
   ]
  },
  {
   "cell_type": "code",
   "execution_count": 13,
   "metadata": {
    "scrolled": true
   },
   "outputs": [
    {
     "data": {
      "text/html": [
       "<div id=\"3430e3fb-9d86-44af-b9db-db92860e6c88\" style=\"height: 600px; width:100%;\"></div>"
      ]
     },
     "metadata": {},
     "output_type": "display_data"
    },
    {
     "data": {
      "application/javascript": [
       "\n",
       "\t\trequire([\"https://rawgit.com/caldwell/renderjson/master/renderjson.js\"], function() {\n",
       "\t\t  renderjson.set_show_to_level(1)\n",
       "\t\t  document.getElementById('3430e3fb-9d86-44af-b9db-db92860e6c88').appendChild(renderjson({'s0': {'obj_type': 'settlement', 'loc': {'_obj': '99'}, 'player': {'_player': 'White'}, 'visible': {'s0': 'White', 's1': 'Red', 's2': 'Blue'}}, 's1': {'obj_type': 'settlement', 'loc': {'_obj': '143'}, 'player': {'_player': 'Red'}, 'visible': {'s0': 'White', 's1': 'Red', 's2': 'Blue'}}, 's2': {'obj_type': 'settlement', 'loc': {'_obj': '111'}, 'player': {'_player': 'Blue'}, 'visible': {'s0': 'White', 's1': 'Red', 's2': 'Blue'}}, 's3': {'obj_type': 'settlement', 'loc': {'_obj': '129'}, 'player': {'_player': 'Blue'}, 'visible': {'s0': 'White', 's1': 'Red', 's2': 'Blue'}}, 's4': {'obj_type': 'settlement', 'loc': {'_obj': '131'}, 'player': {'_player': 'Red'}, 'visible': {'s0': 'White', 's1': 'Red', 's2': 'Blue'}}, 's5': {'obj_type': 'settlement', 'loc': {'_obj': '108'}, 'player': {'_player': 'White'}, 'visible': {'s0': 'White', 's1': 'Red', 's2': 'Blue'}}}))\n",
       "\t\t});\n",
       "\t\t"
      ]
     },
     "metadata": {},
     "output_type": "display_data"
    }
   ],
   "source": [
    "viz.render_dict(settlements)"
   ]
  },
  {
   "cell_type": "code",
   "execution_count": 10,
   "metadata": {
    "scrolled": true
   },
   "outputs": [
    {
     "name": "stdout",
     "output_type": "stream",
     "text": [
      "[None, tdict('_obj':'19'), tdict('_obj':'24')]\n",
      "[tdict('_obj':'29'), tdict('_obj':'20'), tdict('_obj':'19')]\n",
      "[tdict('_obj':'20'), tdict('_obj':'28'), tdict('_obj':'21')]\n",
      "[tdict('_obj':'21'), tdict('_obj':'35'), tdict('_obj':'22')]\n",
      "[tdict('_obj':'23'), tdict('_obj':'22'), tdict('_obj':'39')]\n",
      "[tdict('_obj':'24'), tdict('_obj':'23'), None]\n",
      "[None, tdict('_obj':'25'), tdict('_obj':'29')]\n",
      "[tdict('_obj':'34'), tdict('_obj':'26'), tdict('_obj':'25')]\n",
      "[tdict('_obj':'26'), tdict('_obj':'33'), tdict('_obj':'27')]\n",
      "[tdict('_obj':'27'), tdict('_obj':'40'), tdict('_obj':'28')]\n",
      "[None, tdict('_obj':'30'), tdict('_obj':'34')]\n",
      "[None, tdict('_obj':'31'), tdict('_obj':'30')]\n",
      "[tdict('_obj':'31'), tdict('_obj':'46'), tdict('_obj':'32')]\n",
      "[tdict('_obj':'32'), tdict('_obj':'43'), tdict('_obj':'33')]\n",
      "[tdict('_obj':'35'), tdict('_obj':'42'), tdict('_obj':'36')]\n",
      "[tdict('_obj':'36'), tdict('_obj':'50'), tdict('_obj':'37')]\n",
      "[tdict('_obj':'38'), tdict('_obj':'37'), tdict('_obj':'54')]\n",
      "[tdict('_obj':'39'), tdict('_obj':'38'), None]\n",
      "[tdict('_obj':'40'), tdict('_obj':'45'), tdict('_obj':'41')]\n",
      "[tdict('_obj':'41'), tdict('_obj':'55'), tdict('_obj':'42')]\n",
      "[tdict('_obj':'43'), tdict('_obj':'49'), tdict('_obj':'44')]\n",
      "[tdict('_obj':'44'), tdict('_obj':'58'), tdict('_obj':'45')]\n",
      "[None, tdict('_obj':'47'), tdict('_obj':'46')]\n",
      "[tdict('_obj':'47'), tdict('_obj':'64'), tdict('_obj':'48')]\n",
      "[tdict('_obj':'48'), tdict('_obj':'61'), tdict('_obj':'49')]\n",
      "[tdict('_obj':'50'), tdict('_obj':'57'), tdict('_obj':'51')]\n",
      "[tdict('_obj':'51'), tdict('_obj':'71'), tdict('_obj':'52')]\n",
      "[tdict('_obj':'53'), tdict('_obj':'52'), None]\n",
      "[tdict('_obj':'54'), tdict('_obj':'53'), None]\n",
      "[tdict('_obj':'55'), tdict('_obj':'60'), tdict('_obj':'56')]\n",
      "[tdict('_obj':'56'), tdict('_obj':'68'), tdict('_obj':'57')]\n",
      "[tdict('_obj':'58'), tdict('_obj':'63'), tdict('_obj':'59')]\n",
      "[tdict('_obj':'59'), tdict('_obj':'72'), tdict('_obj':'60')]\n",
      "[tdict('_obj':'61'), tdict('_obj':'67'), tdict('_obj':'62')]\n",
      "[tdict('_obj':'62'), tdict('_obj':'75'), tdict('_obj':'63')]\n",
      "[None, tdict('_obj':'65'), tdict('_obj':'64')]\n",
      "[tdict('_obj':'65'), None, tdict('_obj':'66')]\n",
      "[tdict('_obj':'66'), tdict('_obj':'78'), tdict('_obj':'67')]\n",
      "[tdict('_obj':'68'), tdict('_obj':'74'), tdict('_obj':'69')]\n",
      "[tdict('_obj':'69'), tdict('_obj':'84'), tdict('_obj':'70')]\n",
      "[tdict('_obj':'71'), tdict('_obj':'70'), None]\n",
      "[tdict('_obj':'72'), tdict('_obj':'77'), tdict('_obj':'73')]\n",
      "[tdict('_obj':'73'), tdict('_obj':'81'), tdict('_obj':'74')]\n",
      "[tdict('_obj':'75'), tdict('_obj':'80'), tdict('_obj':'76')]\n",
      "[tdict('_obj':'76'), tdict('_obj':'85'), tdict('_obj':'77')]\n",
      "[tdict('_obj':'78'), None, tdict('_obj':'79')]\n",
      "[tdict('_obj':'79'), tdict('_obj':'88'), tdict('_obj':'80')]\n",
      "[tdict('_obj':'81'), tdict('_obj':'87'), tdict('_obj':'82')]\n",
      "[tdict('_obj':'82'), None, tdict('_obj':'83')]\n",
      "[tdict('_obj':'84'), tdict('_obj':'83'), None]\n",
      "[tdict('_obj':'85'), tdict('_obj':'90'), tdict('_obj':'86')]\n",
      "[tdict('_obj':'86'), None, tdict('_obj':'87')]\n",
      "[tdict('_obj':'88'), None, tdict('_obj':'89')]\n",
      "[tdict('_obj':'89'), None, tdict('_obj':'90')]\n"
     ]
    }
   ],
   "source": [
    "for x in I.table['145'].corners:\n",
    "    print(repr(I.table[x._obj].edges))"
   ]
  },
  {
   "cell_type": "code",
   "execution_count": 31,
   "metadata": {},
   "outputs": [
    {
     "name": "stdout",
     "output_type": "stream",
     "text": [
      "White (ID=2): ore 11\n",
      "White (ID=5): wheat 6\n",
      "White (ID=1): wool 12\n",
      "Red (ID=18): wool 9\n",
      "Blue (ID=6): ore 11\n",
      "Blue (ID=10): wood 5\n",
      "Blue (ID=5): wheat 6\n",
      "Blue (ID=13): brick 10\n",
      "Blue (ID=16): wood 8\n",
      "Blue (ID=12): brick 5\n",
      "Red (ID=12): brick 5\n",
      "White (ID=3): desert None\n"
     ]
    }
   ],
   "source": [
    "for s in settlements:\n",
    "    cid = s.loc._obj\n",
    "    for fref in I.table[cid].fields:\n",
    "        if fref is not None:\n",
    "            f = I.table[fref._obj]\n",
    "            if f is not None:\n",
    "                print('{} (ID={}): {} {}'.format(s.player._player, fref._obj, f.res, f.num if 'num' in f else None))"
   ]
  },
  {
   "cell_type": "code",
   "execution_count": 26,
   "metadata": {},
   "outputs": [
    {
     "ename": "KeyError",
     "evalue": "tdict('_obj':'2')",
     "output_type": "error",
     "traceback": [
      "\u001b[0;31m---------------------------------------------------------------------------\u001b[0m",
      "\u001b[0;31mKeyError\u001b[0m                                  Traceback (most recent call last)",
      "\u001b[0;32m<ipython-input-26-1feb7236930d>\u001b[0m in \u001b[0;36m<module>\u001b[0;34m()\u001b[0m\n\u001b[0;32m----> 1\u001b[0;31m \u001b[0mI\u001b[0m\u001b[0;34m.\u001b[0m\u001b[0mctrl\u001b[0m\u001b[0;34m.\u001b[0m\u001b[0mtable\u001b[0m\u001b[0;34m[\u001b[0m\u001b[0mfid\u001b[0m\u001b[0;34m]\u001b[0m\u001b[0;34m\u001b[0m\u001b[0;34m\u001b[0m\u001b[0m\n\u001b[0m",
      "\u001b[0;32m/mnt/c/Users/anwan/OneDrive - UW/Khan/Other/gsm/git/gsm/core/table.py\u001b[0m in \u001b[0;36m__getitem__\u001b[0;34m(self, item)\u001b[0m\n\u001b[1;32m    162\u001b[0m \u001b[0;34m\u001b[0m\u001b[0m\n\u001b[1;32m    163\u001b[0m         \u001b[0;32mdef\u001b[0m \u001b[0m__getitem__\u001b[0m\u001b[0;34m(\u001b[0m\u001b[0mself\u001b[0m\u001b[0;34m,\u001b[0m \u001b[0mitem\u001b[0m\u001b[0;34m)\u001b[0m\u001b[0;34m:\u001b[0m\u001b[0;34m\u001b[0m\u001b[0;34m\u001b[0m\u001b[0m\n\u001b[0;32m--> 164\u001b[0;31m                 \u001b[0;32mreturn\u001b[0m \u001b[0mself\u001b[0m\u001b[0;34m.\u001b[0m\u001b[0mtable\u001b[0m\u001b[0;34m[\u001b[0m\u001b[0mitem\u001b[0m\u001b[0;34m]\u001b[0m\u001b[0;34m\u001b[0m\u001b[0;34m\u001b[0m\u001b[0m\n\u001b[0m\u001b[1;32m    165\u001b[0m \u001b[0;34m\u001b[0m\u001b[0m\n\u001b[1;32m    166\u001b[0m         \u001b[0;32mdef\u001b[0m \u001b[0m__setitem__\u001b[0m\u001b[0;34m(\u001b[0m\u001b[0mself\u001b[0m\u001b[0;34m,\u001b[0m \u001b[0mkey\u001b[0m\u001b[0;34m,\u001b[0m \u001b[0mvalue\u001b[0m\u001b[0;34m)\u001b[0m\u001b[0;34m:\u001b[0m\u001b[0;34m\u001b[0m\u001b[0;34m\u001b[0m\u001b[0m\n",
      "\u001b[0;32m/mnt/c/Users/anwan/OneDrive - UW/Khan/Other/humpack/git/humpack/basic_containers.py\u001b[0m in \u001b[0;36m__getitem__\u001b[0;34m(self, item)\u001b[0m\n\u001b[1;32m    187\u001b[0m \u001b[0;34m\u001b[0m\u001b[0m\n\u001b[1;32m    188\u001b[0m         \u001b[0;32mdef\u001b[0m \u001b[0m__getitem__\u001b[0m\u001b[0;34m(\u001b[0m\u001b[0mself\u001b[0m\u001b[0;34m,\u001b[0m \u001b[0mitem\u001b[0m\u001b[0;34m)\u001b[0m\u001b[0;34m:\u001b[0m\u001b[0;34m\u001b[0m\u001b[0;34m\u001b[0m\u001b[0m\n\u001b[0;32m--> 189\u001b[0;31m                 \u001b[0;32mreturn\u001b[0m \u001b[0mself\u001b[0m\u001b[0;34m.\u001b[0m\u001b[0m_data\u001b[0m\u001b[0;34m[\u001b[0m\u001b[0mitem\u001b[0m\u001b[0;34m]\u001b[0m\u001b[0;34m\u001b[0m\u001b[0;34m\u001b[0m\u001b[0m\n\u001b[0m\u001b[1;32m    190\u001b[0m \u001b[0;34m\u001b[0m\u001b[0m\n\u001b[1;32m    191\u001b[0m \tdef __setitem__(self, key,\n",
      "\u001b[0;31mKeyError\u001b[0m: tdict('_obj':'2')"
     ]
    }
   ],
   "source": [
    "I.ctrl.table[fid]"
   ]
  },
  {
   "cell_type": "code",
   "execution_count": null,
   "metadata": {
    "collapsed": true
   },
   "outputs": [],
   "source": []
  },
  {
   "cell_type": "code",
   "execution_count": 14,
   "metadata": {
    "scrolled": true
   },
   "outputs": [
    {
     "data": {
      "text/html": [
       "<div id=\"ad13b0f4-a814-4a64-ae95-beb27f140bf7\" style=\"height: 600px; width:100%;\"></div>"
      ]
     },
     "metadata": {},
     "output_type": "display_data"
    },
    {
     "data": {
      "application/javascript": [
       "\n",
       "\t\trequire([\"https://rawgit.com/caldwell/renderjson/master/renderjson.js\"], function() {\n",
       "\t\t  renderjson.set_show_to_level(1)\n",
       "\t\t  document.getElementById('ad13b0f4-a814-4a64-ae95-beb27f140bf7').appendChild(renderjson({'obj_type': 'Corner', 'fields': {'l0': {'_obj': '2'}, 'l1': {'_obj': '5'}, 'l2': {'_obj': '1'}}, 'visible': {'s0': 'White', 's1': 'Red', 's2': 'Blue'}, 'edges': {'l0': {'_obj': '26'}, 'l1': {'_obj': '33'}, 'l2': {'_obj': '27'}}, 'building': {'_obj': '148'}}))\n",
       "\t\t});\n",
       "\t\t"
      ]
     },
     "metadata": {},
     "output_type": "display_data"
    }
   ],
   "source": [
    "viz.render_dict(I.table['99'])"
   ]
  },
  {
   "cell_type": "code",
   "execution_count": null,
   "metadata": {
    "collapsed": true
   },
   "outputs": [],
   "source": []
  },
  {
   "cell_type": "code",
   "execution_count": 17,
   "metadata": {
    "collapsed": true
   },
   "outputs": [],
   "source": []
  },
  {
   "cell_type": "code",
   "execution_count": 7,
   "metadata": {
    "scrolled": true
   },
   "outputs": [
    {
     "data": {
      "text/html": [
       "<div id=\"292e74a7-bcf9-45c0-85f6-7612179e0494\" style=\"height: 600px; width:100%;\"></div>"
      ]
     },
     "metadata": {},
     "output_type": "display_data"
    },
    {
     "data": {
      "application/javascript": [
       "\n",
       "\t\trequire([\"https://rawgit.com/caldwell/renderjson/master/renderjson.js\"], function() {\n",
       "\t\t  renderjson.set_show_to_level(1)\n",
       "\t\t  document.getElementById('292e74a7-bcf9-45c0-85f6-7612179e0494').appendChild(renderjson({'costs': {'road': {'wood': '1', 'brick': '1'}, 'settlement': {'wood': '1', 'brick': '1', 'sheep': '1', 'wheat': '1'}, 'city': {'ore': '3', 'wheat': '2'}, 'devcard': {'ore': '1', 'sheep': '1', 'wheat': '1'}}, 'bank': {'wood': '18', 'brick': '16', 'sheep': '19', 'ore': '19', 'wheat': '19'}, 'rewards': {'road': '0', 'settlement': '1', 'city': '2', 'longest_road': '2', 'largest_army': '2'}, 'production': {'settlement': '1', 'city': '2'}, 'reqs': {'longest_road': '5', 'largest_army': '3'}, 'victory_condition': '10', 'world': {'_obj': '145'}, 'robber': {'_obj': '146'}, 'desert': {'_obj': '3'}, 'numbers': {'8': {'s0': {'_obj': '0'}, 's1': {'_obj': '16'}}, '12': {'s0': {'_obj': '1'}}, '11': {'s0': {'_obj': '2'}, 's1': {'_obj': '6'}}, '9': {'s0': {'_obj': '4'}, 's1': {'_obj': '18'}}, '6': {'s0': {'_obj': '5'}, 's1': {'_obj': '15'}}, '3': {'s0': {'_obj': '7'}, 's1': {'_obj': '14'}}, '10': {'s0': {'_obj': '8'}, 's1': {'_obj': '13'}}, '4': {'s0': {'_obj': '9'}, 's1': {'_obj': '11'}}, '5': {'s0': {'_obj': '10'}, 's1': {'_obj': '12'}}, '2': {'s0': {'_obj': '17'}}}, 'dev_deck': {'_obj': '147'}, 'turns': {'order': {'l0': {'_player': 'White'}, 'l1': {'_player': 'Red'}, 'l2': {'_player': 'Blue'}}, 'counter': '1'}, 'bank_trading': {'default': '4', '3to1': '3', 'wood': '2', 'wheat': '2', 'brick': '2', 'ore': '2', 'sheep': '2'}, 'msgs': {'build': {'road': 'Build a road', 'settlement': 'Settle', 'city': 'Upgrade to a city', 'devcard': 'Buy a development card'}}}))\n",
       "\t\t});\n",
       "\t\t"
      ]
     },
     "metadata": {},
     "output_type": "display_data"
    }
   ],
   "source": [
    "viz.render_dict(I.ctrl.state)"
   ]
  },
  {
   "cell_type": "code",
   "execution_count": null,
   "metadata": {
    "collapsed": true
   },
   "outputs": [],
   "source": []
  },
  {
   "cell_type": "code",
   "execution_count": null,
   "metadata": {
    "collapsed": true
   },
   "outputs": [],
   "source": []
  },
  {
   "cell_type": "code",
   "execution_count": 31,
   "metadata": {},
   "outputs": [
    {
     "name": "stdout",
     "output_type": "stream",
     "text": [
      "tdict(obj_type, loc, player, visible)\n",
      "tdict(obj_type, loc, player, visible)\n",
      "tdict(obj_type, loc, player, visible)\n",
      "tdict(obj_type, loc, player, visible)\n",
      "tdict(obj_type, loc, player, visible)\n",
      "tdict(obj_type, loc, player, visible)\n"
     ]
    }
   ],
   "source": [
    "for k,v in I.table.items():\n",
    "    if v.obj_type == 'settlement':\n",
    "        print(v)"
   ]
  },
  {
   "cell_type": "code",
   "execution_count": 7,
   "metadata": {
    "scrolled": true
   },
   "outputs": [
    {
     "data": {
      "text/html": [
       "<div id=\"49db311d-ff5d-4de9-9cf7-c18a88191650\" style=\"height: 600px; width:100%;\"></div>"
      ]
     },
     "metadata": {},
     "output_type": "display_data"
    },
    {
     "data": {
      "application/javascript": [
       "\n",
       "\t\trequire([\"https://rawgit.com/caldwell/renderjson/master/renderjson.js\"], function() {\n",
       "\t\t  renderjson.set_show_to_level(1)\n",
       "\t\t  document.getElementById('49db311d-ff5d-4de9-9cf7-c18a88191650').appendChild(renderjson({'obj_type': 'hex', 'row': '1', 'col': '1', 'neighbors': {'l0': {'_obj': '0'}, 'l1': {'_obj': '4'}, 'l2': {'_obj': '8'}, 'l3': {'_obj': '7'}, 'l4': 'None', 'l5': 'None'}, 'visible': {'s0': 'White', 's1': 'Red', 's2': 'Blue'}, 'edges': {'l0': {'_obj': '22'}, 'l1': {'_obj': '35'}, 'l2': {'_obj': '36'}, 'l3': {'_obj': '37'}, 'l4': {'_obj': '38'}, 'l5': {'_obj': '39'}}, 'corners': {'l0': {'_obj': '95'}, 'l1': {'_obj': '94'}, 'l2': {'_obj': '105'}, 'l3': {'_obj': '106'}, 'l4': {'_obj': '107'}, 'l5': {'_obj': '108'}}, 'res': 'desert'}))\n",
       "\t\t});\n",
       "\t\t"
      ]
     },
     "metadata": {},
     "output_type": "display_data"
    }
   ],
   "source": [
    "viz.render_dict(I.table['3'])"
   ]
  },
  {
   "cell_type": "code",
   "execution_count": null,
   "metadata": {
    "collapsed": true
   },
   "outputs": [],
   "source": []
  }
 ],
 "metadata": {
  "kernelspec": {
   "display_name": "Python 3",
   "language": "python",
   "name": "python3"
  },
  "language_info": {
   "codemirror_mode": {
    "name": "ipython",
    "version": 3
   },
   "file_extension": ".py",
   "mimetype": "text/x-python",
   "name": "python",
   "nbconvert_exporter": "python",
   "pygments_lexer": "ipython3",
   "version": "3.6.4"
  }
 },
 "nbformat": 4,
 "nbformat_minor": 2
}
