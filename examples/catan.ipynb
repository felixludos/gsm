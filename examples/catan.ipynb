{
 "cells": [
  {
   "cell_type": "code",
   "execution_count": 1,
   "metadata": {},
   "outputs": [],
   "source": [
    "import sys, os, time\n",
    "%load_ext autoreload\n",
    "%autoreload 2\n",
    "%matplotlib inline\n",
    "#%matplotlib tk\n",
    "import numpy as np\n",
    "import matplotlib.pyplot as plt\n",
    "from collections import namedtuple, OrderedDict\n",
    "import random\n",
    "from string import Formatter\n",
    "from itertools import chain, product\n",
    "import json\n",
    "import gsm\n",
    "from gsm import tdict, tlist, tset\n",
    "from gsm import Savable\n",
    "from gsm import util\n",
    "from gsm import viz\n",
    "from gsm.viz import Ipython_Interface as Interface\n",
    "from catan.main import Catan"
   ]
  },
  {
   "cell_type": "code",
   "execution_count": 2,
   "metadata": {},
   "outputs": [
    {
     "name": "stdout",
     "output_type": "stream",
     "text": [
      "Player set to White\n"
     ]
    }
   ],
   "source": [
    "seed = 1\n",
    "I = Interface(Catan(), seed=seed, full_log=True)\n",
    "I.set_player('White')\n",
    "# I.get_players()"
   ]
  },
  {
   "cell_type": "code",
   "execution_count": 3,
   "metadata": {
    "scrolled": true
   },
   "outputs": [
    {
     "name": "stdout",
     "output_type": "stream",
     "text": [
      "Received key: 0x91b7584a2265b1f5\n",
      "Received table: 148 entries\n",
      "+-----------------------------------------+\n",
      "| Choose a location to place a settlement |\n",
      "+-----------------------------------------+\n",
      "-- Available Locations --\n",
      "   0 - ('OBJ[91]:Corner(ID=91)',)\n",
      "   1 - ('OBJ[92]:Corner(ID=92)',)\n",
      "   2 - ('OBJ[93]:Corner(ID=93)',)\n",
      "   3 - ('OBJ[94]:Corner(ID=94)',)\n",
      "   4 - ('OBJ[95]:Corner(ID=95)',)\n",
      "   5 - ('OBJ[96]:Corner(ID=96)',)\n",
      "   6 - ('OBJ[97]:Corner(ID=97)',)\n",
      "   7 - ('OBJ[98]:Corner(ID=98)',)\n",
      "   8 - ('OBJ[99]:Corner(ID=99)',)\n",
      "   9 - ('OBJ[100]:Corner(ID=100)',)\n",
      "  10 - ('OBJ[101]:Corner(ID=101)',)\n",
      "  11 - ('OBJ[102]:Corner(ID=102)',)\n",
      "  12 - ('OBJ[103]:Corner(ID=103)',)\n",
      "  13 - ('OBJ[104]:Corner(ID=104)',)\n",
      "  14 - ('OBJ[105]:Corner(ID=105)',)\n",
      "  15 - ('OBJ[106]:Corner(ID=106)',)\n",
      "  16 - ('OBJ[107]:Corner(ID=107)',)\n",
      "  17 - ('OBJ[108]:Corner(ID=108)',)\n",
      "  18 - ('OBJ[109]:Corner(ID=109)',)\n",
      "  19 - ('OBJ[110]:Corner(ID=110)',)\n",
      "  20 - ('OBJ[111]:Corner(ID=111)',)\n",
      "  21 - ('OBJ[112]:Corner(ID=112)',)\n",
      "  22 - ('OBJ[113]:Corner(ID=113)',)\n",
      "  23 - ('OBJ[114]:Corner(ID=114)',)\n",
      "  24 - ('OBJ[115]:Corner(ID=115)',)\n",
      "  25 - ('OBJ[116]:Corner(ID=116)',)\n",
      "  26 - ('OBJ[117]:Corner(ID=117)',)\n",
      "  27 - ('OBJ[118]:Corner(ID=118)',)\n",
      "  28 - ('OBJ[119]:Corner(ID=119)',)\n",
      "  29 - ('OBJ[120]:Corner(ID=120)',)\n",
      "  30 - ('OBJ[121]:Corner(ID=121)',)\n",
      "  31 - ('OBJ[122]:Corner(ID=122)',)\n",
      "  32 - ('OBJ[123]:Corner(ID=123)',)\n",
      "  33 - ('OBJ[124]:Corner(ID=124)',)\n",
      "  34 - ('OBJ[125]:Corner(ID=125)',)\n",
      "  35 - ('OBJ[126]:Corner(ID=126)',)\n",
      "  36 - ('OBJ[127]:Corner(ID=127)',)\n",
      "  37 - ('OBJ[128]:Corner(ID=128)',)\n",
      "  38 - ('OBJ[129]:Corner(ID=129)',)\n",
      "  39 - ('OBJ[130]:Corner(ID=130)',)\n",
      "  40 - ('OBJ[131]:Corner(ID=131)',)\n",
      "  41 - ('OBJ[132]:Corner(ID=132)',)\n",
      "  42 - ('OBJ[133]:Corner(ID=133)',)\n",
      "  43 - ('OBJ[134]:Corner(ID=134)',)\n",
      "  44 - ('OBJ[135]:Corner(ID=135)',)\n",
      "  45 - ('OBJ[136]:Corner(ID=136)',)\n",
      "  46 - ('OBJ[137]:Corner(ID=137)',)\n",
      "  47 - ('OBJ[138]:Corner(ID=138)',)\n",
      "  48 - ('OBJ[139]:Corner(ID=139)',)\n",
      "  49 - ('OBJ[140]:Corner(ID=140)',)\n",
      "  50 - ('OBJ[141]:Corner(ID=141)',)\n",
      "  51 - ('OBJ[142]:Corner(ID=142)',)\n",
      "  52 - ('OBJ[143]:Corner(ID=143)',)\n",
      "  53 - ('OBJ[144]:Corner(ID=144)',)\n"
     ]
    }
   ],
   "source": [
    "I.reset(seed=seed)\n",
    "I.view()"
   ]
  },
  {
   "cell_type": "code",
   "execution_count": 4,
   "metadata": {
    "scrolled": true
   },
   "outputs": [
    {
     "data": {
      "text/html": [
       "<div id=\"ca3edda7-96c6-4c74-adbc-f2cb8ff4cbbd\" style=\"height: 600px; width:100%;\"></div>"
      ]
     },
     "metadata": {},
     "output_type": "display_data"
    },
    {
     "data": {
      "application/javascript": [
       "\n",
       "\t\trequire([\"https://rawgit.com/caldwell/renderjson/master/renderjson.js\"], function() {\n",
       "\t\t  renderjson.set_show_to_level(1)\n",
       "\t\t  document.getElementById('ca3edda7-96c6-4c74-adbc-f2cb8ff4cbbd').appendChild(renderjson({'name': 'SetupPhase', 'available': {'s0': {'_obj': '91'}, 's1': {'_obj': '92'}, 's2': {'_obj': '93'}, 's3': {'_obj': '94'}, 's4': {'_obj': '95'}, 's5': {'_obj': '96'}, 's6': {'_obj': '97'}, 's7': {'_obj': '98'}, 's8': {'_obj': '99'}, 's9': {'_obj': '100'}, 's10': {'_obj': '101'}, 's11': {'_obj': '102'}, 's12': {'_obj': '103'}, 's13': {'_obj': '104'}, 's14': {'_obj': '105'}, 's15': {'_obj': '106'}, 's16': {'_obj': '107'}, 's17': {'_obj': '108'}, 's18': {'_obj': '109'}, 's19': {'_obj': '110'}, 's20': {'_obj': '111'}, 's21': {'_obj': '112'}, 's22': {'_obj': '113'}, 's23': {'_obj': '114'}, 's24': {'_obj': '115'}, 's25': {'_obj': '116'}, 's26': {'_obj': '117'}, 's27': {'_obj': '118'}, 's28': {'_obj': '119'}, 's29': {'_obj': '120'}, 's30': {'_obj': '121'}, 's31': {'_obj': '122'}, 's32': {'_obj': '123'}, 's33': {'_obj': '124'}, 's34': {'_obj': '125'}, 's35': {'_obj': '126'}, 's36': {'_obj': '127'}, 's37': {'_obj': '128'}, 's38': {'_obj': '129'}, 's39': {'_obj': '130'}, 's40': {'_obj': '131'}, 's41': {'_obj': '132'}, 's42': {'_obj': '133'}, 's43': {'_obj': '134'}, 's44': {'_obj': '135'}, 's45': {'_obj': '136'}, 's46': {'_obj': '137'}, 's47': {'_obj': '138'}, 's48': {'_obj': '139'}, 's49': {'_obj': '140'}, 's50': {'_obj': '141'}, 's51': {'_obj': '142'}, 's52': {'_obj': '143'}, 's53': {'_obj': '144'}}, 'settled': 'None', 'on_second': 'False', 'player_order': {'l0': {'_player': 'White'}, 'l1': {'_player': 'Red'}, 'l2': {'_player': 'Blue'}, 'l3': {'_player': 'Blue'}, 'l4': {'_player': 'Red'}, 'l5': {'_player': 'White'}}}))\n",
       "\t\t});\n",
       "\t\t"
      ]
     },
     "metadata": {},
     "output_type": "display_data"
    }
   ],
   "source": [
    "viz.render_dict(I.ctrl.phase_stack[-1])"
   ]
  },
  {
   "cell_type": "code",
   "execution_count": 5,
   "metadata": {
    "scrolled": true
   },
   "outputs": [
    {
     "name": "stdout",
     "output_type": "stream",
     "text": [
      "Player set to White\n",
      "Received key: 0x91b7584a2265b1f5\n",
      "Received table: 148 entries\n",
      "+-----------------------------------------+\n",
      "| Choose a location to place a settlement |\n",
      "+-----------------------------------------+\n",
      "-- Available Locations --\n",
      "   0 - ('OBJ[91]:Corner(ID=91)',)\n",
      "   1 - ('OBJ[92]:Corner(ID=92)',)\n",
      "   2 - ('OBJ[93]:Corner(ID=93)',)\n",
      "   3 - ('OBJ[94]:Corner(ID=94)',)\n",
      "   4 - ('OBJ[95]:Corner(ID=95)',)\n",
      "   5 - ('OBJ[96]:Corner(ID=96)',)\n",
      "   6 - ('OBJ[97]:Corner(ID=97)',)\n",
      "   7 - ('OBJ[98]:Corner(ID=98)',)\n",
      "   8 - ('OBJ[99]:Corner(ID=99)',)\n",
      "   9 - ('OBJ[100]:Corner(ID=100)',)\n",
      "  10 - ('OBJ[101]:Corner(ID=101)',)\n",
      "  11 - ('OBJ[102]:Corner(ID=102)',)\n",
      "  12 - ('OBJ[103]:Corner(ID=103)',)\n",
      "  13 - ('OBJ[104]:Corner(ID=104)',)\n",
      "  14 - ('OBJ[105]:Corner(ID=105)',)\n",
      "  15 - ('OBJ[106]:Corner(ID=106)',)\n",
      "  16 - ('OBJ[107]:Corner(ID=107)',)\n",
      "  17 - ('OBJ[108]:Corner(ID=108)',)\n",
      "  18 - ('OBJ[109]:Corner(ID=109)',)\n",
      "  19 - ('OBJ[110]:Corner(ID=110)',)\n",
      "  20 - ('OBJ[111]:Corner(ID=111)',)\n",
      "  21 - ('OBJ[112]:Corner(ID=112)',)\n",
      "  22 - ('OBJ[113]:Corner(ID=113)',)\n",
      "  23 - ('OBJ[114]:Corner(ID=114)',)\n",
      "  24 - ('OBJ[115]:Corner(ID=115)',)\n",
      "  25 - ('OBJ[116]:Corner(ID=116)',)\n",
      "  26 - ('OBJ[117]:Corner(ID=117)',)\n",
      "  27 - ('OBJ[118]:Corner(ID=118)',)\n",
      "  28 - ('OBJ[119]:Corner(ID=119)',)\n",
      "  29 - ('OBJ[120]:Corner(ID=120)',)\n",
      "  30 - ('OBJ[121]:Corner(ID=121)',)\n",
      "  31 - ('OBJ[122]:Corner(ID=122)',)\n",
      "  32 - ('OBJ[123]:Corner(ID=123)',)\n",
      "  33 - ('OBJ[124]:Corner(ID=124)',)\n",
      "  34 - ('OBJ[125]:Corner(ID=125)',)\n",
      "  35 - ('OBJ[126]:Corner(ID=126)',)\n",
      "  36 - ('OBJ[127]:Corner(ID=127)',)\n",
      "  37 - ('OBJ[128]:Corner(ID=128)',)\n",
      "  38 - ('OBJ[129]:Corner(ID=129)',)\n",
      "  39 - ('OBJ[130]:Corner(ID=130)',)\n",
      "  40 - ('OBJ[131]:Corner(ID=131)',)\n",
      "  41 - ('OBJ[132]:Corner(ID=132)',)\n",
      "  42 - ('OBJ[133]:Corner(ID=133)',)\n",
      "  43 - ('OBJ[134]:Corner(ID=134)',)\n",
      "  44 - ('OBJ[135]:Corner(ID=135)',)\n",
      "  45 - ('OBJ[136]:Corner(ID=136)',)\n",
      "  46 - ('OBJ[137]:Corner(ID=137)',)\n",
      "  47 - ('OBJ[138]:Corner(ID=138)',)\n",
      "  48 - ('OBJ[139]:Corner(ID=139)',)\n",
      "  49 - ('OBJ[140]:Corner(ID=140)',)\n",
      "  50 - ('OBJ[141]:Corner(ID=141)',)\n",
      "  51 - ('OBJ[142]:Corner(ID=142)',)\n",
      "  52 - ('OBJ[143]:Corner(ID=143)',)\n",
      "  53 - ('OBJ[144]:Corner(ID=144)',)\n"
     ]
    }
   ],
   "source": [
    "I.set_player()\n",
    "I.get_status()\n",
    "I.view()"
   ]
  },
  {
   "cell_type": "code",
   "execution_count": 18,
   "metadata": {
    "scrolled": true
   },
   "outputs": [
    {
     "name": "stdout",
     "output_type": "stream",
     "text": [
      "Selected action 1: ('OBJ[38]:Edge(ID=38)',)\n",
      "*** ERROR: NotImplementedError ***\n",
      "Traceback (most recent call last):\n",
      "  File \"/mnt/c/Users/anwan/OneDrive - UW/Khan/Other/gsm/git/gsm/core/controller.py\", line 230, in _step\n",
      "    phase.execute(self, player=self.players[player], action=action)\n",
      "  File \"/mnt/c/Users/anwan/OneDrive - UW/Khan/Other/gsm/git/examples/catan/phases/main.py\", line 10, in execute\n",
      "    raise NotImplementedError\n",
      "NotImplementedError\n",
      "\n",
      "****************************\n",
      "Player set to White\n",
      "Received key: 0x9b810e766ec9d286\n",
      "Received table: 159 entries\n",
      "-------------\n",
      "Log\n",
      "-------------\n",
      "PLYR:White builds OBJ[148]:settlement(ID=148) (gaining 1 victory point)\n",
      "PLYR:White builds OBJ[149]:road(ID=149)\n",
      "PLYR:Red builds OBJ[150]:settlement(ID=150) (gaining 1 victory point)\n",
      "PLYR:Red builds OBJ[151]:road(ID=151)\n",
      "PLYR:Blue builds OBJ[152]:settlement(ID=152) (gaining 1 victory point)\n",
      "PLYR:Blue builds OBJ[153]:road(ID=153)\n",
      "PLYR:Blue builds OBJ[154]:settlement(ID=154) (gaining 1 victory point)\n",
      "PLYR:Blue gains: brick, wood, and brick\n",
      "PLYR:Blue builds OBJ[155]:road(ID=155)\n",
      "PLYR:Red builds OBJ[156]:settlement(ID=156) (gaining 1 victory point)\n",
      "PLYR:Red gains: brick\n",
      "PLYR:Red builds OBJ[157]:road(ID=157)\n",
      "PLYR:White builds OBJ[158]:settlement(ID=158) (gaining 1 victory point)\n",
      "PLYR:White gains: no resources\n",
      "PLYR:White builds OBJ[159]:road(ID=159)\n",
      "\n",
      "+-----------------------------------+\n",
      "| Choose a location to place a road |\n",
      "+-----------------------------------+\n",
      "-- Available Edges --\n",
      "   0 - ('OBJ[39]:Edge(ID=39)',)\n",
      "   1 - ('OBJ[38]:Edge(ID=38)',)\n"
     ]
    }
   ],
   "source": [
    "I.select_action()\n",
    "I.step()\n",
    "I.set_player()\n",
    "I.get_status()\n",
    "I.view()"
   ]
  },
  {
   "cell_type": "code",
   "execution_count": 7,
   "metadata": {
    "scrolled": true
   },
   "outputs": [
    {
     "data": {
      "text/html": [
       "<div id=\"49db311d-ff5d-4de9-9cf7-c18a88191650\" style=\"height: 600px; width:100%;\"></div>"
      ]
     },
     "metadata": {},
     "output_type": "display_data"
    },
    {
     "data": {
      "application/javascript": [
       "\n",
       "\t\trequire([\"https://rawgit.com/caldwell/renderjson/master/renderjson.js\"], function() {\n",
       "\t\t  renderjson.set_show_to_level(1)\n",
       "\t\t  document.getElementById('49db311d-ff5d-4de9-9cf7-c18a88191650').appendChild(renderjson({'obj_type': 'hex', 'row': '1', 'col': '1', 'neighbors': {'l0': {'_obj': '0'}, 'l1': {'_obj': '4'}, 'l2': {'_obj': '8'}, 'l3': {'_obj': '7'}, 'l4': 'None', 'l5': 'None'}, 'visible': {'s0': 'White', 's1': 'Red', 's2': 'Blue'}, 'edges': {'l0': {'_obj': '22'}, 'l1': {'_obj': '35'}, 'l2': {'_obj': '36'}, 'l3': {'_obj': '37'}, 'l4': {'_obj': '38'}, 'l5': {'_obj': '39'}}, 'corners': {'l0': {'_obj': '95'}, 'l1': {'_obj': '94'}, 'l2': {'_obj': '105'}, 'l3': {'_obj': '106'}, 'l4': {'_obj': '107'}, 'l5': {'_obj': '108'}}, 'res': 'desert'}))\n",
       "\t\t});\n",
       "\t\t"
      ]
     },
     "metadata": {},
     "output_type": "display_data"
    }
   ],
   "source": [
    "viz.render_dict(I.table['3'])"
   ]
  },
  {
   "cell_type": "code",
   "execution_count": null,
   "metadata": {},
   "outputs": [],
   "source": []
  }
 ],
 "metadata": {
  "kernelspec": {
   "display_name": "Python 3",
   "language": "python",
   "name": "python3"
  },
  "language_info": {
   "codemirror_mode": {
    "name": "ipython",
    "version": 3
   },
   "file_extension": ".py",
   "mimetype": "text/x-python",
   "name": "python",
   "nbconvert_exporter": "python",
   "pygments_lexer": "ipython3",
   "version": "3.7.2"
  }
 },
 "nbformat": 4,
 "nbformat_minor": 2
}
