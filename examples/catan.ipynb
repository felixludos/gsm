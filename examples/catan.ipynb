{
 "cells": [
  {
   "cell_type": "code",
   "execution_count": 1,
   "metadata": {},
   "outputs": [],
   "source": [
    "import sys, os, time\n",
    "%load_ext autoreload\n",
    "%autoreload 2\n",
    "%matplotlib inline\n",
    "#%matplotlib tk\n",
    "import numpy as np\n",
    "import matplotlib.pyplot as plt\n",
    "from collections import namedtuple, OrderedDict\n",
    "import random\n",
    "from string import Formatter\n",
    "from itertools import chain, product\n",
    "import json\n",
    "import gsm\n",
    "from gsm import tdict, tlist, tset\n",
    "from gsm import Savable\n",
    "from gsm import util\n",
    "from gsm import viz\n",
    "from gsm.viz import Ipython_Interface as Interface\n",
    "from catan.main import Catan\n",
    "from catan.ops import roll_dice"
   ]
  },
  {
   "cell_type": "code",
   "execution_count": 2,
   "metadata": {},
   "outputs": [
    {
     "name": "stdout",
     "output_type": "stream",
     "text": [
      "Player set to White\n"
     ]
    }
   ],
   "source": [
    "seed = 4\n",
    "I = Interface(Catan(), seed=seed, full_log=True)\n",
    "I.set_player('White')\n",
    "# I.get_players()"
   ]
  },
  {
   "cell_type": "code",
   "execution_count": 3,
   "metadata": {
    "scrolled": true
   },
   "outputs": [
    {
     "name": "stdout",
     "output_type": "stream",
     "text": [
      "Received key: 0x4da4f9fc3c6da5d7\n",
      "Received table: 148 entries\n",
      "-------------\n",
      "Log\n",
      "-------------\n",
      "\n",
      "Phase: setup\n",
      "+-----------------------------------------+\n",
      "| Choose a location to place a settlement |\n",
      "+-----------------------------------------+\n",
      "-- Available Locations --\n",
      "   0 - OBJ[91]:Corner[91]\n",
      "   1 - OBJ[92]:Corner[92]\n",
      "   2 - OBJ[93]:Corner[93]\n",
      "   3 - OBJ[94]:Corner[94]\n",
      "   4 - OBJ[95]:Corner[95]\n",
      "   5 - OBJ[96]:Corner[96]\n",
      "   6 - OBJ[97]:Corner[97]\n",
      "   7 - OBJ[98]:Corner[98]\n",
      "   8 - OBJ[99]:Corner[99]\n",
      "   9 - OBJ[100]:Corner[100]\n",
      "  10 - OBJ[101]:Corner[101]\n",
      "  11 - OBJ[102]:Corner[102]\n",
      "  12 - OBJ[103]:Corner[103]\n",
      "  13 - OBJ[104]:Corner[104]\n",
      "  14 - OBJ[105]:Corner[105]\n",
      "  15 - OBJ[106]:Corner[106]\n",
      "  16 - OBJ[107]:Corner[107]\n",
      "  17 - OBJ[108]:Corner[108]\n",
      "  18 - OBJ[109]:Corner[109]\n",
      "  19 - OBJ[110]:Corner[110]\n",
      "  20 - OBJ[111]:Corner[111]\n",
      "  21 - OBJ[112]:Corner[112]\n",
      "  22 - OBJ[113]:Corner[113]\n",
      "  23 - OBJ[114]:Corner[114]\n",
      "  24 - OBJ[115]:Corner[115]\n",
      "  25 - OBJ[116]:Corner[116]\n",
      "  26 - OBJ[117]:Corner[117]\n",
      "  27 - OBJ[118]:Corner[118]\n",
      "  28 - OBJ[119]:Corner[119]\n",
      "  29 - OBJ[120]:Corner[120]\n",
      "  30 - OBJ[121]:Corner[121]\n",
      "  31 - OBJ[122]:Corner[122]\n",
      "  32 - OBJ[123]:Corner[123]\n",
      "  33 - OBJ[124]:Corner[124]\n",
      "  34 - OBJ[125]:Corner[125]\n",
      "  35 - OBJ[126]:Corner[126]\n",
      "  36 - OBJ[127]:Corner[127]\n",
      "  37 - OBJ[128]:Corner[128]\n",
      "  38 - OBJ[129]:Corner[129]\n",
      "  39 - OBJ[130]:Corner[130]\n",
      "  40 - OBJ[131]:Corner[131]\n",
      "  41 - OBJ[132]:Corner[132]\n",
      "  42 - OBJ[133]:Corner[133]\n",
      "  43 - OBJ[134]:Corner[134]\n",
      "  44 - OBJ[135]:Corner[135]\n",
      "  45 - OBJ[136]:Corner[136]\n",
      "  46 - OBJ[137]:Corner[137]\n",
      "  47 - OBJ[138]:Corner[138]\n",
      "  48 - OBJ[139]:Corner[139]\n",
      "  49 - OBJ[140]:Corner[140]\n",
      "  50 - OBJ[141]:Corner[141]\n",
      "  51 - OBJ[142]:Corner[142]\n",
      "  52 - OBJ[143]:Corner[143]\n",
      "  53 - OBJ[144]:Corner[144]\n"
     ]
    }
   ],
   "source": [
    "# I.load('saves/catan_setup.pkl')\n",
    "# I.load('saves/catan_robber.pkl')\n",
    "I.reset(seed=seed)\n",
    "I.view()"
   ]
  },
  {
   "cell_type": "code",
   "execution_count": 4,
   "metadata": {
    "scrolled": true
   },
   "outputs": [
    {
     "name": "stdout",
     "output_type": "stream",
     "text": [
      "Player set to White\n",
      "Received key: 0x4da4f9fc3c6da5d7\n",
      "Received table: 148 entries\n",
      "-------------\n",
      "Log\n",
      "-------------\n",
      "\n",
      "Phase: setup\n",
      "+-----------------------------------------+\n",
      "| Choose a location to place a settlement |\n",
      "+-----------------------------------------+\n",
      "-- Available Locations --\n",
      "   0 - OBJ[91]:Corner[91]\n",
      "   1 - OBJ[92]:Corner[92]\n",
      "   2 - OBJ[93]:Corner[93]\n",
      "   3 - OBJ[94]:Corner[94]\n",
      "   4 - OBJ[95]:Corner[95]\n",
      "   5 - OBJ[96]:Corner[96]\n",
      "   6 - OBJ[97]:Corner[97]\n",
      "   7 - OBJ[98]:Corner[98]\n",
      "   8 - OBJ[99]:Corner[99]\n",
      "   9 - OBJ[100]:Corner[100]\n",
      "  10 - OBJ[101]:Corner[101]\n",
      "  11 - OBJ[102]:Corner[102]\n",
      "  12 - OBJ[103]:Corner[103]\n",
      "  13 - OBJ[104]:Corner[104]\n",
      "  14 - OBJ[105]:Corner[105]\n",
      "  15 - OBJ[106]:Corner[106]\n",
      "  16 - OBJ[107]:Corner[107]\n",
      "  17 - OBJ[108]:Corner[108]\n",
      "  18 - OBJ[109]:Corner[109]\n",
      "  19 - OBJ[110]:Corner[110]\n",
      "  20 - OBJ[111]:Corner[111]\n",
      "  21 - OBJ[112]:Corner[112]\n",
      "  22 - OBJ[113]:Corner[113]\n",
      "  23 - OBJ[114]:Corner[114]\n",
      "  24 - OBJ[115]:Corner[115]\n",
      "  25 - OBJ[116]:Corner[116]\n",
      "  26 - OBJ[117]:Corner[117]\n",
      "  27 - OBJ[118]:Corner[118]\n",
      "  28 - OBJ[119]:Corner[119]\n",
      "  29 - OBJ[120]:Corner[120]\n",
      "  30 - OBJ[121]:Corner[121]\n",
      "  31 - OBJ[122]:Corner[122]\n",
      "  32 - OBJ[123]:Corner[123]\n",
      "  33 - OBJ[124]:Corner[124]\n",
      "  34 - OBJ[125]:Corner[125]\n",
      "  35 - OBJ[126]:Corner[126]\n",
      "  36 - OBJ[127]:Corner[127]\n",
      "  37 - OBJ[128]:Corner[128]\n",
      "  38 - OBJ[129]:Corner[129]\n",
      "  39 - OBJ[130]:Corner[130]\n",
      "  40 - OBJ[131]:Corner[131]\n",
      "  41 - OBJ[132]:Corner[132]\n",
      "  42 - OBJ[133]:Corner[133]\n",
      "  43 - OBJ[134]:Corner[134]\n",
      "  44 - OBJ[135]:Corner[135]\n",
      "  45 - OBJ[136]:Corner[136]\n",
      "  46 - OBJ[137]:Corner[137]\n",
      "  47 - OBJ[138]:Corner[138]\n",
      "  48 - OBJ[139]:Corner[139]\n",
      "  49 - OBJ[140]:Corner[140]\n",
      "  50 - OBJ[141]:Corner[141]\n",
      "  51 - OBJ[142]:Corner[142]\n",
      "  52 - OBJ[143]:Corner[143]\n",
      "  53 - OBJ[144]:Corner[144]\n"
     ]
    }
   ],
   "source": [
    "I.set_player()\n",
    "I.get_status()\n",
    "I.view()"
   ]
  },
  {
   "cell_type": "code",
   "execution_count": 39,
   "metadata": {
    "scrolled": true
   },
   "outputs": [
    {
     "name": "stdout",
     "output_type": "stream",
     "text": [
      "Selected action 3: OBJ[3]:hex[3]\n",
      "Player set to Blue\n",
      "Received key: 0xd160c5d0ef412ed6\n",
      "Received table: 161 entries\n",
      "-------------\n",
      "Log\n",
      "-------------\n",
      "PLYR:White builds a OBJ[148]:settlement[148] (gaining 1 victory point)\n",
      "PLYR:White builds a OBJ[149]:road[149]\n",
      "PLYR:Red builds a OBJ[150]:settlement[150] (gaining 1 victory point)\n",
      "PLYR:Red builds a OBJ[151]:road[151]\n",
      "PLYR:Blue builds a OBJ[152]:settlement[152] (gaining 1 victory point)\n",
      "PLYR:Blue builds a OBJ[153]:road[153]\n",
      "PLYR:Blue builds a OBJ[154]:settlement[154] (gaining 1 victory point)\n",
      "PLYR:Blue gains: brick, wood, and sheep\n",
      "PLYR:Blue builds a OBJ[155]:road[155]\n",
      "PLYR:Red builds a OBJ[156]:settlement[156] (gaining 1 victory point)\n",
      "PLYR:Red gains: sheep, wood, and ore\n",
      "PLYR:Red builds a OBJ[157]:road[157]\n",
      "PLYR:White builds a OBJ[158]:settlement[158] (gaining 1 victory point)\n",
      "PLYR:White gains: wood\n",
      "PLYR:White builds a OBJ[159]:road[159]\n",
      "PLYR:White rolled: 7.\n",
      "-*- PLYR:White moves OBJ[146]:robber[146] to OBJ[1]:hex[1]\n",
      "PLYR:Red rolled: 4.\n",
      "-*- PLYR:Blue gains 1 brick.\n",
      "-*- PLYR:Red offers a trade:\n",
      "-*- -*- Paying: -nothing-\n",
      "-*- -*- Receiving: wood\n",
      "-*- PLYR:Red trades with PLYR:Blue:\n",
      "-*- -*- Paying: -nothing-\n",
      "-*- -*- Receiving: wood\n",
      "-*- PLYR:Red offers a trade:\n",
      "-*- -*- Paying: -nothing-\n",
      "-*- -*- Receiving: wheat\n",
      "PLYR:Blue rolled: 7.\n",
      "-*- PLYR:Blue moves OBJ[146]:robber[146] to OBJ[17]:hex[17]\n",
      "PLYR:White rolled: 6.\n",
      "-*- PLYR:White gains 1 brick.\n",
      "-*- PLYR:White builds a OBJ[160]:road[160]\n",
      "PLYR:Red rolled: 4.\n",
      "-*- PLYR:Blue gains 1 brick.\n",
      "PLYR:Blue rolled: 8.\n",
      "-*- PLYR:Red gains 1 sheep.\n",
      "-*- PLYR:Blue gains 1 sheep.\n",
      "-*- PLYR:Red gains 1 sheep.\n",
      "-*- PLYR:Blue gains 1 ore.\n",
      "PLYR:White rolled: 9.\n",
      "-*- PLYR:White gains 1 wood.\n",
      "PLYR:Red rolled: 7.\n",
      "-*- PLYR:Red moves OBJ[146]:robber[146] to OBJ[3]:hex[3]\n",
      "PLYR:Blue rolled: 8.\n",
      "-*- PLYR:Red gains 1 sheep.\n",
      "-*- PLYR:Blue gains 1 sheep.\n",
      "-*- PLYR:Red gains 1 sheep.\n",
      "-*- PLYR:Blue gains 1 ore.\n",
      "\n",
      "Phase: main\n",
      "+--------------------------------+\n",
      "| You rolled: 8. Take your turn. |\n",
      "+--------------------------------+\n",
      "-- End your turn --\n",
      "   0 - pass\n",
      "-- Domestic Trade (with players) --\n",
      "   1 - demand wood\n",
      "   2 - demand brick\n",
      "   3 - demand sheep\n",
      "   4 - demand ore\n",
      "   5 - demand wheat\n",
      "   6 - offer brick\n",
      "   7 - offer sheep\n",
      "   8 - offer ore\n"
     ]
    }
   ],
   "source": [
    "I.select_action(0)\n",
    "I.step()\n",
    "I.set_player()\n",
    "I.get_status()\n",
    "I.view()"
   ]
  },
  {
   "cell_type": "code",
   "execution_count": 36,
   "metadata": {
    "scrolled": true
   },
   "outputs": [
    {
     "data": {
      "text/html": [
       "<div id=\"21310b9d-07ad-49c7-8056-fd08690719a5\" style=\"height: 600px; width:100%;\"></div>"
      ]
     },
     "metadata": {},
     "output_type": "display_data"
    },
    {
     "data": {
      "application/javascript": [
       "\n",
       "\t\trequire([\"https://rawgit.com/caldwell/renderjson/master/renderjson.js\"], function() {\n",
       "\t\t  renderjson.set_show_to_level(1)\n",
       "\t\t  document.getElementById('21310b9d-07ad-49c7-8056-fd08690719a5').appendChild(renderjson({'White': {'num_res': '0', 'num_dev': '0', 'color': 'White', 'obj_type': 'GamePlayer', 'name': 'White', 'reserve': {'road': '12', 'settlement': '3', 'city': '4'}, 'buildings': {'road': {'s0': {'_obj': '149'}, 's1': {'_obj': '159'}, 's2': {'_obj': '160'}}, 'settlement': {'s0': {'_obj': '148'}, 's1': {'_obj': '158'}}, 'city': {}}, 'resources': {'wood': '1', 'brick': '0', 'sheep': '0', 'ore': '0', 'wheat': '0'}, 'devcards': {}, 'past_devcards': {}, 'vps': '2', 'ports': {'s0': 'wood'}}, 'Red': {'num_res': '3', 'color': 'Red', 'reserve': {'road': '13', 'settlement': '3', 'city': '4'}, 'devcards': {}, 'past_devcards': {}, 'ports': {'s0': 'sheep'}}, 'Blue': {'num_res': '3', 'color': 'Blue', 'reserve': {'road': '13', 'settlement': '3', 'city': '4'}, 'devcards': {}, 'past_devcards': {}, 'ports': {}}}))\n",
       "\t\t});\n",
       "\t\t"
      ]
     },
     "metadata": {},
     "output_type": "display_data"
    }
   ],
   "source": [
    "viz.render_dict(I.players)"
   ]
  },
  {
   "cell_type": "code",
   "execution_count": 38,
   "metadata": {
    "scrolled": true
   },
   "outputs": [
    {
     "data": {
      "text/html": [
       "<div id=\"9b64fcff-2260-4324-a1b4-f495f2fd37c2\" style=\"height: 600px; width:100%;\"></div>"
      ]
     },
     "metadata": {},
     "output_type": "display_data"
    },
    {
     "data": {
      "application/javascript": [
       "\n",
       "\t\trequire([\"https://rawgit.com/caldwell/renderjson/master/renderjson.js\"], function() {\n",
       "\t\t  renderjson.set_show_to_level(1)\n",
       "\t\t  document.getElementById('9b64fcff-2260-4324-a1b4-f495f2fd37c2').appendChild(renderjson({'0': {'row': '0', 'col': '2', 'neighbors': {'l0': 'None', 'l1': {'_obj': '1'}, 'l2': {'_obj': '4'}, 'l3': {'_obj': '3'}, 'l4': 'None', 'l5': 'None'}, 'obj_type': 'hex', 'visible': {'s0': 'White', 's1': 'Red', 's2': 'Blue'}, 'edges': {'l0': {'_obj': '19'}, 'l1': {'_obj': '20'}, 'l2': {'_obj': '21'}, 'l3': {'_obj': '22'}, 'l4': {'_obj': '23'}, 'l5': {'_obj': '24'}}, 'corners': {'l0': {'_obj': '91'}, 'l1': {'_obj': '92'}, 'l2': {'_obj': '93'}, 'l3': {'_obj': '94'}, 'l4': {'_obj': '95'}, 'l5': {'_obj': '96'}}, 'res': 'ore', 'num': '10'}, '1': {'row': '0', 'col': '4', 'neighbors': {'l0': 'None', 'l1': {'_obj': '2'}, 'l2': {'_obj': '5'}, 'l3': {'_obj': '4'}, 'l4': {'_obj': '0'}, 'l5': 'None'}, 'obj_type': 'hex', 'visible': {'s0': 'White', 's1': 'Red', 's2': 'Blue'}, 'edges': {'l0': {'_obj': '25'}, 'l1': {'_obj': '26'}, 'l2': {'_obj': '27'}, 'l3': {'_obj': '28'}, 'l4': {'_obj': '20'}, 'l5': {'_obj': '29'}}, 'corners': {'l0': {'_obj': '97'}, 'l1': {'_obj': '98'}, 'l2': {'_obj': '99'}, 'l3': {'_obj': '100'}, 'l4': {'_obj': '93'}, 'l5': {'_obj': '92'}}, 'res': 'sheep', 'num': '8'}, '2': {'row': '0', 'col': '6', 'neighbors': {'l0': 'None', 'l1': 'None', 'l2': {'_obj': '6'}, 'l3': {'_obj': '5'}, 'l4': {'_obj': '1'}, 'l5': 'None'}, 'obj_type': 'hex', 'visible': {'s0': 'White', 's1': 'Red', 's2': 'Blue'}, 'edges': {'l0': {'_obj': '30'}, 'l1': {'_obj': '31'}, 'l2': {'_obj': '32'}, 'l3': {'_obj': '33'}, 'l4': {'_obj': '26'}, 'l5': {'_obj': '34'}}, 'corners': {'l0': {'_obj': '101'}, 'l1': {'_obj': '102'}, 'l2': {'_obj': '103'}, 'l3': {'_obj': '104'}, 'l4': {'_obj': '99'}, 'l5': {'_obj': '98'}}, 'res': 'brick', 'num': '4'}, '3': {'row': '1', 'col': '1', 'neighbors': {'l0': {'_obj': '0'}, 'l1': {'_obj': '4'}, 'l2': {'_obj': '8'}, 'l3': {'_obj': '7'}, 'l4': 'None', 'l5': 'None'}, 'obj_type': 'hex', 'visible': {'s0': 'White', 's1': 'Red', 's2': 'Blue'}, 'edges': {'l0': {'_obj': '22'}, 'l1': {'_obj': '35'}, 'l2': {'_obj': '36'}, 'l3': {'_obj': '37'}, 'l4': {'_obj': '38'}, 'l5': {'_obj': '39'}}, 'corners': {'l0': {'_obj': '95'}, 'l1': {'_obj': '94'}, 'l2': {'_obj': '105'}, 'l3': {'_obj': '106'}, 'l4': {'_obj': '107'}, 'l5': {'_obj': '108'}}, 'res': 'brick', 'num': '6'}, '4': {'row': '1', 'col': '3', 'neighbors': {'l0': {'_obj': '1'}, 'l1': {'_obj': '5'}, 'l2': {'_obj': '9'}, 'l3': {'_obj': '8'}, 'l4': {'_obj': '3'}, 'l5': {'_obj': '0'}}, 'obj_type': 'hex', 'visible': {'s0': 'White', 's1': 'Red', 's2': 'Blue'}, 'edges': {'l0': {'_obj': '28'}, 'l1': {'_obj': '40'}, 'l2': {'_obj': '41'}, 'l3': {'_obj': '42'}, 'l4': {'_obj': '35'}, 'l5': {'_obj': '21'}}, 'corners': {'l0': {'_obj': '93'}, 'l1': {'_obj': '100'}, 'l2': {'_obj': '109'}, 'l3': {'_obj': '110'}, 'l4': {'_obj': '105'}, 'l5': {'_obj': '94'}}, 'res': 'wood', 'num': '3'}, '5': {'row': '1', 'col': '5', 'neighbors': {'l0': {'_obj': '2'}, 'l1': {'_obj': '6'}, 'l2': {'_obj': '10'}, 'l3': {'_obj': '9'}, 'l4': {'_obj': '4'}, 'l5': {'_obj': '1'}}, 'obj_type': 'hex', 'visible': {'s0': 'White', 's1': 'Red', 's2': 'Blue'}, 'edges': {'l0': {'_obj': '33'}, 'l1': {'_obj': '43'}, 'l2': {'_obj': '44'}, 'l3': {'_obj': '45'}, 'l4': {'_obj': '40'}, 'l5': {'_obj': '27'}}, 'corners': {'l0': {'_obj': '99'}, 'l1': {'_obj': '104'}, 'l2': {'_obj': '111'}, 'l3': {'_obj': '112'}, 'l4': {'_obj': '109'}, 'l5': {'_obj': '100'}}, 'res': 'wood', 'num': '5'}, '6': {'row': '1', 'col': '7', 'neighbors': {'l0': 'None', 'l1': 'None', 'l2': {'_obj': '11'}, 'l3': {'_obj': '10'}, 'l4': {'_obj': '5'}, 'l5': {'_obj': '2'}}, 'obj_type': 'hex', 'visible': {'s0': 'White', 's1': 'Red', 's2': 'Blue'}, 'edges': {'l0': {'_obj': '46'}, 'l1': {'_obj': '47'}, 'l2': {'_obj': '48'}, 'l3': {'_obj': '49'}, 'l4': {'_obj': '43'}, 'l5': {'_obj': '32'}}, 'corners': {'l0': {'_obj': '103'}, 'l1': {'_obj': '113'}, 'l2': {'_obj': '114'}, 'l3': {'_obj': '115'}, 'l4': {'_obj': '111'}, 'l5': {'_obj': '104'}}, 'res': 'ore', 'num': '3'}, '7': {'row': '2', 'col': '0', 'neighbors': {'l0': {'_obj': '3'}, 'l1': {'_obj': '8'}, 'l2': {'_obj': '12'}, 'l3': 'None', 'l4': 'None', 'l5': 'None'}, 'obj_type': 'hex', 'visible': {'s0': 'White', 's1': 'Red', 's2': 'Blue'}, 'edges': {'l0': {'_obj': '37'}, 'l1': {'_obj': '50'}, 'l2': {'_obj': '51'}, 'l3': {'_obj': '52'}, 'l4': {'_obj': '53'}, 'l5': {'_obj': '54'}}, 'corners': {'l0': {'_obj': '107'}, 'l1': {'_obj': '106'}, 'l2': {'_obj': '116'}, 'l3': {'_obj': '117'}, 'l4': {'_obj': '118'}, 'l5': {'_obj': '119'}}, 'res': 'sheep', 'num': '2'}, '8': {'row': '2', 'col': '2', 'neighbors': {'l0': {'_obj': '4'}, 'l1': {'_obj': '9'}, 'l2': {'_obj': '13'}, 'l3': {'_obj': '12'}, 'l4': {'_obj': '7'}, 'l5': {'_obj': '3'}}, 'obj_type': 'hex', 'visible': {'s0': 'White', 's1': 'Red', 's2': 'Blue'}, 'edges': {'l0': {'_obj': '42'}, 'l1': {'_obj': '55'}, 'l2': {'_obj': '56'}, 'l3': {'_obj': '57'}, 'l4': {'_obj': '50'}, 'l5': {'_obj': '36'}}, 'corners': {'l0': {'_obj': '105'}, 'l1': {'_obj': '110'}, 'l2': {'_obj': '120'}, 'l3': {'_obj': '121'}, 'l4': {'_obj': '116'}, 'l5': {'_obj': '106'}}, 'res': 'wood', 'num': '9'}, '9': {'row': '2', 'col': '4', 'neighbors': {'l0': {'_obj': '5'}, 'l1': {'_obj': '10'}, 'l2': {'_obj': '14'}, 'l3': {'_obj': '13'}, 'l4': {'_obj': '8'}, 'l5': {'_obj': '4'}}, 'obj_type': 'hex', 'visible': {'s0': 'White', 's1': 'Red', 's2': 'Blue'}, 'edges': {'l0': {'_obj': '45'}, 'l1': {'_obj': '58'}, 'l2': {'_obj': '59'}, 'l3': {'_obj': '60'}, 'l4': {'_obj': '55'}, 'l5': {'_obj': '41'}}, 'corners': {'l0': {'_obj': '109'}, 'l1': {'_obj': '112'}, 'l2': {'_obj': '122'}, 'l3': {'_obj': '123'}, 'l4': {'_obj': '120'}, 'l5': {'_obj': '110'}}, 'res': 'sheep', 'num': '6'}, '10': {'row': '2', 'col': '6', 'neighbors': {'l0': {'_obj': '6'}, 'l1': {'_obj': '11'}, 'l2': {'_obj': '15'}, 'l3': {'_obj': '14'}, 'l4': {'_obj': '9'}, 'l5': {'_obj': '5'}}, 'obj_type': 'hex', 'visible': {'s0': 'White', 's1': 'Red', 's2': 'Blue'}, 'edges': {'l0': {'_obj': '49'}, 'l1': {'_obj': '61'}, 'l2': {'_obj': '62'}, 'l3': {'_obj': '63'}, 'l4': {'_obj': '58'}, 'l5': {'_obj': '44'}}, 'corners': {'l0': {'_obj': '111'}, 'l1': {'_obj': '115'}, 'l2': {'_obj': '124'}, 'l3': {'_obj': '125'}, 'l4': {'_obj': '122'}, 'l5': {'_obj': '112'}}, 'res': 'wheat', 'num': '5'}, '11': {'row': '2', 'col': '8', 'neighbors': {'l0': 'None', 'l1': 'None', 'l2': 'None', 'l3': {'_obj': '15'}, 'l4': {'_obj': '10'}, 'l5': {'_obj': '6'}}, 'obj_type': 'hex', 'visible': {'s0': 'White', 's1': 'Red', 's2': 'Blue'}, 'edges': {'l0': {'_obj': '64'}, 'l1': {'_obj': '65'}, 'l2': {'_obj': '66'}, 'l3': {'_obj': '67'}, 'l4': {'_obj': '61'}, 'l5': {'_obj': '48'}}, 'corners': {'l0': {'_obj': '114'}, 'l1': {'_obj': '126'}, 'l2': {'_obj': '127'}, 'l3': {'_obj': '128'}, 'l4': {'_obj': '124'}, 'l5': {'_obj': '115'}}, 'res': 'ore', 'num': '8'}, '12': {'row': '3', 'col': '1', 'neighbors': {'l0': {'_obj': '8'}, 'l1': {'_obj': '13'}, 'l2': {'_obj': '16'}, 'l3': 'None', 'l4': 'None', 'l5': {'_obj': '7'}}, 'obj_type': 'hex', 'visible': {'s0': 'White', 's1': 'Red', 's2': 'Blue'}, 'edges': {'l0': {'_obj': '57'}, 'l1': {'_obj': '68'}, 'l2': {'_obj': '69'}, 'l3': {'_obj': '70'}, 'l4': {'_obj': '71'}, 'l5': {'_obj': '51'}}, 'corners': {'l0': {'_obj': '116'}, 'l1': {'_obj': '121'}, 'l2': {'_obj': '129'}, 'l3': {'_obj': '130'}, 'l4': {'_obj': '131'}, 'l5': {'_obj': '117'}}, 'res': 'wheat', 'num': '11'}, '13': {'row': '3', 'col': '3', 'neighbors': {'l0': {'_obj': '9'}, 'l1': {'_obj': '14'}, 'l2': {'_obj': '17'}, 'l3': {'_obj': '16'}, 'l4': {'_obj': '12'}, 'l5': {'_obj': '8'}}, 'obj_type': 'hex', 'visible': {'s0': 'White', 's1': 'Red', 's2': 'Blue'}, 'edges': {'l0': {'_obj': '60'}, 'l1': {'_obj': '72'}, 'l2': {'_obj': '73'}, 'l3': {'_obj': '74'}, 'l4': {'_obj': '68'}, 'l5': {'_obj': '56'}}, 'corners': {'l0': {'_obj': '120'}, 'l1': {'_obj': '123'}, 'l2': {'_obj': '132'}, 'l3': {'_obj': '133'}, 'l4': {'_obj': '129'}, 'l5': {'_obj': '121'}}, 'res': 'wheat', 'num': '9'}, '14': {'row': '3', 'col': '5', 'neighbors': {'l0': {'_obj': '10'}, 'l1': {'_obj': '15'}, 'l2': {'_obj': '18'}, 'l3': {'_obj': '17'}, 'l4': {'_obj': '13'}, 'l5': {'_obj': '9'}}, 'obj_type': 'hex', 'visible': {'s0': 'White', 's1': 'Red', 's2': 'Blue'}, 'edges': {'l0': {'_obj': '63'}, 'l1': {'_obj': '75'}, 'l2': {'_obj': '76'}, 'l3': {'_obj': '77'}, 'l4': {'_obj': '72'}, 'l5': {'_obj': '59'}}, 'corners': {'l0': {'_obj': '122'}, 'l1': {'_obj': '125'}, 'l2': {'_obj': '134'}, 'l3': {'_obj': '135'}, 'l4': {'_obj': '132'}, 'l5': {'_obj': '123'}}, 'res': 'desert'}, '15': {'row': '3', 'col': '7', 'neighbors': {'l0': {'_obj': '11'}, 'l1': 'None', 'l2': 'None', 'l3': {'_obj': '18'}, 'l4': {'_obj': '14'}, 'l5': {'_obj': '10'}}, 'obj_type': 'hex', 'visible': {'s0': 'White', 's1': 'Red', 's2': 'Blue'}, 'edges': {'l0': {'_obj': '67'}, 'l1': {'_obj': '78'}, 'l2': {'_obj': '79'}, 'l3': {'_obj': '80'}, 'l4': {'_obj': '75'}, 'l5': {'_obj': '62'}}, 'corners': {'l0': {'_obj': '124'}, 'l1': {'_obj': '128'}, 'l2': {'_obj': '136'}, 'l3': {'_obj': '137'}, 'l4': {'_obj': '134'}, 'l5': {'_obj': '125'}}, 'res': 'brick', 'num': '11'}, '16': {'row': '4', 'col': '2', 'neighbors': {'l0': {'_obj': '13'}, 'l1': {'_obj': '17'}, 'l2': 'None', 'l3': 'None', 'l4': 'None', 'l5': {'_obj': '12'}}, 'obj_type': 'hex', 'visible': {'s0': 'White', 's1': 'Red', 's2': 'Blue'}, 'edges': {'l0': {'_obj': '74'}, 'l1': {'_obj': '81'}, 'l2': {'_obj': '82'}, 'l3': {'_obj': '83'}, 'l4': {'_obj': '84'}, 'l5': {'_obj': '69'}}, 'corners': {'l0': {'_obj': '129'}, 'l1': {'_obj': '133'}, 'l2': {'_obj': '138'}, 'l3': {'_obj': '139'}, 'l4': {'_obj': '140'}, 'l5': {'_obj': '130'}}, 'res': 'wheat', 'num': '4'}, '17': {'row': '4', 'col': '4', 'neighbors': {'l0': {'_obj': '14'}, 'l1': {'_obj': '18'}, 'l2': 'None', 'l3': 'None', 'l4': {'_obj': '16'}, 'l5': {'_obj': '13'}}, 'obj_type': 'hex', 'visible': {'s0': 'White', 's1': 'Red', 's2': 'Blue'}, 'edges': {'l0': {'_obj': '77'}, 'l1': {'_obj': '85'}, 'l2': {'_obj': '86'}, 'l3': {'_obj': '87'}, 'l4': {'_obj': '81'}, 'l5': {'_obj': '73'}}, 'corners': {'l0': {'_obj': '132'}, 'l1': {'_obj': '135'}, 'l2': {'_obj': '141'}, 'l3': {'_obj': '142'}, 'l4': {'_obj': '138'}, 'l5': {'_obj': '133'}}, 'res': 'wood', 'num': '10', 'robber': {'_obj': '146'}}, '18': {'row': '4', 'col': '6', 'neighbors': {'l0': {'_obj': '15'}, 'l1': 'None', 'l2': 'None', 'l3': 'None', 'l4': {'_obj': '17'}, 'l5': {'_obj': '14'}}, 'obj_type': 'hex', 'visible': {'s0': 'White', 's1': 'Red', 's2': 'Blue'}, 'edges': {'l0': {'_obj': '80'}, 'l1': {'_obj': '88'}, 'l2': {'_obj': '89'}, 'l3': {'_obj': '90'}, 'l4': {'_obj': '85'}, 'l5': {'_obj': '76'}}, 'corners': {'l0': {'_obj': '134'}, 'l1': {'_obj': '137'}, 'l2': {'_obj': '143'}, 'l3': {'_obj': '144'}, 'l4': {'_obj': '141'}, 'l5': {'_obj': '135'}}, 'res': 'sheep', 'num': '12'}, '19': {'fields': {'l0': 'None', 'l1': {'_obj': '0'}}, 'obj_type': 'Edge', 'visible': {'s0': 'White', 's1': 'Red', 's2': 'Blue'}, 'corners': {'l0': {'_obj': '92'}, 'l1': {'_obj': '91'}}}, '20': {'fields': {'l0': {'_obj': '1'}, 'l1': {'_obj': '0'}}, 'obj_type': 'Edge', 'visible': {'s0': 'White', 's1': 'Red', 's2': 'Blue'}, 'corners': {'l0': {'_obj': '92'}, 'l1': {'_obj': '93'}}}, '21': {'fields': {'l0': {'_obj': '4'}, 'l1': {'_obj': '0'}}, 'obj_type': 'Edge', 'visible': {'s0': 'White', 's1': 'Red', 's2': 'Blue'}, 'corners': {'l0': {'_obj': '93'}, 'l1': {'_obj': '94'}}}, '22': {'fields': {'l0': {'_obj': '0'}, 'l1': {'_obj': '3'}}, 'obj_type': 'Edge', 'visible': {'s0': 'White', 's1': 'Red', 's2': 'Blue'}, 'corners': {'l0': {'_obj': '94'}, 'l1': {'_obj': '95'}}}, '23': {'fields': {'l0': {'_obj': '0'}, 'l1': 'None'}, 'obj_type': 'Edge', 'visible': {'s0': 'White', 's1': 'Red', 's2': 'Blue'}, 'corners': {'l0': {'_obj': '96'}, 'l1': {'_obj': '95'}}}, '24': {'fields': {'l0': {'_obj': '0'}, 'l1': 'None'}, 'obj_type': 'Edge', 'visible': {'s0': 'White', 's1': 'Red', 's2': 'Blue'}, 'corners': {'l0': {'_obj': '91'}, 'l1': {'_obj': '96'}}}, '25': {'fields': {'l0': 'None', 'l1': {'_obj': '1'}}, 'obj_type': 'Edge', 'visible': {'s0': 'White', 's1': 'Red', 's2': 'Blue'}, 'corners': {'l0': {'_obj': '98'}, 'l1': {'_obj': '97'}}}, '26': {'fields': {'l0': {'_obj': '2'}, 'l1': {'_obj': '1'}}, 'obj_type': 'Edge', 'visible': {'s0': 'White', 's1': 'Red', 's2': 'Blue'}, 'corners': {'l0': {'_obj': '98'}, 'l1': {'_obj': '99'}}, 'building': {'_obj': '155'}}, '27': {'fields': {'l0': {'_obj': '5'}, 'l1': {'_obj': '1'}}, 'obj_type': 'Edge', 'visible': {'s0': 'White', 's1': 'Red', 's2': 'Blue'}, 'corners': {'l0': {'_obj': '99'}, 'l1': {'_obj': '100'}}}, '28': {'fields': {'l0': {'_obj': '1'}, 'l1': {'_obj': '4'}}, 'obj_type': 'Edge', 'visible': {'s0': 'White', 's1': 'Red', 's2': 'Blue'}, 'corners': {'l0': {'_obj': '100'}, 'l1': {'_obj': '93'}}, 'building': {'_obj': '157'}}, '29': {'fields': {'l0': {'_obj': '1'}, 'l1': 'None'}, 'obj_type': 'Edge', 'visible': {'s0': 'White', 's1': 'Red', 's2': 'Blue'}, 'corners': {'l0': {'_obj': '97'}, 'l1': {'_obj': '92'}}, 'building': {'_obj': '151'}}, '30': {'fields': {'l0': 'None', 'l1': {'_obj': '2'}}, 'obj_type': 'Edge', 'visible': {'s0': 'White', 's1': 'Red', 's2': 'Blue'}, 'corners': {'l0': {'_obj': '102'}, 'l1': {'_obj': '101'}}}, '31': {'fields': {'l0': 'None', 'l1': {'_obj': '2'}}, 'obj_type': 'Edge', 'visible': {'s0': 'White', 's1': 'Red', 's2': 'Blue'}, 'corners': {'l0': {'_obj': '102'}, 'l1': {'_obj': '103'}}}, '32': {'fields': {'l0': {'_obj': '6'}, 'l1': {'_obj': '2'}}, 'obj_type': 'Edge', 'visible': {'s0': 'White', 's1': 'Red', 's2': 'Blue'}, 'corners': {'l0': {'_obj': '103'}, 'l1': {'_obj': '104'}}}, '33': {'fields': {'l0': {'_obj': '2'}, 'l1': {'_obj': '5'}}, 'obj_type': 'Edge', 'visible': {'s0': 'White', 's1': 'Red', 's2': 'Blue'}, 'corners': {'l0': {'_obj': '104'}, 'l1': {'_obj': '99'}}}, '34': {'fields': {'l0': {'_obj': '2'}, 'l1': 'None'}, 'obj_type': 'Edge', 'visible': {'s0': 'White', 's1': 'Red', 's2': 'Blue'}, 'corners': {'l0': {'_obj': '101'}, 'l1': {'_obj': '98'}}}, '35': {'fields': {'l0': {'_obj': '4'}, 'l1': {'_obj': '3'}}, 'obj_type': 'Edge', 'visible': {'s0': 'White', 's1': 'Red', 's2': 'Blue'}, 'corners': {'l0': {'_obj': '94'}, 'l1': {'_obj': '105'}}}, '36': {'fields': {'l0': {'_obj': '8'}, 'l1': {'_obj': '3'}}, 'obj_type': 'Edge', 'visible': {'s0': 'White', 's1': 'Red', 's2': 'Blue'}, 'corners': {'l0': {'_obj': '105'}, 'l1': {'_obj': '106'}}}, '37': {'fields': {'l0': {'_obj': '3'}, 'l1': {'_obj': '7'}}, 'obj_type': 'Edge', 'visible': {'s0': 'White', 's1': 'Red', 's2': 'Blue'}, 'corners': {'l0': {'_obj': '106'}, 'l1': {'_obj': '107'}}, 'building': {'_obj': '160'}}, '38': {'fields': {'l0': {'_obj': '3'}, 'l1': 'None'}, 'obj_type': 'Edge', 'visible': {'s0': 'White', 's1': 'Red', 's2': 'Blue'}, 'corners': {'l0': {'_obj': '108'}, 'l1': {'_obj': '107'}}}, '39': {'fields': {'l0': {'_obj': '3'}, 'l1': 'None'}, 'obj_type': 'Edge', 'visible': {'s0': 'White', 's1': 'Red', 's2': 'Blue'}, 'corners': {'l0': {'_obj': '95'}, 'l1': {'_obj': '108'}}}, '40': {'fields': {'l0': {'_obj': '5'}, 'l1': {'_obj': '4'}}, 'obj_type': 'Edge', 'visible': {'s0': 'White', 's1': 'Red', 's2': 'Blue'}, 'corners': {'l0': {'_obj': '100'}, 'l1': {'_obj': '109'}}}, '41': {'fields': {'l0': {'_obj': '9'}, 'l1': {'_obj': '4'}}, 'obj_type': 'Edge', 'visible': {'s0': 'White', 's1': 'Red', 's2': 'Blue'}, 'corners': {'l0': {'_obj': '109'}, 'l1': {'_obj': '110'}}}, '42': {'fields': {'l0': {'_obj': '4'}, 'l1': {'_obj': '8'}}, 'obj_type': 'Edge', 'visible': {'s0': 'White', 's1': 'Red', 's2': 'Blue'}, 'corners': {'l0': {'_obj': '110'}, 'l1': {'_obj': '105'}}}, '43': {'fields': {'l0': {'_obj': '6'}, 'l1': {'_obj': '5'}}, 'obj_type': 'Edge', 'visible': {'s0': 'White', 's1': 'Red', 's2': 'Blue'}, 'corners': {'l0': {'_obj': '104'}, 'l1': {'_obj': '111'}}}, '44': {'fields': {'l0': {'_obj': '10'}, 'l1': {'_obj': '5'}}, 'obj_type': 'Edge', 'visible': {'s0': 'White', 's1': 'Red', 's2': 'Blue'}, 'corners': {'l0': {'_obj': '111'}, 'l1': {'_obj': '112'}}}, '45': {'fields': {'l0': {'_obj': '5'}, 'l1': {'_obj': '9'}}, 'obj_type': 'Edge', 'visible': {'s0': 'White', 's1': 'Red', 's2': 'Blue'}, 'corners': {'l0': {'_obj': '112'}, 'l1': {'_obj': '109'}}}, '46': {'fields': {'l0': 'None', 'l1': {'_obj': '6'}}, 'obj_type': 'Edge', 'visible': {'s0': 'White', 's1': 'Red', 's2': 'Blue'}, 'corners': {'l0': {'_obj': '113'}, 'l1': {'_obj': '103'}}}, '47': {'fields': {'l0': 'None', 'l1': {'_obj': '6'}}, 'obj_type': 'Edge', 'visible': {'s0': 'White', 's1': 'Red', 's2': 'Blue'}, 'corners': {'l0': {'_obj': '113'}, 'l1': {'_obj': '114'}}}, '48': {'fields': {'l0': {'_obj': '11'}, 'l1': {'_obj': '6'}}, 'obj_type': 'Edge', 'visible': {'s0': 'White', 's1': 'Red', 's2': 'Blue'}, 'corners': {'l0': {'_obj': '114'}, 'l1': {'_obj': '115'}}}, '49': {'fields': {'l0': {'_obj': '6'}, 'l1': {'_obj': '10'}}, 'obj_type': 'Edge', 'visible': {'s0': 'White', 's1': 'Red', 's2': 'Blue'}, 'corners': {'l0': {'_obj': '115'}, 'l1': {'_obj': '111'}}}, '50': {'fields': {'l0': {'_obj': '8'}, 'l1': {'_obj': '7'}}, 'obj_type': 'Edge', 'visible': {'s0': 'White', 's1': 'Red', 's2': 'Blue'}, 'corners': {'l0': {'_obj': '106'}, 'l1': {'_obj': '116'}}, 'building': {'_obj': '149'}}, '51': {'fields': {'l0': {'_obj': '12'}, 'l1': {'_obj': '7'}}, 'obj_type': 'Edge', 'visible': {'s0': 'White', 's1': 'Red', 's2': 'Blue'}, 'corners': {'l0': {'_obj': '116'}, 'l1': {'_obj': '117'}}}, '52': {'fields': {'l0': {'_obj': '7'}, 'l1': 'None'}, 'obj_type': 'Edge', 'visible': {'s0': 'White', 's1': 'Red', 's2': 'Blue'}, 'corners': {'l0': {'_obj': '117'}, 'l1': {'_obj': '118'}}}, '53': {'fields': {'l0': {'_obj': '7'}, 'l1': 'None'}, 'obj_type': 'Edge', 'visible': {'s0': 'White', 's1': 'Red', 's2': 'Blue'}, 'corners': {'l0': {'_obj': '119'}, 'l1': {'_obj': '118'}}}, '54': {'fields': {'l0': {'_obj': '7'}, 'l1': 'None'}, 'obj_type': 'Edge', 'visible': {'s0': 'White', 's1': 'Red', 's2': 'Blue'}, 'corners': {'l0': {'_obj': '107'}, 'l1': {'_obj': '119'}}}, '55': {'fields': {'l0': {'_obj': '9'}, 'l1': {'_obj': '8'}}, 'obj_type': 'Edge', 'visible': {'s0': 'White', 's1': 'Red', 's2': 'Blue'}, 'corners': {'l0': {'_obj': '110'}, 'l1': {'_obj': '120'}}}, '56': {'fields': {'l0': {'_obj': '13'}, 'l1': {'_obj': '8'}}, 'obj_type': 'Edge', 'visible': {'s0': 'White', 's1': 'Red', 's2': 'Blue'}, 'corners': {'l0': {'_obj': '120'}, 'l1': {'_obj': '121'}}}, '57': {'fields': {'l0': {'_obj': '8'}, 'l1': {'_obj': '12'}}, 'obj_type': 'Edge', 'visible': {'s0': 'White', 's1': 'Red', 's2': 'Blue'}, 'corners': {'l0': {'_obj': '121'}, 'l1': {'_obj': '116'}}}, '58': {'fields': {'l0': {'_obj': '10'}, 'l1': {'_obj': '9'}}, 'obj_type': 'Edge', 'visible': {'s0': 'White', 's1': 'Red', 's2': 'Blue'}, 'corners': {'l0': {'_obj': '112'}, 'l1': {'_obj': '122'}}}, '59': {'fields': {'l0': {'_obj': '14'}, 'l1': {'_obj': '9'}}, 'obj_type': 'Edge', 'visible': {'s0': 'White', 's1': 'Red', 's2': 'Blue'}, 'corners': {'l0': {'_obj': '122'}, 'l1': {'_obj': '123'}}}, '60': {'fields': {'l0': {'_obj': '9'}, 'l1': {'_obj': '13'}}, 'obj_type': 'Edge', 'visible': {'s0': 'White', 's1': 'Red', 's2': 'Blue'}, 'corners': {'l0': {'_obj': '123'}, 'l1': {'_obj': '120'}}}, '61': {'fields': {'l0': {'_obj': '11'}, 'l1': {'_obj': '10'}}, 'obj_type': 'Edge', 'visible': {'s0': 'White', 's1': 'Red', 's2': 'Blue'}, 'corners': {'l0': {'_obj': '115'}, 'l1': {'_obj': '124'}}}, '62': {'fields': {'l0': {'_obj': '15'}, 'l1': {'_obj': '10'}}, 'obj_type': 'Edge', 'visible': {'s0': 'White', 's1': 'Red', 's2': 'Blue'}, 'corners': {'l0': {'_obj': '124'}, 'l1': {'_obj': '125'}}}, '63': {'fields': {'l0': {'_obj': '10'}, 'l1': {'_obj': '14'}}, 'obj_type': 'Edge', 'visible': {'s0': 'White', 's1': 'Red', 's2': 'Blue'}, 'corners': {'l0': {'_obj': '125'}, 'l1': {'_obj': '122'}}}, '64': {'fields': {'l0': 'None', 'l1': {'_obj': '11'}}, 'obj_type': 'Edge', 'visible': {'s0': 'White', 's1': 'Red', 's2': 'Blue'}, 'corners': {'l0': {'_obj': '126'}, 'l1': {'_obj': '114'}}}, '65': {'fields': {'l0': 'None', 'l1': {'_obj': '11'}}, 'obj_type': 'Edge', 'visible': {'s0': 'White', 's1': 'Red', 's2': 'Blue'}, 'corners': {'l0': {'_obj': '126'}, 'l1': {'_obj': '127'}}}, '66': {'fields': {'l0': 'None', 'l1': {'_obj': '11'}}, 'obj_type': 'Edge', 'visible': {'s0': 'White', 's1': 'Red', 's2': 'Blue'}, 'corners': {'l0': {'_obj': '127'}, 'l1': {'_obj': '128'}}, 'building': {'_obj': '153'}}, '67': {'fields': {'l0': {'_obj': '11'}, 'l1': {'_obj': '15'}}, 'obj_type': 'Edge', 'visible': {'s0': 'White', 's1': 'Red', 's2': 'Blue'}, 'corners': {'l0': {'_obj': '128'}, 'l1': {'_obj': '124'}}}, '68': {'fields': {'l0': {'_obj': '13'}, 'l1': {'_obj': '12'}}, 'obj_type': 'Edge', 'visible': {'s0': 'White', 's1': 'Red', 's2': 'Blue'}, 'corners': {'l0': {'_obj': '121'}, 'l1': {'_obj': '129'}}}, '69': {'fields': {'l0': {'_obj': '16'}, 'l1': {'_obj': '12'}}, 'obj_type': 'Edge', 'visible': {'s0': 'White', 's1': 'Red', 's2': 'Blue'}, 'corners': {'l0': {'_obj': '129'}, 'l1': {'_obj': '130'}}}, '70': {'fields': {'l0': {'_obj': '12'}, 'l1': 'None'}, 'obj_type': 'Edge', 'visible': {'s0': 'White', 's1': 'Red', 's2': 'Blue'}, 'corners': {'l0': {'_obj': '130'}, 'l1': {'_obj': '131'}}}, '71': {'fields': {'l0': {'_obj': '12'}, 'l1': 'None'}, 'obj_type': 'Edge', 'visible': {'s0': 'White', 's1': 'Red', 's2': 'Blue'}, 'corners': {'l0': {'_obj': '117'}, 'l1': {'_obj': '131'}}}, '72': {'fields': {'l0': {'_obj': '14'}, 'l1': {'_obj': '13'}}, 'obj_type': 'Edge', 'visible': {'s0': 'White', 's1': 'Red', 's2': 'Blue'}, 'corners': {'l0': {'_obj': '123'}, 'l1': {'_obj': '132'}}}, '73': {'fields': {'l0': {'_obj': '17'}, 'l1': {'_obj': '13'}}, 'obj_type': 'Edge', 'visible': {'s0': 'White', 's1': 'Red', 's2': 'Blue'}, 'corners': {'l0': {'_obj': '132'}, 'l1': {'_obj': '133'}}}, '74': {'fields': {'l0': {'_obj': '13'}, 'l1': {'_obj': '16'}}, 'obj_type': 'Edge', 'visible': {'s0': 'White', 's1': 'Red', 's2': 'Blue'}, 'corners': {'l0': {'_obj': '133'}, 'l1': {'_obj': '129'}}}, '75': {'fields': {'l0': {'_obj': '15'}, 'l1': {'_obj': '14'}}, 'obj_type': 'Edge', 'visible': {'s0': 'White', 's1': 'Red', 's2': 'Blue'}, 'corners': {'l0': {'_obj': '125'}, 'l1': {'_obj': '134'}}}, '76': {'fields': {'l0': {'_obj': '18'}, 'l1': {'_obj': '14'}}, 'obj_type': 'Edge', 'visible': {'s0': 'White', 's1': 'Red', 's2': 'Blue'}, 'corners': {'l0': {'_obj': '134'}, 'l1': {'_obj': '135'}}}, '77': {'fields': {'l0': {'_obj': '14'}, 'l1': {'_obj': '17'}}, 'obj_type': 'Edge', 'visible': {'s0': 'White', 's1': 'Red', 's2': 'Blue'}, 'corners': {'l0': {'_obj': '135'}, 'l1': {'_obj': '132'}}}, '78': {'fields': {'l0': 'None', 'l1': {'_obj': '15'}}, 'obj_type': 'Edge', 'visible': {'s0': 'White', 's1': 'Red', 's2': 'Blue'}, 'corners': {'l0': {'_obj': '128'}, 'l1': {'_obj': '136'}}}, '79': {'fields': {'l0': 'None', 'l1': {'_obj': '15'}}, 'obj_type': 'Edge', 'visible': {'s0': 'White', 's1': 'Red', 's2': 'Blue'}, 'corners': {'l0': {'_obj': '136'}, 'l1': {'_obj': '137'}}}, '80': {'fields': {'l0': {'_obj': '15'}, 'l1': {'_obj': '18'}}, 'obj_type': 'Edge', 'visible': {'s0': 'White', 's1': 'Red', 's2': 'Blue'}, 'corners': {'l0': {'_obj': '137'}, 'l1': {'_obj': '134'}}}, '81': {'fields': {'l0': {'_obj': '17'}, 'l1': {'_obj': '16'}}, 'obj_type': 'Edge', 'visible': {'s0': 'White', 's1': 'Red', 's2': 'Blue'}, 'corners': {'l0': {'_obj': '133'}, 'l1': {'_obj': '138'}}}, '82': {'fields': {'l0': 'None', 'l1': {'_obj': '16'}}, 'obj_type': 'Edge', 'visible': {'s0': 'White', 's1': 'Red', 's2': 'Blue'}, 'corners': {'l0': {'_obj': '138'}, 'l1': {'_obj': '139'}}}, '83': {'fields': {'l0': {'_obj': '16'}, 'l1': 'None'}, 'obj_type': 'Edge', 'visible': {'s0': 'White', 's1': 'Red', 's2': 'Blue'}, 'corners': {'l0': {'_obj': '139'}, 'l1': {'_obj': '140'}}}, '84': {'fields': {'l0': {'_obj': '16'}, 'l1': 'None'}, 'obj_type': 'Edge', 'visible': {'s0': 'White', 's1': 'Red', 's2': 'Blue'}, 'corners': {'l0': {'_obj': '130'}, 'l1': {'_obj': '140'}}}, '85': {'fields': {'l0': {'_obj': '18'}, 'l1': {'_obj': '17'}}, 'obj_type': 'Edge', 'visible': {'s0': 'White', 's1': 'Red', 's2': 'Blue'}, 'corners': {'l0': {'_obj': '135'}, 'l1': {'_obj': '141'}}}, '86': {'fields': {'l0': 'None', 'l1': {'_obj': '17'}}, 'obj_type': 'Edge', 'visible': {'s0': 'White', 's1': 'Red', 's2': 'Blue'}, 'corners': {'l0': {'_obj': '141'}, 'l1': {'_obj': '142'}}}, '87': {'fields': {'l0': {'_obj': '17'}, 'l1': 'None'}, 'obj_type': 'Edge', 'visible': {'s0': 'White', 's1': 'Red', 's2': 'Blue'}, 'corners': {'l0': {'_obj': '142'}, 'l1': {'_obj': '138'}}, 'building': {'_obj': '159'}}, '88': {'fields': {'l0': 'None', 'l1': {'_obj': '18'}}, 'obj_type': 'Edge', 'visible': {'s0': 'White', 's1': 'Red', 's2': 'Blue'}, 'corners': {'l0': {'_obj': '137'}, 'l1': {'_obj': '143'}}}, '89': {'fields': {'l0': 'None', 'l1': {'_obj': '18'}}, 'obj_type': 'Edge', 'visible': {'s0': 'White', 's1': 'Red', 's2': 'Blue'}, 'corners': {'l0': {'_obj': '143'}, 'l1': {'_obj': '144'}}}, '90': {'fields': {'l0': {'_obj': '18'}, 'l1': 'None'}, 'obj_type': 'Edge', 'visible': {'s0': 'White', 's1': 'Red', 's2': 'Blue'}, 'corners': {'l0': {'_obj': '144'}, 'l1': {'_obj': '141'}}}, '91': {'fields': {'l0': 'None', 'l1': {'_obj': '0'}, 'l2': 'None'}, 'obj_type': 'Corner', 'visible': {'s0': 'White', 's1': 'Red', 's2': 'Blue'}, 'edges': {'l0': 'None', 'l1': {'_obj': '19'}, 'l2': {'_obj': '24'}}, 'port': '3to1'}, '92': {'fields': {'l0': 'None', 'l1': {'_obj': '1'}, 'l2': {'_obj': '0'}}, 'obj_type': 'Corner', 'visible': {'s0': 'White', 's1': 'Red', 's2': 'Blue'}, 'edges': {'l0': {'_obj': '29'}, 'l1': {'_obj': '20'}, 'l2': {'_obj': '19'}}}, '93': {'fields': {'l0': {'_obj': '1'}, 'l1': {'_obj': '4'}, 'l2': {'_obj': '0'}}, 'obj_type': 'Corner', 'visible': {'s0': 'White', 's1': 'Red', 's2': 'Blue'}, 'edges': {'l0': {'_obj': '20'}, 'l1': {'_obj': '28'}, 'l2': {'_obj': '21'}}, 'building': {'_obj': '156'}}, '94': {'fields': {'l0': {'_obj': '0'}, 'l1': {'_obj': '4'}, 'l2': {'_obj': '3'}}, 'obj_type': 'Corner', 'visible': {'s0': 'White', 's1': 'Red', 's2': 'Blue'}, 'edges': {'l0': {'_obj': '21'}, 'l1': {'_obj': '35'}, 'l2': {'_obj': '22'}}}, '95': {'fields': {'l0': {'_obj': '0'}, 'l1': {'_obj': '3'}, 'l2': 'None'}, 'obj_type': 'Corner', 'visible': {'s0': 'White', 's1': 'Red', 's2': 'Blue'}, 'edges': {'l0': {'_obj': '23'}, 'l1': {'_obj': '22'}, 'l2': {'_obj': '39'}}}, '96': {'fields': {'l0': 'None', 'l1': {'_obj': '0'}, 'l2': 'None'}, 'obj_type': 'Corner', 'visible': {'s0': 'White', 's1': 'Red', 's2': 'Blue'}, 'edges': {'l0': {'_obj': '24'}, 'l1': {'_obj': '23'}, 'l2': 'None'}, 'port': '3to1'}, '97': {'fields': {'l0': 'None', 'l1': {'_obj': '1'}, 'l2': 'None'}, 'obj_type': 'Corner', 'visible': {'s0': 'White', 's1': 'Red', 's2': 'Blue'}, 'edges': {'l0': 'None', 'l1': {'_obj': '25'}, 'l2': {'_obj': '29'}}, 'port': 'sheep', 'building': {'_obj': '150'}}, '98': {'fields': {'l0': 'None', 'l1': {'_obj': '2'}, 'l2': {'_obj': '1'}}, 'obj_type': 'Corner', 'visible': {'s0': 'White', 's1': 'Red', 's2': 'Blue'}, 'edges': {'l0': {'_obj': '34'}, 'l1': {'_obj': '26'}, 'l2': {'_obj': '25'}}, 'port': 'sheep'}, '99': {'fields': {'l0': {'_obj': '2'}, 'l1': {'_obj': '5'}, 'l2': {'_obj': '1'}}, 'obj_type': 'Corner', 'visible': {'s0': 'White', 's1': 'Red', 's2': 'Blue'}, 'edges': {'l0': {'_obj': '26'}, 'l1': {'_obj': '33'}, 'l2': {'_obj': '27'}}, 'building': {'_obj': '154'}}, '100': {'fields': {'l0': {'_obj': '1'}, 'l1': {'_obj': '5'}, 'l2': {'_obj': '4'}}, 'obj_type': 'Corner', 'visible': {'s0': 'White', 's1': 'Red', 's2': 'Blue'}, 'edges': {'l0': {'_obj': '27'}, 'l1': {'_obj': '40'}, 'l2': {'_obj': '28'}}}, '101': {'fields': {'l0': 'None', 'l1': {'_obj': '2'}, 'l2': 'None'}, 'obj_type': 'Corner', 'visible': {'s0': 'White', 's1': 'Red', 's2': 'Blue'}, 'edges': {'l0': 'None', 'l1': {'_obj': '30'}, 'l2': {'_obj': '34'}}}, '102': {'fields': {'l0': 'None', 'l1': 'None', 'l2': {'_obj': '2'}}, 'obj_type': 'Corner', 'visible': {'s0': 'White', 's1': 'Red', 's2': 'Blue'}, 'edges': {'l0': 'None', 'l1': {'_obj': '31'}, 'l2': {'_obj': '30'}}}, '103': {'fields': {'l0': 'None', 'l1': {'_obj': '6'}, 'l2': {'_obj': '2'}}, 'obj_type': 'Corner', 'visible': {'s0': 'White', 's1': 'Red', 's2': 'Blue'}, 'edges': {'l0': {'_obj': '31'}, 'l1': {'_obj': '46'}, 'l2': {'_obj': '32'}}, 'port': '3to1'}, '104': {'fields': {'l0': {'_obj': '2'}, 'l1': {'_obj': '6'}, 'l2': {'_obj': '5'}}, 'obj_type': 'Corner', 'visible': {'s0': 'White', 's1': 'Red', 's2': 'Blue'}, 'edges': {'l0': {'_obj': '32'}, 'l1': {'_obj': '43'}, 'l2': {'_obj': '33'}}}, '105': {'fields': {'l0': {'_obj': '4'}, 'l1': {'_obj': '8'}, 'l2': {'_obj': '3'}}, 'obj_type': 'Corner', 'visible': {'s0': 'White', 's1': 'Red', 's2': 'Blue'}, 'edges': {'l0': {'_obj': '35'}, 'l1': {'_obj': '42'}, 'l2': {'_obj': '36'}}}, '106': {'fields': {'l0': {'_obj': '3'}, 'l1': {'_obj': '8'}, 'l2': {'_obj': '7'}}, 'obj_type': 'Corner', 'visible': {'s0': 'White', 's1': 'Red', 's2': 'Blue'}, 'edges': {'l0': {'_obj': '36'}, 'l1': {'_obj': '50'}, 'l2': {'_obj': '37'}}, 'building': {'_obj': '148'}}, '107': {'fields': {'l0': {'_obj': '3'}, 'l1': {'_obj': '7'}, 'l2': 'None'}, 'obj_type': 'Corner', 'visible': {'s0': 'White', 's1': 'Red', 's2': 'Blue'}, 'edges': {'l0': {'_obj': '38'}, 'l1': {'_obj': '37'}, 'l2': {'_obj': '54'}}, 'port': 'ore'}, '108': {'fields': {'l0': 'None', 'l1': {'_obj': '3'}, 'l2': 'None'}, 'obj_type': 'Corner', 'visible': {'s0': 'White', 's1': 'Red', 's2': 'Blue'}, 'edges': {'l0': {'_obj': '39'}, 'l1': {'_obj': '38'}, 'l2': 'None'}, 'port': 'ore'}, '109': {'fields': {'l0': {'_obj': '5'}, 'l1': {'_obj': '9'}, 'l2': {'_obj': '4'}}, 'obj_type': 'Corner', 'visible': {'s0': 'White', 's1': 'Red', 's2': 'Blue'}, 'edges': {'l0': {'_obj': '40'}, 'l1': {'_obj': '45'}, 'l2': {'_obj': '41'}}}, '110': {'fields': {'l0': {'_obj': '4'}, 'l1': {'_obj': '9'}, 'l2': {'_obj': '8'}}, 'obj_type': 'Corner', 'visible': {'s0': 'White', 's1': 'Red', 's2': 'Blue'}, 'edges': {'l0': {'_obj': '41'}, 'l1': {'_obj': '55'}, 'l2': {'_obj': '42'}}}, '111': {'fields': {'l0': {'_obj': '6'}, 'l1': {'_obj': '10'}, 'l2': {'_obj': '5'}}, 'obj_type': 'Corner', 'visible': {'s0': 'White', 's1': 'Red', 's2': 'Blue'}, 'edges': {'l0': {'_obj': '43'}, 'l1': {'_obj': '49'}, 'l2': {'_obj': '44'}}}, '112': {'fields': {'l0': {'_obj': '5'}, 'l1': {'_obj': '10'}, 'l2': {'_obj': '9'}}, 'obj_type': 'Corner', 'visible': {'s0': 'White', 's1': 'Red', 's2': 'Blue'}, 'edges': {'l0': {'_obj': '44'}, 'l1': {'_obj': '58'}, 'l2': {'_obj': '45'}}}, '113': {'fields': {'l0': 'None', 'l1': 'None', 'l2': {'_obj': '6'}}, 'obj_type': 'Corner', 'visible': {'s0': 'White', 's1': 'Red', 's2': 'Blue'}, 'edges': {'l0': 'None', 'l1': {'_obj': '47'}, 'l2': {'_obj': '46'}}, 'port': '3to1'}, '114': {'fields': {'l0': 'None', 'l1': {'_obj': '11'}, 'l2': {'_obj': '6'}}, 'obj_type': 'Corner', 'visible': {'s0': 'White', 's1': 'Red', 's2': 'Blue'}, 'edges': {'l0': {'_obj': '47'}, 'l1': {'_obj': '64'}, 'l2': {'_obj': '48'}}}, '115': {'fields': {'l0': {'_obj': '6'}, 'l1': {'_obj': '11'}, 'l2': {'_obj': '10'}}, 'obj_type': 'Corner', 'visible': {'s0': 'White', 's1': 'Red', 's2': 'Blue'}, 'edges': {'l0': {'_obj': '48'}, 'l1': {'_obj': '61'}, 'l2': {'_obj': '49'}}}, '116': {'fields': {'l0': {'_obj': '8'}, 'l1': {'_obj': '12'}, 'l2': {'_obj': '7'}}, 'obj_type': 'Corner', 'visible': {'s0': 'White', 's1': 'Red', 's2': 'Blue'}, 'edges': {'l0': {'_obj': '50'}, 'l1': {'_obj': '57'}, 'l2': {'_obj': '51'}}}, '117': {'fields': {'l0': {'_obj': '7'}, 'l1': {'_obj': '12'}, 'l2': 'None'}, 'obj_type': 'Corner', 'visible': {'s0': 'White', 's1': 'Red', 's2': 'Blue'}, 'edges': {'l0': {'_obj': '51'}, 'l1': {'_obj': '71'}, 'l2': {'_obj': '52'}}, 'port': 'wheat'}, '118': {'fields': {'l0': {'_obj': '7'}, 'l1': 'None', 'l2': 'None'}, 'obj_type': 'Corner', 'visible': {'s0': 'White', 's1': 'Red', 's2': 'Blue'}, 'edges': {'l0': {'_obj': '53'}, 'l1': {'_obj': '52'}, 'l2': 'None'}}, '119': {'fields': {'l0': 'None', 'l1': {'_obj': '7'}, 'l2': 'None'}, 'obj_type': 'Corner', 'visible': {'s0': 'White', 's1': 'Red', 's2': 'Blue'}, 'edges': {'l0': {'_obj': '54'}, 'l1': {'_obj': '53'}, 'l2': 'None'}}, '120': {'fields': {'l0': {'_obj': '9'}, 'l1': {'_obj': '13'}, 'l2': {'_obj': '8'}}, 'obj_type': 'Corner', 'visible': {'s0': 'White', 's1': 'Red', 's2': 'Blue'}, 'edges': {'l0': {'_obj': '55'}, 'l1': {'_obj': '60'}, 'l2': {'_obj': '56'}}}, '121': {'fields': {'l0': {'_obj': '8'}, 'l1': {'_obj': '13'}, 'l2': {'_obj': '12'}}, 'obj_type': 'Corner', 'visible': {'s0': 'White', 's1': 'Red', 's2': 'Blue'}, 'edges': {'l0': {'_obj': '56'}, 'l1': {'_obj': '68'}, 'l2': {'_obj': '57'}}}, '122': {'fields': {'l0': {'_obj': '10'}, 'l1': {'_obj': '14'}, 'l2': {'_obj': '9'}}, 'obj_type': 'Corner', 'visible': {'s0': 'White', 's1': 'Red', 's2': 'Blue'}, 'edges': {'l0': {'_obj': '58'}, 'l1': {'_obj': '63'}, 'l2': {'_obj': '59'}}}, '123': {'fields': {'l0': {'_obj': '9'}, 'l1': {'_obj': '14'}, 'l2': {'_obj': '13'}}, 'obj_type': 'Corner', 'visible': {'s0': 'White', 's1': 'Red', 's2': 'Blue'}, 'edges': {'l0': {'_obj': '59'}, 'l1': {'_obj': '72'}, 'l2': {'_obj': '60'}}}, '124': {'fields': {'l0': {'_obj': '11'}, 'l1': {'_obj': '15'}, 'l2': {'_obj': '10'}}, 'obj_type': 'Corner', 'visible': {'s0': 'White', 's1': 'Red', 's2': 'Blue'}, 'edges': {'l0': {'_obj': '61'}, 'l1': {'_obj': '67'}, 'l2': {'_obj': '62'}}}, '125': {'fields': {'l0': {'_obj': '10'}, 'l1': {'_obj': '15'}, 'l2': {'_obj': '14'}}, 'obj_type': 'Corner', 'visible': {'s0': 'White', 's1': 'Red', 's2': 'Blue'}, 'edges': {'l0': {'_obj': '62'}, 'l1': {'_obj': '75'}, 'l2': {'_obj': '63'}}}, '126': {'fields': {'l0': 'None', 'l1': 'None', 'l2': {'_obj': '11'}}, 'obj_type': 'Corner', 'visible': {'s0': 'White', 's1': 'Red', 's2': 'Blue'}, 'edges': {'l0': 'None', 'l1': {'_obj': '65'}, 'l2': {'_obj': '64'}}, 'port': '3to1'}, '127': {'fields': {'l0': 'None', 'l1': 'None', 'l2': {'_obj': '11'}}, 'obj_type': 'Corner', 'visible': {'s0': 'White', 's1': 'Red', 's2': 'Blue'}, 'edges': {'l0': {'_obj': '65'}, 'l1': 'None', 'l2': {'_obj': '66'}}, 'port': '3to1'}, '128': {'fields': {'l0': {'_obj': '11'}, 'l1': 'None', 'l2': {'_obj': '15'}}, 'obj_type': 'Corner', 'visible': {'s0': 'White', 's1': 'Red', 's2': 'Blue'}, 'edges': {'l0': {'_obj': '66'}, 'l1': {'_obj': '78'}, 'l2': {'_obj': '67'}}, 'building': {'_obj': '152'}}, '129': {'fields': {'l0': {'_obj': '13'}, 'l1': {'_obj': '16'}, 'l2': {'_obj': '12'}}, 'obj_type': 'Corner', 'visible': {'s0': 'White', 's1': 'Red', 's2': 'Blue'}, 'edges': {'l0': {'_obj': '68'}, 'l1': {'_obj': '74'}, 'l2': {'_obj': '69'}}}, '130': {'fields': {'l0': {'_obj': '12'}, 'l1': {'_obj': '16'}, 'l2': 'None'}, 'obj_type': 'Corner', 'visible': {'s0': 'White', 's1': 'Red', 's2': 'Blue'}, 'edges': {'l0': {'_obj': '69'}, 'l1': {'_obj': '84'}, 'l2': {'_obj': '70'}}}, '131': {'fields': {'l0': {'_obj': '12'}, 'l1': 'None', 'l2': 'None'}, 'obj_type': 'Corner', 'visible': {'s0': 'White', 's1': 'Red', 's2': 'Blue'}, 'edges': {'l0': {'_obj': '71'}, 'l1': {'_obj': '70'}, 'l2': 'None'}, 'port': 'wheat'}, '132': {'fields': {'l0': {'_obj': '14'}, 'l1': {'_obj': '17'}, 'l2': {'_obj': '13'}}, 'obj_type': 'Corner', 'visible': {'s0': 'White', 's1': 'Red', 's2': 'Blue'}, 'edges': {'l0': {'_obj': '72'}, 'l1': {'_obj': '77'}, 'l2': {'_obj': '73'}}}, '133': {'fields': {'l0': {'_obj': '13'}, 'l1': {'_obj': '17'}, 'l2': {'_obj': '16'}}, 'obj_type': 'Corner', 'visible': {'s0': 'White', 's1': 'Red', 's2': 'Blue'}, 'edges': {'l0': {'_obj': '73'}, 'l1': {'_obj': '81'}, 'l2': {'_obj': '74'}}}, '134': {'fields': {'l0': {'_obj': '15'}, 'l1': {'_obj': '18'}, 'l2': {'_obj': '14'}}, 'obj_type': 'Corner', 'visible': {'s0': 'White', 's1': 'Red', 's2': 'Blue'}, 'edges': {'l0': {'_obj': '75'}, 'l1': {'_obj': '80'}, 'l2': {'_obj': '76'}}}, '135': {'fields': {'l0': {'_obj': '14'}, 'l1': {'_obj': '18'}, 'l2': {'_obj': '17'}}, 'obj_type': 'Corner', 'visible': {'s0': 'White', 's1': 'Red', 's2': 'Blue'}, 'edges': {'l0': {'_obj': '76'}, 'l1': {'_obj': '85'}, 'l2': {'_obj': '77'}}}, '136': {'fields': {'l0': 'None', 'l1': 'None', 'l2': {'_obj': '15'}}, 'obj_type': 'Corner', 'visible': {'s0': 'White', 's1': 'Red', 's2': 'Blue'}, 'edges': {'l0': {'_obj': '78'}, 'l1': 'None', 'l2': {'_obj': '79'}}, 'port': 'brick'}, '137': {'fields': {'l0': {'_obj': '15'}, 'l1': 'None', 'l2': {'_obj': '18'}}, 'obj_type': 'Corner', 'visible': {'s0': 'White', 's1': 'Red', 's2': 'Blue'}, 'edges': {'l0': {'_obj': '79'}, 'l1': {'_obj': '88'}, 'l2': {'_obj': '80'}}, 'port': 'brick'}, '138': {'fields': {'l0': {'_obj': '17'}, 'l1': 'None', 'l2': {'_obj': '16'}}, 'obj_type': 'Corner', 'visible': {'s0': 'White', 's1': 'Red', 's2': 'Blue'}, 'edges': {'l0': {'_obj': '81'}, 'l1': {'_obj': '87'}, 'l2': {'_obj': '82'}}}, '139': {'fields': {'l0': {'_obj': '16'}, 'l1': 'None', 'l2': 'None'}, 'obj_type': 'Corner', 'visible': {'s0': 'White', 's1': 'Red', 's2': 'Blue'}, 'edges': {'l0': {'_obj': '82'}, 'l1': 'None', 'l2': {'_obj': '83'}}, 'port': '3to1'}, '140': {'fields': {'l0': {'_obj': '16'}, 'l1': 'None', 'l2': 'None'}, 'obj_type': 'Corner', 'visible': {'s0': 'White', 's1': 'Red', 's2': 'Blue'}, 'edges': {'l0': {'_obj': '84'}, 'l1': {'_obj': '83'}, 'l2': 'None'}, 'port': '3to1'}, '141': {'fields': {'l0': {'_obj': '18'}, 'l1': 'None', 'l2': {'_obj': '17'}}, 'obj_type': 'Corner', 'visible': {'s0': 'White', 's1': 'Red', 's2': 'Blue'}, 'edges': {'l0': {'_obj': '85'}, 'l1': {'_obj': '90'}, 'l2': {'_obj': '86'}}, 'port': 'wood'}, '142': {'fields': {'l0': {'_obj': '17'}, 'l1': 'None', 'l2': 'None'}, 'obj_type': 'Corner', 'visible': {'s0': 'White', 's1': 'Red', 's2': 'Blue'}, 'edges': {'l0': {'_obj': '86'}, 'l1': 'None', 'l2': {'_obj': '87'}}, 'port': 'wood', 'building': {'_obj': '158'}}, '143': {'fields': {'l0': 'None', 'l1': 'None', 'l2': {'_obj': '18'}}, 'obj_type': 'Corner', 'visible': {'s0': 'White', 's1': 'Red', 's2': 'Blue'}, 'edges': {'l0': {'_obj': '88'}, 'l1': 'None', 'l2': {'_obj': '89'}}}, '144': {'fields': {'l0': {'_obj': '18'}, 'l1': 'None', 'l2': 'None'}, 'obj_type': 'Corner', 'visible': {'s0': 'White', 's1': 'Red', 's2': 'Blue'}, 'edges': {'l0': {'_obj': '89'}, 'l1': 'None', 'l2': {'_obj': '90'}}}, '145': {'fields': {'s0': {'_obj': '0'}, 's1': {'_obj': '1'}, 's2': {'_obj': '2'}, 's3': {'_obj': '3'}, 's4': {'_obj': '4'}, 's5': {'_obj': '5'}, 's6': {'_obj': '6'}, 's7': {'_obj': '7'}, 's8': {'_obj': '8'}, 's9': {'_obj': '9'}, 's10': {'_obj': '10'}, 's11': {'_obj': '11'}, 's12': {'_obj': '12'}, 's13': {'_obj': '13'}, 's14': {'_obj': '14'}, 's15': {'_obj': '15'}, 's16': {'_obj': '16'}, 's17': {'_obj': '17'}, 's18': {'_obj': '18'}}, 'rows': '5', 'cols': '9', 'obj_type': 'board', 'visible': {'s0': 'White', 's1': 'Red', 's2': 'Blue'}, 'map': {'_ndarray': {'l0': {'l0': {'_obj': '3'}, 'l1': 'None', 'l2': {'_obj': '4'}, 'l3': 'None', 'l4': {'_obj': '5'}, 'l5': 'None', 'l6': {'_obj': '6'}, 'l7': 'None', 'l8': 'None'}, 'l1': {'l0': 'None', 'l1': {'_obj': '8'}, 'l2': 'None', 'l3': {'_obj': '9'}, 'l4': 'None', 'l5': {'_obj': '10'}, 'l6': 'None', 'l7': {'_obj': '11'}, 'l8': {'_obj': '7'}}, 'l2': {'l0': {'_obj': '12'}, 'l1': 'None', 'l2': {'_obj': '13'}, 'l3': 'None', 'l4': {'_obj': '14'}, 'l5': 'None', 'l6': {'_obj': '15'}, 'l7': 'None', 'l8': 'None'}, 'l3': {'l0': 'None', 'l1': {'_obj': '16'}, 'l2': 'None', 'l3': {'_obj': '17'}, 'l4': 'None', 'l5': {'_obj': '18'}, 'l6': 'None', 'l7': 'None', 'l8': 'None'}, 'l4': {'l0': 'None', 'l1': {'_obj': '0'}, 'l2': 'None', 'l3': {'_obj': '1'}, 'l4': 'None', 'l5': {'_obj': '2'}, 'l6': 'None', 'l7': 'None', 'l8': 'None'}}, '_dtype': 'object'}, 'edges': {'s0': {'_obj': '19'}, 's1': {'_obj': '20'}, 's2': {'_obj': '21'}, 's3': {'_obj': '22'}, 's4': {'_obj': '23'}, 's5': {'_obj': '24'}, 's6': {'_obj': '25'}, 's7': {'_obj': '26'}, 's8': {'_obj': '27'}, 's9': {'_obj': '28'}, 's10': {'_obj': '29'}, 's11': {'_obj': '30'}, 's12': {'_obj': '31'}, 's13': {'_obj': '32'}, 's14': {'_obj': '33'}, 's15': {'_obj': '34'}, 's16': {'_obj': '35'}, 's17': {'_obj': '36'}, 's18': {'_obj': '37'}, 's19': {'_obj': '38'}, 's20': {'_obj': '39'}, 's21': {'_obj': '40'}, 's22': {'_obj': '41'}, 's23': {'_obj': '42'}, 's24': {'_obj': '43'}, 's25': {'_obj': '44'}, 's26': {'_obj': '45'}, 's27': {'_obj': '46'}, 's28': {'_obj': '47'}, 's29': {'_obj': '48'}, 's30': {'_obj': '49'}, 's31': {'_obj': '50'}, 's32': {'_obj': '51'}, 's33': {'_obj': '52'}, 's34': {'_obj': '53'}, 's35': {'_obj': '54'}, 's36': {'_obj': '55'}, 's37': {'_obj': '56'}, 's38': {'_obj': '57'}, 's39': {'_obj': '58'}, 's40': {'_obj': '59'}, 's41': {'_obj': '60'}, 's42': {'_obj': '61'}, 's43': {'_obj': '62'}, 's44': {'_obj': '63'}, 's45': {'_obj': '64'}, 's46': {'_obj': '65'}, 's47': {'_obj': '66'}, 's48': {'_obj': '67'}, 's49': {'_obj': '68'}, 's50': {'_obj': '69'}, 's51': {'_obj': '70'}, 's52': {'_obj': '71'}, 's53': {'_obj': '72'}, 's54': {'_obj': '73'}, 's55': {'_obj': '74'}, 's56': {'_obj': '75'}, 's57': {'_obj': '76'}, 's58': {'_obj': '77'}, 's59': {'_obj': '78'}, 's60': {'_obj': '79'}, 's61': {'_obj': '80'}, 's62': {'_obj': '81'}, 's63': {'_obj': '82'}, 's64': {'_obj': '83'}, 's65': {'_obj': '84'}, 's66': {'_obj': '85'}, 's67': {'_obj': '86'}, 's68': {'_obj': '87'}, 's69': {'_obj': '88'}, 's70': {'_obj': '89'}, 's71': {'_obj': '90'}}, 'corners': {'s0': {'_obj': '91'}, 's1': {'_obj': '92'}, 's2': {'_obj': '93'}, 's3': {'_obj': '94'}, 's4': {'_obj': '95'}, 's5': {'_obj': '96'}, 's6': {'_obj': '97'}, 's7': {'_obj': '98'}, 's8': {'_obj': '99'}, 's9': {'_obj': '100'}, 's10': {'_obj': '101'}, 's11': {'_obj': '102'}, 's12': {'_obj': '103'}, 's13': {'_obj': '104'}, 's14': {'_obj': '105'}, 's15': {'_obj': '106'}, 's16': {'_obj': '107'}, 's17': {'_obj': '108'}, 's18': {'_obj': '109'}, 's19': {'_obj': '110'}, 's20': {'_obj': '111'}, 's21': {'_obj': '112'}, 's22': {'_obj': '113'}, 's23': {'_obj': '114'}, 's24': {'_obj': '115'}, 's25': {'_obj': '116'}, 's26': {'_obj': '117'}, 's27': {'_obj': '118'}, 's28': {'_obj': '119'}, 's29': {'_obj': '120'}, 's30': {'_obj': '121'}, 's31': {'_obj': '122'}, 's32': {'_obj': '123'}, 's33': {'_obj': '124'}, 's34': {'_obj': '125'}, 's35': {'_obj': '126'}, 's36': {'_obj': '127'}, 's37': {'_obj': '128'}, 's38': {'_obj': '129'}, 's39': {'_obj': '130'}, 's40': {'_obj': '131'}, 's41': {'_obj': '132'}, 's42': {'_obj': '133'}, 's43': {'_obj': '134'}, 's44': {'_obj': '135'}, 's45': {'_obj': '136'}, 's46': {'_obj': '137'}, 's47': {'_obj': '138'}, 's48': {'_obj': '139'}, 's49': {'_obj': '140'}, 's50': {'_obj': '141'}, 's51': {'_obj': '142'}, 's52': {'_obj': '143'}, 's53': {'_obj': '144'}}}, '146': {'loc': {'_obj': '17'}, 'obj_type': 'robber', 'visible': {'s0': 'White', 's1': 'Red', 's2': 'Blue'}}, '147': {'obj_type': 'devdeck', 'visible': {'s0': 'White', 's1': 'Red', 's2': 'Blue'}}, '148': {'loc': {'_obj': '106'}, 'player': {'_player': 'White'}, 'obj_type': 'settlement', 'visible': {'s0': 'White', 's1': 'Red', 's2': 'Blue'}}, '149': {'loc': {'_obj': '50'}, 'player': {'_player': 'White'}, 'obj_type': 'road', 'visible': {'s0': 'White', 's1': 'Red', 's2': 'Blue'}}, '150': {'loc': {'_obj': '97'}, 'player': {'_player': 'Red'}, 'obj_type': 'settlement', 'visible': {'s0': 'White', 's1': 'Red', 's2': 'Blue'}}, '151': {'loc': {'_obj': '29'}, 'player': {'_player': 'Red'}, 'obj_type': 'road', 'visible': {'s0': 'White', 's1': 'Red', 's2': 'Blue'}}, '152': {'loc': {'_obj': '128'}, 'player': {'_player': 'Blue'}, 'obj_type': 'settlement', 'visible': {'s0': 'White', 's1': 'Red', 's2': 'Blue'}}, '153': {'loc': {'_obj': '66'}, 'player': {'_player': 'Blue'}, 'obj_type': 'road', 'visible': {'s0': 'White', 's1': 'Red', 's2': 'Blue'}}, '154': {'loc': {'_obj': '99'}, 'player': {'_player': 'Blue'}, 'obj_type': 'settlement', 'visible': {'s0': 'White', 's1': 'Red', 's2': 'Blue'}}, '155': {'loc': {'_obj': '26'}, 'player': {'_player': 'Blue'}, 'obj_type': 'road', 'visible': {'s0': 'White', 's1': 'Red', 's2': 'Blue'}}, '156': {'loc': {'_obj': '93'}, 'player': {'_player': 'Red'}, 'obj_type': 'settlement', 'visible': {'s0': 'White', 's1': 'Red', 's2': 'Blue'}}, '157': {'loc': {'_obj': '28'}, 'player': {'_player': 'Red'}, 'obj_type': 'road', 'visible': {'s0': 'White', 's1': 'Red', 's2': 'Blue'}}, '158': {'loc': {'_obj': '142'}, 'player': {'_player': 'White'}, 'obj_type': 'settlement', 'visible': {'s0': 'White', 's1': 'Red', 's2': 'Blue'}}, '159': {'loc': {'_obj': '87'}, 'player': {'_player': 'White'}, 'obj_type': 'road', 'visible': {'s0': 'White', 's1': 'Red', 's2': 'Blue'}}, '160': {'loc': {'_obj': '37'}, 'player': {'_player': 'White'}, 'obj_type': 'road', 'visible': {'s0': 'White', 's1': 'Red', 's2': 'Blue'}}}))\n",
       "\t\t});\n",
       "\t\t"
      ]
     },
     "metadata": {},
     "output_type": "display_data"
    }
   ],
   "source": [
    "viz.render_dict(I.table)"
   ]
  },
  {
   "cell_type": "code",
   "execution_count": 16,
   "metadata": {},
   "outputs": [],
   "source": [
    "# I.save('saves/catan_setup.pkl')"
   ]
  },
  {
   "cell_type": "code",
   "execution_count": 10,
   "metadata": {
    "collapsed": true
   },
   "outputs": [],
   "source": [
    "settlements = tset()\n",
    "for val in I.table.values():\n",
    "    if val.obj_type == 'settlement':\n",
    "        settlements.add(val)"
   ]
  },
  {
   "cell_type": "code",
   "execution_count": 13,
   "metadata": {
    "scrolled": true
   },
   "outputs": [
    {
     "data": {
      "text/html": [
       "<div id=\"3430e3fb-9d86-44af-b9db-db92860e6c88\" style=\"height: 600px; width:100%;\"></div>"
      ]
     },
     "metadata": {},
     "output_type": "display_data"
    },
    {
     "data": {
      "application/javascript": [
       "\n",
       "\t\trequire([\"https://rawgit.com/caldwell/renderjson/master/renderjson.js\"], function() {\n",
       "\t\t  renderjson.set_show_to_level(1)\n",
       "\t\t  document.getElementById('3430e3fb-9d86-44af-b9db-db92860e6c88').appendChild(renderjson({'s0': {'obj_type': 'settlement', 'loc': {'_obj': '99'}, 'player': {'_player': 'White'}, 'visible': {'s0': 'White', 's1': 'Red', 's2': 'Blue'}}, 's1': {'obj_type': 'settlement', 'loc': {'_obj': '143'}, 'player': {'_player': 'Red'}, 'visible': {'s0': 'White', 's1': 'Red', 's2': 'Blue'}}, 's2': {'obj_type': 'settlement', 'loc': {'_obj': '111'}, 'player': {'_player': 'Blue'}, 'visible': {'s0': 'White', 's1': 'Red', 's2': 'Blue'}}, 's3': {'obj_type': 'settlement', 'loc': {'_obj': '129'}, 'player': {'_player': 'Blue'}, 'visible': {'s0': 'White', 's1': 'Red', 's2': 'Blue'}}, 's4': {'obj_type': 'settlement', 'loc': {'_obj': '131'}, 'player': {'_player': 'Red'}, 'visible': {'s0': 'White', 's1': 'Red', 's2': 'Blue'}}, 's5': {'obj_type': 'settlement', 'loc': {'_obj': '108'}, 'player': {'_player': 'White'}, 'visible': {'s0': 'White', 's1': 'Red', 's2': 'Blue'}}}))\n",
       "\t\t});\n",
       "\t\t"
      ]
     },
     "metadata": {},
     "output_type": "display_data"
    }
   ],
   "source": [
    "viz.render_dict(settlements)"
   ]
  },
  {
   "cell_type": "code",
   "execution_count": 10,
   "metadata": {
    "scrolled": true
   },
   "outputs": [
    {
     "name": "stdout",
     "output_type": "stream",
     "text": [
      "[None, tdict('_obj':'19'), tdict('_obj':'24')]\n",
      "[tdict('_obj':'29'), tdict('_obj':'20'), tdict('_obj':'19')]\n",
      "[tdict('_obj':'20'), tdict('_obj':'28'), tdict('_obj':'21')]\n",
      "[tdict('_obj':'21'), tdict('_obj':'35'), tdict('_obj':'22')]\n",
      "[tdict('_obj':'23'), tdict('_obj':'22'), tdict('_obj':'39')]\n",
      "[tdict('_obj':'24'), tdict('_obj':'23'), None]\n",
      "[None, tdict('_obj':'25'), tdict('_obj':'29')]\n",
      "[tdict('_obj':'34'), tdict('_obj':'26'), tdict('_obj':'25')]\n",
      "[tdict('_obj':'26'), tdict('_obj':'33'), tdict('_obj':'27')]\n",
      "[tdict('_obj':'27'), tdict('_obj':'40'), tdict('_obj':'28')]\n",
      "[None, tdict('_obj':'30'), tdict('_obj':'34')]\n",
      "[None, tdict('_obj':'31'), tdict('_obj':'30')]\n",
      "[tdict('_obj':'31'), tdict('_obj':'46'), tdict('_obj':'32')]\n",
      "[tdict('_obj':'32'), tdict('_obj':'43'), tdict('_obj':'33')]\n",
      "[tdict('_obj':'35'), tdict('_obj':'42'), tdict('_obj':'36')]\n",
      "[tdict('_obj':'36'), tdict('_obj':'50'), tdict('_obj':'37')]\n",
      "[tdict('_obj':'38'), tdict('_obj':'37'), tdict('_obj':'54')]\n",
      "[tdict('_obj':'39'), tdict('_obj':'38'), None]\n",
      "[tdict('_obj':'40'), tdict('_obj':'45'), tdict('_obj':'41')]\n",
      "[tdict('_obj':'41'), tdict('_obj':'55'), tdict('_obj':'42')]\n",
      "[tdict('_obj':'43'), tdict('_obj':'49'), tdict('_obj':'44')]\n",
      "[tdict('_obj':'44'), tdict('_obj':'58'), tdict('_obj':'45')]\n",
      "[None, tdict('_obj':'47'), tdict('_obj':'46')]\n",
      "[tdict('_obj':'47'), tdict('_obj':'64'), tdict('_obj':'48')]\n",
      "[tdict('_obj':'48'), tdict('_obj':'61'), tdict('_obj':'49')]\n",
      "[tdict('_obj':'50'), tdict('_obj':'57'), tdict('_obj':'51')]\n",
      "[tdict('_obj':'51'), tdict('_obj':'71'), tdict('_obj':'52')]\n",
      "[tdict('_obj':'53'), tdict('_obj':'52'), None]\n",
      "[tdict('_obj':'54'), tdict('_obj':'53'), None]\n",
      "[tdict('_obj':'55'), tdict('_obj':'60'), tdict('_obj':'56')]\n",
      "[tdict('_obj':'56'), tdict('_obj':'68'), tdict('_obj':'57')]\n",
      "[tdict('_obj':'58'), tdict('_obj':'63'), tdict('_obj':'59')]\n",
      "[tdict('_obj':'59'), tdict('_obj':'72'), tdict('_obj':'60')]\n",
      "[tdict('_obj':'61'), tdict('_obj':'67'), tdict('_obj':'62')]\n",
      "[tdict('_obj':'62'), tdict('_obj':'75'), tdict('_obj':'63')]\n",
      "[None, tdict('_obj':'65'), tdict('_obj':'64')]\n",
      "[tdict('_obj':'65'), None, tdict('_obj':'66')]\n",
      "[tdict('_obj':'66'), tdict('_obj':'78'), tdict('_obj':'67')]\n",
      "[tdict('_obj':'68'), tdict('_obj':'74'), tdict('_obj':'69')]\n",
      "[tdict('_obj':'69'), tdict('_obj':'84'), tdict('_obj':'70')]\n",
      "[tdict('_obj':'71'), tdict('_obj':'70'), None]\n",
      "[tdict('_obj':'72'), tdict('_obj':'77'), tdict('_obj':'73')]\n",
      "[tdict('_obj':'73'), tdict('_obj':'81'), tdict('_obj':'74')]\n",
      "[tdict('_obj':'75'), tdict('_obj':'80'), tdict('_obj':'76')]\n",
      "[tdict('_obj':'76'), tdict('_obj':'85'), tdict('_obj':'77')]\n",
      "[tdict('_obj':'78'), None, tdict('_obj':'79')]\n",
      "[tdict('_obj':'79'), tdict('_obj':'88'), tdict('_obj':'80')]\n",
      "[tdict('_obj':'81'), tdict('_obj':'87'), tdict('_obj':'82')]\n",
      "[tdict('_obj':'82'), None, tdict('_obj':'83')]\n",
      "[tdict('_obj':'84'), tdict('_obj':'83'), None]\n",
      "[tdict('_obj':'85'), tdict('_obj':'90'), tdict('_obj':'86')]\n",
      "[tdict('_obj':'86'), None, tdict('_obj':'87')]\n",
      "[tdict('_obj':'88'), None, tdict('_obj':'89')]\n",
      "[tdict('_obj':'89'), None, tdict('_obj':'90')]\n"
     ]
    }
   ],
   "source": [
    "for x in I.table['145'].corners:\n",
    "    print(repr(I.table[x._obj].edges))"
   ]
  },
  {
   "cell_type": "code",
   "execution_count": 31,
   "metadata": {},
   "outputs": [
    {
     "name": "stdout",
     "output_type": "stream",
     "text": [
      "White (ID=2): ore 11\n",
      "White (ID=5): wheat 6\n",
      "White (ID=1): wool 12\n",
      "Red (ID=18): wool 9\n",
      "Blue (ID=6): ore 11\n",
      "Blue (ID=10): wood 5\n",
      "Blue (ID=5): wheat 6\n",
      "Blue (ID=13): brick 10\n",
      "Blue (ID=16): wood 8\n",
      "Blue (ID=12): brick 5\n",
      "Red (ID=12): brick 5\n",
      "White (ID=3): desert None\n"
     ]
    }
   ],
   "source": [
    "for s in settlements:\n",
    "    cid = s.loc._obj\n",
    "    for fref in I.table[cid].fields:\n",
    "        if fref is not None:\n",
    "            f = I.table[fref._obj]\n",
    "            if f is not None:\n",
    "                print('{} (ID={}): {} {}'.format(s.player._player, fref._obj, f.res, f.num if 'num' in f else None))"
   ]
  },
  {
   "cell_type": "code",
   "execution_count": 26,
   "metadata": {},
   "outputs": [
    {
     "ename": "KeyError",
     "evalue": "tdict('_obj':'2')",
     "output_type": "error",
     "traceback": [
      "\u001b[0;31m---------------------------------------------------------------------------\u001b[0m",
      "\u001b[0;31mKeyError\u001b[0m                                  Traceback (most recent call last)",
      "\u001b[0;32m<ipython-input-26-1feb7236930d>\u001b[0m in \u001b[0;36m<module>\u001b[0;34m()\u001b[0m\n\u001b[0;32m----> 1\u001b[0;31m \u001b[0mI\u001b[0m\u001b[0;34m.\u001b[0m\u001b[0mctrl\u001b[0m\u001b[0;34m.\u001b[0m\u001b[0mtable\u001b[0m\u001b[0;34m[\u001b[0m\u001b[0mfid\u001b[0m\u001b[0;34m]\u001b[0m\u001b[0;34m\u001b[0m\u001b[0;34m\u001b[0m\u001b[0m\n\u001b[0m",
      "\u001b[0;32m/mnt/c/Users/anwan/OneDrive - UW/Khan/Other/gsm/git/gsm/core/table.py\u001b[0m in \u001b[0;36m__getitem__\u001b[0;34m(self, item)\u001b[0m\n\u001b[1;32m    162\u001b[0m \u001b[0;34m\u001b[0m\u001b[0m\n\u001b[1;32m    163\u001b[0m         \u001b[0;32mdef\u001b[0m \u001b[0m__getitem__\u001b[0m\u001b[0;34m(\u001b[0m\u001b[0mself\u001b[0m\u001b[0;34m,\u001b[0m \u001b[0mitem\u001b[0m\u001b[0;34m)\u001b[0m\u001b[0;34m:\u001b[0m\u001b[0;34m\u001b[0m\u001b[0;34m\u001b[0m\u001b[0m\n\u001b[0;32m--> 164\u001b[0;31m                 \u001b[0;32mreturn\u001b[0m \u001b[0mself\u001b[0m\u001b[0;34m.\u001b[0m\u001b[0mtable\u001b[0m\u001b[0;34m[\u001b[0m\u001b[0mitem\u001b[0m\u001b[0;34m]\u001b[0m\u001b[0;34m\u001b[0m\u001b[0;34m\u001b[0m\u001b[0m\n\u001b[0m\u001b[1;32m    165\u001b[0m \u001b[0;34m\u001b[0m\u001b[0m\n\u001b[1;32m    166\u001b[0m         \u001b[0;32mdef\u001b[0m \u001b[0m__setitem__\u001b[0m\u001b[0;34m(\u001b[0m\u001b[0mself\u001b[0m\u001b[0;34m,\u001b[0m \u001b[0mkey\u001b[0m\u001b[0;34m,\u001b[0m \u001b[0mvalue\u001b[0m\u001b[0;34m)\u001b[0m\u001b[0;34m:\u001b[0m\u001b[0;34m\u001b[0m\u001b[0;34m\u001b[0m\u001b[0m\n",
      "\u001b[0;32m/mnt/c/Users/anwan/OneDrive - UW/Khan/Other/humpack/git/humpack/basic_containers.py\u001b[0m in \u001b[0;36m__getitem__\u001b[0;34m(self, item)\u001b[0m\n\u001b[1;32m    187\u001b[0m \u001b[0;34m\u001b[0m\u001b[0m\n\u001b[1;32m    188\u001b[0m         \u001b[0;32mdef\u001b[0m \u001b[0m__getitem__\u001b[0m\u001b[0;34m(\u001b[0m\u001b[0mself\u001b[0m\u001b[0;34m,\u001b[0m \u001b[0mitem\u001b[0m\u001b[0;34m)\u001b[0m\u001b[0;34m:\u001b[0m\u001b[0;34m\u001b[0m\u001b[0;34m\u001b[0m\u001b[0m\n\u001b[0;32m--> 189\u001b[0;31m                 \u001b[0;32mreturn\u001b[0m \u001b[0mself\u001b[0m\u001b[0;34m.\u001b[0m\u001b[0m_data\u001b[0m\u001b[0;34m[\u001b[0m\u001b[0mitem\u001b[0m\u001b[0;34m]\u001b[0m\u001b[0;34m\u001b[0m\u001b[0;34m\u001b[0m\u001b[0m\n\u001b[0m\u001b[1;32m    190\u001b[0m \u001b[0;34m\u001b[0m\u001b[0m\n\u001b[1;32m    191\u001b[0m \tdef __setitem__(self, key,\n",
      "\u001b[0;31mKeyError\u001b[0m: tdict('_obj':'2')"
     ]
    }
   ],
   "source": [
    "I.ctrl.table[fid]"
   ]
  },
  {
   "cell_type": "code",
   "execution_count": null,
   "metadata": {
    "collapsed": true
   },
   "outputs": [],
   "source": []
  },
  {
   "cell_type": "code",
   "execution_count": 14,
   "metadata": {
    "scrolled": true
   },
   "outputs": [
    {
     "data": {
      "text/html": [
       "<div id=\"ad13b0f4-a814-4a64-ae95-beb27f140bf7\" style=\"height: 600px; width:100%;\"></div>"
      ]
     },
     "metadata": {},
     "output_type": "display_data"
    },
    {
     "data": {
      "application/javascript": [
       "\n",
       "\t\trequire([\"https://rawgit.com/caldwell/renderjson/master/renderjson.js\"], function() {\n",
       "\t\t  renderjson.set_show_to_level(1)\n",
       "\t\t  document.getElementById('ad13b0f4-a814-4a64-ae95-beb27f140bf7').appendChild(renderjson({'obj_type': 'Corner', 'fields': {'l0': {'_obj': '2'}, 'l1': {'_obj': '5'}, 'l2': {'_obj': '1'}}, 'visible': {'s0': 'White', 's1': 'Red', 's2': 'Blue'}, 'edges': {'l0': {'_obj': '26'}, 'l1': {'_obj': '33'}, 'l2': {'_obj': '27'}}, 'building': {'_obj': '148'}}))\n",
       "\t\t});\n",
       "\t\t"
      ]
     },
     "metadata": {},
     "output_type": "display_data"
    }
   ],
   "source": [
    "viz.render_dict(I.table['99'])"
   ]
  },
  {
   "cell_type": "code",
   "execution_count": null,
   "metadata": {
    "collapsed": true
   },
   "outputs": [],
   "source": []
  },
  {
   "cell_type": "code",
   "execution_count": 17,
   "metadata": {
    "collapsed": true
   },
   "outputs": [],
   "source": []
  },
  {
   "cell_type": "code",
   "execution_count": 7,
   "metadata": {
    "scrolled": true
   },
   "outputs": [
    {
     "data": {
      "text/html": [
       "<div id=\"292e74a7-bcf9-45c0-85f6-7612179e0494\" style=\"height: 600px; width:100%;\"></div>"
      ]
     },
     "metadata": {},
     "output_type": "display_data"
    },
    {
     "data": {
      "application/javascript": [
       "\n",
       "\t\trequire([\"https://rawgit.com/caldwell/renderjson/master/renderjson.js\"], function() {\n",
       "\t\t  renderjson.set_show_to_level(1)\n",
       "\t\t  document.getElementById('292e74a7-bcf9-45c0-85f6-7612179e0494').appendChild(renderjson({'costs': {'road': {'wood': '1', 'brick': '1'}, 'settlement': {'wood': '1', 'brick': '1', 'sheep': '1', 'wheat': '1'}, 'city': {'ore': '3', 'wheat': '2'}, 'devcard': {'ore': '1', 'sheep': '1', 'wheat': '1'}}, 'bank': {'wood': '18', 'brick': '16', 'sheep': '19', 'ore': '19', 'wheat': '19'}, 'rewards': {'road': '0', 'settlement': '1', 'city': '2', 'longest_road': '2', 'largest_army': '2'}, 'production': {'settlement': '1', 'city': '2'}, 'reqs': {'longest_road': '5', 'largest_army': '3'}, 'victory_condition': '10', 'world': {'_obj': '145'}, 'robber': {'_obj': '146'}, 'desert': {'_obj': '3'}, 'numbers': {'8': {'s0': {'_obj': '0'}, 's1': {'_obj': '16'}}, '12': {'s0': {'_obj': '1'}}, '11': {'s0': {'_obj': '2'}, 's1': {'_obj': '6'}}, '9': {'s0': {'_obj': '4'}, 's1': {'_obj': '18'}}, '6': {'s0': {'_obj': '5'}, 's1': {'_obj': '15'}}, '3': {'s0': {'_obj': '7'}, 's1': {'_obj': '14'}}, '10': {'s0': {'_obj': '8'}, 's1': {'_obj': '13'}}, '4': {'s0': {'_obj': '9'}, 's1': {'_obj': '11'}}, '5': {'s0': {'_obj': '10'}, 's1': {'_obj': '12'}}, '2': {'s0': {'_obj': '17'}}}, 'dev_deck': {'_obj': '147'}, 'turns': {'order': {'l0': {'_player': 'White'}, 'l1': {'_player': 'Red'}, 'l2': {'_player': 'Blue'}}, 'counter': '1'}, 'bank_trading': {'default': '4', '3to1': '3', 'wood': '2', 'wheat': '2', 'brick': '2', 'ore': '2', 'sheep': '2'}, 'msgs': {'build': {'road': 'Build a road', 'settlement': 'Settle', 'city': 'Upgrade to a city', 'devcard': 'Buy a development card'}}}))\n",
       "\t\t});\n",
       "\t\t"
      ]
     },
     "metadata": {},
     "output_type": "display_data"
    }
   ],
   "source": [
    "viz.render_dict(I.ctrl.state)"
   ]
  },
  {
   "cell_type": "code",
   "execution_count": null,
   "metadata": {
    "collapsed": true
   },
   "outputs": [],
   "source": []
  },
  {
   "cell_type": "code",
   "execution_count": null,
   "metadata": {
    "collapsed": true
   },
   "outputs": [],
   "source": []
  },
  {
   "cell_type": "code",
   "execution_count": 31,
   "metadata": {},
   "outputs": [
    {
     "name": "stdout",
     "output_type": "stream",
     "text": [
      "tdict(obj_type, loc, player, visible)\n",
      "tdict(obj_type, loc, player, visible)\n",
      "tdict(obj_type, loc, player, visible)\n",
      "tdict(obj_type, loc, player, visible)\n",
      "tdict(obj_type, loc, player, visible)\n",
      "tdict(obj_type, loc, player, visible)\n"
     ]
    }
   ],
   "source": [
    "for k,v in I.table.items():\n",
    "    if v.obj_type == 'settlement':\n",
    "        print(v)"
   ]
  },
  {
   "cell_type": "code",
   "execution_count": 7,
   "metadata": {
    "scrolled": true
   },
   "outputs": [
    {
     "data": {
      "text/html": [
       "<div id=\"49db311d-ff5d-4de9-9cf7-c18a88191650\" style=\"height: 600px; width:100%;\"></div>"
      ]
     },
     "metadata": {},
     "output_type": "display_data"
    },
    {
     "data": {
      "application/javascript": [
       "\n",
       "\t\trequire([\"https://rawgit.com/caldwell/renderjson/master/renderjson.js\"], function() {\n",
       "\t\t  renderjson.set_show_to_level(1)\n",
       "\t\t  document.getElementById('49db311d-ff5d-4de9-9cf7-c18a88191650').appendChild(renderjson({'obj_type': 'hex', 'row': '1', 'col': '1', 'neighbors': {'l0': {'_obj': '0'}, 'l1': {'_obj': '4'}, 'l2': {'_obj': '8'}, 'l3': {'_obj': '7'}, 'l4': 'None', 'l5': 'None'}, 'visible': {'s0': 'White', 's1': 'Red', 's2': 'Blue'}, 'edges': {'l0': {'_obj': '22'}, 'l1': {'_obj': '35'}, 'l2': {'_obj': '36'}, 'l3': {'_obj': '37'}, 'l4': {'_obj': '38'}, 'l5': {'_obj': '39'}}, 'corners': {'l0': {'_obj': '95'}, 'l1': {'_obj': '94'}, 'l2': {'_obj': '105'}, 'l3': {'_obj': '106'}, 'l4': {'_obj': '107'}, 'l5': {'_obj': '108'}}, 'res': 'desert'}))\n",
       "\t\t});\n",
       "\t\t"
      ]
     },
     "metadata": {},
     "output_type": "display_data"
    }
   ],
   "source": [
    "viz.render_dict(I.table['3'])"
   ]
  },
  {
   "cell_type": "code",
   "execution_count": null,
   "metadata": {
    "collapsed": true
   },
   "outputs": [],
   "source": []
  }
 ],
 "metadata": {
  "kernelspec": {
   "display_name": "Python 3",
   "language": "python",
   "name": "python3"
  },
  "language_info": {
   "codemirror_mode": {
    "name": "ipython",
    "version": 3
   },
   "file_extension": ".py",
   "mimetype": "text/x-python",
   "name": "python",
   "nbconvert_exporter": "python",
   "pygments_lexer": "ipython3",
   "version": "3.7.4"
  }
 },
 "nbformat": 4,
 "nbformat_minor": 2
}
