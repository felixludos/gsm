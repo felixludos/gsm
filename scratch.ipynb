{
 "cells": [
  {
   "cell_type": "code",
   "execution_count": 1,
   "metadata": {},
   "outputs": [],
   "source": [
    "import sys, os, time\n",
    "%load_ext autoreload\n",
    "%autoreload 2\n",
    "%matplotlib inline\n",
    "#%matplotlib tk\n",
    "import matplotlib.pyplot as plt\n",
    "from collections import namedtuple, OrderedDict\n",
    "import random\n",
    "from itertools import chain, product\n",
    "from gsm import tdict, tlist, tset\n",
    "from gsm.containers import Container\n",
    "from gsm.structures.transactions import TransactionableObject"
   ]
  },
  {
   "cell_type": "code",
   "execution_count": 20,
   "metadata": {},
   "outputs": [
    {
     "data": {
      "text/plain": [
       "133156838395276"
      ]
     },
     "execution_count": 20,
     "metadata": {},
     "output_type": "execute_result"
    }
   ],
   "source": [
    "hash(frozenset([]))"
   ]
  },
  {
   "cell_type": "code",
   "execution_count": 2,
   "metadata": {},
   "outputs": [
    {
     "data": {
      "text/plain": [
       "1776533279318897799"
      ]
     },
     "execution_count": 2,
     "metadata": {},
     "output_type": "execute_result"
    }
   ],
   "source": [
    "hash('a')"
   ]
  },
  {
   "cell_type": "code",
   "execution_count": 3,
   "metadata": {},
   "outputs": [
    {
     "data": {
      "text/plain": [
       "-4673268143748931295"
      ]
     },
     "execution_count": 3,
     "metadata": {},
     "output_type": "execute_result"
    }
   ],
   "source": [
    "hash(frozenset(['a']))"
   ]
  },
  {
   "cell_type": "code",
   "execution_count": 5,
   "metadata": {},
   "outputs": [
    {
     "data": {
      "text/plain": [
       "139871938547496"
      ]
     },
     "execution_count": 5,
     "metadata": {},
     "output_type": "execute_result"
    }
   ],
   "source": [
    "id(set())"
   ]
  },
  {
   "cell_type": "code",
   "execution_count": 6,
   "metadata": {},
   "outputs": [
    {
     "data": {
      "text/plain": [
       "139871938547496"
      ]
     },
     "execution_count": 6,
     "metadata": {},
     "output_type": "execute_result"
    }
   ],
   "source": [
    "id(set())"
   ]
  },
  {
   "cell_type": "code",
   "execution_count": 2,
   "metadata": {
    "collapsed": true
   },
   "outputs": [],
   "source": [
    "class Parent:\n",
    "    def signal(self):\n",
    "        print('bing')"
   ]
  },
  {
   "cell_type": "code",
   "execution_count": 3,
   "metadata": {},
   "outputs": [
    {
     "data": {
      "text/plain": [
       "tdict([('a', 10), ('c', 'hello')])"
      ]
     },
     "execution_count": 3,
     "metadata": {},
     "output_type": "execute_result"
    }
   ],
   "source": [
    "a = tdict(a=10, c='hello')\n",
    "a._tracker = Parent()\n",
    "a"
   ]
  },
  {
   "cell_type": "code",
   "execution_count": 4,
   "metadata": {
    "collapsed": true
   },
   "outputs": [],
   "source": [
    "a.begin()"
   ]
  },
  {
   "cell_type": "code",
   "execution_count": 5,
   "metadata": {},
   "outputs": [
    {
     "name": "stdout",
     "output_type": "stream",
     "text": [
      "bing\n",
      "bing\n",
      "bing\n",
      "bing\n"
     ]
    },
    {
     "data": {
      "text/plain": [
       "tdict([('a', 11),\n",
       "       ('c', 'hello'),\n",
       "       ('b', tdict([('deep', 'yes')])),\n",
       "       ('d', 'testing')])"
      ]
     },
     "execution_count": 5,
     "metadata": {},
     "output_type": "execute_result"
    }
   ],
   "source": [
    "a.a = 11\n",
    "a.b = tdict()\n",
    "a.d = 'testing'\n",
    "a.b.deep = 'yes'\n",
    "a"
   ]
  },
  {
   "cell_type": "code",
   "execution_count": 6,
   "metadata": {},
   "outputs": [
    {
     "data": {
      "text/plain": [
       "tdict([('a', 10), ('c', 'hello')])"
      ]
     },
     "execution_count": 6,
     "metadata": {},
     "output_type": "execute_result"
    }
   ],
   "source": [
    "a.abort()\n",
    "a"
   ]
  },
  {
   "cell_type": "code",
   "execution_count": 9,
   "metadata": {},
   "outputs": [],
   "source": [
    "set?"
   ]
  },
  {
   "cell_type": "code",
   "execution_count": 16,
   "metadata": {},
   "outputs": [
    {
     "data": {
      "text/plain": [
       "{'__and__',\n",
       " '__contains__',\n",
       " '__iand__',\n",
       " '__ior__',\n",
       " '__isub__',\n",
       " '__iter__',\n",
       " '__ixor__',\n",
       " '__len__',\n",
       " '__or__',\n",
       " '__rand__',\n",
       " '__ror__',\n",
       " '__rsub__',\n",
       " '__rxor__',\n",
       " '__sub__',\n",
       " '__xor__',\n",
       " 'add',\n",
       " 'clear',\n",
       " 'difference',\n",
       " 'difference_update',\n",
       " 'discard',\n",
       " 'intersection',\n",
       " 'intersection_update',\n",
       " 'isdisjoint',\n",
       " 'issubset',\n",
       " 'issuperset',\n",
       " 'pop',\n",
       " 'remove',\n",
       " 'symmetric_difference',\n",
       " 'symmetric_difference_update',\n",
       " 'union',\n",
       " 'update'}"
      ]
     },
     "execution_count": 16,
     "metadata": {},
     "output_type": "execute_result"
    }
   ],
   "source": [
    "t = set(dir(tset()))\n",
    "o = set(dir(set()))\n",
    "d = o - t\n",
    "d"
   ]
  },
  {
   "cell_type": "code",
   "execution_count": 18,
   "metadata": {},
   "outputs": [
    {
     "name": "stdout",
     "output_type": "stream",
     "text": [
      "__rsub__\n",
      "Help on wrapper_descriptor:\n",
      "\n",
      "__rsub__(self, value, /)\n",
      "    Return value-self.\n",
      "\n",
      "None\n",
      "---------------------------\n",
      "difference_update\n",
      "Help on method_descriptor:\n",
      "\n",
      "difference_update(...)\n",
      "    Remove all elements of another set from this set.\n",
      "\n",
      "None\n",
      "---------------------------\n",
      "__and__\n",
      "Help on wrapper_descriptor:\n",
      "\n",
      "__and__(self, value, /)\n",
      "    Return self&value.\n",
      "\n",
      "None\n",
      "---------------------------\n",
      "symmetric_difference\n",
      "Help on method_descriptor:\n",
      "\n",
      "symmetric_difference(...)\n",
      "    Return the symmetric difference of two sets as a new set.\n",
      "    \n",
      "    (i.e. all elements that are in exactly one of the sets.)\n",
      "\n",
      "None\n",
      "---------------------------\n",
      "__contains__\n",
      "Help on method_descriptor:\n",
      "\n",
      "__contains__(...)\n",
      "    x.__contains__(y) <==> y in x.\n",
      "\n",
      "None\n",
      "---------------------------\n",
      "__ixor__\n",
      "Help on wrapper_descriptor:\n",
      "\n",
      "__ixor__(self, value, /)\n",
      "    Return self^=value.\n",
      "\n",
      "None\n",
      "---------------------------\n",
      "union\n",
      "Help on method_descriptor:\n",
      "\n",
      "union(...)\n",
      "    Return the union of sets as a new set.\n",
      "    \n",
      "    (i.e. all elements that are in either set.)\n",
      "\n",
      "None\n",
      "---------------------------\n",
      "__isub__\n",
      "Help on wrapper_descriptor:\n",
      "\n",
      "__isub__(self, value, /)\n",
      "    Return self-=value.\n",
      "\n",
      "None\n",
      "---------------------------\n",
      "__or__\n",
      "Help on wrapper_descriptor:\n",
      "\n",
      "__or__(self, value, /)\n",
      "    Return self|value.\n",
      "\n",
      "None\n",
      "---------------------------\n",
      "__ior__\n",
      "Help on wrapper_descriptor:\n",
      "\n",
      "__ior__(self, value, /)\n",
      "    Return self|=value.\n",
      "\n",
      "None\n",
      "---------------------------\n",
      "__rand__\n",
      "Help on wrapper_descriptor:\n",
      "\n",
      "__rand__(self, value, /)\n",
      "    Return value&self.\n",
      "\n",
      "None\n",
      "---------------------------\n",
      "__len__\n",
      "Help on wrapper_descriptor:\n",
      "\n",
      "__len__(self, /)\n",
      "    Return len(self).\n",
      "\n",
      "None\n",
      "---------------------------\n",
      "update\n",
      "Help on method_descriptor:\n",
      "\n",
      "update(...)\n",
      "    Update a set with the union of itself and others.\n",
      "\n",
      "None\n",
      "---------------------------\n",
      "difference\n",
      "Help on method_descriptor:\n",
      "\n",
      "difference(...)\n",
      "    Return the difference of two or more sets as a new set.\n",
      "    \n",
      "    (i.e. all elements that are in this set but not the others.)\n",
      "\n",
      "None\n",
      "---------------------------\n",
      "__rxor__\n",
      "Help on wrapper_descriptor:\n",
      "\n",
      "__rxor__(self, value, /)\n",
      "    Return value^self.\n",
      "\n",
      "None\n",
      "---------------------------\n",
      "add\n",
      "Help on method_descriptor:\n",
      "\n",
      "add(...)\n",
      "    Add an element to a set.\n",
      "    \n",
      "    This has no effect if the element is already present.\n",
      "\n",
      "None\n",
      "---------------------------\n",
      "clear\n",
      "Help on method_descriptor:\n",
      "\n",
      "clear(...)\n",
      "    Remove all elements from this set.\n",
      "\n",
      "None\n",
      "---------------------------\n",
      "discard\n",
      "Help on method_descriptor:\n",
      "\n",
      "discard(...)\n",
      "    Remove an element from a set if it is a member.\n",
      "    \n",
      "    If the element is not a member, do nothing.\n",
      "\n",
      "None\n",
      "---------------------------\n",
      "__iand__\n",
      "Help on wrapper_descriptor:\n",
      "\n",
      "__iand__(self, value, /)\n",
      "    Return self&=value.\n",
      "\n",
      "None\n",
      "---------------------------\n",
      "__ror__\n",
      "Help on wrapper_descriptor:\n",
      "\n",
      "__ror__(self, value, /)\n",
      "    Return value|self.\n",
      "\n",
      "None\n",
      "---------------------------\n",
      "intersection_update\n",
      "Help on method_descriptor:\n",
      "\n",
      "intersection_update(...)\n",
      "    Update a set with the intersection of itself and another.\n",
      "\n",
      "None\n",
      "---------------------------\n",
      "isdisjoint\n",
      "Help on method_descriptor:\n",
      "\n",
      "isdisjoint(...)\n",
      "    Return True if two sets have a null intersection.\n",
      "\n",
      "None\n",
      "---------------------------\n",
      "pop\n",
      "Help on method_descriptor:\n",
      "\n",
      "pop(...)\n",
      "    Remove and return an arbitrary set element.\n",
      "    Raises KeyError if the set is empty.\n",
      "\n",
      "None\n",
      "---------------------------\n",
      "remove\n",
      "Help on method_descriptor:\n",
      "\n",
      "remove(...)\n",
      "    Remove an element from a set; it must be a member.\n",
      "    \n",
      "    If the element is not a member, raise a KeyError.\n",
      "\n",
      "None\n",
      "---------------------------\n",
      "issuperset\n",
      "Help on method_descriptor:\n",
      "\n",
      "issuperset(...)\n",
      "    Report whether this set contains another set.\n",
      "\n",
      "None\n",
      "---------------------------\n",
      "symmetric_difference_update\n",
      "Help on method_descriptor:\n",
      "\n",
      "symmetric_difference_update(...)\n",
      "    Update a set with the symmetric difference of itself and another.\n",
      "\n",
      "None\n",
      "---------------------------\n",
      "__xor__\n",
      "Help on wrapper_descriptor:\n",
      "\n",
      "__xor__(self, value, /)\n",
      "    Return self^value.\n",
      "\n",
      "None\n",
      "---------------------------\n",
      "intersection\n",
      "Help on method_descriptor:\n",
      "\n",
      "intersection(...)\n",
      "    Return the intersection of two sets as a new set.\n",
      "    \n",
      "    (i.e. all elements that are in both sets.)\n",
      "\n",
      "None\n",
      "---------------------------\n",
      "__sub__\n",
      "Help on wrapper_descriptor:\n",
      "\n",
      "__sub__(self, value, /)\n",
      "    Return self-value.\n",
      "\n",
      "None\n",
      "---------------------------\n",
      "issubset\n",
      "Help on method_descriptor:\n",
      "\n",
      "issubset(...)\n",
      "    Report whether another set contains this set.\n",
      "\n",
      "None\n",
      "---------------------------\n",
      "__iter__\n",
      "Help on wrapper_descriptor:\n",
      "\n",
      "__iter__(self, /)\n",
      "    Implement iter(self).\n",
      "\n",
      "None\n",
      "---------------------------\n"
     ]
    }
   ],
   "source": [
    "for x in d:\n",
    "    print(x)\n",
    "    print(help(eval('set.'+x)))\n",
    "    print('---------------------------')"
   ]
  },
  {
   "cell_type": "code",
   "execution_count": null,
   "metadata": {
    "collapsed": true
   },
   "outputs": [],
   "source": []
  },
  {
   "cell_type": "code",
   "execution_count": 8,
   "metadata": {
    "collapsed": true
   },
   "outputs": [],
   "source": [
    "OrderedDict.setdefault?"
   ]
  },
  {
   "cell_type": "code",
   "execution_count": 9,
   "metadata": {},
   "outputs": [
    {
     "data": {
      "text/plain": [
       "OrderedDict()"
      ]
     },
     "execution_count": 9,
     "metadata": {},
     "output_type": "execute_result"
    }
   ],
   "source": [
    "x = OrderedDict()\n",
    "x"
   ]
  },
  {
   "cell_type": "code",
   "execution_count": null,
   "metadata": {
    "collapsed": true
   },
   "outputs": [],
   "source": []
  },
  {
   "cell_type": "code",
   "execution_count": 51,
   "metadata": {},
   "outputs": [
    {
     "data": {
      "text/plain": [
       "gsm.containers.Container"
      ]
     },
     "execution_count": 51,
     "metadata": {},
     "output_type": "execute_result"
    }
   ],
   "source": [
    "Container"
   ]
  },
  {
   "cell_type": "code",
   "execution_count": 50,
   "metadata": {},
   "outputs": [
    {
     "data": {
      "text/plain": [
       "(gsm.containers.tdict,\n",
       " gsm.containers.Container,\n",
       " gsm.containers.Trackable,\n",
       " gsm.structures.transactions.Transactionable,\n",
       " object)"
      ]
     },
     "execution_count": 50,
     "metadata": {},
     "output_type": "execute_result"
    }
   ],
   "source": [
    "tdict.__mro__"
   ]
  },
  {
   "cell_type": "code",
   "execution_count": 29,
   "metadata": {},
   "outputs": [
    {
     "data": {
      "text/plain": [
       "tdict('a':10, 'c':'hello', 'b':tdict())"
      ]
     },
     "execution_count": 29,
     "metadata": {},
     "output_type": "execute_result"
    }
   ],
   "source": [
    "a.abort()\n",
    "a"
   ]
  },
  {
   "cell_type": "code",
   "execution_count": 33,
   "metadata": {
    "collapsed": true
   },
   "outputs": [],
   "source": [
    "a.b._tracker"
   ]
  },
  {
   "cell_type": "code",
   "execution_count": null,
   "metadata": {
    "collapsed": true
   },
   "outputs": [],
   "source": []
  },
  {
   "cell_type": "code",
   "execution_count": null,
   "metadata": {
    "collapsed": true
   },
   "outputs": [],
   "source": []
  },
  {
   "cell_type": "code",
   "execution_count": 12,
   "metadata": {},
   "outputs": [
    {
     "name": "stdout",
     "output_type": "stream",
     "text": [
      "('a', 10)\n",
      "('c', 3)\n",
      "('b', 'hello')\n"
     ]
    }
   ],
   "source": [
    "#dir(a)\n",
    "for x in a.items():\n",
    "    print(x)"
   ]
  },
  {
   "cell_type": "code",
   "execution_count": 2,
   "metadata": {},
   "outputs": [
    {
     "ename": "TypeError",
     "evalue": "'TransactionableObject' object is not callable",
     "output_type": "error",
     "traceback": [
      "\u001b[0;31m---------------------------------------------------------------------------\u001b[0m",
      "\u001b[0;31mTypeError\u001b[0m                                 Traceback (most recent call last)",
      "\u001b[0;32m<ipython-input-2-fe808ec86125>\u001b[0m in \u001b[0;36m<module>\u001b[0;34m()\u001b[0m\n\u001b[1;32m      6\u001b[0m \u001b[0mTest\u001b[0m \u001b[0;34m=\u001b[0m \u001b[0mTransactionableObject\u001b[0m\u001b[0;34m(\u001b[0m\u001b[0m_Test\u001b[0m\u001b[0;34m)\u001b[0m\u001b[0;34m\u001b[0m\u001b[0;34m\u001b[0m\u001b[0m\n\u001b[1;32m      7\u001b[0m \u001b[0;34m\u001b[0m\u001b[0m\n\u001b[0;32m----> 8\u001b[0;31m \u001b[0ma\u001b[0m \u001b[0;34m=\u001b[0m \u001b[0mTest\u001b[0m\u001b[0;34m(\u001b[0m\u001b[0;34m'test'\u001b[0m\u001b[0;34m)\u001b[0m\u001b[0;34m\u001b[0m\u001b[0;34m\u001b[0m\u001b[0m\n\u001b[0m",
      "\u001b[0;31mTypeError\u001b[0m: 'TransactionableObject' object is not callable"
     ]
    }
   ],
   "source": [
    "class _Test(object):\n",
    "    def __init__(self, name):\n",
    "        super().__init__(self)\n",
    "        self.name = name\n",
    "\n",
    "Test = TransactionableObject(_Test)\n",
    "        \n",
    "a = Test('test')"
   ]
  },
  {
   "cell_type": "code",
   "execution_count": null,
   "metadata": {
    "collapsed": true
   },
   "outputs": [],
   "source": []
  },
  {
   "cell_type": "code",
   "execution_count": null,
   "metadata": {
    "collapsed": true
   },
   "outputs": [],
   "source": []
  },
  {
   "cell_type": "code",
   "execution_count": null,
   "metadata": {
    "collapsed": true
   },
   "outputs": [],
   "source": []
  },
  {
   "cell_type": "code",
   "execution_count": null,
   "metadata": {
    "collapsed": true
   },
   "outputs": [],
   "source": []
  }
 ],
 "metadata": {
  "kernelspec": {
   "display_name": "Python 3",
   "language": "python",
   "name": "python3"
  },
  "language_info": {
   "codemirror_mode": {
    "name": "ipython",
    "version": 3
   },
   "file_extension": ".py",
   "mimetype": "text/x-python",
   "name": "python",
   "nbconvert_exporter": "python",
   "pygments_lexer": "ipython3",
   "version": "3.7.2"
  }
 },
 "nbformat": 4,
 "nbformat_minor": 2
}
